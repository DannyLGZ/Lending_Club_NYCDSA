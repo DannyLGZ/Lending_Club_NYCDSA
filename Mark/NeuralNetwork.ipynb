{
  "nbformat": 4,
  "nbformat_minor": 0,
  "metadata": {
    "colab": {
      "name": "NeuralNetwork.ipynb",
      "provenance": [],
      "collapsed_sections": []
    },
    "kernelspec": {
      "name": "python3",
      "display_name": "Python 3"
    }
  },
  "cells": [
    {
      "cell_type": "code",
      "metadata": {
        "id": "YIpIl2nOltZ-"
      },
      "source": [
        "import pandas as pd\r\n",
        "import numpy as np\r\n",
        "import sklearn.model_selection as ms\r\n",
        "from sklearn.model_selection import train_test_split\r\n",
        "from sklearn.metrics import confusion_matrix, classification_report\r\n",
        "import warnings\r\n",
        "warnings.filterwarnings(\"ignore\")\r\n",
        "from tensorflow import keras\r\n",
        "from sklearn.preprocessing import scale"
      ],
      "execution_count": 1,
      "outputs": []
    },
    {
      "cell_type": "code",
      "metadata": {
        "colab": {
          "base_uri": "https://localhost:8080/",
          "height": 427
        },
        "id": "M3Ty282tveTt",
        "outputId": "6d8e2485-5914-4352-cebc-9e52feaf9c47"
      },
      "source": [
        "features = pd.read_csv(\"/content/drive/MyDrive/NYC DSA Capstone Project/Data/featuresCD.csv\", low_memory = False)\r\n",
        "features.drop([\"Unnamed: 0\"], axis = 1, inplace = True)\r\n",
        "features"
      ],
      "execution_count": 2,
      "outputs": [
        {
          "output_type": "execute_result",
          "data": {
            "text/html": [
              "<div>\n",
              "<style scoped>\n",
              "    .dataframe tbody tr th:only-of-type {\n",
              "        vertical-align: middle;\n",
              "    }\n",
              "\n",
              "    .dataframe tbody tr th {\n",
              "        vertical-align: top;\n",
              "    }\n",
              "\n",
              "    .dataframe thead th {\n",
              "        text-align: right;\n",
              "    }\n",
              "</style>\n",
              "<table border=\"1\" class=\"dataframe\">\n",
              "  <thead>\n",
              "    <tr style=\"text-align: right;\">\n",
              "      <th></th>\n",
              "      <th>loan_status_trim</th>\n",
              "      <th>state_income</th>\n",
              "      <th>annual_inc_joint</th>\n",
              "      <th>indiv_app</th>\n",
              "      <th>dti_joint</th>\n",
              "      <th>days_from_1st_cr_line</th>\n",
              "      <th>emp_length</th>\n",
              "      <th>fico_range_high</th>\n",
              "      <th>fico_range_low</th>\n",
              "      <th>funded_amnt</th>\n",
              "      <th>home_ownership</th>\n",
              "      <th>inq_fi</th>\n",
              "      <th>inq_last_12m</th>\n",
              "      <th>installment</th>\n",
              "      <th>int_rate</th>\n",
              "      <th>loan_amnt</th>\n",
              "      <th>open_acc</th>\n",
              "      <th>pub_rec</th>\n",
              "      <th>pub_rec_bankruptcies</th>\n",
              "      <th>for_debt_consol</th>\n",
              "      <th>total_acc</th>\n",
              "      <th>revol_bal</th>\n",
              "      <th>revol_util</th>\n",
              "      <th>delinq_amnt</th>\n",
              "      <th>delinq_2yrs</th>\n",
              "      <th>mths_since_last_delinq</th>\n",
              "      <th>mths_since_last_major_derog</th>\n",
              "      <th>grade</th>\n",
              "    </tr>\n",
              "  </thead>\n",
              "  <tbody>\n",
              "    <tr>\n",
              "      <th>0</th>\n",
              "      <td>0</td>\n",
              "      <td>2</td>\n",
              "      <td>55000.0</td>\n",
              "      <td>1</td>\n",
              "      <td>5.91</td>\n",
              "      <td>4505.0</td>\n",
              "      <td>10</td>\n",
              "      <td>679.0</td>\n",
              "      <td>675.0</td>\n",
              "      <td>3600.0</td>\n",
              "      <td>1</td>\n",
              "      <td>3.0</td>\n",
              "      <td>4.0</td>\n",
              "      <td>123.03</td>\n",
              "      <td>13.99</td>\n",
              "      <td>3600.0</td>\n",
              "      <td>7.0</td>\n",
              "      <td>0.0</td>\n",
              "      <td>0.0</td>\n",
              "      <td>1</td>\n",
              "      <td>13.0</td>\n",
              "      <td>2765.0</td>\n",
              "      <td>29.7</td>\n",
              "      <td>0.0</td>\n",
              "      <td>0.0</td>\n",
              "      <td>30.0</td>\n",
              "      <td>30.0</td>\n",
              "      <td>4</td>\n",
              "    </tr>\n",
              "    <tr>\n",
              "      <th>1</th>\n",
              "      <td>0</td>\n",
              "      <td>1</td>\n",
              "      <td>65000.0</td>\n",
              "      <td>1</td>\n",
              "      <td>16.06</td>\n",
              "      <td>5844.0</td>\n",
              "      <td>10</td>\n",
              "      <td>719.0</td>\n",
              "      <td>715.0</td>\n",
              "      <td>24700.0</td>\n",
              "      <td>1</td>\n",
              "      <td>0.0</td>\n",
              "      <td>6.0</td>\n",
              "      <td>820.28</td>\n",
              "      <td>11.99</td>\n",
              "      <td>24700.0</td>\n",
              "      <td>22.0</td>\n",
              "      <td>0.0</td>\n",
              "      <td>0.0</td>\n",
              "      <td>0</td>\n",
              "      <td>38.0</td>\n",
              "      <td>21470.0</td>\n",
              "      <td>19.2</td>\n",
              "      <td>0.0</td>\n",
              "      <td>1.0</td>\n",
              "      <td>6.0</td>\n",
              "      <td>0.0</td>\n",
              "      <td>4</td>\n",
              "    </tr>\n",
              "    <tr>\n",
              "      <th>2</th>\n",
              "      <td>0</td>\n",
              "      <td>2</td>\n",
              "      <td>34000.0</td>\n",
              "      <td>1</td>\n",
              "      <td>10.20</td>\n",
              "      <td>10288.0</td>\n",
              "      <td>4</td>\n",
              "      <td>694.0</td>\n",
              "      <td>690.0</td>\n",
              "      <td>11950.0</td>\n",
              "      <td>0</td>\n",
              "      <td>0.0</td>\n",
              "      <td>0.0</td>\n",
              "      <td>405.18</td>\n",
              "      <td>13.44</td>\n",
              "      <td>11950.0</td>\n",
              "      <td>5.0</td>\n",
              "      <td>0.0</td>\n",
              "      <td>0.0</td>\n",
              "      <td>1</td>\n",
              "      <td>6.0</td>\n",
              "      <td>8822.0</td>\n",
              "      <td>68.4</td>\n",
              "      <td>0.0</td>\n",
              "      <td>0.0</td>\n",
              "      <td>0.0</td>\n",
              "      <td>0.0</td>\n",
              "      <td>4</td>\n",
              "    </tr>\n",
              "    <tr>\n",
              "      <th>3</th>\n",
              "      <td>0</td>\n",
              "      <td>2</td>\n",
              "      <td>64000.0</td>\n",
              "      <td>1</td>\n",
              "      <td>34.95</td>\n",
              "      <td>7122.0</td>\n",
              "      <td>3</td>\n",
              "      <td>704.0</td>\n",
              "      <td>700.0</td>\n",
              "      <td>1400.0</td>\n",
              "      <td>1</td>\n",
              "      <td>0.0</td>\n",
              "      <td>0.0</td>\n",
              "      <td>47.10</td>\n",
              "      <td>12.88</td>\n",
              "      <td>1400.0</td>\n",
              "      <td>17.0</td>\n",
              "      <td>0.0</td>\n",
              "      <td>0.0</td>\n",
              "      <td>0</td>\n",
              "      <td>24.0</td>\n",
              "      <td>37828.0</td>\n",
              "      <td>67.2</td>\n",
              "      <td>0.0</td>\n",
              "      <td>0.0</td>\n",
              "      <td>0.0</td>\n",
              "      <td>0.0</td>\n",
              "      <td>4</td>\n",
              "    </tr>\n",
              "    <tr>\n",
              "      <th>4</th>\n",
              "      <td>0</td>\n",
              "      <td>2</td>\n",
              "      <td>112000.0</td>\n",
              "      <td>1</td>\n",
              "      <td>8.68</td>\n",
              "      <td>8065.0</td>\n",
              "      <td>10</td>\n",
              "      <td>804.0</td>\n",
              "      <td>800.0</td>\n",
              "      <td>18000.0</td>\n",
              "      <td>1</td>\n",
              "      <td>0.0</td>\n",
              "      <td>1.0</td>\n",
              "      <td>400.31</td>\n",
              "      <td>11.99</td>\n",
              "      <td>18000.0</td>\n",
              "      <td>17.0</td>\n",
              "      <td>0.0</td>\n",
              "      <td>0.0</td>\n",
              "      <td>1</td>\n",
              "      <td>27.0</td>\n",
              "      <td>10711.0</td>\n",
              "      <td>15.5</td>\n",
              "      <td>0.0</td>\n",
              "      <td>0.0</td>\n",
              "      <td>0.0</td>\n",
              "      <td>0.0</td>\n",
              "      <td>4</td>\n",
              "    </tr>\n",
              "    <tr>\n",
              "      <th>...</th>\n",
              "      <td>...</td>\n",
              "      <td>...</td>\n",
              "      <td>...</td>\n",
              "      <td>...</td>\n",
              "      <td>...</td>\n",
              "      <td>...</td>\n",
              "      <td>...</td>\n",
              "      <td>...</td>\n",
              "      <td>...</td>\n",
              "      <td>...</td>\n",
              "      <td>...</td>\n",
              "      <td>...</td>\n",
              "      <td>...</td>\n",
              "      <td>...</td>\n",
              "      <td>...</td>\n",
              "      <td>...</td>\n",
              "      <td>...</td>\n",
              "      <td>...</td>\n",
              "      <td>...</td>\n",
              "      <td>...</td>\n",
              "      <td>...</td>\n",
              "      <td>...</td>\n",
              "      <td>...</td>\n",
              "      <td>...</td>\n",
              "      <td>...</td>\n",
              "      <td>...</td>\n",
              "      <td>...</td>\n",
              "      <td>...</td>\n",
              "    </tr>\n",
              "    <tr>\n",
              "      <th>583975</th>\n",
              "      <td>0</td>\n",
              "      <td>2</td>\n",
              "      <td>119000.0</td>\n",
              "      <td>1</td>\n",
              "      <td>32.73</td>\n",
              "      <td>8827.0</td>\n",
              "      <td>10</td>\n",
              "      <td>689.0</td>\n",
              "      <td>685.0</td>\n",
              "      <td>23800.0</td>\n",
              "      <td>1</td>\n",
              "      <td>4.0</td>\n",
              "      <td>10.0</td>\n",
              "      <td>559.85</td>\n",
              "      <td>14.49</td>\n",
              "      <td>23800.0</td>\n",
              "      <td>13.0</td>\n",
              "      <td>0.0</td>\n",
              "      <td>0.0</td>\n",
              "      <td>1</td>\n",
              "      <td>29.0</td>\n",
              "      <td>107747.0</td>\n",
              "      <td>89.5</td>\n",
              "      <td>0.0</td>\n",
              "      <td>0.0</td>\n",
              "      <td>0.0</td>\n",
              "      <td>0.0</td>\n",
              "      <td>4</td>\n",
              "    </tr>\n",
              "    <tr>\n",
              "      <th>583976</th>\n",
              "      <td>0</td>\n",
              "      <td>3</td>\n",
              "      <td>180792.0</td>\n",
              "      <td>1</td>\n",
              "      <td>22.03</td>\n",
              "      <td>5328.0</td>\n",
              "      <td>9</td>\n",
              "      <td>709.0</td>\n",
              "      <td>705.0</td>\n",
              "      <td>29400.0</td>\n",
              "      <td>1</td>\n",
              "      <td>3.0</td>\n",
              "      <td>2.0</td>\n",
              "      <td>683.94</td>\n",
              "      <td>13.99</td>\n",
              "      <td>29400.0</td>\n",
              "      <td>16.0</td>\n",
              "      <td>0.0</td>\n",
              "      <td>0.0</td>\n",
              "      <td>1</td>\n",
              "      <td>32.0</td>\n",
              "      <td>77480.0</td>\n",
              "      <td>85.2</td>\n",
              "      <td>0.0</td>\n",
              "      <td>0.0</td>\n",
              "      <td>0.0</td>\n",
              "      <td>0.0</td>\n",
              "      <td>4</td>\n",
              "    </tr>\n",
              "    <tr>\n",
              "      <th>583977</th>\n",
              "      <td>1</td>\n",
              "      <td>2</td>\n",
              "      <td>157000.0</td>\n",
              "      <td>1</td>\n",
              "      <td>10.34</td>\n",
              "      <td>1949.0</td>\n",
              "      <td>3</td>\n",
              "      <td>739.0</td>\n",
              "      <td>735.0</td>\n",
              "      <td>32000.0</td>\n",
              "      <td>1</td>\n",
              "      <td>2.0</td>\n",
              "      <td>0.0</td>\n",
              "      <td>752.74</td>\n",
              "      <td>14.49</td>\n",
              "      <td>32000.0</td>\n",
              "      <td>14.0</td>\n",
              "      <td>0.0</td>\n",
              "      <td>0.0</td>\n",
              "      <td>0</td>\n",
              "      <td>18.0</td>\n",
              "      <td>111598.0</td>\n",
              "      <td>27.4</td>\n",
              "      <td>0.0</td>\n",
              "      <td>0.0</td>\n",
              "      <td>0.0</td>\n",
              "      <td>0.0</td>\n",
              "      <td>4</td>\n",
              "    </tr>\n",
              "    <tr>\n",
              "      <th>583978</th>\n",
              "      <td>0</td>\n",
              "      <td>2</td>\n",
              "      <td>150000.0</td>\n",
              "      <td>1</td>\n",
              "      <td>12.25</td>\n",
              "      <td>7001.0</td>\n",
              "      <td>10</td>\n",
              "      <td>669.0</td>\n",
              "      <td>665.0</td>\n",
              "      <td>16000.0</td>\n",
              "      <td>0</td>\n",
              "      <td>1.0</td>\n",
              "      <td>1.0</td>\n",
              "      <td>362.34</td>\n",
              "      <td>12.79</td>\n",
              "      <td>16000.0</td>\n",
              "      <td>12.0</td>\n",
              "      <td>4.0</td>\n",
              "      <td>3.0</td>\n",
              "      <td>0</td>\n",
              "      <td>28.0</td>\n",
              "      <td>7700.0</td>\n",
              "      <td>55.0</td>\n",
              "      <td>0.0</td>\n",
              "      <td>0.0</td>\n",
              "      <td>68.0</td>\n",
              "      <td>68.0</td>\n",
              "      <td>4</td>\n",
              "    </tr>\n",
              "    <tr>\n",
              "      <th>583979</th>\n",
              "      <td>1</td>\n",
              "      <td>2</td>\n",
              "      <td>110000.0</td>\n",
              "      <td>1</td>\n",
              "      <td>18.30</td>\n",
              "      <td>6302.0</td>\n",
              "      <td>6</td>\n",
              "      <td>664.0</td>\n",
              "      <td>660.0</td>\n",
              "      <td>24000.0</td>\n",
              "      <td>0</td>\n",
              "      <td>0.0</td>\n",
              "      <td>1.0</td>\n",
              "      <td>564.56</td>\n",
              "      <td>14.49</td>\n",
              "      <td>24000.0</td>\n",
              "      <td>10.0</td>\n",
              "      <td>1.0</td>\n",
              "      <td>1.0</td>\n",
              "      <td>1</td>\n",
              "      <td>31.0</td>\n",
              "      <td>17641.0</td>\n",
              "      <td>68.1</td>\n",
              "      <td>0.0</td>\n",
              "      <td>0.0</td>\n",
              "      <td>67.0</td>\n",
              "      <td>67.0</td>\n",
              "      <td>4</td>\n",
              "    </tr>\n",
              "  </tbody>\n",
              "</table>\n",
              "<p>583980 rows × 28 columns</p>\n",
              "</div>"
            ],
            "text/plain": [
              "        loan_status_trim  state_income  ...  mths_since_last_major_derog  grade\n",
              "0                      0             2  ...                         30.0      4\n",
              "1                      0             1  ...                          0.0      4\n",
              "2                      0             2  ...                          0.0      4\n",
              "3                      0             2  ...                          0.0      4\n",
              "4                      0             2  ...                          0.0      4\n",
              "...                  ...           ...  ...                          ...    ...\n",
              "583975                 0             2  ...                          0.0      4\n",
              "583976                 0             3  ...                          0.0      4\n",
              "583977                 1             2  ...                          0.0      4\n",
              "583978                 0             2  ...                         68.0      4\n",
              "583979                 1             2  ...                         67.0      4\n",
              "\n",
              "[583980 rows x 28 columns]"
            ]
          },
          "metadata": {
            "tags": []
          },
          "execution_count": 2
        }
      ]
    },
    {
      "cell_type": "code",
      "metadata": {
        "id": "zvolVmy5wc8k"
      },
      "source": [
        "data = features.iloc[:,1:]\r\n",
        "targets = features.iloc[:,0]"
      ],
      "execution_count": 3,
      "outputs": []
    },
    {
      "cell_type": "code",
      "metadata": {
        "colab": {
          "base_uri": "https://localhost:8080/",
          "height": 427
        },
        "id": "hTp3n7yQxRcg",
        "outputId": "3d957426-f59b-4fb7-ecfb-6f8fcf4ef717"
      },
      "source": [
        "data"
      ],
      "execution_count": 4,
      "outputs": [
        {
          "output_type": "execute_result",
          "data": {
            "text/html": [
              "<div>\n",
              "<style scoped>\n",
              "    .dataframe tbody tr th:only-of-type {\n",
              "        vertical-align: middle;\n",
              "    }\n",
              "\n",
              "    .dataframe tbody tr th {\n",
              "        vertical-align: top;\n",
              "    }\n",
              "\n",
              "    .dataframe thead th {\n",
              "        text-align: right;\n",
              "    }\n",
              "</style>\n",
              "<table border=\"1\" class=\"dataframe\">\n",
              "  <thead>\n",
              "    <tr style=\"text-align: right;\">\n",
              "      <th></th>\n",
              "      <th>state_income</th>\n",
              "      <th>annual_inc_joint</th>\n",
              "      <th>indiv_app</th>\n",
              "      <th>dti_joint</th>\n",
              "      <th>days_from_1st_cr_line</th>\n",
              "      <th>emp_length</th>\n",
              "      <th>fico_range_high</th>\n",
              "      <th>fico_range_low</th>\n",
              "      <th>funded_amnt</th>\n",
              "      <th>home_ownership</th>\n",
              "      <th>inq_fi</th>\n",
              "      <th>inq_last_12m</th>\n",
              "      <th>installment</th>\n",
              "      <th>int_rate</th>\n",
              "      <th>loan_amnt</th>\n",
              "      <th>open_acc</th>\n",
              "      <th>pub_rec</th>\n",
              "      <th>pub_rec_bankruptcies</th>\n",
              "      <th>for_debt_consol</th>\n",
              "      <th>total_acc</th>\n",
              "      <th>revol_bal</th>\n",
              "      <th>revol_util</th>\n",
              "      <th>delinq_amnt</th>\n",
              "      <th>delinq_2yrs</th>\n",
              "      <th>mths_since_last_delinq</th>\n",
              "      <th>mths_since_last_major_derog</th>\n",
              "      <th>grade</th>\n",
              "    </tr>\n",
              "  </thead>\n",
              "  <tbody>\n",
              "    <tr>\n",
              "      <th>0</th>\n",
              "      <td>2</td>\n",
              "      <td>55000.0</td>\n",
              "      <td>1</td>\n",
              "      <td>5.91</td>\n",
              "      <td>4505.0</td>\n",
              "      <td>10</td>\n",
              "      <td>679.0</td>\n",
              "      <td>675.0</td>\n",
              "      <td>3600.0</td>\n",
              "      <td>1</td>\n",
              "      <td>3.0</td>\n",
              "      <td>4.0</td>\n",
              "      <td>123.03</td>\n",
              "      <td>13.99</td>\n",
              "      <td>3600.0</td>\n",
              "      <td>7.0</td>\n",
              "      <td>0.0</td>\n",
              "      <td>0.0</td>\n",
              "      <td>1</td>\n",
              "      <td>13.0</td>\n",
              "      <td>2765.0</td>\n",
              "      <td>29.7</td>\n",
              "      <td>0.0</td>\n",
              "      <td>0.0</td>\n",
              "      <td>30.0</td>\n",
              "      <td>30.0</td>\n",
              "      <td>4</td>\n",
              "    </tr>\n",
              "    <tr>\n",
              "      <th>1</th>\n",
              "      <td>1</td>\n",
              "      <td>65000.0</td>\n",
              "      <td>1</td>\n",
              "      <td>16.06</td>\n",
              "      <td>5844.0</td>\n",
              "      <td>10</td>\n",
              "      <td>719.0</td>\n",
              "      <td>715.0</td>\n",
              "      <td>24700.0</td>\n",
              "      <td>1</td>\n",
              "      <td>0.0</td>\n",
              "      <td>6.0</td>\n",
              "      <td>820.28</td>\n",
              "      <td>11.99</td>\n",
              "      <td>24700.0</td>\n",
              "      <td>22.0</td>\n",
              "      <td>0.0</td>\n",
              "      <td>0.0</td>\n",
              "      <td>0</td>\n",
              "      <td>38.0</td>\n",
              "      <td>21470.0</td>\n",
              "      <td>19.2</td>\n",
              "      <td>0.0</td>\n",
              "      <td>1.0</td>\n",
              "      <td>6.0</td>\n",
              "      <td>0.0</td>\n",
              "      <td>4</td>\n",
              "    </tr>\n",
              "    <tr>\n",
              "      <th>2</th>\n",
              "      <td>2</td>\n",
              "      <td>34000.0</td>\n",
              "      <td>1</td>\n",
              "      <td>10.20</td>\n",
              "      <td>10288.0</td>\n",
              "      <td>4</td>\n",
              "      <td>694.0</td>\n",
              "      <td>690.0</td>\n",
              "      <td>11950.0</td>\n",
              "      <td>0</td>\n",
              "      <td>0.0</td>\n",
              "      <td>0.0</td>\n",
              "      <td>405.18</td>\n",
              "      <td>13.44</td>\n",
              "      <td>11950.0</td>\n",
              "      <td>5.0</td>\n",
              "      <td>0.0</td>\n",
              "      <td>0.0</td>\n",
              "      <td>1</td>\n",
              "      <td>6.0</td>\n",
              "      <td>8822.0</td>\n",
              "      <td>68.4</td>\n",
              "      <td>0.0</td>\n",
              "      <td>0.0</td>\n",
              "      <td>0.0</td>\n",
              "      <td>0.0</td>\n",
              "      <td>4</td>\n",
              "    </tr>\n",
              "    <tr>\n",
              "      <th>3</th>\n",
              "      <td>2</td>\n",
              "      <td>64000.0</td>\n",
              "      <td>1</td>\n",
              "      <td>34.95</td>\n",
              "      <td>7122.0</td>\n",
              "      <td>3</td>\n",
              "      <td>704.0</td>\n",
              "      <td>700.0</td>\n",
              "      <td>1400.0</td>\n",
              "      <td>1</td>\n",
              "      <td>0.0</td>\n",
              "      <td>0.0</td>\n",
              "      <td>47.10</td>\n",
              "      <td>12.88</td>\n",
              "      <td>1400.0</td>\n",
              "      <td>17.0</td>\n",
              "      <td>0.0</td>\n",
              "      <td>0.0</td>\n",
              "      <td>0</td>\n",
              "      <td>24.0</td>\n",
              "      <td>37828.0</td>\n",
              "      <td>67.2</td>\n",
              "      <td>0.0</td>\n",
              "      <td>0.0</td>\n",
              "      <td>0.0</td>\n",
              "      <td>0.0</td>\n",
              "      <td>4</td>\n",
              "    </tr>\n",
              "    <tr>\n",
              "      <th>4</th>\n",
              "      <td>2</td>\n",
              "      <td>112000.0</td>\n",
              "      <td>1</td>\n",
              "      <td>8.68</td>\n",
              "      <td>8065.0</td>\n",
              "      <td>10</td>\n",
              "      <td>804.0</td>\n",
              "      <td>800.0</td>\n",
              "      <td>18000.0</td>\n",
              "      <td>1</td>\n",
              "      <td>0.0</td>\n",
              "      <td>1.0</td>\n",
              "      <td>400.31</td>\n",
              "      <td>11.99</td>\n",
              "      <td>18000.0</td>\n",
              "      <td>17.0</td>\n",
              "      <td>0.0</td>\n",
              "      <td>0.0</td>\n",
              "      <td>1</td>\n",
              "      <td>27.0</td>\n",
              "      <td>10711.0</td>\n",
              "      <td>15.5</td>\n",
              "      <td>0.0</td>\n",
              "      <td>0.0</td>\n",
              "      <td>0.0</td>\n",
              "      <td>0.0</td>\n",
              "      <td>4</td>\n",
              "    </tr>\n",
              "    <tr>\n",
              "      <th>...</th>\n",
              "      <td>...</td>\n",
              "      <td>...</td>\n",
              "      <td>...</td>\n",
              "      <td>...</td>\n",
              "      <td>...</td>\n",
              "      <td>...</td>\n",
              "      <td>...</td>\n",
              "      <td>...</td>\n",
              "      <td>...</td>\n",
              "      <td>...</td>\n",
              "      <td>...</td>\n",
              "      <td>...</td>\n",
              "      <td>...</td>\n",
              "      <td>...</td>\n",
              "      <td>...</td>\n",
              "      <td>...</td>\n",
              "      <td>...</td>\n",
              "      <td>...</td>\n",
              "      <td>...</td>\n",
              "      <td>...</td>\n",
              "      <td>...</td>\n",
              "      <td>...</td>\n",
              "      <td>...</td>\n",
              "      <td>...</td>\n",
              "      <td>...</td>\n",
              "      <td>...</td>\n",
              "      <td>...</td>\n",
              "    </tr>\n",
              "    <tr>\n",
              "      <th>583975</th>\n",
              "      <td>2</td>\n",
              "      <td>119000.0</td>\n",
              "      <td>1</td>\n",
              "      <td>32.73</td>\n",
              "      <td>8827.0</td>\n",
              "      <td>10</td>\n",
              "      <td>689.0</td>\n",
              "      <td>685.0</td>\n",
              "      <td>23800.0</td>\n",
              "      <td>1</td>\n",
              "      <td>4.0</td>\n",
              "      <td>10.0</td>\n",
              "      <td>559.85</td>\n",
              "      <td>14.49</td>\n",
              "      <td>23800.0</td>\n",
              "      <td>13.0</td>\n",
              "      <td>0.0</td>\n",
              "      <td>0.0</td>\n",
              "      <td>1</td>\n",
              "      <td>29.0</td>\n",
              "      <td>107747.0</td>\n",
              "      <td>89.5</td>\n",
              "      <td>0.0</td>\n",
              "      <td>0.0</td>\n",
              "      <td>0.0</td>\n",
              "      <td>0.0</td>\n",
              "      <td>4</td>\n",
              "    </tr>\n",
              "    <tr>\n",
              "      <th>583976</th>\n",
              "      <td>3</td>\n",
              "      <td>180792.0</td>\n",
              "      <td>1</td>\n",
              "      <td>22.03</td>\n",
              "      <td>5328.0</td>\n",
              "      <td>9</td>\n",
              "      <td>709.0</td>\n",
              "      <td>705.0</td>\n",
              "      <td>29400.0</td>\n",
              "      <td>1</td>\n",
              "      <td>3.0</td>\n",
              "      <td>2.0</td>\n",
              "      <td>683.94</td>\n",
              "      <td>13.99</td>\n",
              "      <td>29400.0</td>\n",
              "      <td>16.0</td>\n",
              "      <td>0.0</td>\n",
              "      <td>0.0</td>\n",
              "      <td>1</td>\n",
              "      <td>32.0</td>\n",
              "      <td>77480.0</td>\n",
              "      <td>85.2</td>\n",
              "      <td>0.0</td>\n",
              "      <td>0.0</td>\n",
              "      <td>0.0</td>\n",
              "      <td>0.0</td>\n",
              "      <td>4</td>\n",
              "    </tr>\n",
              "    <tr>\n",
              "      <th>583977</th>\n",
              "      <td>2</td>\n",
              "      <td>157000.0</td>\n",
              "      <td>1</td>\n",
              "      <td>10.34</td>\n",
              "      <td>1949.0</td>\n",
              "      <td>3</td>\n",
              "      <td>739.0</td>\n",
              "      <td>735.0</td>\n",
              "      <td>32000.0</td>\n",
              "      <td>1</td>\n",
              "      <td>2.0</td>\n",
              "      <td>0.0</td>\n",
              "      <td>752.74</td>\n",
              "      <td>14.49</td>\n",
              "      <td>32000.0</td>\n",
              "      <td>14.0</td>\n",
              "      <td>0.0</td>\n",
              "      <td>0.0</td>\n",
              "      <td>0</td>\n",
              "      <td>18.0</td>\n",
              "      <td>111598.0</td>\n",
              "      <td>27.4</td>\n",
              "      <td>0.0</td>\n",
              "      <td>0.0</td>\n",
              "      <td>0.0</td>\n",
              "      <td>0.0</td>\n",
              "      <td>4</td>\n",
              "    </tr>\n",
              "    <tr>\n",
              "      <th>583978</th>\n",
              "      <td>2</td>\n",
              "      <td>150000.0</td>\n",
              "      <td>1</td>\n",
              "      <td>12.25</td>\n",
              "      <td>7001.0</td>\n",
              "      <td>10</td>\n",
              "      <td>669.0</td>\n",
              "      <td>665.0</td>\n",
              "      <td>16000.0</td>\n",
              "      <td>0</td>\n",
              "      <td>1.0</td>\n",
              "      <td>1.0</td>\n",
              "      <td>362.34</td>\n",
              "      <td>12.79</td>\n",
              "      <td>16000.0</td>\n",
              "      <td>12.0</td>\n",
              "      <td>4.0</td>\n",
              "      <td>3.0</td>\n",
              "      <td>0</td>\n",
              "      <td>28.0</td>\n",
              "      <td>7700.0</td>\n",
              "      <td>55.0</td>\n",
              "      <td>0.0</td>\n",
              "      <td>0.0</td>\n",
              "      <td>68.0</td>\n",
              "      <td>68.0</td>\n",
              "      <td>4</td>\n",
              "    </tr>\n",
              "    <tr>\n",
              "      <th>583979</th>\n",
              "      <td>2</td>\n",
              "      <td>110000.0</td>\n",
              "      <td>1</td>\n",
              "      <td>18.30</td>\n",
              "      <td>6302.0</td>\n",
              "      <td>6</td>\n",
              "      <td>664.0</td>\n",
              "      <td>660.0</td>\n",
              "      <td>24000.0</td>\n",
              "      <td>0</td>\n",
              "      <td>0.0</td>\n",
              "      <td>1.0</td>\n",
              "      <td>564.56</td>\n",
              "      <td>14.49</td>\n",
              "      <td>24000.0</td>\n",
              "      <td>10.0</td>\n",
              "      <td>1.0</td>\n",
              "      <td>1.0</td>\n",
              "      <td>1</td>\n",
              "      <td>31.0</td>\n",
              "      <td>17641.0</td>\n",
              "      <td>68.1</td>\n",
              "      <td>0.0</td>\n",
              "      <td>0.0</td>\n",
              "      <td>67.0</td>\n",
              "      <td>67.0</td>\n",
              "      <td>4</td>\n",
              "    </tr>\n",
              "  </tbody>\n",
              "</table>\n",
              "<p>583980 rows × 27 columns</p>\n",
              "</div>"
            ],
            "text/plain": [
              "        state_income  annual_inc_joint  ...  mths_since_last_major_derog  grade\n",
              "0                  2           55000.0  ...                         30.0      4\n",
              "1                  1           65000.0  ...                          0.0      4\n",
              "2                  2           34000.0  ...                          0.0      4\n",
              "3                  2           64000.0  ...                          0.0      4\n",
              "4                  2          112000.0  ...                          0.0      4\n",
              "...              ...               ...  ...                          ...    ...\n",
              "583975             2          119000.0  ...                          0.0      4\n",
              "583976             3          180792.0  ...                          0.0      4\n",
              "583977             2          157000.0  ...                          0.0      4\n",
              "583978             2          150000.0  ...                         68.0      4\n",
              "583979             2          110000.0  ...                         67.0      4\n",
              "\n",
              "[583980 rows x 27 columns]"
            ]
          },
          "metadata": {
            "tags": []
          },
          "execution_count": 4
        }
      ]
    },
    {
      "cell_type": "code",
      "metadata": {
        "colab": {
          "base_uri": "https://localhost:8080/"
        },
        "id": "O4sshAtB5WGH",
        "outputId": "01f2956e-d438-4eb5-b82a-5ecca7e3175c"
      },
      "source": [
        "data = np.array(data)\r\n",
        "data"
      ],
      "execution_count": 5,
      "outputs": [
        {
          "output_type": "execute_result",
          "data": {
            "text/plain": [
              "array([[2.00e+00, 5.50e+04, 1.00e+00, ..., 3.00e+01, 3.00e+01, 4.00e+00],\n",
              "       [1.00e+00, 6.50e+04, 1.00e+00, ..., 6.00e+00, 0.00e+00, 4.00e+00],\n",
              "       [2.00e+00, 3.40e+04, 1.00e+00, ..., 0.00e+00, 0.00e+00, 4.00e+00],\n",
              "       ...,\n",
              "       [2.00e+00, 1.57e+05, 1.00e+00, ..., 0.00e+00, 0.00e+00, 4.00e+00],\n",
              "       [2.00e+00, 1.50e+05, 1.00e+00, ..., 6.80e+01, 6.80e+01, 4.00e+00],\n",
              "       [2.00e+00, 1.10e+05, 1.00e+00, ..., 6.70e+01, 6.70e+01, 4.00e+00]])"
            ]
          },
          "metadata": {
            "tags": []
          },
          "execution_count": 5
        }
      ]
    },
    {
      "cell_type": "code",
      "metadata": {
        "colab": {
          "base_uri": "https://localhost:8080/"
        },
        "id": "NtU7L6k5xSiU",
        "outputId": "aaf21149-8d41-4d2e-ed0b-e457b2d2d35a"
      },
      "source": [
        "targets = np.array(targets)\r\n",
        "targets"
      ],
      "execution_count": 6,
      "outputs": [
        {
          "output_type": "execute_result",
          "data": {
            "text/plain": [
              "array([0, 0, 0, ..., 1, 0, 1])"
            ]
          },
          "metadata": {
            "tags": []
          },
          "execution_count": 6
        }
      ]
    },
    {
      "cell_type": "code",
      "metadata": {
        "colab": {
          "base_uri": "https://localhost:8080/"
        },
        "id": "bcuC0RNvyU1n",
        "outputId": "57467609-a511-417b-dde7-df514e804497"
      },
      "source": [
        "train_features,  val_features, train_targets, val_targets = train_test_split(data, targets, test_size = 0.3, stratify = targets, shuffle = True)\r\n",
        "print(\"Number of training feature samples:\", len(train_features))\r\n",
        "print(\"Number of validation feature samples:\", len(val_features))\r\n",
        "print(\"Number of training targets:\", len(train_targets))\r\n",
        "print(\"Number of validation targets:\", len(val_targets))"
      ],
      "execution_count": 7,
      "outputs": [
        {
          "output_type": "stream",
          "text": [
            "Number of training feature samples: 408786\n",
            "Number of validation feature samples: 175194\n",
            "Number of training targets: 408786\n",
            "Number of validation targets: 175194\n"
          ],
          "name": "stdout"
        }
      ]
    },
    {
      "cell_type": "code",
      "metadata": {
        "colab": {
          "base_uri": "https://localhost:8080/"
        },
        "id": "ypjsayebSPt2",
        "outputId": "158b7ba1-7655-4e68-ef6a-19337bcc6d93"
      },
      "source": [
        "train_features"
      ],
      "execution_count": 8,
      "outputs": [
        {
          "output_type": "execute_result",
          "data": {
            "text/plain": [
              "array([[2.00e+00, 1.35e+05, 1.00e+00, ..., 4.50e+01, 4.50e+01, 4.00e+00],\n",
              "       [2.00e+00, 4.20e+04, 1.00e+00, ..., 0.00e+00, 0.00e+00, 4.00e+00],\n",
              "       [2.00e+00, 7.70e+04, 0.00e+00, ..., 5.00e+00, 5.00e+00, 4.00e+00],\n",
              "       ...,\n",
              "       [3.00e+00, 6.60e+04, 1.00e+00, ..., 4.40e+01, 0.00e+00, 3.00e+00],\n",
              "       [3.00e+00, 7.50e+04, 1.00e+00, ..., 0.00e+00, 0.00e+00, 3.00e+00],\n",
              "       [1.00e+00, 1.50e+05, 1.00e+00, ..., 0.00e+00, 0.00e+00, 4.00e+00]])"
            ]
          },
          "metadata": {
            "tags": []
          },
          "execution_count": 8
        }
      ]
    },
    {
      "cell_type": "code",
      "metadata": {
        "colab": {
          "base_uri": "https://localhost:8080/"
        },
        "id": "dXPnCog0SSQx",
        "outputId": "19633955-d71a-4e7f-b5e1-44d34cc3b223"
      },
      "source": [
        "train_targets"
      ],
      "execution_count": 9,
      "outputs": [
        {
          "output_type": "execute_result",
          "data": {
            "text/plain": [
              "array([0, 1, 1, ..., 0, 0, 0])"
            ]
          },
          "metadata": {
            "tags": []
          },
          "execution_count": 9
        }
      ]
    },
    {
      "cell_type": "code",
      "metadata": {
        "colab": {
          "base_uri": "https://localhost:8080/"
        },
        "id": "qUkZAummST90",
        "outputId": "aa928ecb-eddf-4e75-b071-673d6464ca6c"
      },
      "source": [
        "val_features"
      ],
      "execution_count": 10,
      "outputs": [
        {
          "output_type": "execute_result",
          "data": {
            "text/plain": [
              "array([[3.00e+00, 4.40e+04, 1.00e+00, ..., 0.00e+00, 0.00e+00, 4.00e+00],\n",
              "       [3.00e+00, 6.22e+04, 1.00e+00, ..., 0.00e+00, 0.00e+00, 4.00e+00],\n",
              "       [3.00e+00, 5.20e+04, 1.00e+00, ..., 0.00e+00, 0.00e+00, 4.00e+00],\n",
              "       ...,\n",
              "       [3.00e+00, 4.50e+04, 1.00e+00, ..., 0.00e+00, 0.00e+00, 3.00e+00],\n",
              "       [2.00e+00, 6.53e+04, 1.00e+00, ..., 6.40e+01, 6.40e+01, 4.00e+00],\n",
              "       [2.00e+00, 5.80e+04, 1.00e+00, ..., 7.40e+01, 0.00e+00, 4.00e+00]])"
            ]
          },
          "metadata": {
            "tags": []
          },
          "execution_count": 10
        }
      ]
    },
    {
      "cell_type": "code",
      "metadata": {
        "colab": {
          "base_uri": "https://localhost:8080/"
        },
        "id": "GMb9tfxRSV3N",
        "outputId": "9db6bbae-169f-4c88-c30d-6717ace3819a"
      },
      "source": [
        "val_targets"
      ],
      "execution_count": 11,
      "outputs": [
        {
          "output_type": "execute_result",
          "data": {
            "text/plain": [
              "array([0, 0, 0, ..., 0, 0, 1])"
            ]
          },
          "metadata": {
            "tags": []
          },
          "execution_count": 11
        }
      ]
    },
    {
      "cell_type": "code",
      "metadata": {
        "id": "d_FYKpE01lVq"
      },
      "source": [
        "# train_features = train_features.reshape(-1,1)\r\n",
        "# val_features   = val_features.reshape(-1,1)\r\n",
        "# train_targets = train_features.reshape(-1,1)\r\n",
        "# val_targets   = val_features.reshape(-1,1)"
      ],
      "execution_count": 12,
      "outputs": []
    },
    {
      "cell_type": "code",
      "metadata": {
        "id": "b-SRt4O3wVUJ"
      },
      "source": [
        "# num_val_samples = int(len(features) * 0.2)\r\n",
        "# train_features = features[:-num_val_samples]\r\n",
        "# train_targets = targets[:-num_val_samples]\r\n",
        "# val_features = features[-num_val_samples:]\r\n",
        "# val_targets = targets[-num_val_samples:]\r\n",
        "\r\n",
        "# print(\"Number of training samples:\", len(train_features))\r\n",
        "# print(\"Number of validation samples:\", len(val_features))"
      ],
      "execution_count": 13,
      "outputs": []
    },
    {
      "cell_type": "code",
      "metadata": {
        "id": "v2yrn6T0yogb"
      },
      "source": [
        "train_features = scale(train_features)\r\n",
        "val_features   = scale(val_features)"
      ],
      "execution_count": 14,
      "outputs": []
    },
    {
      "cell_type": "code",
      "metadata": {
        "colab": {
          "base_uri": "https://localhost:8080/"
        },
        "id": "-Km1Nzw0Ey0B",
        "outputId": "3d3860db-76a8-4cd4-826f-026a7335af30"
      },
      "source": [
        "train_targets"
      ],
      "execution_count": 15,
      "outputs": [
        {
          "output_type": "execute_result",
          "data": {
            "text/plain": [
              "array([0, 1, 1, ..., 0, 0, 0])"
            ]
          },
          "metadata": {
            "tags": []
          },
          "execution_count": 15
        }
      ]
    },
    {
      "cell_type": "code",
      "metadata": {
        "colab": {
          "base_uri": "https://localhost:8080/"
        },
        "id": "oSS4ZCymz8ya",
        "outputId": "55b54d93-fdfb-43b4-96d0-12094edc1edb"
      },
      "source": [
        "model = keras.Sequential(\r\n",
        "    [\r\n",
        "        keras.layers.Dense(\r\n",
        "            150, activation=\"relu\", input_shape=(train_features.shape[-1],)\r\n",
        "        ),\r\n",
        "        keras.layers.Dense(150, activation = \"relu\"),\r\n",
        "        #keras.layers.Dropout(0.3),\r\n",
        "       keras.layers.Dense(150, activation=\"relu\"),\r\n",
        "        # keras.layers.Dropout(0.3),\r\n",
        "        keras.layers.Dense(150, activation=\"relu\"),\\\r\n",
        "        #keras.layers.Dense(20, activation=\"relu\"),\r\n",
        "        keras.layers.Dense(1, activation=\"sigmoid\"),\r\n",
        "    ]\r\n",
        ")\r\n",
        "model.summary()"
      ],
      "execution_count": 16,
      "outputs": [
        {
          "output_type": "stream",
          "text": [
            "Model: \"sequential\"\n",
            "_________________________________________________________________\n",
            "Layer (type)                 Output Shape              Param #   \n",
            "=================================================================\n",
            "dense (Dense)                (None, 150)               4200      \n",
            "_________________________________________________________________\n",
            "dense_1 (Dense)              (None, 150)               22650     \n",
            "_________________________________________________________________\n",
            "dense_2 (Dense)              (None, 150)               22650     \n",
            "_________________________________________________________________\n",
            "dense_3 (Dense)              (None, 150)               22650     \n",
            "_________________________________________________________________\n",
            "dense_4 (Dense)              (None, 1)                 151       \n",
            "=================================================================\n",
            "Total params: 72,301\n",
            "Trainable params: 72,301\n",
            "Non-trainable params: 0\n",
            "_________________________________________________________________\n"
          ],
          "name": "stdout"
        }
      ]
    },
    {
      "cell_type": "code",
      "metadata": {
        "colab": {
          "base_uri": "https://localhost:8080/"
        },
        "id": "5n0cUqer0GD5",
        "outputId": "46c4b239-29e7-4ac4-9ca6-101ae153cf5c"
      },
      "source": [
        "%%time\r\n",
        "\r\n",
        "metrics = [\r\n",
        "   keras.metrics.BinaryAccuracy(\r\n",
        "    name=\"binary_accuracy\", dtype=None, threshold = 0.97\r\n",
        ")\r\n",
        "]\r\n",
        "\r\n",
        "lr_schedule = keras.optimizers.schedules.ExponentialDecay(\r\n",
        "    initial_learning_rate=0.01,\r\n",
        "    decay_steps=20,\r\n",
        "    decay_rate=0.9)\r\n",
        "\r\n",
        "model.compile(\r\n",
        "    optimizer=keras.optimizers.SGD(lr_schedule), loss=\"binary_crossentropy\", metrics = metrics\r\n",
        ")\r\n",
        "\r\n",
        "callbacks = [keras.callbacks.ModelCheckpoint(\"Default_loans_model_at_epoch_{epoch}.h5\")]\r\n",
        "\r\n",
        "\r\n",
        "model.fit(\r\n",
        "    train_features,\r\n",
        "    train_targets,\r\n",
        "    batch_size = 10,\r\n",
        "    epochs = 3,\r\n",
        "    verbose = 2,\r\n",
        "    callbacks=callbacks,\r\n",
        "    validation_data=(val_features, val_targets),\r\n",
        "    validation_split = 0.2,\r\n",
        "    validation_freq = 1,\r\n",
        "    shuffle = True,\r\n",
        "    class_weight = {0:0.65, 1:2},\r\n",
        "\r\n",
        ")"
      ],
      "execution_count": 27,
      "outputs": [
        {
          "output_type": "stream",
          "text": [
            "Epoch 1/3\n",
            "32703/32703 - 44s - loss: 0.6809 - binary_accuracy: 0.7477 - val_loss: 0.7002 - val_binary_accuracy: 0.7498\n",
            "Epoch 2/3\n",
            "32703/32703 - 46s - loss: 0.6809 - binary_accuracy: 0.7477 - val_loss: 0.7002 - val_binary_accuracy: 0.7498\n",
            "Epoch 3/3\n",
            "32703/32703 - 45s - loss: 0.6809 - binary_accuracy: 0.7477 - val_loss: 0.7002 - val_binary_accuracy: 0.7498\n",
            "CPU times: user 3min 12s, sys: 12.1 s, total: 3min 25s\n",
            "Wall time: 2min 14s\n"
          ],
          "name": "stdout"
        }
      ]
    },
    {
      "cell_type": "code",
      "metadata": {
        "id": "Fb5kito1EdwE"
      },
      "source": [
        "#dir(model)"
      ],
      "execution_count": 28,
      "outputs": []
    },
    {
      "cell_type": "code",
      "metadata": {
        "colab": {
          "base_uri": "https://localhost:8080/"
        },
        "id": "K7syZjNGMbzZ",
        "outputId": "cf602053-4db2-44b9-8806-dbe787d61498"
      },
      "source": [
        "%%time\r\n",
        "predictions_train = model.predict_classes(train_features)\r\n",
        "print(predictions_train)"
      ],
      "execution_count": 29,
      "outputs": [
        {
          "output_type": "stream",
          "text": [
            "[[0]\n",
            " [0]\n",
            " [0]\n",
            " ...\n",
            " [1]\n",
            " [1]\n",
            " [0]]\n",
            "CPU times: user 11.2 s, sys: 1.08 s, total: 12.3 s\n",
            "Wall time: 9.4 s\n"
          ],
          "name": "stdout"
        }
      ]
    },
    {
      "cell_type": "code",
      "metadata": {
        "colab": {
          "base_uri": "https://localhost:8080/"
        },
        "id": "A_AQWyVzObGF",
        "outputId": "3084fa81-60af-45dd-add7-613380563374"
      },
      "source": [
        "%%time\r\n",
        "predictions_test = model.predict_classes(val_features)\r\n",
        "print(predictions_test)"
      ],
      "execution_count": 30,
      "outputs": [
        {
          "output_type": "stream",
          "text": [
            "[[1]\n",
            " [0]\n",
            " [0]\n",
            " ...\n",
            " [1]\n",
            " [0]\n",
            " [0]]\n",
            "CPU times: user 4.79 s, sys: 451 ms, total: 5.24 s\n",
            "Wall time: 4.02 s\n"
          ],
          "name": "stdout"
        }
      ]
    },
    {
      "cell_type": "code",
      "metadata": {
        "colab": {
          "base_uri": "https://localhost:8080/"
        },
        "id": "Q8MaVZJk3B6z",
        "outputId": "55d48124-263f-4b17-d97c-a81ea7b76514"
      },
      "source": [
        "%%time\r\n",
        "print(\"-\"*100)\r\n",
        "print(\"Training\")\r\n",
        "print(confusion_matrix(y_true = train_targets, y_pred = predictions_train))\r\n",
        "print(\"-\"*100)\r\n",
        "print(\"Validation\")\r\n",
        "print(confusion_matrix(y_true = val_targets, y_pred = predictions_test))\r\n",
        "print(\"-\"*100)"
      ],
      "execution_count": 32,
      "outputs": [
        {
          "output_type": "stream",
          "text": [
            "----------------------------------------------------------------------------------------------------\n",
            "Training\n",
            "[[143660 162178]\n",
            " [ 38129  64819]]\n",
            "----------------------------------------------------------------------------------------------------\n",
            "Validation\n",
            "[[61209 69864]\n",
            " [16449 27672]]\n",
            "----------------------------------------------------------------------------------------------------\n",
            "CPU times: user 570 ms, sys: 4.4 ms, total: 574 ms\n",
            "Wall time: 574 ms\n"
          ],
          "name": "stdout"
        }
      ]
    }
  ]
}