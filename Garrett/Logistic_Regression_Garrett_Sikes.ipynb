{
 "cells": [
  {
   "cell_type": "code",
   "execution_count": 1,
   "metadata": {},
   "outputs": [],
   "source": [
    "import numpy as np\n",
    "import matplotlib.pyplot as plt\n",
    "\n",
    "import pandas as pd \n",
    "pd.set_option('display.max_columns', None)\n",
    "\n",
    "from sklearn.linear_model import LogisticRegression, ElasticNet\n",
    "from sklearn.model_selection import train_test_split, GridSearchCV, KFold\n",
    "from sklearn.preprocessing import StandardScaler\n",
    "from sklearn.metrics import confusion_matrix\n",
    "from sklearn.inspection import permutation_importance\n",
    "\n",
    "import statsmodels.api as sm "
   ]
  },
  {
   "cell_type": "code",
   "execution_count": 2,
   "metadata": {},
   "outputs": [],
   "source": [
    "df = pd.read_csv('../../cleaned_accepted_2007_to_2015Q4.csv.gz')\n",
    "df.drop(columns='Unnamed: 0', inplace=True)"
   ]
  },
  {
   "cell_type": "code",
   "execution_count": 3,
   "metadata": {},
   "outputs": [],
   "source": [
    "df = df[df['term'] = ' 36 months']"
   ]
  },
  {
   "cell_type": "code",
   "execution_count": 4,
   "metadata": {},
   "outputs": [
    {
     "data": {
      "text/html": [
       "<div>\n",
       "<style scoped>\n",
       "    .dataframe tbody tr th:only-of-type {\n",
       "        vertical-align: middle;\n",
       "    }\n",
       "\n",
       "    .dataframe tbody tr th {\n",
       "        vertical-align: top;\n",
       "    }\n",
       "\n",
       "    .dataframe thead th {\n",
       "        text-align: right;\n",
       "    }\n",
       "</style>\n",
       "<table border=\"1\" class=\"dataframe\">\n",
       "  <thead>\n",
       "    <tr style=\"text-align: right;\">\n",
       "      <th></th>\n",
       "      <th>term</th>\n",
       "      <th>grade</th>\n",
       "      <th>issue_month</th>\n",
       "      <th>issue_year</th>\n",
       "      <th>purpose</th>\n",
       "      <th>annual_inc</th>\n",
       "      <th>dti</th>\n",
       "      <th>emp_length</th>\n",
       "      <th>funded_amnt</th>\n",
       "      <th>inq_fi</th>\n",
       "      <th>inq_last_12m</th>\n",
       "      <th>installment</th>\n",
       "      <th>int_rate</th>\n",
       "      <th>loan_status</th>\n",
       "      <th>loan_amnt</th>\n",
       "      <th>open_acc</th>\n",
       "      <th>percent_bc_gt_75</th>\n",
       "      <th>pub_rec</th>\n",
       "      <th>pub_rec_bankruptcies</th>\n",
       "      <th>tax_liens</th>\n",
       "      <th>total_acc</th>\n",
       "      <th>revol_bal</th>\n",
       "      <th>delinq_amnt</th>\n",
       "      <th>delinq_2yrs</th>\n",
       "      <th>mths_since_last_delinq</th>\n",
       "      <th>mths_since_last_major_derog</th>\n",
       "      <th>cr_yeargap</th>\n",
       "      <th>avg_fico_score</th>\n",
       "      <th>home_ownership_cat</th>\n",
       "      <th>application_type_cat</th>\n",
       "      <th>purpose_cat</th>\n",
       "      <th>sub_grade_cat</th>\n",
       "      <th>home_ownership</th>\n",
       "    </tr>\n",
       "  </thead>\n",
       "  <tbody>\n",
       "    <tr>\n",
       "      <th>0</th>\n",
       "      <td>36 months</td>\n",
       "      <td>C</td>\n",
       "      <td>12.0</td>\n",
       "      <td>2015.0</td>\n",
       "      <td>0</td>\n",
       "      <td>55000.0</td>\n",
       "      <td>5.91</td>\n",
       "      <td>10</td>\n",
       "      <td>3600.0</td>\n",
       "      <td>3.0</td>\n",
       "      <td>4.0</td>\n",
       "      <td>123.03</td>\n",
       "      <td>13.99</td>\n",
       "      <td>1</td>\n",
       "      <td>3600.0</td>\n",
       "      <td>7.0</td>\n",
       "      <td>0.0</td>\n",
       "      <td>0.0</td>\n",
       "      <td>0.0</td>\n",
       "      <td>0.0</td>\n",
       "      <td>13.0</td>\n",
       "      <td>2765.0</td>\n",
       "      <td>0.0</td>\n",
       "      <td>0.0</td>\n",
       "      <td>30.0</td>\n",
       "      <td>30.0</td>\n",
       "      <td>12.0</td>\n",
       "      <td>677.0</td>\n",
       "      <td>1</td>\n",
       "      <td>0</td>\n",
       "      <td>2</td>\n",
       "      <td>13</td>\n",
       "      <td>0</td>\n",
       "    </tr>\n",
       "    <tr>\n",
       "      <th>1</th>\n",
       "      <td>36 months</td>\n",
       "      <td>C</td>\n",
       "      <td>12.0</td>\n",
       "      <td>2015.0</td>\n",
       "      <td>5</td>\n",
       "      <td>65000.0</td>\n",
       "      <td>16.06</td>\n",
       "      <td>10</td>\n",
       "      <td>24700.0</td>\n",
       "      <td>0.0</td>\n",
       "      <td>6.0</td>\n",
       "      <td>820.28</td>\n",
       "      <td>11.99</td>\n",
       "      <td>1</td>\n",
       "      <td>24700.0</td>\n",
       "      <td>22.0</td>\n",
       "      <td>7.7</td>\n",
       "      <td>0.0</td>\n",
       "      <td>0.0</td>\n",
       "      <td>0.0</td>\n",
       "      <td>38.0</td>\n",
       "      <td>21470.0</td>\n",
       "      <td>0.0</td>\n",
       "      <td>1.0</td>\n",
       "      <td>6.0</td>\n",
       "      <td>0.0</td>\n",
       "      <td>16.0</td>\n",
       "      <td>717.0</td>\n",
       "      <td>1</td>\n",
       "      <td>0</td>\n",
       "      <td>11</td>\n",
       "      <td>10</td>\n",
       "      <td>0</td>\n",
       "    </tr>\n",
       "    <tr>\n",
       "      <th>5</th>\n",
       "      <td>36 months</td>\n",
       "      <td>C</td>\n",
       "      <td>12.0</td>\n",
       "      <td>2015.0</td>\n",
       "      <td>0</td>\n",
       "      <td>34000.0</td>\n",
       "      <td>10.20</td>\n",
       "      <td>4</td>\n",
       "      <td>11950.0</td>\n",
       "      <td>0.0</td>\n",
       "      <td>0.0</td>\n",
       "      <td>405.18</td>\n",
       "      <td>13.44</td>\n",
       "      <td>1</td>\n",
       "      <td>11950.0</td>\n",
       "      <td>5.0</td>\n",
       "      <td>100.0</td>\n",
       "      <td>0.0</td>\n",
       "      <td>0.0</td>\n",
       "      <td>0.0</td>\n",
       "      <td>6.0</td>\n",
       "      <td>8822.0</td>\n",
       "      <td>0.0</td>\n",
       "      <td>0.0</td>\n",
       "      <td>0.0</td>\n",
       "      <td>0.0</td>\n",
       "      <td>28.0</td>\n",
       "      <td>692.0</td>\n",
       "      <td>5</td>\n",
       "      <td>0</td>\n",
       "      <td>2</td>\n",
       "      <td>12</td>\n",
       "      <td>1</td>\n",
       "    </tr>\n",
       "    <tr>\n",
       "      <th>6</th>\n",
       "      <td>36 months</td>\n",
       "      <td>B</td>\n",
       "      <td>12.0</td>\n",
       "      <td>2015.0</td>\n",
       "      <td>0</td>\n",
       "      <td>180000.0</td>\n",
       "      <td>14.67</td>\n",
       "      <td>10</td>\n",
       "      <td>20000.0</td>\n",
       "      <td>1.0</td>\n",
       "      <td>1.0</td>\n",
       "      <td>637.58</td>\n",
       "      <td>9.17</td>\n",
       "      <td>1</td>\n",
       "      <td>20000.0</td>\n",
       "      <td>12.0</td>\n",
       "      <td>100.0</td>\n",
       "      <td>0.0</td>\n",
       "      <td>0.0</td>\n",
       "      <td>0.0</td>\n",
       "      <td>27.0</td>\n",
       "      <td>87329.0</td>\n",
       "      <td>0.0</td>\n",
       "      <td>0.0</td>\n",
       "      <td>49.0</td>\n",
       "      <td>0.0</td>\n",
       "      <td>26.0</td>\n",
       "      <td>682.0</td>\n",
       "      <td>1</td>\n",
       "      <td>0</td>\n",
       "      <td>2</td>\n",
       "      <td>6</td>\n",
       "      <td>0</td>\n",
       "    </tr>\n",
       "    <tr>\n",
       "      <th>7</th>\n",
       "      <td>36 months</td>\n",
       "      <td>B</td>\n",
       "      <td>12.0</td>\n",
       "      <td>2015.0</td>\n",
       "      <td>4</td>\n",
       "      <td>85000.0</td>\n",
       "      <td>17.61</td>\n",
       "      <td>10</td>\n",
       "      <td>20000.0</td>\n",
       "      <td>1.0</td>\n",
       "      <td>2.0</td>\n",
       "      <td>631.26</td>\n",
       "      <td>8.49</td>\n",
       "      <td>1</td>\n",
       "      <td>20000.0</td>\n",
       "      <td>8.0</td>\n",
       "      <td>0.0</td>\n",
       "      <td>0.0</td>\n",
       "      <td>0.0</td>\n",
       "      <td>0.0</td>\n",
       "      <td>15.0</td>\n",
       "      <td>826.0</td>\n",
       "      <td>0.0</td>\n",
       "      <td>1.0</td>\n",
       "      <td>3.0</td>\n",
       "      <td>3.0</td>\n",
       "      <td>17.0</td>\n",
       "      <td>707.0</td>\n",
       "      <td>1</td>\n",
       "      <td>0</td>\n",
       "      <td>6</td>\n",
       "      <td>5</td>\n",
       "      <td>0</td>\n",
       "    </tr>\n",
       "  </tbody>\n",
       "</table>\n",
       "</div>"
      ],
      "text/plain": [
       "         term grade  issue_month  issue_year  purpose  annual_inc    dti  \\\n",
       "0   36 months     C         12.0      2015.0        0     55000.0   5.91   \n",
       "1   36 months     C         12.0      2015.0        5     65000.0  16.06   \n",
       "5   36 months     C         12.0      2015.0        0     34000.0  10.20   \n",
       "6   36 months     B         12.0      2015.0        0    180000.0  14.67   \n",
       "7   36 months     B         12.0      2015.0        4     85000.0  17.61   \n",
       "\n",
       "   emp_length  funded_amnt  inq_fi  inq_last_12m  installment  int_rate  \\\n",
       "0          10       3600.0     3.0           4.0       123.03     13.99   \n",
       "1          10      24700.0     0.0           6.0       820.28     11.99   \n",
       "5           4      11950.0     0.0           0.0       405.18     13.44   \n",
       "6          10      20000.0     1.0           1.0       637.58      9.17   \n",
       "7          10      20000.0     1.0           2.0       631.26      8.49   \n",
       "\n",
       "   loan_status  loan_amnt  open_acc  percent_bc_gt_75  pub_rec  \\\n",
       "0            1     3600.0       7.0               0.0      0.0   \n",
       "1            1    24700.0      22.0               7.7      0.0   \n",
       "5            1    11950.0       5.0             100.0      0.0   \n",
       "6            1    20000.0      12.0             100.0      0.0   \n",
       "7            1    20000.0       8.0               0.0      0.0   \n",
       "\n",
       "   pub_rec_bankruptcies  tax_liens  total_acc  revol_bal  delinq_amnt  \\\n",
       "0                   0.0        0.0       13.0     2765.0          0.0   \n",
       "1                   0.0        0.0       38.0    21470.0          0.0   \n",
       "5                   0.0        0.0        6.0     8822.0          0.0   \n",
       "6                   0.0        0.0       27.0    87329.0          0.0   \n",
       "7                   0.0        0.0       15.0      826.0          0.0   \n",
       "\n",
       "   delinq_2yrs  mths_since_last_delinq  mths_since_last_major_derog  \\\n",
       "0          0.0                    30.0                         30.0   \n",
       "1          1.0                     6.0                          0.0   \n",
       "5          0.0                     0.0                          0.0   \n",
       "6          0.0                    49.0                          0.0   \n",
       "7          1.0                     3.0                          3.0   \n",
       "\n",
       "   cr_yeargap  avg_fico_score  home_ownership_cat  application_type_cat  \\\n",
       "0        12.0           677.0                   1                     0   \n",
       "1        16.0           717.0                   1                     0   \n",
       "5        28.0           692.0                   5                     0   \n",
       "6        26.0           682.0                   1                     0   \n",
       "7        17.0           707.0                   1                     0   \n",
       "\n",
       "   purpose_cat  sub_grade_cat  home_ownership  \n",
       "0            2             13               0  \n",
       "1           11             10               0  \n",
       "5            2             12               1  \n",
       "6            2              6               0  \n",
       "7            6              5               0  "
      ]
     },
     "execution_count": 4,
     "metadata": {},
     "output_type": "execute_result"
    }
   ],
   "source": [
    "df.head()"
   ]
  },
  {
   "cell_type": "code",
   "execution_count": 5,
   "metadata": {
    "scrolled": false
   },
   "outputs": [
    {
     "data": {
      "text/plain": [
       "1    534414\n",
       "0     86751\n",
       "Name: loan_status, dtype: int64"
      ]
     },
     "execution_count": 5,
     "metadata": {},
     "output_type": "execute_result"
    }
   ],
   "source": [
    "df.loan_status.value_counts()"
   ]
  },
  {
   "cell_type": "code",
   "execution_count": 6,
   "metadata": {},
   "outputs": [
    {
     "data": {
      "text/plain": [
       "term                           0\n",
       "grade                          0\n",
       "issue_month                    0\n",
       "issue_year                     0\n",
       "purpose                        0\n",
       "annual_inc                     0\n",
       "dti                            0\n",
       "emp_length                     0\n",
       "funded_amnt                    0\n",
       "inq_fi                         0\n",
       "inq_last_12m                   0\n",
       "installment                    0\n",
       "int_rate                       0\n",
       "loan_status                    0\n",
       "loan_amnt                      0\n",
       "open_acc                       0\n",
       "percent_bc_gt_75               0\n",
       "pub_rec                        0\n",
       "pub_rec_bankruptcies           0\n",
       "tax_liens                      0\n",
       "total_acc                      0\n",
       "revol_bal                      0\n",
       "delinq_amnt                    0\n",
       "delinq_2yrs                    0\n",
       "mths_since_last_delinq         0\n",
       "mths_since_last_major_derog    0\n",
       "cr_yeargap                     0\n",
       "avg_fico_score                 0\n",
       "home_ownership_cat             0\n",
       "application_type_cat           0\n",
       "purpose_cat                    0\n",
       "sub_grade_cat                  0\n",
       "home_ownership                 0\n",
       "dtype: int64"
      ]
     },
     "execution_count": 6,
     "metadata": {},
     "output_type": "execute_result"
    }
   ],
   "source": [
    "df.isnull().sum()"
   ]
  },
  {
   "cell_type": "code",
   "execution_count": 7,
   "metadata": {
    "scrolled": true
   },
   "outputs": [
    {
     "data": {
      "text/plain": [
       "Index(['term', 'grade', 'issue_month', 'issue_year', 'purpose', 'annual_inc',\n",
       "       'dti', 'emp_length', 'funded_amnt', 'inq_fi', 'inq_last_12m',\n",
       "       'installment', 'int_rate', 'loan_status', 'loan_amnt', 'open_acc',\n",
       "       'percent_bc_gt_75', 'pub_rec', 'pub_rec_bankruptcies', 'tax_liens',\n",
       "       'total_acc', 'revol_bal', 'delinq_amnt', 'delinq_2yrs',\n",
       "       'mths_since_last_delinq', 'mths_since_last_major_derog', 'cr_yeargap',\n",
       "       'avg_fico_score', 'home_ownership_cat', 'application_type_cat',\n",
       "       'purpose_cat', 'sub_grade_cat', 'home_ownership'],\n",
       "      dtype='object')"
      ]
     },
     "execution_count": 7,
     "metadata": {},
     "output_type": "execute_result"
    }
   ],
   "source": [
    "df.columns"
   ]
  },
  {
   "cell_type": "code",
   "execution_count": 8,
   "metadata": {},
   "outputs": [],
   "source": [
    "# features annual_inc and revol_balance seemed to have a very bad effect\n",
    "\n",
    "X = df[['grade', 'purpose', 'annual_inc', 'dti',\n",
    "       'emp_length', 'funded_amnt', 'inq_fi', 'inq_last_12m', 'installment',\n",
    "       'int_rate', 'loan_amnt', 'open_acc', 'percent_bc_gt_75',\n",
    "       'pub_rec', 'pub_rec_bankruptcies', 'tax_liens', 'total_acc',\n",
    "       'delinq_amnt', 'delinq_2yrs', 'mths_since_last_delinq',\n",
    "       'mths_since_last_major_derog', 'cr_yeargap', 'avg_fico_score',\n",
    "       'home_ownership_cat', 'application_type_cat', 'purpose_cat',\n",
    "       'sub_grade_cat', 'home_ownership']].copy()\n",
    "    \n",
    "y = df['loan_status']\n",
    "    \n",
    "X_train, X_test, y_train, y_test = train_test_split(X, y, test_size=0.2, random_state=27, shuffle=True)"
   ]
  },
  {
   "cell_type": "code",
   "execution_count": 9,
   "metadata": {},
   "outputs": [],
   "source": [
    "# # Grid search cross validation\n",
    "# grid={'C':[1e-5, 1e-4, 1e-3, 1e-2], 'l1_ratio':[0, 0.1, 0.2]}\n",
    "\n",
    "# logistic = LogisticRegression(solver='saga', multi_class='auto', penalty='elasticnet', class_weight='balanced', random_state=27, n_jobs=7)\n",
    "# logistic_cv = GridSearchCV(logistic, grid, cv=5)\n",
    "# logistic_cv.fit(X_train, y_train)\n",
    "\n",
    "# print('Tuned hyperparameters : (best parameters) ', logistic_cv.best_params_)\n",
    "# print('accuracy: ', logistic_cv.best_score_)\n"
   ]
  },
  {
   "cell_type": "code",
   "execution_count": 10,
   "metadata": {},
   "outputs": [],
   "source": [
    "# # Grid search cross validation\n",
    "# grid={'C':[1e-5, 1e-4, 1e-3, 1e-2], 'l1_ratio':[0, 0.1, 0.2]}\n",
    "\n",
    "# logistic = LogisticRegression(solver='saga', multi_class='auto', penalty='elasticnet', class_weight='balanced', random_state=27, n_jobs=7)\n",
    "# logistic_cv = GridSearchCV(logistic, grid, cv=5)\n",
    "# logistic_cv.fit(X_train, y_train)\n",
    "\n",
    "# print('Tuned hyperparameters : (best parameters) ', logistic_cv.best_params_)\n",
    "# print('accuracy: ', logistic_cv.best_score_)\n"
   ]
  },
  {
   "cell_type": "code",
   "execution_count": 11,
   "metadata": {
    "scrolled": true
   },
   "outputs": [
    {
     "name": "stderr",
     "output_type": "stream",
     "text": [
      "C:\\ProgramData\\Anaconda3\\lib\\site-packages\\sklearn\\linear_model\\_sag.py:330: ConvergenceWarning: The max_iter was reached which means the coef_ did not converge\n",
      "  \"the coef_ did not converge\", ConvergenceWarning)\n"
     ]
    },
    {
     "data": {
      "text/plain": [
       "LogisticRegression(C=1e-05, class_weight='balanced', dual=False,\n",
       "                   fit_intercept=True, intercept_scaling=1, l1_ratio=0.2,\n",
       "                   max_iter=100, multi_class='auto', n_jobs=7,\n",
       "                   penalty='elasticnet', random_state=27, solver='saga',\n",
       "                   tol=0.0001, verbose=0, warm_start=False)"
      ]
     },
     "execution_count": 11,
     "metadata": {},
     "output_type": "execute_result"
    }
   ],
   "source": [
    "logistic = LogisticRegression(C=1e-05, l1_ratio=0.2, solver='saga', multi_class='auto', penalty='elasticnet', class_weight='balanced', random_state=27, n_jobs=7)\n",
    "logistic.fit(X_train, y_train)\n"
   ]
  },
  {
   "cell_type": "code",
   "execution_count": 12,
   "metadata": {},
   "outputs": [
    {
     "name": "stdout",
     "output_type": "stream",
     "text": [
      "accuracy:  0.6551399386636401\n",
      "[[ 6860 10611]\n",
      " [32232 74530]]\n"
     ]
    }
   ],
   "source": [
    "print('accuracy: ', logistic.score(X_test, y_test))\n",
    "\n",
    "predictions = logistic.predict(X_test)\n",
    "cm = confusion_matrix(y_test, predictions)\n",
    "print(cm)\n"
   ]
  },
  {
   "cell_type": "code",
   "execution_count": 13,
   "metadata": {
    "scrolled": false
   },
   "outputs": [
    {
     "name": "stdout",
     "output_type": "stream",
     "text": [
      "[[ 0.00000000e+00  1.70077421e-06 -4.11037485e-07 -2.70527363e-08\n",
      "  -6.87116253e-06  0.00000000e+00  0.00000000e+00 -2.24062459e-06\n",
      "  -4.16917709e-07 -7.00355420e-06 -1.15661055e-07 -1.32476067e-06\n",
      "   0.00000000e+00  0.00000000e+00  0.00000000e+00 -1.28455890e-07\n",
      "  -9.29631205e-07  0.00000000e+00 -2.62751143e-07 -3.65794151e-07\n",
      "   0.00000000e+00 -4.74790881e-06 -6.01944711e-08  0.00000000e+00\n",
      "  -4.29736538e-08 -5.61897345e-07  0.00000000e+00  1.70077421e-06]]\n"
     ]
    }
   ],
   "source": [
    "print(logistic.coef_)"
   ]
  },
  {
   "cell_type": "code",
   "execution_count": 14,
   "metadata": {
    "scrolled": false
   },
   "outputs": [
    {
     "name": "stdout",
     "output_type": "stream",
     "text": [
      "purpose [0.]\n",
      "annual_inc [1.70077421e-06]\n",
      "dti [-4.11037485e-07]\n",
      "emp_length [-2.70527363e-08]\n",
      "funded_amnt [-6.87116253e-06]\n",
      "inq_fi [0.]\n",
      "inq_last_12m [0.]\n",
      "installment [-2.24062459e-06]\n",
      "int_rate [-4.16917709e-07]\n",
      "loan_amnt [-7.0035542e-06]\n",
      "open_acc [-1.15661055e-07]\n",
      "percent_bc_gt_75 [-1.32476067e-06]\n",
      "pub_rec [0.]\n",
      "pub_rec_bankruptcies [0.]\n",
      "tax_liens [0.]\n",
      "total_acc [-1.2845589e-07]\n",
      "delinq_amnt [-9.29631205e-07]\n",
      "delinq_2yrs [0.]\n",
      "mths_since_last_delinq [-2.62751143e-07]\n",
      "mths_since_last_major_derog [-3.65794151e-07]\n",
      "cr_yeargap [0.]\n",
      "avg_fico_score [-4.74790881e-06]\n",
      "home_ownership_cat [-6.01944711e-08]\n",
      "application_type_cat [0.]\n",
      "purpose_cat [-4.29736538e-08]\n",
      "sub_grade_cat [-5.61897345e-07]\n",
      "home_ownership [0.]\n",
      "annual_inc [1.70077421e-06]\n"
     ]
    }
   ],
   "source": [
    "for i, c in enumerate(X.columns):\n",
    "    print(c, logistic.coef_[:,i])\n",
    "    "
   ]
  },
  {
   "cell_type": "code",
   "execution_count": 15,
   "metadata": {},
   "outputs": [
    {
     "name": "stdout",
     "output_type": "stream",
     "text": [
      "annual_inc0.047 +/- 0.001\n",
      "annual_inc0.047 +/- 0.001\n",
      "loan_amnt0.011 +/- 0.001\n",
      "funded_amnt0.011 +/- 0.001\n",
      "purpose_cat0.000 +/- 0.000\n",
      "emp_length0.000 +/- 0.000\n"
     ]
    }
   ],
   "source": [
    "r = permutation_importance(logistic, X_test, y_test,\n",
    "                          n_repeats=30,\n",
    "                          random_state=27)\n",
    "\n",
    "for i in r.importances_mean.argsort()[::-1]:\n",
    "    if abs(r.importances_mean[i]) - 2*r.importances_std[i] > 0:\n",
    "        print(f\"{X.columns[i]:}\"\n",
    "             f\"{r.importances_mean[i]:.3f}\"\n",
    "             f\" +/- {r.importances_std[i]:.3f}\"\n",
    "             )"
   ]
  },
  {
   "cell_type": "markdown",
   "metadata": {},
   "source": [
    "### scale features"
   ]
  },
  {
   "cell_type": "code",
   "execution_count": 16,
   "metadata": {},
   "outputs": [],
   "source": [
    "# # Scale X\n",
    "# scaler_X = StandardScaler().fit(X)\n",
    "# X_scaled = scaler_X.transform(X)\n",
    "# X_sca = pd.DataFrame(data=X_scaled, index=X.index, columns=X.columns)\n"
   ]
  },
  {
   "cell_type": "code",
   "execution_count": 17,
   "metadata": {},
   "outputs": [],
   "source": [
    "# X_sca_train, X_sca_test, y_sca_train, y_sca_test = train_test_split(X_sca, y, test_size=0.2, random_state=27, shuffle=True)\n",
    "\n",
    "# logistic_sca = LogisticRegression(C=1e-05, l1_ratio=0.2, solver='saga', multi_class='auto', penalty='elasticnet', class_weight='balanced', random_state=27, n_jobs=7)\n",
    "# logistic_sca.fit(X_sca_train, y_sca_train)\n"
   ]
  },
  {
   "cell_type": "code",
   "execution_count": 18,
   "metadata": {},
   "outputs": [],
   "source": [
    "# print('accuracy: ', logistic_sca.score(X_test, y_test))\n",
    "\n",
    "# predictions = logistic_sca.predict(X_test)\n",
    "# cm = confusion_matrix(y_sca_test, predictions)\n",
    "# print(cm)"
   ]
  },
  {
   "cell_type": "code",
   "execution_count": 19,
   "metadata": {},
   "outputs": [],
   "source": [
    "# print(logistic_sca.coef_)\n"
   ]
  },
  {
   "cell_type": "markdown",
   "metadata": {},
   "source": [
    "## Cut some features"
   ]
  },
  {
   "cell_type": "code",
   "execution_count": null,
   "metadata": {},
   "outputs": [],
   "source": [
    "# X_cut = df[['issue_year', 'loan_amnt', 'funded_amnt', 'installment', 'sub_grade_cat', 'int_rate',\n",
    "#             'percent_bc_gt_75', 'avg_fico_score', 'mths_since_last_delinq', 'mths_since_last_major_derog', \n",
    "#             'cr_yeargap', 'dti', 'emp_length', 'inq_last_12m', 'open_acc', 'total_acc', 'delinq_amnt']]\n"
   ]
  },
  {
   "cell_type": "code",
   "execution_count": 23,
   "metadata": {},
   "outputs": [],
   "source": [
    "#dti\n",
    "X_cut = df[['loan_amnt', 'funded_amnt', 'installment', 'sub_grade_cat', 'int_rate',\n",
    "            'avg_fico_score', 'mths_since_last_delinq', 'mths_since_last_major_derog', \n",
    "            'cr_yeargap', 'dti', 'emp_length', 'inq_last_12m']]\n",
    "\n",
    "y = df['loan_status']\n",
    "    \n",
    "X_cut_train, X_cut_test, y_cut_train, y_cut_test = train_test_split(X_cut, y, test_size=0.2, random_state=27, shuffle=True)"
   ]
  },
  {
   "cell_type": "code",
   "execution_count": 24,
   "metadata": {},
   "outputs": [
    {
     "name": "stderr",
     "output_type": "stream",
     "text": [
      "C:\\ProgramData\\Anaconda3\\lib\\site-packages\\sklearn\\linear_model\\_sag.py:330: ConvergenceWarning: The max_iter was reached which means the coef_ did not converge\n",
      "  \"the coef_ did not converge\", ConvergenceWarning)\n"
     ]
    },
    {
     "data": {
      "text/plain": [
       "LogisticRegression(C=1e-05, class_weight='balanced', dual=False,\n",
       "                   fit_intercept=True, intercept_scaling=1, l1_ratio=0.2,\n",
       "                   max_iter=100, multi_class='auto', n_jobs=7,\n",
       "                   penalty='elasticnet', random_state=27, solver='saga',\n",
       "                   tol=0.0001, verbose=0, warm_start=False)"
      ]
     },
     "execution_count": 24,
     "metadata": {},
     "output_type": "execute_result"
    }
   ],
   "source": [
    "logistic_cut = LogisticRegression(C=1e-05, l1_ratio=0.2, solver='saga', multi_class='auto', penalty='elasticnet', class_weight='balanced', random_state=27, n_jobs=7)\n",
    "logistic_cut.fit(X_cut_train, y_cut_train)"
   ]
  },
  {
   "cell_type": "code",
   "execution_count": 25,
   "metadata": {},
   "outputs": [
    {
     "name": "stdout",
     "output_type": "stream",
     "text": [
      "train accuracy:  0.6091014464755741\n",
      "test accuracy:  0.6036640828121352\n",
      "[[10921  6550]\n",
      " [42688 64074]]\n"
     ]
    }
   ],
   "source": [
    "print('train accuracy: ', logistic_cut.score(X_cut_train, y_cut_train))\n",
    "print('test accuracy: ', logistic_cut.score(X_cut_test, y_cut_test))\n",
    "\n",
    "predictions_cut = logistic_cut.predict(X_cut_test)\n",
    "cm_cut = confusion_matrix(y_cut_test, predictions_cut)\n",
    "print(cm_cut)"
   ]
  },
  {
   "cell_type": "code",
   "execution_count": null,
   "metadata": {},
   "outputs": [],
   "source": []
  },
  {
   "cell_type": "code",
   "execution_count": null,
   "metadata": {},
   "outputs": [],
   "source": []
  }
 ],
 "metadata": {
  "kernelspec": {
   "display_name": "Python 3",
   "language": "python",
   "name": "python3"
  },
  "language_info": {
   "codemirror_mode": {
    "name": "ipython",
    "version": 3
   },
   "file_extension": ".py",
   "mimetype": "text/x-python",
   "name": "python",
   "nbconvert_exporter": "python",
   "pygments_lexer": "ipython3",
   "version": "3.7.6"
  }
 },
 "nbformat": 4,
 "nbformat_minor": 4
}
