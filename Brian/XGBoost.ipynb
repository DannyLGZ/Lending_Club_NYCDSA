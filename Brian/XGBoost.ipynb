{
  "nbformat": 4,
  "nbformat_minor": 0,
  "metadata": {
    "colab": {
      "name": "XGBoost.ipynb",
      "provenance": [],
      "collapsed_sections": [],
      "machine_shape": "hm"
    },
    "kernelspec": {
      "name": "python3",
      "display_name": "Python 3"
    },
    "accelerator": "TPU"
  },
  "cells": [
    {
      "cell_type": "code",
      "metadata": {
        "id": "JXtoDw-XlvsR"
      },
      "source": [
        "import pandas as pd \r\n",
        "import numpy as np \r\n",
        "import matplotlib.pyplot as plt \r\n",
        "import seaborn as sns \r\n",
        "%matplotlib inline"
      ],
      "execution_count": 2,
      "outputs": []
    },
    {
      "cell_type": "code",
      "metadata": {
        "colab": {
          "base_uri": "https://localhost:8080/"
        },
        "id": "ToyH-ClImIpC",
        "outputId": "553b7ce9-3f6d-45a4-fd79-b3481eb6d54e"
      },
      "source": [
        "from google.colab import drive \r\n",
        "drive.mount(\"/content/gdrive\")"
      ],
      "execution_count": 4,
      "outputs": [
        {
          "output_type": "stream",
          "text": [
            "Mounted at /content/gdrive\n"
          ],
          "name": "stdout"
        }
      ]
    },
    {
      "cell_type": "code",
      "metadata": {
        "colab": {
          "base_uri": "https://localhost:8080/"
        },
        "id": "ABkZO7DdmkV4",
        "outputId": "b2aaf746-67c8-4131-b7ae-474e434c9f34"
      },
      "source": [
        "loans = pd.read_csv('/content/gdrive/My Drive/Lending Capstone Project/accepted_2007_to_2018Q4.csv.gz')  "
      ],
      "execution_count": 5,
      "outputs": [
        {
          "output_type": "stream",
          "text": [
            "/usr/local/lib/python3.6/dist-packages/IPython/core/interactiveshell.py:2718: DtypeWarning: Columns (0,19,49,59,118,129,130,131,134,135,136,139,145,146,147) have mixed types.Specify dtype option on import or set low_memory=False.\n",
            "  interactivity=interactivity, compiler=compiler, result=result)\n"
          ],
          "name": "stderr"
        }
      ]
    },
    {
      "cell_type": "code",
      "metadata": {
        "id": "bfwvqx2JnKeO"
      },
      "source": [
        "#making the column transformations  \r\n",
        "\r\n",
        "years = loans['emp_length'] \r\n",
        "years = years.str.extract(r'(\\d+)') \r\n",
        "loans['emp_length'] = [float(x) for x in years[0]]\r\n",
        "loans['year_issued'] = pd.to_datetime(loans['issue_d']).dt.year\r\n",
        "loans['month_issued'] = pd.to_datetime(loans['issue_d']).dt.month  \r\n",
        "loans['loan_status'] = loans['loan_status'].str.replace('Does not meet the credit policy. Status:', '') \r\n",
        "terms = loans['term'] \r\n",
        "terms = terms.str.extract(r'(\\d+)')\r\n",
        "loans['term'] = [float(x) for x in terms[0]] \r\n",
        "times = (pd.to_datetime(loans['last_pymnt_d']) - pd.to_datetime(loans['issue_d'])) / np.timedelta64(1, 'M') \r\n",
        "loans['loan_duration'] = times.round()\r\n",
        "loans['profits'] = (loans['total_pymnt'] - loans['loan_amnt']) / loans['loan_amnt'] "
      ],
      "execution_count": 6,
      "outputs": []
    },
    {
      "cell_type": "code",
      "metadata": {
        "id": "_DK1jEap3KcK"
      },
      "source": [
        "finished_loans = loans.loc[(loans.loan_status == 'Charged Off') | (loans.loan_status == 'Fully Paid') | (loans.loan_status == 'Default')] "
      ],
      "execution_count": 7,
      "outputs": []
    },
    {
      "cell_type": "code",
      "metadata": {
        "id": "QO3Z6yEeMmbn"
      },
      "source": [
        "CD_loans = finished_loans.loc[(finished_loans.grade == 'A') | (finished_loans.grade == 'B')]"
      ],
      "execution_count": 8,
      "outputs": []
    },
    {
      "cell_type": "code",
      "metadata": {
        "colab": {
          "base_uri": "https://localhost:8080/"
        },
        "id": "FYeIKmQp1sw0",
        "outputId": "e13a9efa-f63d-4e72-8e82-56d220d952df"
      },
      "source": [
        "CD_loans.shape"
      ],
      "execution_count": 9,
      "outputs": [
        {
          "output_type": "execute_result",
          "data": {
            "text/plain": [
              "(628295, 155)"
            ]
          },
          "metadata": {
            "tags": []
          },
          "execution_count": 9
        }
      ]
    },
    {
      "cell_type": "code",
      "metadata": {
        "colab": {
          "base_uri": "https://localhost:8080/"
        },
        "id": "yKCHU4jHXXxL",
        "outputId": "8c1f4ca1-3d36-4c60-f7d2-3f8faf7fdcd4"
      },
      "source": [
        "CD_loans['sub_grade'].value_counts()"
      ],
      "execution_count": null,
      "outputs": [
        {
          "output_type": "execute_result",
          "data": {
            "text/plain": [
              "B4    83276\n",
              "B5    82639\n",
              "B3    81901\n",
              "B2    74080\n",
              "B1    71206\n",
              "A5    64056\n",
              "A4    52255\n",
              "A1    43682\n",
              "A3    38010\n",
              "A2    37190\n",
              "Name: sub_grade, dtype: int64"
            ]
          },
          "metadata": {
            "tags": []
          },
          "execution_count": 8
        }
      ]
    },
    {
      "cell_type": "code",
      "metadata": {
        "id": "tOKHb70a36bX"
      },
      "source": [
        "#begin importing the sklearn modules for transforming & feature scaling here \r\n",
        "#columns we are not looking at are issued date \r\n",
        "CD_loans = CD_loans[['annual_inc', 'application_type', 'dti', 'issue_d', 'earliest_cr_line', 'emp_length', 'fico_range_high', 'fico_range_low', 'funded_amnt', 'home_ownership', 'inq_fi', 'inq_last_12m', 'installment', 'int_rate', 'loan_amnt', 'open_acc', 'percent_bc_gt_75', 'pub_rec', 'pub_rec_bankruptcies', 'purpose', 'sub_grade', 'tax_liens', 'total_acc', 'revol_bal', 'delinq_amnt', 'delinq_2yrs', 'mths_since_last_delinq', 'mths_since_last_major_derog', 'loan_status']]"
      ],
      "execution_count": 10,
      "outputs": []
    },
    {
      "cell_type": "code",
      "metadata": {
        "colab": {
          "base_uri": "https://localhost:8080/"
        },
        "id": "0BYelEKW2IeY",
        "outputId": "18b969f3-7b3b-4ec3-8f67-b7e52e886bde"
      },
      "source": [
        "CD_loans.isna().mean()"
      ],
      "execution_count": 11,
      "outputs": [
        {
          "output_type": "execute_result",
          "data": {
            "text/plain": [
              "annual_inc                     0.000006\n",
              "application_type               0.000000\n",
              "dti                            0.000202\n",
              "issue_d                        0.000000\n",
              "earliest_cr_line               0.000033\n",
              "emp_length                     0.056375\n",
              "fico_range_high                0.000000\n",
              "fico_range_low                 0.000000\n",
              "funded_amnt                    0.000000\n",
              "home_ownership                 0.000000\n",
              "inq_fi                         0.602951\n",
              "inq_last_12m                   0.602952\n",
              "installment                    0.000000\n",
              "int_rate                       0.000000\n",
              "loan_amnt                      0.000000\n",
              "open_acc                       0.000033\n",
              "percent_bc_gt_75               0.050621\n",
              "pub_rec                        0.000033\n",
              "pub_rec_bankruptcies           0.000734\n",
              "purpose                        0.000000\n",
              "sub_grade                      0.000000\n",
              "tax_liens                      0.000083\n",
              "total_acc                      0.000033\n",
              "revol_bal                      0.000000\n",
              "delinq_amnt                    0.000033\n",
              "delinq_2yrs                    0.000033\n",
              "mths_since_last_delinq         0.539490\n",
              "mths_since_last_major_derog    0.771193\n",
              "loan_status                    0.000000\n",
              "dtype: float64"
            ]
          },
          "metadata": {
            "tags": []
          },
          "execution_count": 11
        }
      ]
    },
    {
      "cell_type": "code",
      "metadata": {
        "id": "xa46f9CpYEEk"
      },
      "source": [
        "D = (pd.to_datetime(CD_loans['issue_d']) - pd.to_datetime(CD_loans['earliest_cr_line'])) / np.timedelta64(1, 'Y') \r\n",
        "CD_loans['cr_yeargap'] = D.round() "
      ],
      "execution_count": 12,
      "outputs": []
    },
    {
      "cell_type": "code",
      "metadata": {
        "id": "K4uwEWfdfaUW"
      },
      "source": [
        "CD_loans['loan_status'] = CD_loans['loan_status'].str.replace(\"Default\", \"Charged Off\")"
      ],
      "execution_count": 13,
      "outputs": []
    },
    {
      "cell_type": "code",
      "metadata": {
        "id": "ys7W09y6f0Zh"
      },
      "source": [
        "CD_loans['avg_fico_score'] = (CD_loans['fico_range_low'] + CD_loans['fico_range_high']) / 2"
      ],
      "execution_count": 14,
      "outputs": []
    },
    {
      "cell_type": "code",
      "metadata": {
        "id": "-giXzrCd6wU4"
      },
      "source": [
        "CD_loans['mths_since_last_delinq'].fillna(-99, inplace = True) \r\n",
        "CD_loans['mths_since_last_major_derog'].fillna(-99, inplace = True) \r\n",
        "CD_loans['inq_fi'].fillna(-99, inplace = True)  \r\n",
        "CD_loans['inq_last_12m'].fillna(-99, inplace = True) \r\n",
        "CD_loans['percent_bc_gt_75'].fillna(-99, inplace = True)\r\n",
        "CD_loans['emp_length'].fillna(-99, inplace = True) \r\n",
        "CD_loans['dti'].fillna(-99, inplace = True) \r\n",
        "CD_loans['delinq_amnt'].fillna(-99, inplace = True) \r\n",
        "CD_loans['delinq_2yrs'].fillna(-99, inplace = True) \r\n",
        "CD_loans['cr_yeargap'].fillna(-99, inplace = True)\r\n",
        "CD_loans['tax_liens'].fillna(-99, inplace = True) \r\n",
        "CD_loans['pub_rec'].fillna(-99, inplace = True) \r\n",
        "CD_loans['pub_rec_bankruptcies'].fillna(-99, inplace = True) \r\n",
        "CD_loans['open_acc'].fillna(-99, inplace = True)"
      ],
      "execution_count": 15,
      "outputs": []
    },
    {
      "cell_type": "code",
      "metadata": {
        "id": "VPqLBC91-3pQ"
      },
      "source": [
        "#CD_loans = CD_loans.drop('title', axis = 1)\r\n",
        "CD_loans['total_acc'].fillna(-99, inplace = True) \r\n",
        "CD_loans['earliest_cr_line'].fillna(-99, inplace = True) \r\n"
      ],
      "execution_count": 16,
      "outputs": []
    },
    {
      "cell_type": "code",
      "metadata": {
        "colab": {
          "base_uri": "https://localhost:8080/"
        },
        "id": "tWPf6kuO_GlW",
        "outputId": "1dab8483-5a77-41fe-8096-6f17f32e81aa"
      },
      "source": [
        "CD_loans = CD_loans.dropna(subset= ['annual_inc'])\r\n",
        "CD_loans.isna().sum()"
      ],
      "execution_count": 17,
      "outputs": [
        {
          "output_type": "execute_result",
          "data": {
            "text/plain": [
              "annual_inc                     0\n",
              "application_type               0\n",
              "dti                            0\n",
              "issue_d                        0\n",
              "earliest_cr_line               0\n",
              "emp_length                     0\n",
              "fico_range_high                0\n",
              "fico_range_low                 0\n",
              "funded_amnt                    0\n",
              "home_ownership                 0\n",
              "inq_fi                         0\n",
              "inq_last_12m                   0\n",
              "installment                    0\n",
              "int_rate                       0\n",
              "loan_amnt                      0\n",
              "open_acc                       0\n",
              "percent_bc_gt_75               0\n",
              "pub_rec                        0\n",
              "pub_rec_bankruptcies           0\n",
              "purpose                        0\n",
              "sub_grade                      0\n",
              "tax_liens                      0\n",
              "total_acc                      0\n",
              "revol_bal                      0\n",
              "delinq_amnt                    0\n",
              "delinq_2yrs                    0\n",
              "mths_since_last_delinq         0\n",
              "mths_since_last_major_derog    0\n",
              "loan_status                    0\n",
              "cr_yeargap                     0\n",
              "avg_fico_score                 0\n",
              "dtype: int64"
            ]
          },
          "metadata": {
            "tags": []
          },
          "execution_count": 17
        }
      ]
    },
    {
      "cell_type": "code",
      "metadata": {
        "id": "WO46HNm0fY0n"
      },
      "source": [
        "CD_loans[['home_ownership', 'application_type', 'purpose', 'sub_grade']] =  CD_loans[['home_ownership', 'application_type', 'purpose', 'sub_grade']].astype('category')\r\n"
      ],
      "execution_count": 18,
      "outputs": []
    },
    {
      "cell_type": "code",
      "metadata": {
        "id": "wXAsaUxci2D-"
      },
      "source": [
        "CD_loans['home_ownership_cat'] =  CD_loans['home_ownership'].cat.codes \r\n",
        "CD_loans['application_type_cat'] = CD_loans['application_type'].cat.codes \r\n",
        "CD_loans['purpose_cat'] = CD_loans['purpose'].cat.codes \r\n",
        "CD_loans['sub_grade_cat'] = CD_loans['sub_grade'].cat.codes"
      ],
      "execution_count": 19,
      "outputs": []
    },
    {
      "cell_type": "code",
      "metadata": {
        "colab": {
          "base_uri": "https://localhost:8080/",
          "height": 300
        },
        "id": "-DCdZmkJZJQR",
        "outputId": "79586166-bd57-4926-ee38-686c8b42a7b6"
      },
      "source": [
        "CD_loans['loan_status'] = (CD_loans[\"loan_status\"] == \"Charged Off\").astype(np.int)\r\n",
        "#CD_loans = CD_loans.drop(['issue_d', 'earliest_cr_line', 'loan_status', 'fico_range_high', 'fico_range_low', \r\n",
        "#                        'home_ownership', 'application_type', 'purpose', 'sub_grade'], axis = 1) \r\n",
        "CD_loans.head()"
      ],
      "execution_count": 20,
      "outputs": [
        {
          "output_type": "execute_result",
          "data": {
            "text/html": [
              "<div>\n",
              "<style scoped>\n",
              "    .dataframe tbody tr th:only-of-type {\n",
              "        vertical-align: middle;\n",
              "    }\n",
              "\n",
              "    .dataframe tbody tr th {\n",
              "        vertical-align: top;\n",
              "    }\n",
              "\n",
              "    .dataframe thead th {\n",
              "        text-align: right;\n",
              "    }\n",
              "</style>\n",
              "<table border=\"1\" class=\"dataframe\">\n",
              "  <thead>\n",
              "    <tr style=\"text-align: right;\">\n",
              "      <th></th>\n",
              "      <th>annual_inc</th>\n",
              "      <th>application_type</th>\n",
              "      <th>dti</th>\n",
              "      <th>issue_d</th>\n",
              "      <th>earliest_cr_line</th>\n",
              "      <th>emp_length</th>\n",
              "      <th>fico_range_high</th>\n",
              "      <th>fico_range_low</th>\n",
              "      <th>funded_amnt</th>\n",
              "      <th>home_ownership</th>\n",
              "      <th>inq_fi</th>\n",
              "      <th>inq_last_12m</th>\n",
              "      <th>installment</th>\n",
              "      <th>int_rate</th>\n",
              "      <th>loan_amnt</th>\n",
              "      <th>open_acc</th>\n",
              "      <th>percent_bc_gt_75</th>\n",
              "      <th>pub_rec</th>\n",
              "      <th>pub_rec_bankruptcies</th>\n",
              "      <th>purpose</th>\n",
              "      <th>sub_grade</th>\n",
              "      <th>tax_liens</th>\n",
              "      <th>total_acc</th>\n",
              "      <th>revol_bal</th>\n",
              "      <th>delinq_amnt</th>\n",
              "      <th>delinq_2yrs</th>\n",
              "      <th>mths_since_last_delinq</th>\n",
              "      <th>mths_since_last_major_derog</th>\n",
              "      <th>loan_status</th>\n",
              "      <th>cr_yeargap</th>\n",
              "      <th>avg_fico_score</th>\n",
              "      <th>home_ownership_cat</th>\n",
              "      <th>application_type_cat</th>\n",
              "      <th>purpose_cat</th>\n",
              "      <th>sub_grade_cat</th>\n",
              "    </tr>\n",
              "  </thead>\n",
              "  <tbody>\n",
              "    <tr>\n",
              "      <th>2</th>\n",
              "      <td>63000.0</td>\n",
              "      <td>Joint App</td>\n",
              "      <td>10.78</td>\n",
              "      <td>Dec-2015</td>\n",
              "      <td>Aug-2000</td>\n",
              "      <td>10.0</td>\n",
              "      <td>699.0</td>\n",
              "      <td>695.0</td>\n",
              "      <td>20000.0</td>\n",
              "      <td>MORTGAGE</td>\n",
              "      <td>2.0</td>\n",
              "      <td>1.0</td>\n",
              "      <td>432.66</td>\n",
              "      <td>10.78</td>\n",
              "      <td>20000.0</td>\n",
              "      <td>6.0</td>\n",
              "      <td>50.0</td>\n",
              "      <td>0.0</td>\n",
              "      <td>0.0</td>\n",
              "      <td>home_improvement</td>\n",
              "      <td>B4</td>\n",
              "      <td>0.0</td>\n",
              "      <td>18.0</td>\n",
              "      <td>7869.0</td>\n",
              "      <td>0.0</td>\n",
              "      <td>0.0</td>\n",
              "      <td>-99.0</td>\n",
              "      <td>-99.0</td>\n",
              "      <td>0</td>\n",
              "      <td>15.0</td>\n",
              "      <td>697.0</td>\n",
              "      <td>1</td>\n",
              "      <td>1</td>\n",
              "      <td>4</td>\n",
              "      <td>8</td>\n",
              "    </tr>\n",
              "    <tr>\n",
              "      <th>6</th>\n",
              "      <td>180000.0</td>\n",
              "      <td>Individual</td>\n",
              "      <td>14.67</td>\n",
              "      <td>Dec-2015</td>\n",
              "      <td>Jun-1990</td>\n",
              "      <td>10.0</td>\n",
              "      <td>684.0</td>\n",
              "      <td>680.0</td>\n",
              "      <td>20000.0</td>\n",
              "      <td>MORTGAGE</td>\n",
              "      <td>1.0</td>\n",
              "      <td>1.0</td>\n",
              "      <td>637.58</td>\n",
              "      <td>9.17</td>\n",
              "      <td>20000.0</td>\n",
              "      <td>12.0</td>\n",
              "      <td>100.0</td>\n",
              "      <td>0.0</td>\n",
              "      <td>0.0</td>\n",
              "      <td>debt_consolidation</td>\n",
              "      <td>B2</td>\n",
              "      <td>0.0</td>\n",
              "      <td>27.0</td>\n",
              "      <td>87329.0</td>\n",
              "      <td>0.0</td>\n",
              "      <td>0.0</td>\n",
              "      <td>49.0</td>\n",
              "      <td>-99.0</td>\n",
              "      <td>0</td>\n",
              "      <td>26.0</td>\n",
              "      <td>682.0</td>\n",
              "      <td>1</td>\n",
              "      <td>0</td>\n",
              "      <td>2</td>\n",
              "      <td>6</td>\n",
              "    </tr>\n",
              "    <tr>\n",
              "      <th>7</th>\n",
              "      <td>85000.0</td>\n",
              "      <td>Individual</td>\n",
              "      <td>17.61</td>\n",
              "      <td>Dec-2015</td>\n",
              "      <td>Feb-1999</td>\n",
              "      <td>10.0</td>\n",
              "      <td>709.0</td>\n",
              "      <td>705.0</td>\n",
              "      <td>20000.0</td>\n",
              "      <td>MORTGAGE</td>\n",
              "      <td>1.0</td>\n",
              "      <td>2.0</td>\n",
              "      <td>631.26</td>\n",
              "      <td>8.49</td>\n",
              "      <td>20000.0</td>\n",
              "      <td>8.0</td>\n",
              "      <td>0.0</td>\n",
              "      <td>0.0</td>\n",
              "      <td>0.0</td>\n",
              "      <td>major_purchase</td>\n",
              "      <td>B1</td>\n",
              "      <td>0.0</td>\n",
              "      <td>15.0</td>\n",
              "      <td>826.0</td>\n",
              "      <td>0.0</td>\n",
              "      <td>1.0</td>\n",
              "      <td>3.0</td>\n",
              "      <td>3.0</td>\n",
              "      <td>0</td>\n",
              "      <td>17.0</td>\n",
              "      <td>707.0</td>\n",
              "      <td>1</td>\n",
              "      <td>0</td>\n",
              "      <td>6</td>\n",
              "      <td>5</td>\n",
              "    </tr>\n",
              "    <tr>\n",
              "      <th>8</th>\n",
              "      <td>85000.0</td>\n",
              "      <td>Individual</td>\n",
              "      <td>13.07</td>\n",
              "      <td>Dec-2015</td>\n",
              "      <td>Apr-2002</td>\n",
              "      <td>6.0</td>\n",
              "      <td>689.0</td>\n",
              "      <td>685.0</td>\n",
              "      <td>10000.0</td>\n",
              "      <td>RENT</td>\n",
              "      <td>2.0</td>\n",
              "      <td>1.0</td>\n",
              "      <td>306.45</td>\n",
              "      <td>6.49</td>\n",
              "      <td>10000.0</td>\n",
              "      <td>14.0</td>\n",
              "      <td>28.6</td>\n",
              "      <td>1.0</td>\n",
              "      <td>1.0</td>\n",
              "      <td>credit_card</td>\n",
              "      <td>A2</td>\n",
              "      <td>0.0</td>\n",
              "      <td>23.0</td>\n",
              "      <td>10464.0</td>\n",
              "      <td>0.0</td>\n",
              "      <td>0.0</td>\n",
              "      <td>-99.0</td>\n",
              "      <td>-99.0</td>\n",
              "      <td>0</td>\n",
              "      <td>14.0</td>\n",
              "      <td>687.0</td>\n",
              "      <td>5</td>\n",
              "      <td>0</td>\n",
              "      <td>1</td>\n",
              "      <td>1</td>\n",
              "    </tr>\n",
              "    <tr>\n",
              "      <th>9</th>\n",
              "      <td>42000.0</td>\n",
              "      <td>Individual</td>\n",
              "      <td>34.80</td>\n",
              "      <td>Dec-2015</td>\n",
              "      <td>Nov-1994</td>\n",
              "      <td>10.0</td>\n",
              "      <td>704.0</td>\n",
              "      <td>700.0</td>\n",
              "      <td>8000.0</td>\n",
              "      <td>MORTGAGE</td>\n",
              "      <td>0.0</td>\n",
              "      <td>1.0</td>\n",
              "      <td>263.74</td>\n",
              "      <td>11.48</td>\n",
              "      <td>8000.0</td>\n",
              "      <td>8.0</td>\n",
              "      <td>33.3</td>\n",
              "      <td>0.0</td>\n",
              "      <td>0.0</td>\n",
              "      <td>credit_card</td>\n",
              "      <td>B5</td>\n",
              "      <td>0.0</td>\n",
              "      <td>18.0</td>\n",
              "      <td>7034.0</td>\n",
              "      <td>0.0</td>\n",
              "      <td>0.0</td>\n",
              "      <td>75.0</td>\n",
              "      <td>75.0</td>\n",
              "      <td>0</td>\n",
              "      <td>21.0</td>\n",
              "      <td>702.0</td>\n",
              "      <td>1</td>\n",
              "      <td>0</td>\n",
              "      <td>1</td>\n",
              "      <td>9</td>\n",
              "    </tr>\n",
              "  </tbody>\n",
              "</table>\n",
              "</div>"
            ],
            "text/plain": [
              "   annual_inc application_type  ...  purpose_cat sub_grade_cat\n",
              "2     63000.0        Joint App  ...            4             8\n",
              "6    180000.0       Individual  ...            2             6\n",
              "7     85000.0       Individual  ...            6             5\n",
              "8     85000.0       Individual  ...            1             1\n",
              "9     42000.0       Individual  ...            1             9\n",
              "\n",
              "[5 rows x 35 columns]"
            ]
          },
          "metadata": {
            "tags": []
          },
          "execution_count": 20
        }
      ]
    },
    {
      "cell_type": "code",
      "metadata": {
        "id": "WbPpC6ZMLjIB"
      },
      "source": [
        "CD_loans.shape \r\n",
        "CD_loans = CD_loans.drop(['issue_d', 'earliest_cr_line', 'fico_range_high', 'fico_range_low', \r\n",
        "                        'home_ownership', 'application_type', 'purpose', 'sub_grade'], axis = 1) "
      ],
      "execution_count": 21,
      "outputs": []
    },
    {
      "cell_type": "code",
      "metadata": {
        "colab": {
          "base_uri": "https://localhost:8080/"
        },
        "id": "uYg4koTHfqmO",
        "outputId": "1cd60f46-13ae-4a01-8e3c-cf413ffedf61"
      },
      "source": [
        "CD_loans['loan_status'].mean()"
      ],
      "execution_count": 22,
      "outputs": [
        {
          "output_type": "execute_result",
          "data": {
            "text/plain": [
              "0.10643953200029922"
            ]
          },
          "metadata": {
            "tags": []
          },
          "execution_count": 22
        }
      ]
    },
    {
      "cell_type": "code",
      "metadata": {
        "id": "Rhp1U8ZvSM_O"
      },
      "source": [
        "from sklearn.model_selection import train_test_split, cross_val_score  \r\n",
        "\r\n",
        "train_data, test_data = train_test_split(CD_loans, train_size = 0.7, test_size= 0.3, random_state = 42, stratify = CD_loans['sub_grade_cat'])"
      ],
      "execution_count": 23,
      "outputs": []
    },
    {
      "cell_type": "code",
      "metadata": {
        "colab": {
          "base_uri": "https://localhost:8080/"
        },
        "id": "vA2ydux5YKXI",
        "outputId": "6f62b8ab-afae-46fe-9b5c-ee3187289fdf"
      },
      "source": [
        " #Number of Ones\r\n",
        " train_data['loan_status'].sum()"
      ],
      "execution_count": null,
      "outputs": [
        {
          "output_type": "execute_result",
          "data": {
            "text/plain": [
              "46785"
            ]
          },
          "metadata": {
            "tags": []
          },
          "execution_count": 23
        }
      ]
    },
    {
      "cell_type": "code",
      "metadata": {
        "colab": {
          "base_uri": "https://localhost:8080/"
        },
        "id": "aU22SbXNYrtf",
        "outputId": "97ebeeb7-4ee0-4cca-baf5-65f008fce98c"
      },
      "source": [
        "#Number of Zeros \r\n",
        "train_data.shape[0] -  train_data['loan_status'].sum()"
      ],
      "execution_count": null,
      "outputs": [
        {
          "output_type": "execute_result",
          "data": {
            "text/plain": [
              "393018"
            ]
          },
          "metadata": {
            "tags": []
          },
          "execution_count": 24
        }
      ]
    },
    {
      "cell_type": "code",
      "metadata": {
        "colab": {
          "base_uri": "https://localhost:8080/"
        },
        "id": "xOxQRr1HWgRW",
        "outputId": "70be40c1-abe3-425c-dbc1-6394b88b90ac"
      },
      "source": [
        "#Number to Upsize by  \r\n",
        "(train_data.shape[0] -  train_data['loan_status'].sum()) - train_data['loan_status'].sum()"
      ],
      "execution_count": null,
      "outputs": [
        {
          "output_type": "execute_result",
          "data": {
            "text/plain": [
              "346233"
            ]
          },
          "metadata": {
            "tags": []
          },
          "execution_count": 25
        }
      ]
    },
    {
      "cell_type": "code",
      "metadata": {
        "id": "sSJvmzEX8TFO"
      },
      "source": [
        "#WE UPSAMPLE THE DATA IN ORDER TO IMPROVE THE PREDICTIONS FOR DEFAULTS\r\n",
        "from sklearn.utils import resample \r\n",
        "major = train_data[train_data.loan_status == 0] \r\n",
        "minor = train_data[train_data.loan_status == 1] \r\n",
        "\r\n",
        "minority_upsampled = resample(minor, replace = True, n_samples = 346317, random_state = 42, stratify= minor['sub_grade_cat']) \r\n",
        "\r\n",
        "#majority_downsampled = resample(major, replace = False, n_samples = 250000, random_state = 42, stratify = major['sub_grade_cat'])\r\n",
        "\r\n",
        "sampled_data = pd.concat([minority_upsampled, major])\r\n",
        "\r\n",
        "train_labels = sampled_data['loan_status'] \r\n",
        "train_feats = sampled_data.drop('loan_status', axis= 1)\r\n"
      ],
      "execution_count": 24,
      "outputs": []
    },
    {
      "cell_type": "code",
      "metadata": {
        "id": "ePhI8bLIcZ_X"
      },
      "source": [
        "test_feats = test_data.drop('loan_status', axis = 1) \r\n",
        "test_labels = test_data['loan_status']"
      ],
      "execution_count": 28,
      "outputs": []
    },
    {
      "cell_type": "code",
      "metadata": {
        "colab": {
          "base_uri": "https://localhost:8080/"
        },
        "id": "UBO28NA5Ps3B",
        "outputId": "603f3a62-8333-4055-9e1b-e0f2ee5ca41f"
      },
      "source": [
        "sampled_data.shape"
      ],
      "execution_count": null,
      "outputs": [
        {
          "output_type": "execute_result",
          "data": {
            "text/plain": [
              "(739335, 27)"
            ]
          },
          "metadata": {
            "tags": []
          },
          "execution_count": 28
        }
      ]
    },
    {
      "cell_type": "code",
      "metadata": {
        "colab": {
          "base_uri": "https://localhost:8080/"
        },
        "id": "ATXLOI1mYrKh",
        "outputId": "9ab28dc6-e384-458b-c6fa-ba46608cd14b"
      },
      "source": [
        "sampled_data['loan_status'].mean()"
      ],
      "execution_count": null,
      "outputs": [
        {
          "output_type": "execute_result",
          "data": {
            "text/plain": [
              "0.4684168881494857"
            ]
          },
          "metadata": {
            "tags": []
          },
          "execution_count": 29
        }
      ]
    },
    {
      "cell_type": "code",
      "metadata": {
        "id": "dbMKDdXI-GDo"
      },
      "source": [
        "##TRANISITONING TO XGBOOST  "
      ],
      "execution_count": null,
      "outputs": []
    },
    {
      "cell_type": "code",
      "metadata": {
        "id": "6sTxHRKfcHtu"
      },
      "source": [
        "from sklearn.metrics import roc_curve, precision_recall_curve, auc, make_scorer, recall_score, accuracy_score, precision_score, confusion_matrix\r\n",
        "from sklearn.model_selection import GridSearchCV, StratifiedKFold\r\n"
      ],
      "execution_count": 26,
      "outputs": []
    },
    {
      "cell_type": "code",
      "metadata": {
        "id": "nNCqUyzBvvcG"
      },
      "source": [
        "feature_importance = list(zip(train_feats.columns, xgb_clf2.feature_importances_))\r\n",
        "dtype = [('feature', 'S10'), ('importance', 'float')]\r\n",
        "feature_importance = np.array(feature_importance, dtype=dtype)\r\n",
        "feature_sort = np.sort(feature_importance, order='importance')[::-1]\r\n",
        "name, score = zip(*list(feature_sort))\r\n",
        "pd.DataFrame({'name':name,'score':score})[:15].plot.bar(x='name', y='score')"
      ],
      "execution_count": null,
      "outputs": []
    },
    {
      "cell_type": "code",
      "metadata": {
        "id": "7YxvJxUXsguC"
      },
      "source": [
        "xgb_clf2.feature_importances_"
      ],
      "execution_count": null,
      "outputs": []
    },
    {
      "cell_type": "code",
      "metadata": {
        "id": "YM8w7CxmeTs6"
      },
      "source": [
        "print('Training Precision %.2f' %(precision_score(train_labels, x_train_preds)))\r\n",
        "\r\n",
        "confusion_matrix(train_labels, x_train_preds)"
      ],
      "execution_count": null,
      "outputs": []
    },
    {
      "cell_type": "code",
      "metadata": {
        "id": "fiZm5n5cflIF"
      },
      "source": [
        "print('Testing Precision %.2f' %(precision_score(test_labels, x_test_preds))) \r\n",
        "\r\n",
        "confusion_matrix(test_labels, x_test_preds)"
      ],
      "execution_count": null,
      "outputs": []
    },
    {
      "cell_type": "code",
      "metadata": {
        "id": "bSC2WElZ5-Bn"
      },
      "source": [
        "test_feats = test_data.drop('loan_status', axis = 1) \r\n",
        "test_labels = test_data['loan_status']"
      ],
      "execution_count": 27,
      "outputs": []
    },
    {
      "cell_type": "code",
      "metadata": {
        "id": "AImbCEQuV1OO"
      },
      "source": [
        "xgb_clf3 = xgb.XGBClassifier(n_estimators = 5000, subsample= 0.25, learning_rate= 0.2, max_depth = 4)  \r\n",
        "%time xgb_clf3.fit(train_feats, train_labels)  \r\n"
      ],
      "execution_count": null,
      "outputs": []
    },
    {
      "cell_type": "code",
      "metadata": {
        "id": "AbNqxjDVnKrC"
      },
      "source": [
        "print('Training Accuracy %.2f' %(xgb_clf3.score(train_feats, train_labels)))\r\n",
        "print('Testing Accuracy %.2f' %(xgb_clf3.score(test_feats, test_labels))) "
      ],
      "execution_count": null,
      "outputs": []
    },
    {
      "cell_type": "code",
      "metadata": {
        "id": "s1Pu9JY9XFR_"
      },
      "source": [
        "x1_train_preds = xgb_clf3.predict(train_feats) \r\n",
        "x1_test_preds = xgb_clf3.predict(test_feats)"
      ],
      "execution_count": null,
      "outputs": []
    },
    {
      "cell_type": "code",
      "metadata": {
        "id": "dYI2zgGGYw0Y"
      },
      "source": [
        "from sklearn.metrics import confusion_matrix  \r\n",
        "print('Training Precision %.2f' %(precision_score(train_labels, x1_train_preds)))\r\n",
        "confusion_matrix(train_labels, x1_train_preds) "
      ],
      "execution_count": null,
      "outputs": []
    },
    {
      "cell_type": "code",
      "metadata": {
        "id": "dBK1BZqQaCWC"
      },
      "source": [
        "print('Testing Precision %.2f' %(precision_score(test_labels, x1_test_preds))) \r\n",
        "confusion_matrix(test_labels, x1_test_preds) "
      ],
      "execution_count": null,
      "outputs": []
    },
    {
      "cell_type": "code",
      "metadata": {
        "id": "PdJjWEPRZS1Q"
      },
      "source": [
        ""
      ],
      "execution_count": null,
      "outputs": []
    },
    {
      "cell_type": "code",
      "metadata": {
        "id": "wu-oXThkYIdO"
      },
      "source": [
        "from sklearn.metrics import precision_score, recall_score, precision_recall_curve  \r\n",
        "\r\n",
        "print('Training Precision %.2f' %(precision_score(train_labels, x1_train_preds)))\r\n",
        "print('Testing Precision %.2f' %(precision_score(test_labels, x1_test_preds)))"
      ],
      "execution_count": null,
      "outputs": []
    },
    {
      "cell_type": "code",
      "metadata": {
        "id": "nbSZ_btGl9FA"
      },
      "source": [
        "train_scores = xgb_clf2.predict_proba(train_feats)"
      ],
      "execution_count": null,
      "outputs": []
    },
    {
      "cell_type": "code",
      "metadata": {
        "id": "KOh32re53I5f",
        "colab": {
          "base_uri": "https://localhost:8080/"
        },
        "outputId": "a22b3bcc-430c-41b7-88a3-cc34eb440c43"
      },
      "source": [
        "import xgboost as xgb \r\n",
        "from sklearn.metrics import accuracy_score\r\n",
        "\r\n",
        "xgb_clf = xgb.XGBClassifier(n_estimators = 500, subsample= 0.5, learning_rate= 0.15, random_state= 42)   \r\n",
        "%time xgb_clf.fit(train_feats, train_labels)  \r\n",
        "\r\n"
      ],
      "execution_count": 29,
      "outputs": [
        {
          "output_type": "stream",
          "text": [
            "CPU times: user 7min 34s, sys: 72.4 ms, total: 7min 34s\n",
            "Wall time: 7min 34s\n"
          ],
          "name": "stdout"
        },
        {
          "output_type": "execute_result",
          "data": {
            "text/plain": [
              "XGBClassifier(base_score=0.5, booster='gbtree', colsample_bylevel=1,\n",
              "              colsample_bynode=1, colsample_bytree=1, gamma=0,\n",
              "              learning_rate=0.15, max_delta_step=0, max_depth=3,\n",
              "              min_child_weight=1, missing=None, n_estimators=500, n_jobs=1,\n",
              "              nthread=None, objective='binary:logistic', random_state=42,\n",
              "              reg_alpha=0, reg_lambda=1, scale_pos_weight=1, seed=None,\n",
              "              silent=None, subsample=0.5, verbosity=1)"
            ]
          },
          "metadata": {
            "tags": []
          },
          "execution_count": 29
        }
      ]
    },
    {
      "cell_type": "code",
      "metadata": {
        "id": "iXJQJduY9892"
      },
      "source": [
        "xgb_clf.score(train_feats, train_labels)  \r\n",
        "train_preds = xgb_clf.predict(train_feats)"
      ],
      "execution_count": 33,
      "outputs": []
    },
    {
      "cell_type": "code",
      "metadata": {
        "colab": {
          "base_uri": "https://localhost:8080/"
        },
        "id": "KStma2hpd7wP",
        "outputId": "b6037823-58b8-402a-efba-5be492ab26bd"
      },
      "source": [
        "confusion_matrix(train_labels, train_preds)"
      ],
      "execution_count": 36,
      "outputs": [
        {
          "output_type": "execute_result",
          "data": {
            "text/plain": [
              "array([[269582, 123436],\n",
              "       [136063, 210254]])"
            ]
          },
          "metadata": {
            "tags": []
          },
          "execution_count": 36
        }
      ]
    },
    {
      "cell_type": "code",
      "metadata": {
        "colab": {
          "base_uri": "https://localhost:8080/"
        },
        "id": "OmcKgSFtntLQ",
        "outputId": "8dc661f8-08ea-401e-cc24-4342e1ec28ba"
      },
      "source": [
        "precision_score(train_labels, train_preds)"
      ],
      "execution_count": 42,
      "outputs": [
        {
          "output_type": "execute_result",
          "data": {
            "text/plain": [
              "0.6300878060475291"
            ]
          },
          "metadata": {
            "tags": []
          },
          "execution_count": 42
        }
      ]
    },
    {
      "cell_type": "code",
      "metadata": {
        "id": "nCRuDSaKdDdY"
      },
      "source": [
        "xgb_clf.score(test_feats, test_labels)   \r\n",
        "test_preds = xgb_clf.predict(test_feats)"
      ],
      "execution_count": 35,
      "outputs": []
    },
    {
      "cell_type": "code",
      "metadata": {
        "colab": {
          "base_uri": "https://localhost:8080/"
        },
        "id": "3kmLv2SfoIRj",
        "outputId": "f3d155b1-5be8-4f1b-ae37-6acd0d2ab12a"
      },
      "source": [
        "precision_score(test_labels, test_preds)"
      ],
      "execution_count": 43,
      "outputs": [
        {
          "output_type": "execute_result",
          "data": {
            "text/plain": [
              "0.1727172210448724"
            ]
          },
          "metadata": {
            "tags": []
          },
          "execution_count": 43
        }
      ]
    },
    {
      "cell_type": "code",
      "metadata": {
        "colab": {
          "base_uri": "https://localhost:8080/"
        },
        "id": "JFVyCm5OeB1D",
        "outputId": "05466677-e19a-4cfd-91c2-3ca22327f0ec"
      },
      "source": [
        "confusion_matrix(test_labels, test_preds)"
      ],
      "execution_count": 37,
      "outputs": [
        {
          "output_type": "execute_result",
          "data": {
            "text/plain": [
              "array([[114527,  53871],\n",
              "       [  8843,  11247]])"
            ]
          },
          "metadata": {
            "tags": []
          },
          "execution_count": 37
        }
      ]
    },
    {
      "cell_type": "code",
      "metadata": {
        "id": "thGgzw3vInAO"
      },
      "source": [
        "training_pred = xgb_clf.predict(train_feats_p)\r\n",
        "testing_pred = xgb_clf.predict(test_feats.drop(['annual_inc', 'revol_bal', 'sub_grade_cat'], axis = 1))"
      ],
      "execution_count": null,
      "outputs": []
    },
    {
      "cell_type": "code",
      "metadata": {
        "id": "cEcV3HJ9Ixn_",
        "colab": {
          "base_uri": "https://localhost:8080/",
          "height": 161
        },
        "outputId": "de7a6f8e-1afd-4fa2-dd18-e2efec946931"
      },
      "source": [
        ""
      ],
      "execution_count": 41,
      "outputs": [
        {
          "output_type": "error",
          "ename": "NameError",
          "evalue": "ignored",
          "traceback": [
            "\u001b[0;31m---------------------------------------------------------------------------\u001b[0m",
            "\u001b[0;31mNameError\u001b[0m                                 Traceback (most recent call last)",
            "\u001b[0;32m<ipython-input-41-ea1e8f600814>\u001b[0m in \u001b[0;36m<module>\u001b[0;34m()\u001b[0m\n\u001b[0;32m----> 1\u001b[0;31m \u001b[0mprecision_score\u001b[0m\u001b[0;34m(\u001b[0m\u001b[0mtrain_labels\u001b[0m\u001b[0;34m,\u001b[0m \u001b[0mtraining_pred\u001b[0m\u001b[0;34m)\u001b[0m\u001b[0;34m\u001b[0m\u001b[0;34m\u001b[0m\u001b[0m\n\u001b[0m",
            "\u001b[0;31mNameError\u001b[0m: name 'training_pred' is not defined"
          ]
        }
      ]
    },
    {
      "cell_type": "code",
      "metadata": {
        "id": "rvqKe3AAJVy3"
      },
      "source": [
        "precision_score(test_labels, testing_pred)"
      ],
      "execution_count": null,
      "outputs": []
    },
    {
      "cell_type": "code",
      "metadata": {
        "id": "HkCAZzTl-iIN"
      },
      "source": [
        "xgb_clf.score(test_feats.drop(['annual_inc', 'revol_bal', 'sub_grade_cat'], axis = 1), test_labels) "
      ],
      "execution_count": null,
      "outputs": []
    },
    {
      "cell_type": "code",
      "metadata": {
        "id": "bFTt_eK3D8LD",
        "colab": {
          "base_uri": "https://localhost:8080/",
          "height": 361
        },
        "outputId": "926d9ad3-2cae-405a-e116-5f4e3a945263"
      },
      "source": [
        "feature_importance = list(zip(train_feats.columns, xgb_clf.feature_importances_))\r\n",
        "dtype = [('feature', 'S10'), ('importance', 'float')]\r\n",
        "feature_importance = np.array(feature_importance, dtype=dtype)\r\n",
        "feature_sort = np.sort(feature_importance, order='importance')[::-1]\r\n",
        "name, score = zip(*list(feature_sort))\r\n",
        "pd.DataFrame({'name':name,'score':score})[:16].plot.bar(x='name', y='score')"
      ],
      "execution_count": 39,
      "outputs": [
        {
          "output_type": "execute_result",
          "data": {
            "text/plain": [
              "<matplotlib.axes._subplots.AxesSubplot at 0x7fb8f9125978>"
            ]
          },
          "metadata": {
            "tags": []
          },
          "execution_count": 39
        },
        {
          "output_type": "display_data",
          "data": {
            "image/png": "[encoded data removed]",
            "text/plain": [
              "<Figure size 432x288 with 1 Axes>"
            ]
          },
          "metadata": {
            "tags": [],
            "needs_background": "light"
          }
        }
      ]
    },
    {
      "cell_type": "code",
      "metadata": {
        "id": "-0xYmOudTHuf"
      },
      "source": [
        "loans.head()"
      ],
      "execution_count": null,
      "outputs": []
    }
  ]
}