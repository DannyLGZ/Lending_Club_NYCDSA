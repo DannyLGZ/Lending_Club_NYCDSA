{
  "nbformat": 4,
  "nbformat_minor": 0,
  "metadata": {
    "colab": {
      "name": "Capstone.ipynb",
      "provenance": [],
      "collapsed_sections": [],
      "history_visible": true,
      "machine_shape": "hm",
      "mount_file_id": "1q8gFoUnjj7NxvieQb0eV7GRH8ZZ7BH49",
      "authorship_tag": "ABX9TyN0BvZUvk6SYRjKuI1PKJku"
    },
    "kernelspec": {
      "name": "python3",
      "display_name": "Python 3"
    }
  },
  "cells": [
    {
      "cell_type": "code",
      "metadata": {
        "id": "M8oGrhIxxrNm",
        "colab": {
          "base_uri": "https://localhost:8080/"
        },
        "outputId": "78b46db7-438a-4f54-b0d6-73b84a1002f2"
      },
      "source": [
        "%%time\n",
        "import pandas as pd\n",
        "import numpy as np\n",
        "import matplotlib.pyplot as plt\n",
        "import seaborn as sns\n",
        "import missingno as msno\n",
        "from sklearn.linear_model import Lasso\n",
        "import re\n",
        "import math\n",
        "from sklearn.metrics import confusion_matrix\n",
        "from sklearn.model_selection import *"
      ],
      "execution_count": null,
      "outputs": [
        {
          "output_type": "stream",
          "text": [
            "CPU times: user 68 µs, sys: 9 µs, total: 77 µs\n",
            "Wall time: 82.3 µs\n"
          ],
          "name": "stdout"
        }
      ]
    },
    {
      "cell_type": "code",
      "metadata": {
        "id": "_t3EtnESQlQn",
        "colab": {
          "base_uri": "https://localhost:8080/"
        },
        "outputId": "91bf01be-66c2-421c-fb0e-cf3a002e4b29"
      },
      "source": [
        "from google.colab import drive\n",
        "drive.mount(\"/content/gdrive\")"
      ],
      "execution_count": null,
      "outputs": [
        {
          "output_type": "stream",
          "text": [
            "Mounted at /content/gdrive\n"
          ],
          "name": "stdout"
        }
      ]
    },
    {
      "cell_type": "code",
      "metadata": {
        "id": "UjujShbL24R2",
        "colab": {
          "base_uri": "https://localhost:8080/"
        },
        "outputId": "d1604dcb-ee45-457c-d872-5eab158792f3"
      },
      "source": [
        "%%time\n",
        "accepted = pd.read_csv(\"/content/gdrive/MyDrive/NYC DSA Capstone Project/Data/accepted_2007_to_2018q4.csv/accepted.csv\", low_memory = False)\n",
        "features = pd.read_csv(\"/content/gdrive/MyDrive/NYC DSA Capstone Project/Data/features.csv\", low_memory = False)\n",
        "#rejected = pd.read_csv(\"/content/gdrive/MyDrive/NYC DSA Capstone Project/Data/rejected_2007_to_2018q4.csv/rejected_2007_to_2018Q4.csv\", low_memory = False)"
      ],
      "execution_count": null,
      "outputs": [
        {
          "output_type": "stream",
          "text": [
            "CPU times: user 1min 37s, sys: 12.4 s, total: 1min 49s\n",
            "Wall time: 2min 28s\n"
          ],
          "name": "stdout"
        }
      ]
    },
    {
      "cell_type": "code",
      "metadata": {
        "id": "4z6A6lLoGa8w",
        "colab": {
          "base_uri": "https://localhost:8080/"
        },
        "outputId": "48297250-6e3f-4396-cb10-dffb1e25ef6e"
      },
      "source": [
        "print(accepted.shape)\n",
        "#print(rejected.shape)"
      ],
      "execution_count": null,
      "outputs": [
        {
          "output_type": "stream",
          "text": [
            "(2260668, 166)\n"
          ],
          "name": "stdout"
        }
      ]
    },
    {
      "cell_type": "code",
      "metadata": {
        "id": "cD7k2XNL3A4k"
      },
      "source": [
        "accepted.head()"
      ],
      "execution_count": null,
      "outputs": []
    },
    {
      "cell_type": "code",
      "metadata": {
        "id": "OGga9tDi3GMv"
      },
      "source": [
        "accepted.info(max_cols = 160)"
      ],
      "execution_count": null,
      "outputs": []
    },
    {
      "cell_type": "code",
      "metadata": {
        "id": "LfsL436OHial"
      },
      "source": [
        "accepted.info()"
      ],
      "execution_count": null,
      "outputs": []
    },
    {
      "cell_type": "code",
      "metadata": {
        "id": "b2SZCdvE3T1X"
      },
      "source": [
        "accepted.describe()"
      ],
      "execution_count": null,
      "outputs": []
    },
    {
      "cell_type": "code",
      "metadata": {
        "id": "RMeu4D2c3gUo"
      },
      "source": [
        "rejected.info()"
      ],
      "execution_count": null,
      "outputs": []
    },
    {
      "cell_type": "code",
      "metadata": {
        "id": "qk41eXq73-kr"
      },
      "source": [
        "rejected.describe()"
      ],
      "execution_count": null,
      "outputs": []
    },
    {
      "cell_type": "code",
      "metadata": {
        "id": "zoJflKer4R8N"
      },
      "source": [
        "plt.figure(figsize = (15,15))\n",
        "correlation_matrix = rejected.corr()\n",
        "sns.heatmap(correlation_matrix, annot = True)\n",
        "plt.show()"
      ],
      "execution_count": null,
      "outputs": []
    },
    {
      "cell_type": "code",
      "metadata": {
        "id": "LBRmwl1B5e57"
      },
      "source": [
        "plt.figure(figsize = (25,15))\n",
        "sns.boxplot(accepted.grade, accepted.loan_amnt)"
      ],
      "execution_count": null,
      "outputs": []
    },
    {
      "cell_type": "code",
      "metadata": {
        "id": "_17xEqX38VJM"
      },
      "source": [
        "plt.figure(figsize = (25,15))\n",
        "sns.boxplot(accepted.grade, accepted.annual_inc_joint)"
      ],
      "execution_count": null,
      "outputs": []
    },
    {
      "cell_type": "code",
      "metadata": {
        "id": "N093xoSoi1Y8"
      },
      "source": [
        "accepted_missing = pd.DataFrame(accepted.isnull().mean(axis = 0).sort_values(ascending = False), \n",
        "                                columns = [\"Num_Missing\"])\n",
        "                                #index = accepted.columns)\n",
        "#accepted_missing.Num_Missing = accepted_missing.Num_Missing/accepted.shape[0]"
      ],
      "execution_count": null,
      "outputs": []
    },
    {
      "cell_type": "code",
      "metadata": {
        "id": "NgniWX_dihwf"
      },
      "source": [
        "accepted_missing.head()"
      ],
      "execution_count": null,
      "outputs": []
    },
    {
      "cell_type": "code",
      "metadata": {
        "id": "Ylsgdcs8JeJ_"
      },
      "source": [
        "# accepted = accepted.drop(columns = ['sec_app_chargeoff_within_12_mths',\n",
        "#                                     'sec_app_fico_range_high',\n",
        "#                                     'sec_app_inq_last_6mths',\n",
        "#                                     'sec_app_mort_acc',\n",
        "#                                     'sec_app_open_acc',\n",
        "#                                     'sec_app_revol_util',\n",
        "#                                     'sec_app_open_act_il',\n",
        "#                                     'sec_app_num_rev_accts',\n",
        "#                                     'sec_app_fico_range_low',\n",
        "#                                     'sec_app_collections_12_mths_ex_med',\n",
        "#                                     'sec_app_mths_since_last_major_derog',\n",
        "#                                     'sec_app_earliest_cr_line',\n",
        "#                                     'revol_bal_joint',\n",
        "#                                     'member_id'],\n",
        "#                                     axis =  1)\n",
        "accepted.info(max_cols = 200)"
      ],
      "execution_count": null,
      "outputs": []
    },
    {
      "cell_type": "code",
      "metadata": {
        "id": "cf7eoYcqAPJY"
      },
      "source": [
        "accepted_missing[accepted_missing[\"Num_Missing\"] > 0.5]"
      ],
      "execution_count": null,
      "outputs": []
    },
    {
      "cell_type": "code",
      "metadata": {
        "id": "uFPuB0FQQx56"
      },
      "source": [
        "date = []\n",
        "for x in accepted.columns:\n",
        "    if re.findall(\"date\", x):\n",
        "        date.append(x)\n",
        "date"
      ],
      "execution_count": null,
      "outputs": []
    },
    {
      "cell_type": "code",
      "metadata": {
        "id": "HyLd7Zl6vHnR"
      },
      "source": [
        "# %%time\n",
        "# for i in range(len(accepted.term)):\n",
        "#     if accepted.term[i]:\n",
        "#         accepted.term[i] = int(re.sub(pattern = \"(\\d\\d)*([^\\d])*\", repl = r\"\\1\", string = accepted.term[i]))"
      ],
      "execution_count": null,
      "outputs": []
    },
    {
      "cell_type": "code",
      "metadata": {
        "id": "T1Ncwa2jy4Dl"
      },
      "source": [
        "# #list(map(lambda i: int(re.sub(pattern = \"(\\d\\d)*([^\\d])*\", \\\n",
        "#                               repl = r\"\\1\", \\\n",
        "#                               string = accepted.term[i])) \\\n",
        "#                        if accepted.term[i] for i in range(len(accepted.term)), \n",
        "#          accepted.term))"
      ],
      "execution_count": null,
      "outputs": []
    },
    {
      "cell_type": "code",
      "metadata": {
        "id": "1nnzNlxAuOA2"
      },
      "source": [
        "%%time\n",
        "accepted[\"term\"] = accepted[\"term\"].apply(lambda term: int(re.sub(pattern = \"(\\d\\d)*([^\\d])*\", repl = r\"\\1\", string = term)) if isinstance(term, str) else term)"
      ],
      "execution_count": null,
      "outputs": []
    },
    {
      "cell_type": "code",
      "metadata": {
        "id": "iveKWE0OY98A"
      },
      "source": [
        "# Our target variable\n",
        "accepted[\"total_payment\"] = accepted.installment * accepted.term"
      ],
      "execution_count": null,
      "outputs": []
    },
    {
      "cell_type": "code",
      "metadata": {
        "id": "6bneOOeEZXDw"
      },
      "source": [
        "accepted[accepted.term.isnull()]"
      ],
      "execution_count": null,
      "outputs": []
    },
    {
      "cell_type": "code",
      "metadata": {
        "id": "BfbWubc92CWf"
      },
      "source": [
        "accepted = accepted.dropna(axis = 0, how = \"any\", subset = [\"term\"])"
      ],
      "execution_count": null,
      "outputs": []
    },
    {
      "cell_type": "code",
      "metadata": {
        "id": "K_rKsTd64cdP"
      },
      "source": [
        "accepted[accepted.term.isnull()]"
      ],
      "execution_count": null,
      "outputs": []
    },
    {
      "cell_type": "code",
      "metadata": {
        "id": "z0QLp_5E-pkB"
      },
      "source": [
        "#%%time\n",
        "#accepted.to_csv(\"/content/gdrive/MyDrive/NYC DSA Capstone Project/Data/accepted_2007_to_2018q4.csv/accepted.csv\")"
      ],
      "execution_count": null,
      "outputs": []
    },
    {
      "cell_type": "code",
      "metadata": {
        "id": "1b36oWDX4hQM"
      },
      "source": [
        "hardship = accepted[accepted.hardship_status.notnull()]\n",
        "hardship"
      ],
      "execution_count": null,
      "outputs": []
    },
    {
      "cell_type": "code",
      "metadata": {
        "id": "1bpHaZhm5gjB"
      },
      "source": [
        "type(hardship)"
      ],
      "execution_count": null,
      "outputs": []
    },
    {
      "cell_type": "code",
      "metadata": {
        "id": "1lQQeHay5i2D"
      },
      "source": [
        "hardship.hardship_reason.unique()"
      ],
      "execution_count": null,
      "outputs": []
    },
    {
      "cell_type": "code",
      "metadata": {
        "id": "vio5DO9t55IH"
      },
      "source": [
        "#plt.figure(figsize = (20,20))\n",
        "sns.boxplot(x = hardship.hardship_reason,\n",
        "            y = hardship.hardship_length,\n",
        "            data = hardship)"
      ],
      "execution_count": null,
      "outputs": []
    },
    {
      "cell_type": "code",
      "metadata": {
        "id": "TLiew3IL7zY6"
      },
      "source": [
        "len(hardship.hardship_length.unique())"
      ],
      "execution_count": null,
      "outputs": []
    },
    {
      "cell_type": "code",
      "metadata": {
        "id": "PSwdhRHF8qpd"
      },
      "source": [
        "len(accepted.hardship_length.unique())"
      ],
      "execution_count": null,
      "outputs": []
    },
    {
      "cell_type": "code",
      "metadata": {
        "id": "CLW7Y_Gf8vji"
      },
      "source": [
        "\n",
        "[math.isnan(val) for val in accepted.hardship_length.unique()]"
      ],
      "execution_count": null,
      "outputs": []
    },
    {
      "cell_type": "code",
      "metadata": {
        "id": "YN4FTsdY7-SN"
      },
      "source": [
        "%%time\n",
        "accepted[\"hardship_length\"] = accepted[\"hardship_length\"].apply(lambda entry: 0 if math.isnan(entry) else entry)"
      ],
      "execution_count": null,
      "outputs": []
    },
    {
      "cell_type": "code",
      "metadata": {
        "id": "IqypdWqM8-Eg"
      },
      "source": [
        "accepted[accepted.hardship_length.isnull()]"
      ],
      "execution_count": null,
      "outputs": []
    },
    {
      "cell_type": "code",
      "metadata": {
        "id": "6D0QwqThRpLk"
      },
      "source": [
        "plt.figure(figsize = (20,20))\n",
        "sns.boxplot(x = hardship.hardship_reason,\n",
        "            y = hardship.total_payment,\n",
        "            data = hardship)"
      ],
      "execution_count": null,
      "outputs": []
    },
    {
      "cell_type": "code",
      "metadata": {
        "id": "OZ1M0i-2UyS7"
      },
      "source": [
        "accepted.drop([\"member_id\"], axis = 1, inplace = True)"
      ],
      "execution_count": null,
      "outputs": []
    },
    {
      "cell_type": "code",
      "metadata": {
        "id": "bS5hAiNFVhuJ"
      },
      "source": [
        "accepted_missing"
      ],
      "execution_count": null,
      "outputs": []
    },
    {
      "cell_type": "code",
      "metadata": {
        "id": "nZc3zZijWBBX"
      },
      "source": [
        "hardship.hardship_status.unique()"
      ],
      "execution_count": null,
      "outputs": []
    },
    {
      "cell_type": "code",
      "metadata": {
        "id": "F50l5PqVWoSd"
      },
      "source": [
        "print(np.mean(hardship.hardship_status == 'COMPLETED'))\n",
        "print(np.mean(hardship.hardship_status == 'ACTIVE'))\n",
        "print(np.mean(hardship.hardship_status == 'BROKEN'))"
      ],
      "execution_count": null,
      "outputs": []
    },
    {
      "cell_type": "code",
      "metadata": {
        "id": "xij9EdhrXcgv"
      },
      "source": [
        "# plt.figure(figsize = (20,20))\n",
        "# sns.barplot(x = hardship.hardship_reason,\n",
        "#             y = sum(hardship.hardship_status == 'COMPLETED'),\n",
        "#             data = hardship)"
      ],
      "execution_count": null,
      "outputs": []
    },
    {
      "cell_type": "code",
      "metadata": {
        "id": "Hpq_ZSy0Xr6Z"
      },
      "source": [
        "print(sum(hardship.hardship_status == 'COMPLETED'))\n",
        "print(sum(hardship.hardship_status == 'ACTIVE'))\n",
        "print(sum(hardship.hardship_status == 'BROKEN'))"
      ],
      "execution_count": null,
      "outputs": []
    },
    {
      "cell_type": "code",
      "metadata": {
        "id": "0dOCPIBhYeCN"
      },
      "source": [
        "sum(accepted.issue_d.isnull())"
      ],
      "execution_count": null,
      "outputs": []
    },
    {
      "cell_type": "code",
      "metadata": {
        "id": "k6R1sLEecTBs"
      },
      "source": [
        "len(accepted.issue_d.unique())"
      ],
      "execution_count": null,
      "outputs": []
    },
    {
      "cell_type": "code",
      "metadata": {
        "id": "AFFxaByBgW5d"
      },
      "source": [
        "accepted.issue_d.unique()"
      ],
      "execution_count": null,
      "outputs": []
    },
    {
      "cell_type": "code",
      "metadata": {
        "id": "dykCeP3Mj_n-"
      },
      "source": [
        "%%time\n",
        "accepted[\"issue_d\"] = accepted[\"issue_d\"].apply(lambda date: re.sub(pattern = \"([A-Za-z]*)([-])*([0-9]*)\", repl = r\"\\1\\3\", string = date) if isinstance(date, str) else date)"
      ],
      "execution_count": null,
      "outputs": []
    },
    {
      "cell_type": "code",
      "metadata": {
        "id": "1PX08lnOflB_"
      },
      "source": [
        "accepted[\"issue_d\"] = pd.to_datetime(accepted.issue_d, \n",
        "                                     format = \"%Y-%m-%d\", \n",
        "                                     #errors = \"ignore\", \n",
        "                                     yearfirst = True)\n",
        "accepted.issue_d"
      ],
      "execution_count": null,
      "outputs": []
    },
    {
      "cell_type": "code",
      "metadata": {
        "id": "PHkEiZGNpIF1"
      },
      "source": [
        "accepted.issue_d.unique()"
      ],
      "execution_count": null,
      "outputs": []
    },
    {
      "cell_type": "code",
      "metadata": {
        "id": "S5GCnC5zpLYF"
      },
      "source": [
        "plt.figure(figsize = (15,10))\n",
        "count_by_year = pd.DataFrame(accepted.groupby([\"issue_d\"])[\"id\"].count())\n",
        "print(count_by_year)\n",
        "sns.lineplot(count_by_year.index, count_by_year.id, data = count_by_year)"
      ],
      "execution_count": null,
      "outputs": []
    },
    {
      "cell_type": "code",
      "metadata": {
        "id": "32Lc6xDmrblp"
      },
      "source": [
        "accepted.purpose.unique()"
      ],
      "execution_count": null,
      "outputs": []
    },
    {
      "cell_type": "code",
      "metadata": {
        "id": "gB6RhpD9sY1B"
      },
      "source": [
        "plt.figure(figsize = (20,10))\n",
        "count_by_purpose = pd.DataFrame(accepted.groupby([\"purpose\"])[\"id\"].count().sort_values())\n",
        "count_by_purpose\n",
        "sns.barplot(count_by_purpose.index, count_by_purpose.id, palette = \"deep\")"
      ],
      "execution_count": null,
      "outputs": []
    },
    {
      "cell_type": "code",
      "metadata": {
        "id": "lsUI_EZeA4DV"
      },
      "source": [
        "count_by_purpose = count_by_purpose.sort_values(by = \"id\", ascending = False).reset_index()"
      ],
      "execution_count": null,
      "outputs": []
    },
    {
      "cell_type": "code",
      "metadata": {
        "id": "1wo2qORkBjxH"
      },
      "source": [
        "count_by_purpose = count_by_purpose.rename(columns = {\"id\":\"count\"})\r\n",
        "#count_by_purpose.drop(\"index\", axis = 1, inplace = True)\r\n",
        "count_by_purpose"
      ],
      "execution_count": null,
      "outputs": []
    },
    {
      "cell_type": "code",
      "metadata": {
        "id": "GD2zn2MsBtHi"
      },
      "source": [
        "count_by_purpose[\"count\"] = count_by_purpose[\"count\"] / sum(count_by_purpose[\"count\"])\r\n",
        "count_by_purpose"
      ],
      "execution_count": null,
      "outputs": []
    },
    {
      "cell_type": "code",
      "metadata": {
        "id": "DlpLtI8TCyqQ"
      },
      "source": [
        ""
      ],
      "execution_count": null,
      "outputs": []
    },
    {
      "cell_type": "code",
      "metadata": {
        "id": "m0SAqXWkvX9o"
      },
      "source": [
        "count_by_purpose_grade = pd.DataFrame(accepted.groupby([\"purpose\", \"grade\"])[\"id\"].count())\n",
        "count_by_purpose_grade.reset_index(inplace = True)\n",
        "count_by_purpose_grade"
      ],
      "execution_count": null,
      "outputs": []
    },
    {
      "cell_type": "code",
      "metadata": {
        "id": "vrWifwYH4Ww-"
      },
      "source": [
        "plt.figure(figsize = (30,6))\n",
        "#count_by_purpose_grade.index\n",
        "sns.barplot(count_by_purpose_grade.index, \n",
        "            count_by_purpose_grade.id, \n",
        "            order = count_by_purpose_grade.sort_values(by = \"id\", ascending = False, inplace = False).index)\n",
        "ind = range(len(count_by_purpose_grade))\n",
        "labels = list(zip(count_by_purpose_grade.purpose, count_by_purpose_grade.grade))\n",
        "plt.xticks(ind, labels, rotation = 90)\n",
        "plt.show()"
      ],
      "execution_count": null,
      "outputs": []
    },
    {
      "cell_type": "code",
      "metadata": {
        "id": "a86EZHpF_Xac"
      },
      "source": [
        "list(zip(count_by_purpose_grade.purpose, count_by_purpose_grade.grade))"
      ],
      "execution_count": null,
      "outputs": []
    },
    {
      "cell_type": "code",
      "metadata": {
        "id": "qzNKsKoyFNQv"
      },
      "source": [
        "accepted[\"year\"] = pd.DatetimeIndex(accepted.issue_d).year\n",
        "accepted[\"year\"]"
      ],
      "execution_count": null,
      "outputs": []
    },
    {
      "cell_type": "code",
      "metadata": {
        "id": "fKW6h36CEYoG"
      },
      "source": [
        "count_by_purpose_year = pd.DataFrame(accepted.groupby([\"year\",\"purpose\"])[\"id\"].count())\n",
        "count_by_purpose_year.reset_index(inplace = True)\n",
        "count_by_purpose_year"
      ],
      "execution_count": null,
      "outputs": []
    },
    {
      "cell_type": "code",
      "metadata": {
        "id": "3YATCOgpGdWQ"
      },
      "source": [
        "plt.figure(figsize = (30,6))\n",
        "\n",
        "sns.barplot(count_by_purpose_year.index, \n",
        "            count_by_purpose_year[\"id\"],\n",
        "            order = count_by_purpose_year.sort_values(by = \"id\", ascending = False, inplace = False).index)\n",
        "\n",
        "ind = range(len(count_by_purpose_year))\n",
        "labels = list(zip(count_by_purpose_year.year, count_by_purpose_year.purpose))\n",
        "plt.xticks(ind, labels, rotation = 90)\n",
        "\n",
        "plt.show()"
      ],
      "execution_count": null,
      "outputs": []
    },
    {
      "cell_type": "code",
      "metadata": {
        "id": "vGkD8-pdHc8G"
      },
      "source": [
        "count_by_purpose_year_grade = pd.DataFrame(accepted.groupby([\"issue_year\",\"purpose\", \"grade\"])[\"id\"].count())\n",
        "count_by_purpose_year_grade.reset_index(inplace = True)\n",
        "#count_by_purpose_year_grade.rename(columns = {\"id\":\"total\"})"
      ],
      "execution_count": null,
      "outputs": []
    },
    {
      "cell_type": "code",
      "metadata": {
        "id": "2D45X3_HMhFU"
      },
      "source": [
        "count_by_purpose_year_grade = count_by_purpose_year_grade.sort_values(by = \"id\", ascending = False, inplace = False).reset_index()\n",
        "count_by_purpose_year_grade.drop(\"index\", axis = 1, inplace = True)"
      ],
      "execution_count": null,
      "outputs": []
    },
    {
      "cell_type": "code",
      "metadata": {
        "id": "I69mW3NFPp0j"
      },
      "source": [
        "count_by_purpose_year_grade.describe()"
      ],
      "execution_count": null,
      "outputs": []
    },
    {
      "cell_type": "code",
      "metadata": {
        "id": "fw4TfC1tPnGi"
      },
      "source": [
        "#pd.options.display.max_rows = None\n",
        "top = count_by_purpose_year_grade[count_by_purpose_year_grade[\"id\"] > 1e4]\n",
        "top"
      ],
      "execution_count": null,
      "outputs": []
    },
    {
      "cell_type": "code",
      "metadata": {
        "id": "1UpssRlMRl5y"
      },
      "source": [
        "plt.figure(figsize = (30,8))\n",
        "\n",
        "sns.barplot(top.index, top[\"id\"])\n",
        "\n",
        "ind = range(len(top))\n",
        "labels = list(zip(top.issue_year, top.purpose, top.grade))\n",
        "plt.xticks(ind, labels, rotation = 90)\n",
        "\n",
        "plt.show()"
      ],
      "execution_count": null,
      "outputs": []
    },
    {
      "cell_type": "code",
      "metadata": {
        "id": "E7rI9FZvV7eU"
      },
      "source": [
        "accepted.purpose.unique()"
      ],
      "execution_count": null,
      "outputs": []
    },
    {
      "cell_type": "code",
      "metadata": {
        "id": "oBKC3cNRYpbZ"
      },
      "source": [
        "med_fund = pd.DataFrame(accepted.groupby(\"purpose\")[\"funded_amnt\"].median().sort_values(ascending = False))\n",
        "med_fund = med_fund.reset_index()\n",
        "med_fund = med_fund.rename(columns = {\"funded_amnt\":\"median_funded\"})\n",
        "med_fund "
      ],
      "execution_count": null,
      "outputs": []
    },
    {
      "cell_type": "code",
      "metadata": {
        "id": "KH0eZwJQZQ1L"
      },
      "source": [
        "mean_funded = pd.DataFrame(accepted.groupby(\"purpose\")[\"funded_amnt\"].mean().sort_values(ascending = False))\n",
        "mean_funded = mean_funded.reset_index()\n",
        "mean_funded = mean_funded.rename(columns = {\"funded_amnt\":\"mean_amount\"})\n",
        "mean_funded"
      ],
      "execution_count": null,
      "outputs": []
    },
    {
      "cell_type": "code",
      "metadata": {
        "id": "4h-yShjRZuRY"
      },
      "source": [
        "mean_funded[\"mean_amount\"] = mean_funded[\"mean_amount\"].apply(round)\n",
        "mean_funded\n"
      ],
      "execution_count": null,
      "outputs": []
    },
    {
      "cell_type": "code",
      "metadata": {
        "id": "OYj7k-AGc5NU"
      },
      "source": [
        "pd.DataFrame(accepted.groupby([\"grade\", \"purpose\"])[\"total_payment\", \"delinq_amnt\"].agg(\"median\", \"mean\")).sort_values(\"total_payment\", ascending = False).reset_index()"
      ],
      "execution_count": null,
      "outputs": []
    },
    {
      "cell_type": "code",
      "metadata": {
        "id": "xtiM8tXZe6Mn"
      },
      "source": [
        "delinq_total = pd.DataFrame(accepted.groupby([\"grade\", \"purpose\"])[\"total_payment\", \"delinq_amnt\"].mean()).sort_values(\"delinq_amnt\", ascending = False).reset_index()\n",
        "delinq_total"
      ],
      "execution_count": null,
      "outputs": []
    },
    {
      "cell_type": "code",
      "metadata": {
        "id": "ryo7mqGngwjx"
      },
      "source": [
        "plt.figure(figsize = (20,10))\n",
        "\n",
        "sns.scatterplot(delinq_total.delinq_amnt,\n",
        "                delinq_total.total_payment)\n",
        "\n",
        "plt.show()"
      ],
      "execution_count": null,
      "outputs": []
    },
    {
      "cell_type": "code",
      "metadata": {
        "id": "thrkvAJwmryI"
      },
      "source": [
        "plt.figure(figsize = (20,10))\n",
        "\n",
        "sns.scatterplot(delinq_total.delinq_amnt,\n",
        "                np.log(delinq_total.total_payment))\n",
        "\n",
        "plt.show()"
      ],
      "execution_count": null,
      "outputs": []
    },
    {
      "cell_type": "code",
      "metadata": {
        "id": "iLD1uztLqSgY"
      },
      "source": [
        "accepted.head()"
      ],
      "execution_count": null,
      "outputs": []
    },
    {
      "cell_type": "code",
      "metadata": {
        "id": "VaT7KHYUpVmE"
      },
      "source": [
        "#%%time\n",
        "#accepted.to_csv(\"/content/gdrive/MyDrive/NYC DSA Capstone Project/Data/accepted_2007_to_2018q4.csv/accepted.csv\")"
      ],
      "execution_count": null,
      "outputs": []
    },
    {
      "cell_type": "code",
      "metadata": {
        "id": "gxXRmFDAsEph"
      },
      "source": [
        "len(accepted.sub_grade.unique())"
      ],
      "execution_count": null,
      "outputs": []
    },
    {
      "cell_type": "code",
      "metadata": {
        "id": "G-qDWUldsknN"
      },
      "source": [
        "accepted.shape"
      ],
      "execution_count": null,
      "outputs": []
    },
    {
      "cell_type": "code",
      "metadata": {
        "id": "9Tl8QID_oC78"
      },
      "source": [
        "grade_int_rate = pd.DataFrame(accepted.groupby(\"grade\")[\"int_rate\"].mean()).sort_values(by = \"int_rate\", ascending = False).reset_index()\r\n",
        "grade_int_rate.int_rate = round(grade_int_rate.int_rate)\r\n",
        "grade_int_rate"
      ],
      "execution_count": null,
      "outputs": []
    },
    {
      "cell_type": "code",
      "metadata": {
        "id": "e-Oi7st6qEnM"
      },
      "source": [
        "plt.figure(figsize = (30,10))\r\n",
        "\r\n",
        "sns.boxplot(x = accepted.grade,\r\n",
        "            y = accepted.int_rate,\r\n",
        "            order = [\"G\", \"F\", \"E\", \"D\", \"C\", \"B\", \"A\"])\r\n",
        "\r\n",
        "plt.show()\r\n",
        "\r\n",
        "# Number of outliers seems to decrease with the quality of the loan \r\n",
        "# Higher quality loans are much more selective"
      ],
      "execution_count": null,
      "outputs": []
    },
    {
      "cell_type": "code",
      "metadata": {
        "id": "Fdfg5znKrYgg"
      },
      "source": [
        "subgrade_intrate = pd.DataFrame(accepted.groupby(\"sub_grade\")[\"int_rate\"].mean()).sort_values(by = \"int_rate\", ascending = False).reset_index()\r\n",
        "subgrade_intrate.int_rate = round(subgrade_intrate.int_rate, 1)\r\n",
        "subgrade_intrate"
      ],
      "execution_count": null,
      "outputs": []
    },
    {
      "cell_type": "code",
      "metadata": {
        "id": "S3O94yUstC9w"
      },
      "source": [
        "lst = [\"d5\", \"d6\", \"d1\"]\r\n",
        "sorted(lst)"
      ],
      "execution_count": null,
      "outputs": []
    },
    {
      "cell_type": "code",
      "metadata": {
        "id": "9-dUcFj8uEaH"
      },
      "source": [
        "sorted(subgrade_intrate.sub_grade)"
      ],
      "execution_count": null,
      "outputs": []
    },
    {
      "cell_type": "code",
      "metadata": {
        "id": "HaexpS-huM4X"
      },
      "source": [
        "%time\r\n",
        "plt.figure(figsize = (25,10))\r\n",
        "\r\n",
        "sns.boxplot(x = accepted.sub_grade,\r\n",
        "            y = accepted.int_rate,\r\n",
        "            order = sorted(accepted.sub_grade.unique(), reverse = True))\r\n",
        "\r\n",
        "plt.show()"
      ],
      "execution_count": null,
      "outputs": []
    },
    {
      "cell_type": "code",
      "metadata": {
        "id": "A_MWekQjx98a"
      },
      "source": [
        "np.mean(accepted.term == accepted.term.apply(int))"
      ],
      "execution_count": null,
      "outputs": []
    },
    {
      "cell_type": "code",
      "metadata": {
        "id": "pu23zUFFyUNY"
      },
      "source": [
        "accepted.term = accepted.term.apply(int)"
      ],
      "execution_count": null,
      "outputs": []
    },
    {
      "cell_type": "code",
      "metadata": {
        "id": "WQAqX3SivN9t"
      },
      "source": [
        "grade_term_rate = pd.DataFrame(accepted.groupby([\"grade\", \"term\"])[\"int_rate\"].mean()).sort_values(by = \"int_rate\", ascending = False).reset_index()\r\n",
        "grade_term_rate.int_rate = round(grade_term_rate.int_rate, 2)\r\n",
        "grade_term_rate"
      ],
      "execution_count": null,
      "outputs": []
    },
    {
      "cell_type": "code",
      "metadata": {
        "id": "2a5xA4qUyi05"
      },
      "source": [
        "pd.DataFrame(accepted.groupby([\"grade\", \"term\"])[\"int_rate\"].median()).sort_values(by = \"int_rate\", ascending = False).reset_index()"
      ],
      "execution_count": null,
      "outputs": []
    },
    {
      "cell_type": "code",
      "metadata": {
        "id": "J4rqeS8Kzz8S"
      },
      "source": [
        "pd.options.display.max_rows = None\r\n",
        "pd.DataFrame(accepted.groupby([\"sub_grade\", \"term\"])[\"int_rate\"].mean()).sort_values(by = \"int_rate\", ascending = False).reset_index()"
      ],
      "execution_count": null,
      "outputs": []
    },
    {
      "cell_type": "code",
      "metadata": {
        "id": "x5Qtk-To01kY"
      },
      "source": [
        "pd.DataFrame(accepted.groupby([\"sub_grade\", \"term\"])[\"int_rate\"].median()).sort_values(by = \"int_rate\", ascending = False).reset_index()"
      ],
      "execution_count": null,
      "outputs": []
    },
    {
      "cell_type": "code",
      "metadata": {
        "id": "zjC0Ph5v1SOz"
      },
      "source": [
        "accepted.term.unique()"
      ],
      "execution_count": null,
      "outputs": []
    },
    {
      "cell_type": "code",
      "metadata": {
        "id": "zY49zcH51DTF"
      },
      "source": [
        "plt.figure(figsize = (30,10))\r\n",
        "\r\n",
        "sns.boxplot(x = accepted.term,\r\n",
        "            y = accepted.int_rate)\r\n",
        "\r\n",
        "plt.show()"
      ],
      "execution_count": null,
      "outputs": []
    },
    {
      "cell_type": "code",
      "metadata": {
        "id": "M-dmrYvL2Alj"
      },
      "source": [
        "pd.DataFrame(accepted.groupby(\"year\")[\"int_rate\"].mean()).sort_values(by = \"int_rate\", ascending = False).reset_index()"
      ],
      "execution_count": null,
      "outputs": []
    },
    {
      "cell_type": "code",
      "metadata": {
        "id": "90QMkDfy3jja"
      },
      "source": [
        "plt.figure(figsize = (30,10))\r\n",
        "\r\n",
        "sns.boxplot(x = accepted.year,\r\n",
        "            y = accepted.int_rate,\r\n",
        "            order = sorted(accepted.year.unique()))\r\n",
        "\r\n",
        "plt.show()"
      ],
      "execution_count": null,
      "outputs": []
    },
    {
      "cell_type": "code",
      "metadata": {
        "id": "VL7KHGkc4Pji"
      },
      "source": [
        "%time\r\n",
        "\r\n",
        "plt.figure(figsize = (30,10))\r\n",
        "\r\n",
        "sns.lineplot(x = accepted.issue_year,\r\n",
        "            y = accepted.int_rate)\r\n",
        "\r\n",
        "plt.show()"
      ],
      "execution_count": null,
      "outputs": []
    },
    {
      "cell_type": "code",
      "metadata": {
        "id": "P7LOalhaAWY7"
      },
      "source": [
        "count_by_year = pd.DataFrame(accepted.groupby([\"issue_year\"])[\"id\"].count()).sort_values(by = \"id\", ascending = False).reset_index()\r\n",
        "count_by_year = count_by_year.rename(columns = {\"id\":\"count\"})\r\n",
        "count_by_year\r\n"
      ],
      "execution_count": null,
      "outputs": []
    },
    {
      "cell_type": "code",
      "metadata": {
        "id": "lFMXeVtJ51H8"
      },
      "source": [
        "year_purpose = pd.DataFrame(accepted.groupby([\"issue_year\", \"purpose\"])[\"id\"].count()).sort_values(by = \"id\", ascending = False).reset_index()\r\n",
        "house_trend = year_purpose[year_purpose.purpose == \"house\"].reset_index()\r\n",
        "house_trend.drop([\"index\", \"purpose\"], axis = 1, inplace  = True)\r\n",
        "house_trend = house_trend.rename(columns = {\"id\":\"count\"})\r\n",
        "house_trend[\"count\"] = house_trend[\"count\"]/count_by_year[\"count\"]\r\n",
        "house_trend"
      ],
      "execution_count": null,
      "outputs": []
    },
    {
      "cell_type": "code",
      "metadata": {
        "id": "Hg7h6qrj-Xwu"
      },
      "source": [
        "plt.figure(figsize = (30,10))\r\n",
        "\r\n",
        "sns.barplot(x = house_trend.issue_year,\r\n",
        "            y = house_trend[\"count\"],\r\n",
        "            palette = \"icefire\")\r\n",
        "\r\n",
        "plt.xticks(fontsize = 15)\r\n",
        "plt.title(\" Total Proportion of \\n  Housing Loans by Year \", fontsize = 40)\r\n",
        "plt.show()"
      ],
      "execution_count": null,
      "outputs": []
    },
    {
      "cell_type": "code",
      "metadata": {
        "id": "Az_twRK9ER5R"
      },
      "source": [
        "accepted.loan_status.unique()"
      ],
      "execution_count": null,
      "outputs": []
    },
    {
      "cell_type": "code",
      "metadata": {
        "id": "_-mOcj9dDiiK"
      },
      "source": [
        "status_count =  pd.DataFrame(accepted.groupby(\"loan_status\")[\"id\"].count()).sort_values(by = \"id\", ascending = False).reset_index()\r\n",
        "status_count.id = round(100 * status_count.id/sum(status_count.id), 3)\r\n",
        "status_count = status_count.rename(columns = {\"id\":\"percentage\"})\r\n",
        "status_count"
      ],
      "execution_count": null,
      "outputs": []
    },
    {
      "cell_type": "code",
      "metadata": {
        "id": "9H_6ElxZN5FY"
      },
      "source": [
        "accepted.settlement_status.unique()"
      ],
      "execution_count": null,
      "outputs": []
    },
    {
      "cell_type": "code",
      "metadata": {
        "id": "GuiqXsRVLQ_3"
      },
      "source": [
        "settlement_count = pd.DataFrame(accepted.groupby([\"grade\", \"settlement_status\", \"term\"])[\"id\"].count())#.sort_values(by = \"id\", ascending = False).reset_index()\r\n",
        "settlement_count.id = round(100 *  settlement_count.id / sum(settlement_count.id),3) \r\n",
        "settlement_count = settlement_count.rename(columns = {\"id\":\"percentage\"})\r\n",
        "settlement_count"
      ],
      "execution_count": null,
      "outputs": []
    },
    {
      "cell_type": "code",
      "metadata": {
        "id": "wBNgz5PWOI-C"
      },
      "source": [
        "#pd.options.display.max_rows = 10\r\n",
        "accepted.last_pymnt_d"
      ],
      "execution_count": null,
      "outputs": []
    },
    {
      "cell_type": "code",
      "metadata": {
        "id": "qkIuhC7QRdKb"
      },
      "source": [
        "# %time\r\n",
        "# accepted.last_pymnt_d = accepted.last_pymnt_d.apply(lambda date: re.sub(pattern = \"-\", repl = \"\", string = date) if isinstance(date, str) else date)\r\n",
        "# accepted.last_pymnt_d"
      ],
      "execution_count": null,
      "outputs": []
    },
    {
      "cell_type": "code",
      "metadata": {
        "id": "DrhFSn-_gFm9"
      },
      "source": [
        "accepted.last_pymnt_d = pd.to_datetime(accepted.last_pymnt_d,\r\n",
        "                                       format = \"%Y%m%d\",\r\n",
        "                                       yearfirst = True)\r\n",
        "\r\n",
        "accepted.last_pymnt_d"
      ],
      "execution_count": null,
      "outputs": []
    },
    {
      "cell_type": "code",
      "metadata": {
        "id": "y2xmnisVhT0A"
      },
      "source": [
        "accepted = accepted.rename(columns = {\"year\":\"issue_year\"})\r\n",
        "accepted.issue_year"
      ],
      "execution_count": null,
      "outputs": []
    },
    {
      "cell_type": "code",
      "metadata": {
        "id": "RExYy4nDwLdB"
      },
      "source": [
        "accepted.issue_d = pd.to_datetime(accepted.issue_d,\r\n",
        "                                  yearfirst = True,\r\n",
        "                                  format = \"%Y-%m-%d\")\r\n",
        "\r\n",
        "accepted.issue_d"
      ],
      "execution_count": null,
      "outputs": []
    },
    {
      "cell_type": "code",
      "metadata": {
        "id": "YADeUgiTw76i"
      },
      "source": [
        "accepted[\"loan_duration\"] = accepted.last_pymnt_d - accepted.issue_d\r\n",
        "accepted[\"loan_duration\"] = accepted[\"loan_duration\"].apply(lambda x: x.days)\r\n",
        "accepted[\"loan_duration\"]"
      ],
      "execution_count": null,
      "outputs": []
    },
    {
      "cell_type": "code",
      "metadata": {
        "id": "tLjRdZCU5ZSw"
      },
      "source": [
        "plt.figure(figsize = (30,10))\r\n",
        "\r\n",
        "sns.boxplot(x = accepted.loan_status,\r\n",
        "            y = accepted.loan_duration)\r\n",
        "\r\n",
        "plt.show()"
      ],
      "execution_count": null,
      "outputs": []
    },
    {
      "cell_type": "code",
      "metadata": {
        "id": "EMRKHLnPlSIX"
      },
      "source": [
        "# %%time\r\n",
        "# (accepted.last_pymnt_d - accepted.issue_d).apply(lambda date: re.sub(pattern = \"([\\d]{0,4})([^\\n]*)\", repl = r\"\\1\", string = str(date)) if isinstance(str(date), str) \\\r\n",
        "#                                                 else  re.sub(pattern = \".*\", repl = r\"0\", string = date)).apply(lambda x: int(x) if x != \"\" else x)"
      ],
      "execution_count": null,
      "outputs": []
    },
    {
      "cell_type": "code",
      "metadata": {
        "id": "p4rFlN17xn4l"
      },
      "source": [
        "sum(accepted.loan_duration.isnull())"
      ],
      "execution_count": null,
      "outputs": []
    },
    {
      "cell_type": "code",
      "metadata": {
        "id": "m_gcqozV_uhg"
      },
      "source": [
        "# %%time\r\n",
        "# accepted.to_csv(\"/content/gdrive/MyDrive/NYC DSA Capstone Project/Data/accepted_2007_to_2018q4.csv/accepted.csv\")"
      ],
      "execution_count": null,
      "outputs": []
    },
    {
      "cell_type": "code",
      "metadata": {
        "id": "ji3HzwTvA-gf"
      },
      "source": [
        "(accepted.last_pymnt_d - accepted.issue_d).apply(lambda x: x.days)"
      ],
      "execution_count": null,
      "outputs": []
    },
    {
      "cell_type": "code",
      "metadata": {
        "id": "O9hwUyAWDARW"
      },
      "source": [
        "accepted.loan_status.unique()"
      ],
      "execution_count": null,
      "outputs": []
    },
    {
      "cell_type": "code",
      "metadata": {
        "id": "CZYt6WIQIeyI"
      },
      "source": [
        "def function(x):\r\n",
        "    if x in ['Late (31-120 days)', 'Late (16-30 days)']:\r\n",
        "        return \"Late\"\r\n",
        "    elif x == 'Does not meet the credit policy. Status:Charged Off':\r\n",
        "        return \"Charged Off\"\r\n",
        "    elif x == 'Does not meet the credit policy. Status:Fully Paid':\r\n",
        "        return \"Fully Paid\"\r\n",
        "    else:\r\n",
        "        return x"
      ],
      "execution_count": null,
      "outputs": []
    },
    {
      "cell_type": "code",
      "metadata": {
        "id": "lK0SogMRE6Tv"
      },
      "source": [
        "accepted.loan_status.apply(function).unique()"
      ],
      "execution_count": null,
      "outputs": []
    },
    {
      "cell_type": "code",
      "metadata": {
        "id": "LRfY-cNSJscD"
      },
      "source": [
        "accepted[\"loan_status_trim\"] = accepted.loan_status.apply(function)\r\n",
        "accepted.loan_status_trim"
      ],
      "execution_count": null,
      "outputs": []
    },
    {
      "cell_type": "code",
      "metadata": {
        "id": "vb3z4C3aF1TA"
      },
      "source": [
        "'Late (31-120 days)' in ['Late (31-120 days)', 'Late (16-30 days)']"
      ],
      "execution_count": null,
      "outputs": []
    },
    {
      "cell_type": "code",
      "metadata": {
        "id": "w_1kSFRBKBpi"
      },
      "source": [
        "plt.figure(figsize = (30,10))\r\n",
        "\r\n",
        "sns.boxplot(x = accepted.loan_status_trim,\r\n",
        "            y = accepted.loan_duration)\r\n",
        "\r\n",
        "plt.show()"
      ],
      "execution_count": null,
      "outputs": []
    },
    {
      "cell_type": "code",
      "metadata": {
        "id": "FC5T9MvgNPX9"
      },
      "source": [
        "plt.figure(figsize = (30,10))\r\n",
        "\r\n",
        "sns.boxplot(x = accepted.loan_status_trim,\r\n",
        "            y = accepted.loan_duration/30)\r\n",
        "\r\n",
        "plt.title(\"Distribution of Loan Duration \\n by Loan Status\", fontsize = 30)\r\n",
        "plt.xticks(fontsize = 15)\r\n",
        "plt.yticks(fontsize = 15)\r\n",
        "plt.ylabel(\"Loan Duration in Months\", fontsize = 20)\r\n",
        "plt.xlabel(\"Loan Status\", fontsize = 20)\r\n",
        "\r\n",
        "plt.show()"
      ],
      "execution_count": null,
      "outputs": []
    },
    {
      "cell_type": "code",
      "metadata": {
        "id": "0_QULTnkTr6s"
      },
      "source": [
        "%%time\r\n",
        "\r\n",
        "plt.figure(figsize = (30,10))\r\n",
        "\r\n",
        "sns.violinplot(x = accepted.loan_status_trim,\r\n",
        "            y = accepted.loan_duration/30)\r\n",
        "\r\n",
        "plt.title(\"Distribution of Loan Duration \\n by Loan Status\", fontsize = 30)\r\n",
        "plt.xticks(fontsize = 15)\r\n",
        "plt.yticks(fontsize = 15)\r\n",
        "plt.ylabel(\"Loan Duration in Months\", fontsize = 20)\r\n",
        "plt.xlabel(\"Loan Status\", fontsize = 20)\r\n",
        "\r\n",
        "plt.show()"
      ],
      "execution_count": null,
      "outputs": []
    },
    {
      "cell_type": "code",
      "metadata": {
        "id": "5SL5XKEDPp93"
      },
      "source": [
        "pd.options.display.max_rows = None\r\n",
        "pd.DataFrame(accepted.groupby([\"loan_status_trim\", \"term\"])[\"loan_duration\"].median())"
      ],
      "execution_count": null,
      "outputs": []
    },
    {
      "cell_type": "code",
      "metadata": {
        "id": "cK8bdYmIS67I"
      },
      "source": [
        "plt.figure(figsize = (30,10))\r\n",
        "\r\n",
        "sns.violinplot(x = accepted.grade,\r\n",
        "               y = accepted.loan_duration/30,\r\n",
        "               order = sorted(accepted.grade.unique()))\r\n",
        "\r\n",
        "plt.title(\"Distribution of Loan Duration \\n by Loan Status\", fontsize = 30)\r\n",
        "plt.xticks(fontsize = 15)\r\n",
        "plt.yticks(fontsize = 15)\r\n",
        "plt.ylabel(\"Loan Duration in Months\", fontsize = 20)\r\n",
        "plt.xlabel(\"Loan Status\", fontsize = 20)\r\n",
        "\r\n",
        "plt.show()"
      ],
      "execution_count": null,
      "outputs": []
    },
    {
      "cell_type": "code",
      "metadata": {
        "id": "wDQMA3uhes-J"
      },
      "source": [
        "grade_term_duration = pd.DataFrame(accepted.groupby([\"grade\", \"term\"])[\"loan_duration\"]).reset_index()\r\n",
        "grade_term_duration"
      ],
      "execution_count": null,
      "outputs": []
    },
    {
      "cell_type": "code",
      "metadata": {
        "id": "n__eJ23cjSFI"
      },
      "source": [
        "pd.options.display.max_rows = 10\r\n",
        "\r\n",
        "grade_term_duration.drop(\"index\", inplace = True, axis = 1)"
      ],
      "execution_count": null,
      "outputs": []
    },
    {
      "cell_type": "code",
      "metadata": {
        "id": "UC5wChKuocLz"
      },
      "source": [
        "grade_term_duration = pd.DataFrame(accepted.groupby([\"grade\", \"term\"])[\"loan_duration\"], columns = [\"Grade_Term\", \"Loan_Duration\"])\r\n",
        "grade_term_duration"
      ],
      "execution_count": null,
      "outputs": []
    },
    {
      "cell_type": "code",
      "metadata": {
        "id": "dovlD_JfpgLf"
      },
      "source": [
        "plt.figure(figsize = (30,10))\r\n",
        "\r\n",
        "sns.boxplot(x = grade_term_duration.Grade_Term,\r\n",
        "            y = accepted.loan_duration/30)\r\n",
        "\r\n",
        "plt.show()"
      ],
      "execution_count": null,
      "outputs": []
    },
    {
      "cell_type": "code",
      "metadata": {
        "id": "wxULl01crgo1"
      },
      "source": [
        "plt.figure(figsize = (30,10))\r\n",
        "\r\n",
        "sns.boxplot(x = accepted.term,\r\n",
        "            y = accepted.loan_duration/30)\r\n",
        "\r\n",
        "plt.show()"
      ],
      "execution_count": null,
      "outputs": []
    },
    {
      "cell_type": "code",
      "metadata": {
        "id": "1gafZ67duWx5"
      },
      "source": [
        "term36 = accepted[accepted.term == 36.0]\r\n",
        "term36"
      ],
      "execution_count": null,
      "outputs": []
    },
    {
      "cell_type": "code",
      "metadata": {
        "id": "UaZBecG-vXEb"
      },
      "source": [
        "plt.figure(figsize = (30,10))\r\n",
        "\r\n",
        "sns.violinplot(x = term36.grade,\r\n",
        "               y = term36.loan_duration/30,\r\n",
        "               order = sorted(term36.grade.unique()))\r\n",
        "\r\n",
        "plt.title(\"Duration of 36-Month Loans \\n by Loan Grade\", fontsize = 30)\r\n",
        "plt.xticks(fontsize = 15)\r\n",
        "plt.yticks(fontsize = 15)\r\n",
        "plt.xlabel(\"Grade\", fontsize = 20)\r\n",
        "plt.ylabel(\"Loan Duration (Months)\", fontsize = 20)\r\n",
        "\r\n",
        "plt.show()"
      ],
      "execution_count": null,
      "outputs": []
    },
    {
      "cell_type": "code",
      "metadata": {
        "id": "2B2FUGxcwd9k"
      },
      "source": [
        "term36_fullypaid = accepted.loc[(accepted.term == 36) & (accepted.loan_status == \"Fully Paid\")]\r\n",
        "term36_fullypaid"
      ],
      "execution_count": null,
      "outputs": []
    },
    {
      "cell_type": "code",
      "metadata": {
        "id": "HSksJDf_xf7m"
      },
      "source": [
        "plt.figure(figsize = (30,10))\r\n",
        "\r\n",
        "sns.violinplot(x = term36_fullypaid.grade,\r\n",
        "               y = term36_fullypaid.loan_duration/30,\r\n",
        "               order = sorted(term36_fullypaid.grade.unique()))\r\n",
        "\r\n",
        "plt.show()"
      ],
      "execution_count": null,
      "outputs": []
    },
    {
      "cell_type": "code",
      "metadata": {
        "id": "5RQgyqlQ47rp"
      },
      "source": [
        "# Why do more loans in the lower grades get paid off earlier than the higher grades?\r\n",
        "# Higher interest rates put more pressure on the borrower?\r\n",
        "# Average loan amounts differ?"
      ],
      "execution_count": null,
      "outputs": []
    },
    {
      "cell_type": "code",
      "metadata": {
        "id": "SW3UswTH6J8I"
      },
      "source": [
        "plt.figure(figsize = (30,10))\r\n",
        "\r\n",
        "sns.boxplot(x = term36_fullypaid.grade,\r\n",
        "               y = term36_fullypaid.int_rate,\r\n",
        "               order = sorted(term36_fullypaid.grade.unique()))\r\n",
        "\r\n",
        "plt.show()"
      ],
      "execution_count": null,
      "outputs": []
    },
    {
      "cell_type": "code",
      "metadata": {
        "id": "eQshRG7O6nlc"
      },
      "source": [
        "plt.figure(figsize = (30,10))\r\n",
        "\r\n",
        "sns.boxplot(x = term36_fullypaid.grade,\r\n",
        "               y = term36_fullypaid.total_payment,\r\n",
        "               order = sorted(term36_fullypaid.grade.unique()))\r\n",
        "\r\n",
        "plt.title(\"Total Value of Fully Paid \\n 36-Month Loans\", fontsize = 30)\r\n",
        "plt.xticks(fontsize = 15)\r\n",
        "plt.yticks(fontsize = 15)\r\n",
        "plt.xlabel(\"Grade\", fontsize = 20)\r\n",
        "plt.ylabel(\"Installment times Term\", fontsize = 20)\r\n",
        "\r\n",
        "plt.show()"
      ],
      "execution_count": null,
      "outputs": []
    },
    {
      "cell_type": "code",
      "metadata": {
        "id": "cF5nlV9A7VYC"
      },
      "source": [
        "plt.figure(figsize = (30,10))\r\n",
        "\r\n",
        "sns.violinplot(x = term36_fullypaid.grade,\r\n",
        "               y = term36_fullypaid.total_payment,\r\n",
        "               order = sorted(term36_fullypaid.grade.unique()))\r\n",
        "\r\n",
        "plt.title(\"Total Value of Fully Paid \\n 36-Month Loans\", fontsize = 30)\r\n",
        "plt.xticks(fontsize = 15)\r\n",
        "plt.yticks(fontsize = 15)\r\n",
        "plt.xlabel(\"Grade\", fontsize = 20)\r\n",
        "plt.ylabel(\"Installment times Term\", fontsize = 20)\r\n",
        "\r\n",
        "plt.show()\r\n",
        "\r\n",
        "#The total value is inflated by the varied interest rates, therefore this can be misleading"
      ],
      "execution_count": null,
      "outputs": []
    },
    {
      "cell_type": "code",
      "metadata": {
        "id": "U2LtNQoPyQiS"
      },
      "source": [
        "term60_fullypaid = accepted.loc[(accepted.term == 60) & (accepted.loan_status == \"Fully Paid\")]\r\n",
        "term60_fullypaid"
      ],
      "execution_count": null,
      "outputs": []
    },
    {
      "cell_type": "code",
      "metadata": {
        "id": "FHofIh4Rzfiv"
      },
      "source": [
        "plt.figure(figsize = (30,10))\r\n",
        "\r\n",
        "sns.violinplot(x = term60_fullypaid.grade,\r\n",
        "               y = term60_fullypaid.loan_duration/30,\r\n",
        "               order = sorted(term36_fullypaid.grade.unique()))\r\n",
        "\r\n",
        "plt.title(\"Loan Duration for \\n 60-Month Loans\", fontsize = 30)\r\n",
        "plt.xticks(fontsize = 15)\r\n",
        "plt.yticks(fontsize = 15)\r\n",
        "plt.xlabel(\"Grade\", fontsize = 20)\r\n",
        "plt.ylabel(\"Loan Duration (Months)\", fontsize = 20)\r\n",
        "\r\n",
        "plt.show()"
      ],
      "execution_count": null,
      "outputs": []
    },
    {
      "cell_type": "code",
      "metadata": {
        "id": "u3xUrd98JUVc"
      },
      "source": [
        "plt.figure(figsize = (30,10))\r\n",
        "\r\n",
        "sns.violinplot(x = term60_fullypaid.grade,\r\n",
        "               y = term60_fullypaid.loan_amnt,\r\n",
        "               order = sorted(term60_fullypaid.grade.unique()))\r\n",
        "\r\n",
        "plt.title(\"Loan Amount for \\n 60-Month Loans\", fontsize = 30)\r\n",
        "plt.xticks(fontsize = 15)\r\n",
        "plt.yticks(fontsize = 15)\r\n",
        "plt.xlabel(\"Grade\", fontsize = 20)\r\n",
        "plt.ylabel(\"Loan Amount (US$)\", fontsize = 20)\r\n",
        "\r\n",
        "plt.show()"
      ],
      "execution_count": null,
      "outputs": []
    },
    {
      "cell_type": "code",
      "metadata": {
        "id": "qm9rQI090Gt1"
      },
      "source": [
        "plt.figure(figsize = (30,10))\r\n",
        "\r\n",
        "sns.boxplot(x = term36_fullypaid.grade,\r\n",
        "               y = term36_fullypaid.loan_amnt,\r\n",
        "               order = sorted(term36_fullypaid.grade.unique()))\r\n",
        "\r\n",
        "plt.title(\"Loan of Fully Paid \\n 36-Month Loans\", fontsize = 30)\r\n",
        "plt.xticks(fontsize = 15)\r\n",
        "plt.yticks(fontsize = 15)\r\n",
        "plt.xlabel(\"Grade\", fontsize = 20)\r\n",
        "plt.ylabel(\"Loan Amount\", fontsize = 20)\r\n",
        "\r\n",
        "plt.show()"
      ],
      "execution_count": null,
      "outputs": []
    },
    {
      "cell_type": "code",
      "metadata": {
        "id": "-cFW3y8nAyd5"
      },
      "source": [
        "plt.figure(figsize = (30,10))\r\n",
        "\r\n",
        "sns.violinplot(x = term36_fullypaid.grade,\r\n",
        "               y = term36_fullypaid.loan_amnt,\r\n",
        "               order = sorted(term36_fullypaid.grade.unique()))\r\n",
        "\r\n",
        "plt.title(\"Loan Amount of Fully Paid \\n 36-Month Loans\", fontsize = 30)\r\n",
        "plt.xticks(fontsize = 15)\r\n",
        "plt.yticks(fontsize = 15)\r\n",
        "plt.xlabel(\"Grade\", fontsize = 20)\r\n",
        "plt.ylabel(\"Loan Amount\", fontsize = 20)\r\n",
        "\r\n",
        "plt.show()"
      ],
      "execution_count": null,
      "outputs": []
    },
    {
      "cell_type": "markdown",
      "metadata": {
        "id": "F3zBBA6nN-0M"
      },
      "source": [
        "Profitability of the loan (Fully Paid): (total_pymnt - loan_amnt) / loan_amnt\r\n",
        "\r\n",
        "Gives percentage of principal returned as profit"
      ]
    },
    {
      "cell_type": "code",
      "metadata": {
        "id": "MXM9rOUwOfC8"
      },
      "source": [
        "# Return on investment\r\n",
        "term36_fullypaid[\"return_36\"] = 1 + ((term36_fullypaid.total_pymnt - term36_fullypaid.loan_amnt) / term36_fullypaid.loan_amnt)\r\n",
        "term60_fullypaid[\"return_60\"] = 1 + ((term60_fullypaid.total_pymnt - term60_fullypaid.loan_amnt) / term60_fullypaid.loan_amnt)\r\n",
        "print(term36_fullypaid.return_36)\r\n",
        "print(term60_fullypaid.return_60)"
      ],
      "execution_count": null,
      "outputs": []
    },
    {
      "cell_type": "code",
      "metadata": {
        "id": "21tJCP0gRQzX"
      },
      "source": [
        "plt.figure(figsize = (30,10))\r\n",
        "\r\n",
        "sns.boxenplot(x = term36_fullypaid.grade,\r\n",
        "              y = term36_fullypaid.return_36,\r\n",
        "              order = sorted(term36_fullypaid.grade.unique()),\r\n",
        "              palette = \"Blues\")\r\n",
        "\r\n",
        "plt.title(\"Profit Percentage of Fully Paid \\n 36-Month Loans\", fontsize = 30)\r\n",
        "plt.xticks(fontsize = 15)\r\n",
        "plt.yticks(fontsize = 15)\r\n",
        "plt.xlabel(\"Grade\", fontsize = 20)\r\n",
        "plt.ylabel(\"Profit Percentage\", fontsize = 20)\r\n",
        "\r\n",
        "plt.show()"
      ],
      "execution_count": null,
      "outputs": []
    },
    {
      "cell_type": "code",
      "metadata": {
        "id": "0SJ6hyNWUot6"
      },
      "source": [
        "plt.figure(figsize = (30,10))\r\n",
        "\r\n",
        "sns.boxenplot(x = term60_fullypaid.grade,\r\n",
        "              y = term60_fullypaid.return_60,\r\n",
        "              order = sorted(term36_fullypaid.grade.unique()),\r\n",
        "              palette = \"YlOrBr\")\r\n",
        "\r\n",
        "plt.title(\"Profit Percentage of Fully Paid \\n 60-Month Loans\", fontsize = 30)\r\n",
        "plt.xticks(fontsize = 15)\r\n",
        "plt.yticks(fontsize = 15)\r\n",
        "plt.xlabel(\"Grade\", fontsize = 20)\r\n",
        "plt.ylabel(\"Profit Percentage\", fontsize = 20)\r\n",
        "\r\n",
        "plt.show()"
      ],
      "execution_count": null,
      "outputs": []
    },
    {
      "cell_type": "code",
      "metadata": {
        "id": "Jsn8445hV1-6"
      },
      "source": [
        "# %%time\r\n",
        "# accepted.to_csv(\"/content/gdrive/MyDrive/NYC DSA Capstone Project/Data/accepted_2007_to_2018q4.csv/accepted.csv\")"
      ],
      "execution_count": null,
      "outputs": []
    },
    {
      "cell_type": "code",
      "metadata": {
        "id": "TkvHLYsY4aQs"
      },
      "source": [
        "term36_default_chargedoff = accepted.loc[(accepted.term == 36) & ((accepted.loan_status_trim == \"Default\") | (accepted.loan_status_trim == \"Charged Off\"))]\r\n",
        "term36_default_chargedoff"
      ],
      "execution_count": null,
      "outputs": []
    },
    {
      "cell_type": "code",
      "metadata": {
        "id": "RprQFOAe7akI"
      },
      "source": [
        "term36_default_chargedoff[\"profit\"] = 1 + ((term36_default_chargedoff.total_pymnt - term36_default_chargedoff.loan_amnt) / term36_default_chargedoff.loan_amnt)"
      ],
      "execution_count": null,
      "outputs": []
    },
    {
      "cell_type": "code",
      "metadata": {
        "id": "XvrFFuuv_A9H"
      },
      "source": [
        "plt.figure(figsize = (30,10))\r\n",
        "\r\n",
        "sns.boxenplot(x = term36_default_chargedoff.grade,\r\n",
        "              y = term36_default_chargedoff.profit,\r\n",
        "              order = sorted(term36_default_chargedoff.grade.unique()),\r\n",
        "              palette = \"YlOrBr\")\r\n",
        "\r\n",
        "plt.title(\"Profit Percentage of \\n Default or Charged Off \\n 36-Month Loans\", fontsize = 30)\r\n",
        "plt.xticks(fontsize = 15)\r\n",
        "plt.yticks(fontsize = 15)\r\n",
        "plt.xlabel(\"Grade\", fontsize = 20)\r\n",
        "plt.ylabel(\"Profit Percentage\", fontsize = 20)\r\n",
        "\r\n",
        "plt.show()"
      ],
      "execution_count": null,
      "outputs": []
    },
    {
      "cell_type": "code",
      "metadata": {
        "id": "vWl96dtPAASr"
      },
      "source": [
        "term60_default_chargedoff = accepted.loc[(accepted.term == 60) & ((accepted.loan_status_trim == \"Default\") | (accepted.loan_status_trim == \"Charged Off\"))]\r\n",
        "term60_default_chargedoff"
      ],
      "execution_count": null,
      "outputs": []
    },
    {
      "cell_type": "code",
      "metadata": {
        "id": "oaErrVUWAF2R"
      },
      "source": [
        "term60_default_chargedoff[\"profit\"] = 1 + ((term60_default_chargedoff.total_pymnt - term60_default_chargedoff.loan_amnt) / term60_default_chargedoff.loan_amnt)"
      ],
      "execution_count": null,
      "outputs": []
    },
    {
      "cell_type": "code",
      "metadata": {
        "id": "3aIX0L2uARRI"
      },
      "source": [
        "plt.figure(figsize = (30,10))\r\n",
        "\r\n",
        "sns.boxenplot(x = term60_default_chargedoff.grade,\r\n",
        "              y = term60_default_chargedoff.profit,\r\n",
        "              order = sorted(term60_default_chargedoff.grade.unique()),\r\n",
        "              palette = \"Greens\")\r\n",
        "\r\n",
        "plt.title(\"Profit Percentage of \\n Default or Charged Off \\n 60-Month Loans\", fontsize = 30)\r\n",
        "plt.xticks(fontsize = 15)\r\n",
        "plt.yticks(fontsize = 15)\r\n",
        "plt.xlabel(\"Grade\", fontsize = 20)\r\n",
        "plt.ylabel(\"Profit Percentage\", fontsize = 20)\r\n",
        "\r\n",
        "plt.show()"
      ],
      "execution_count": null,
      "outputs": []
    },
    {
      "cell_type": "code",
      "metadata": {
        "id": "1mlsdAfCBgWX"
      },
      "source": [
        "plt.figure(figsize = (30,10))\r\n",
        "\r\n",
        "sns.violinplot(x = term36_default_chargedoff.grade,\r\n",
        "               y = term36_default_chargedoff.loan_amnt,\r\n",
        "               order = sorted(term36_default_chargedoff.grade.unique()))\r\n",
        "\r\n",
        "plt.title(\"Loan Amount of \\n Default or Charged Off \\n 36-Month Loans\", fontsize = 30)\r\n",
        "plt.xticks(fontsize = 15)\r\n",
        "plt.yticks(fontsize = 15)\r\n",
        "plt.xlabel(\"Grade\", fontsize = 20)\r\n",
        "plt.ylabel(\"Loan Amount\", fontsize = 20)\r\n",
        "\r\n",
        "plt.show()"
      ],
      "execution_count": null,
      "outputs": []
    },
    {
      "cell_type": "code",
      "metadata": {
        "id": "dm9zInscCDti"
      },
      "source": [
        "plt.figure(figsize = (30,10))\r\n",
        "\r\n",
        "sns.violinplot(x = term60_default_chargedoff.grade,\r\n",
        "               y = term60_default_chargedoff.loan_amnt,\r\n",
        "               order = sorted(term60_default_chargedoff.grade.unique()))\r\n",
        "\r\n",
        "plt.title(\"Loan Amount of \\n Default or Charged Off \\n 60-Month Loans\", fontsize = 30)\r\n",
        "plt.xticks(fontsize = 15)\r\n",
        "plt.yticks(fontsize = 15)\r\n",
        "plt.xlabel(\"Grade\", fontsize = 20)\r\n",
        "plt.ylabel(\"Loan Amount\", fontsize = 20)\r\n",
        "\r\n",
        "plt.show()"
      ],
      "execution_count": null,
      "outputs": []
    },
    {
      "cell_type": "code",
      "metadata": {
        "id": "YEYISsYSDjb8"
      },
      "source": [
        "plt.figure(figsize = (30,10))\r\n",
        "\r\n",
        "sns.violinplot(x = term36_fullypaid.grade,\r\n",
        "               y = term36_fullypaid.annual_inc_joint,\r\n",
        "               order = sorted(term36_fullypaid.grade.unique()))\r\n",
        "\r\n",
        "plt.title(\"Annual Joint Income of \\n Fully Paid \\n 36-Month Loans\", fontsize = 30)\r\n",
        "plt.xticks(fontsize = 15)\r\n",
        "plt.yticks(fontsize = 15)\r\n",
        "plt.xlabel(\"Grade\", fontsize = 20)\r\n",
        "plt.ylabel(\"Annual Joint Income (Millions)\", fontsize = 20)\r\n",
        "\r\n",
        "plt.show()"
      ],
      "execution_count": null,
      "outputs": []
    },
    {
      "cell_type": "code",
      "metadata": {
        "id": "4U0wVv3hE4Zn"
      },
      "source": [
        "plt.figure(figsize = (30,10))\r\n",
        "\r\n",
        "sns.boxplot(x = term36_fullypaid.grade,\r\n",
        "               y = term36_fullypaid.annual_inc_joint,\r\n",
        "               order = sorted(term36_fullypaid.grade.unique()))\r\n",
        "\r\n",
        "plt.title(\"Annual Joint Income of \\n Fully Paid \\n 36-Month Loans\", fontsize = 30)\r\n",
        "plt.xticks(fontsize = 15)\r\n",
        "plt.yticks(fontsize = 15)\r\n",
        "plt.xlabel(\"Grade\", fontsize = 20)\r\n",
        "plt.ylabel(\"Annual Joint Income (Millions)\", fontsize = 20)\r\n",
        "\r\n",
        "plt.show()"
      ],
      "execution_count": null,
      "outputs": []
    },
    {
      "cell_type": "code",
      "metadata": {
        "id": "azRb5fVaFMld"
      },
      "source": [
        "np.mean(accepted.annual_inc_joint.isnull())"
      ],
      "execution_count": null,
      "outputs": []
    },
    {
      "cell_type": "code",
      "metadata": {
        "id": "cnBKh1GcGgST"
      },
      "source": [
        "accepted[[\"annual_inc\", \"annual_inc_joint\"]]"
      ],
      "execution_count": null,
      "outputs": []
    },
    {
      "cell_type": "code",
      "metadata": {
        "id": "fdJpfBPVGyQr"
      },
      "source": [
        "np.mean(accepted.annual_inc == accepted.annual_inc_joint)"
      ],
      "execution_count": null,
      "outputs": []
    },
    {
      "cell_type": "markdown",
      "metadata": {
        "id": "g0ZfLpLXHCIk"
      },
      "source": [
        "Impute missing values in Annual Joint Income (annual_inc_joint)\r\n",
        "If missing, impute annual_inc"
      ]
    },
    {
      "cell_type": "code",
      "metadata": {
        "id": "GOLb1Z9nJt6B"
      },
      "source": [
        "math.isnan(accepted.annual_inc_joint[0])"
      ],
      "execution_count": null,
      "outputs": []
    },
    {
      "cell_type": "code",
      "metadata": {
        "id": "B2RixGh3HdaF"
      },
      "source": [
        "# %%time\r\n",
        "# accepted[\"annual_inc_joint\"] = accepted[[\"annual_inc\", \"annual_inc_joint\"]].apply(max, axis = 1)\r\n",
        "# accepted[\"annual_inc_joint\"]"
      ],
      "execution_count": null,
      "outputs": []
    },
    {
      "cell_type": "code",
      "metadata": {
        "id": "zvyCl2DaPhxe"
      },
      "source": [
        "# %%time\r\n",
        "# accepted.to_csv(\"/content/gdrive/MyDrive/NYC DSA Capstone Project/Data/accepted_2007_to_2018q4.csv/accepted.csv\")"
      ],
      "execution_count": null,
      "outputs": []
    },
    {
      "cell_type": "code",
      "metadata": {
        "id": "oQ13xOn3R6vc"
      },
      "source": [
        "terminated36 = accepted.loc[(accepted.term == 36) & ((accepted.loan_status == \"Default\") | (accepted.loan_status == \"Charged Off\") | (accepted.loan_status == \"Fully Paid\"))]\r\n",
        "terminated36"
      ],
      "execution_count": null,
      "outputs": []
    },
    {
      "cell_type": "code",
      "metadata": {
        "id": "1_AKjS8VXuJt"
      },
      "source": [
        "terminated36[\"profit\"] = 1 + ((terminated36.total_pymnt - terminated36.loan_amnt) / terminated36.loan_amnt)\r\n",
        "terminated36[\"profit\"]"
      ],
      "execution_count": null,
      "outputs": []
    },
    {
      "cell_type": "code",
      "metadata": {
        "id": "8vEOolDbY3yG"
      },
      "source": [
        "plt.figure(figsize = (30,10))\r\n",
        "\r\n",
        "sns.violinplot(x = terminated36.grade,\r\n",
        "              y = terminated36.profit,\r\n",
        "              order = sorted(terminated36.grade.unique()),\r\n",
        "              palette = \"Reds\")\r\n",
        "\r\n",
        "plt.title(\"Profit Percentage of \\n Terminated \\n 36-Month Loans\", fontsize = 30)\r\n",
        "plt.xticks(fontsize = 15)\r\n",
        "plt.yticks(fontsize = 15)\r\n",
        "plt.xlabel(\"Grade\", fontsize = 20)\r\n",
        "plt.ylabel(\"Profit Percentage\", fontsize = 20)\r\n",
        "\r\n",
        "plt.show()"
      ],
      "execution_count": null,
      "outputs": []
    },
    {
      "cell_type": "code",
      "metadata": {
        "id": "uYrY3eIdZi0L"
      },
      "source": [
        "terminated60 = accepted.loc[(accepted.term == 60) & ((accepted.loan_status == \"Default\") | (accepted.loan_status == \"Charged Off\") | (accepted.loan_status == \"Fully Paid\"))]\r\n",
        "terminated60"
      ],
      "execution_count": null,
      "outputs": []
    },
    {
      "cell_type": "code",
      "metadata": {
        "id": "IpvAfqD_Z9jq"
      },
      "source": [
        "terminated60[\"profit\"] = 1 + ((terminated60.total_pymnt - terminated60.loan_amnt) / terminated60.loan_amnt)\r\n",
        "terminated60[\"profit\"]"
      ],
      "execution_count": null,
      "outputs": []
    },
    {
      "cell_type": "code",
      "metadata": {
        "id": "UkNJhluyaMLp"
      },
      "source": [
        "plt.figure(figsize = (30,10))\r\n",
        "\r\n",
        "sns.violinplot(x = terminated60.grade,\r\n",
        "              y = terminated60.profit,\r\n",
        "              order = sorted(terminated60.grade.unique()),\r\n",
        "              palette = \"Purples\")\r\n",
        "\r\n",
        "plt.title(\"Profit Percentage of \\n Terminated \\n 60-Month Loans\", fontsize = 30)\r\n",
        "plt.xticks(fontsize = 15)\r\n",
        "plt.yticks(fontsize = 15)\r\n",
        "plt.xlabel(\"Grade\", fontsize = 20)\r\n",
        "plt.ylabel(\"Profit Percentage\", fontsize = 20)\r\n",
        "\r\n",
        "plt.show()"
      ],
      "execution_count": null,
      "outputs": []
    },
    {
      "cell_type": "code",
      "metadata": {
        "id": "xPuPexUeaau4"
      },
      "source": [
        "plt.figure(figsize = (30,10))\r\n",
        "\r\n",
        "sns.scatterplot(term36_fullypaid.loan_duration,\r\n",
        "                term36_fullypaid.loan_amnt)\r\n",
        "\r\n",
        "plt.show()"
      ],
      "execution_count": null,
      "outputs": []
    },
    {
      "cell_type": "code",
      "metadata": {
        "id": "dsB1Yidj1rqa"
      },
      "source": [
        "plt.figure(figsize = (30,10))\r\n",
        "\r\n",
        "sns.scatterplot(term60_fullypaid.loan_duration,\r\n",
        "                term60_fullypaid.loan_amnt)\r\n",
        "\r\n",
        "plt.show()"
      ],
      "execution_count": null,
      "outputs": []
    },
    {
      "cell_type": "code",
      "metadata": {
        "id": "JP8eTM8M3M26"
      },
      "source": [
        "accepted.settlement_status.unique()"
      ],
      "execution_count": null,
      "outputs": []
    },
    {
      "cell_type": "code",
      "metadata": {
        "id": "-WX9lCIeeSJd"
      },
      "source": [
        "term36_complete = accepted.loc[(accepted.term == 36) & (accepted.settlement_status == \"COMPLETE\")]\r\n",
        "term36_complete"
      ],
      "execution_count": null,
      "outputs": []
    },
    {
      "cell_type": "code",
      "metadata": {
        "id": "3H02GEYRft6v"
      },
      "source": [
        "term36_complete[\"profit\"] = 1 + ((term36_complete.total_pymnt - term36_complete.loan_amnt) / term36_complete.loan_amnt)\r\n",
        "term36_complete[\"profit\"]"
      ],
      "execution_count": null,
      "outputs": []
    },
    {
      "cell_type": "code",
      "metadata": {
        "id": "Ob1fHC_ffYhQ"
      },
      "source": [
        "plt.figure(figsize = (30,10))\r\n",
        "\r\n",
        "sns.boxenplot(term36_complete.grade,\r\n",
        "              term36_complete.profit,\r\n",
        "              order = sorted(term36_complete.grade.unique()))\r\n",
        "\r\n",
        "plt.title(\"Profit Percentage of \\n Completed Settlements for \\n 36-Month Loans\", fontsize = 30)\r\n",
        "plt.xticks(fontsize = 15)\r\n",
        "plt.yticks(fontsize = 15)\r\n",
        "plt.xlabel(\"Grade\", fontsize = 20)\r\n",
        "plt.ylabel(\"Profit Percentage\", fontsize = 20)\r\n",
        "\r\n",
        "plt.show()"
      ],
      "execution_count": null,
      "outputs": []
    },
    {
      "cell_type": "code",
      "metadata": {
        "id": "dwDgrFiViJ7-"
      },
      "source": [
        "term36_broken = accepted.loc[(accepted.term == 36) & (accepted.settlement_status == \"BROKEN\")]\r\n",
        "term36_broken"
      ],
      "execution_count": null,
      "outputs": []
    },
    {
      "cell_type": "code",
      "metadata": {
        "id": "2i3a3HzGiPyz"
      },
      "source": [
        "term36_broken[\"profit\"] = 1 + ((term36_broken.total_pymnt - term36_broken.loan_amnt) / term36_broken.loan_amnt)\r\n",
        "term36_broken[\"profit\"]"
      ],
      "execution_count": null,
      "outputs": []
    },
    {
      "cell_type": "code",
      "metadata": {
        "id": "Y5VSEMtMigcF"
      },
      "source": [
        "plt.figure(figsize = (30,10))\r\n",
        "\r\n",
        "sns.boxenplot(term36_broken.grade,\r\n",
        "              term36_broken.profit,\r\n",
        "              order = sorted(term36_broken.grade.unique()))\r\n",
        "\r\n",
        "plt.title(\"Profit Percentage of \\n Broken Settlements for \\n 36-Month Loans\", fontsize = 30)\r\n",
        "plt.xticks(fontsize = 15)\r\n",
        "plt.yticks(fontsize = 15)\r\n",
        "plt.xlabel(\"Grade\", fontsize = 20)\r\n",
        "plt.ylabel(\"Profit Percentage\", fontsize = 20)\r\n",
        "\r\n",
        "plt.show()"
      ],
      "execution_count": null,
      "outputs": []
    },
    {
      "cell_type": "code",
      "metadata": {
        "id": "VPQV-P-ni0x9"
      },
      "source": [
        "term60_complete = accepted.loc[(accepted.term == 60) & (accepted.settlement_status == \"COMPLETE\")]\r\n",
        "term60_complete"
      ],
      "execution_count": null,
      "outputs": []
    },
    {
      "cell_type": "code",
      "metadata": {
        "id": "9IuiCjVWi_UZ"
      },
      "source": [
        "term60_complete[\"profit\"] = 1 + ((term60_complete.total_pymnt - term60_complete.loan_amnt) / term60_complete.loan_amnt)\r\n",
        "term60_complete[\"profit\"]"
      ],
      "execution_count": null,
      "outputs": []
    },
    {
      "cell_type": "code",
      "metadata": {
        "id": "0vCKf8EgknC_"
      },
      "source": [
        "plt.figure(figsize = (30,10))\r\n",
        "\r\n",
        "sns.violinplot(term60_complete.grade,\r\n",
        "              term60_complete.profit,\r\n",
        "              order = sorted(term60_complete.grade.unique()))\r\n",
        "\r\n",
        "plt.title(\"Profit Percentage of \\n Complete Settlements for \\n 60-Month Loans\", fontsize = 30)\r\n",
        "plt.xticks(fontsize = 15)\r\n",
        "plt.yticks(fontsize = 15)\r\n",
        "plt.xlabel(\"Grade\", fontsize = 20)\r\n",
        "plt.ylabel(\"Profit Percentage\", fontsize = 20)\r\n",
        "\r\n",
        "plt.show()"
      ],
      "execution_count": null,
      "outputs": []
    },
    {
      "cell_type": "code",
      "metadata": {
        "id": "yRlXY8idlBJx"
      },
      "source": [
        "term60_broken = accepted.loc[(accepted.term == 60) & (accepted.settlement_status == \"BROKEN\")]\r\n",
        "term60_broken"
      ],
      "execution_count": null,
      "outputs": []
    },
    {
      "cell_type": "code",
      "metadata": {
        "id": "JwI-IURDlOTe"
      },
      "source": [
        "term60_broken[\"profit\"] = 1 + ((term60_broken.total_pymnt - term60_broken.loan_amnt) / term60_broken.loan_amnt)\r\n",
        "term60_broken[\"profit\"]"
      ],
      "execution_count": null,
      "outputs": []
    },
    {
      "cell_type": "code",
      "metadata": {
        "id": "2chKV-2GlWyn"
      },
      "source": [
        "plt.figure(figsize = (30,10))\r\n",
        "\r\n",
        "sns.violinplot(term60_broken.grade,\r\n",
        "              term60_broken.profit,\r\n",
        "              order = sorted(term60_broken.grade.unique()))\r\n",
        "\r\n",
        "plt.title(\"Profit Percentage of \\n Broken Settlements for \\n 60-Month Loans\", fontsize = 30)\r\n",
        "plt.xticks(fontsize = 15)\r\n",
        "plt.yticks(fontsize = 15)\r\n",
        "plt.xlabel(\"Grade\", fontsize = 20)\r\n",
        "plt.ylabel(\"Profit Percentage\", fontsize = 20)\r\n",
        "\r\n",
        "plt.show()"
      ],
      "execution_count": null,
      "outputs": []
    },
    {
      "cell_type": "code",
      "metadata": {
        "id": "gYh2onRUmd5C"
      },
      "source": [
        "# Why did people break their settlement plans?\r\n",
        "\r\n",
        "settlement36 = pd.DataFrame(term36.groupby([\"settlement_status\", \"hardship_reason\"])[\"id\"].count())#.sort_values(by = \"id\", ascending = False).reset_index()\r\n",
        "settlement36 = settlement36.rename(columns = {\"id\":\"count\"})\r\n",
        "settlement36[\"count\"] = settlement36[\"count\"] / sum(settlement36[\"count\"])\r\n",
        "settlement36"
      ],
      "execution_count": null,
      "outputs": []
    },
    {
      "cell_type": "code",
      "metadata": {
        "id": "S4Hs4-tYmltZ"
      },
      "source": [
        "term60 = accepted[accepted.term == 60.0]\r\n",
        "term60"
      ],
      "execution_count": null,
      "outputs": []
    },
    {
      "cell_type": "code",
      "metadata": {
        "id": "4lBw-g6Un8mS"
      },
      "source": [
        "settlement60 = pd.DataFrame(term60.groupby([\"settlement_status\", \"hardship_reason\"])[\"id\"].count()).sort_values(by = \"id\", ascending = False)\r\n",
        "settlement60"
      ],
      "execution_count": null,
      "outputs": []
    },
    {
      "cell_type": "code",
      "metadata": {
        "id": "uufC4T0jpMjk"
      },
      "source": [
        "term36_broken[\"hardship_reason\"].count()"
      ],
      "execution_count": null,
      "outputs": []
    },
    {
      "cell_type": "markdown",
      "metadata": {
        "id": "euLp9UoSp8OM"
      },
      "source": [
        "We need to focus on attributes of applicants that we can know before they are accepted/rejected."
      ]
    },
    {
      "cell_type": "code",
      "metadata": {
        "id": "_YvhEkjsqKfs"
      },
      "source": [
        "plt.figure(figsize = (30,10))\r\n",
        "\r\n",
        "sns.boxplot(term36_broken.purpose,\r\n",
        "            term36_broken.profit,\r\n",
        "            order = term36_broken.groupby([\"purpose\"])[\"profit\"].median().sort_values(ascending = False).index)\r\n",
        "\r\n",
        "plt.title(\"Profit Percentage of \\n Broken Settlements for \\n 36-Month Loans\", fontsize = 30)\r\n",
        "plt.xticks(fontsize = 15, rotation = 30)\r\n",
        "plt.yticks(fontsize = 15)\r\n",
        "plt.xlabel(\"Purpose\", fontsize = 20)\r\n",
        "plt.ylabel(\"Profit Percentage\", fontsize = 20)\r\n",
        "\r\n",
        "plt.show()"
      ],
      "execution_count": null,
      "outputs": []
    },
    {
      "cell_type": "code",
      "metadata": {
        "id": "9dLh5GGhresr"
      },
      "source": [
        "term36_broken.groupby([\"purpose\"])[\"profit\"].median().sort_values(ascending = False).index"
      ],
      "execution_count": null,
      "outputs": []
    },
    {
      "cell_type": "code",
      "metadata": {
        "id": "6TjZ_NC5sNDO"
      },
      "source": [
        "term60_broken.groupby([\"purpose\"])[\"profit\"].median().sort_values(ascending = False).index"
      ],
      "execution_count": null,
      "outputs": []
    },
    {
      "cell_type": "code",
      "metadata": {
        "id": "wcF1PKIUsLUr"
      },
      "source": [
        "plt.figure(figsize = (30,10))\r\n",
        "\r\n",
        "sns.boxplot(term60_broken.purpose,\r\n",
        "            term60_broken.profit,\r\n",
        "            order = term60_broken.groupby([\"purpose\"])[\"profit\"].median().sort_values(ascending = False).index)\r\n",
        "\r\n",
        "plt.title(\"Profit Percentage of \\n Broken Settlements for \\n 60-Month Loans\", fontsize = 30)\r\n",
        "plt.xticks(fontsize = 15, rotation = 30)\r\n",
        "plt.yticks(fontsize = 15)\r\n",
        "plt.xlabel(\"Purpose\", fontsize = 20)\r\n",
        "plt.ylabel(\"Profit Percentage\", fontsize = 20)\r\n",
        "\r\n",
        "plt.show()"
      ],
      "execution_count": null,
      "outputs": []
    },
    {
      "cell_type": "code",
      "metadata": {
        "id": "jy6vM2u3sq0s"
      },
      "source": [
        "term36_complete.groupby([\"purpose\"])[\"profit\"].median().sort_values(ascending = False).index"
      ],
      "execution_count": null,
      "outputs": []
    },
    {
      "cell_type": "code",
      "metadata": {
        "id": "RzYMcSrus37r"
      },
      "source": [
        "plt.figure(figsize = (30,10))\r\n",
        "\r\n",
        "sns.boxplot(term36_complete.purpose,\r\n",
        "            term36_complete.profit,\r\n",
        "            order = term36_complete.groupby([\"purpose\"])[\"profit\"].median().sort_values(ascending = False).index)\r\n",
        "\r\n",
        "plt.title(\"Profit Percentage of \\n Complete Settlements for \\n 36-Month Loans\", fontsize = 30)\r\n",
        "plt.xticks(fontsize = 15, rotation = 30)\r\n",
        "plt.yticks(fontsize = 15)\r\n",
        "plt.xlabel(\"Purpose\", fontsize = 20)\r\n",
        "plt.ylabel(\"Profit Percentage\", fontsize = 20)\r\n",
        "\r\n",
        "plt.show()"
      ],
      "execution_count": null,
      "outputs": []
    },
    {
      "cell_type": "code",
      "metadata": {
        "id": "H525KzssuqPJ"
      },
      "source": [
        "term60_complete.groupby([\"purpose\"])[\"profit\"].median().sort_values(ascending = False).index"
      ],
      "execution_count": null,
      "outputs": []
    },
    {
      "cell_type": "code",
      "metadata": {
        "id": "pvl3mNO4u1Wb"
      },
      "source": [
        "plt.figure(figsize = (30,10))\r\n",
        "\r\n",
        "sns.boxplot(term60_complete.purpose,\r\n",
        "            term60_complete.profit,\r\n",
        "            order = term60_complete.groupby([\"purpose\"])[\"profit\"].median().sort_values(ascending = False).index)\r\n",
        "\r\n",
        "plt.title(\"Profit Percentage of \\n Complete Settlements for \\n 60-Month Loans\", fontsize = 30)\r\n",
        "plt.xticks(fontsize = 15, rotation = 30)\r\n",
        "plt.yticks(fontsize = 15)\r\n",
        "plt.xlabel(\"Purpose\", fontsize = 20)\r\n",
        "plt.ylabel(\"Profit Percentage\", fontsize = 20)\r\n",
        "\r\n",
        "plt.show()"
      ],
      "execution_count": null,
      "outputs": []
    },
    {
      "cell_type": "code",
      "metadata": {
        "id": "8dVKuMs-vR1-"
      },
      "source": [
        "# Explore debt consolidation\r\n",
        "\r\n",
        "term36broken_debt = term36_broken.loc[term36_broken.purpose == \"debt_consolidation\"]\r\n",
        "term36broken_debt"
      ],
      "execution_count": null,
      "outputs": []
    },
    {
      "cell_type": "code",
      "metadata": {
        "id": "6NMmFRCAxCsh"
      },
      "source": [
        "plt.figure(figsize = (30,10))\r\n",
        "\r\n",
        "sns.boxplot(term36broken_debt.grade,\r\n",
        "            term36broken_debt.profit,\r\n",
        "            order = sorted(term36broken_debt.grade.unique()))\r\n",
        "\r\n",
        "plt.title(\"Profit Percentage of \\n Broken Settlements for \\n 36-Month Loans \\n (Debt Consolidation)\", fontsize = 30)\r\n",
        "plt.xticks(fontsize = 15)\r\n",
        "plt.yticks(fontsize = 15)\r\n",
        "plt.xlabel(\"Grade\", fontsize = 20)\r\n",
        "plt.ylabel(\"Profit Percentage\", fontsize = 20)\r\n",
        "\r\n",
        "plt.show()"
      ],
      "execution_count": null,
      "outputs": []
    },
    {
      "cell_type": "code",
      "metadata": {
        "id": "lx2pzBKxylfO"
      },
      "source": [
        "# What are the chances that someone with a grade G loan will go into settlement?\r\n",
        "\r\n",
        "gradeG = accepted.loc[accepted.grade == \"G\"]\r\n",
        "gradeG"
      ],
      "execution_count": null,
      "outputs": []
    },
    {
      "cell_type": "code",
      "metadata": {
        "id": "NqPHG0Bq0W-v"
      },
      "source": [
        "len(gradeG.loc[(gradeG.settlement_status == \"BROKEN\") | (gradeG.settlement_status == \"COMPLETE\")]) / len(gradeG)\r\n",
        "#Only 2% of Grade G go into settlement"
      ],
      "execution_count": null,
      "outputs": []
    },
    {
      "cell_type": "code",
      "metadata": {
        "id": "v59PwnNt1Xbk"
      },
      "source": [
        "len(gradeG.loc[(gradeG.loan_status == \"Default\") | (gradeG.loan_status == \"Charged Off\")]) / len(gradeG)\r\n",
        "#38% of Grade G go into default or worse"
      ],
      "execution_count": null,
      "outputs": []
    },
    {
      "cell_type": "code",
      "metadata": {
        "id": "jLC1royM28sp"
      },
      "source": [
        "len(gradeG.loc[((gradeG.loan_status == \"Default\") | (gradeG.loan_status == \"Charged Off\")) & (gradeG.purpose == \"debt_consolidation\")]) / len(gradeG)\r\n",
        "#24% of Grade G go into default or worse"
      ],
      "execution_count": null,
      "outputs": []
    },
    {
      "cell_type": "code",
      "metadata": {
        "id": "Bd9hrM-u2ktL"
      },
      "source": [
        "# Profit margins for greade G\r\n",
        "\r\n",
        "gradeG[\"profit\"] = 1 + ((gradeG.total_pymnt - gradeG.loan_amnt) / gradeG.loan_amnt)\r\n",
        "gradeG[\"profit\"]"
      ],
      "execution_count": null,
      "outputs": []
    },
    {
      "cell_type": "code",
      "metadata": {
        "id": "1WBnxrbI3wqf"
      },
      "source": [
        "(gradeG.groupby([\"purpose\"])[\"profit\"].median()).sort_values().index"
      ],
      "execution_count": null,
      "outputs": []
    },
    {
      "cell_type": "code",
      "metadata": {
        "id": "tOZfWtKi4KHL"
      },
      "source": [
        "plt.figure(figsize = (30,10))\r\n",
        "\r\n",
        "sns.boxplot(gradeG.loc[(gradeG.loan_status == \"Default\") | (gradeG.loan_status == \"Charged Off\")].purpose,\r\n",
        "            gradeG.loc[(gradeG.loan_status == \"Default\") | (gradeG.loan_status == \"Charged Off\")].profit,\r\n",
        "            order = (gradeG.loc[(gradeG.loan_status == \"Default\") | (gradeG.loan_status == \"Charged Off\")].groupby([\"purpose\"])[\"profit\"].median()).sort_values().index)\r\n",
        "\r\n",
        "plt.title(\"Profit Percentage of \\n Grade G Loans \\n By Purpose \\n (Default or Charged Off)\", fontsize = 30)\r\n",
        "plt.xticks(fontsize = 15, rotation = 15)\r\n",
        "plt.yticks(fontsize = 15)\r\n",
        "plt.xlabel(\"Purpose\", fontsize = 20)\r\n",
        "plt.ylabel(\"Profit Percentage\", fontsize = 20)\r\n",
        "\r\n",
        "plt.show()"
      ],
      "execution_count": null,
      "outputs": []
    },
    {
      "cell_type": "code",
      "metadata": {
        "id": "HNiSuMd-yJQt"
      },
      "source": [
        "term60broken_debt = term60_broken.loc[term60_broken.purpose == \"debt_consolidation\"]\r\n",
        "term60broken_debt"
      ],
      "execution_count": null,
      "outputs": []
    },
    {
      "cell_type": "code",
      "metadata": {
        "id": "dmtcFVg_yOKi"
      },
      "source": [
        "plt.figure(figsize = (30,10))\r\n",
        "\r\n",
        "sns.boxplot(term36broken_debt.grade,\r\n",
        "            term36broken_debt.profit,\r\n",
        "            order = sorted(term36broken_debt.grade.unique()))\r\n",
        "\r\n",
        "plt.title(\"Profit Percentage of \\n Broken Settlements for \\n 36-Month Loans \\n (Debt Consolidation)\", fontsize = 30)\r\n",
        "plt.xticks(fontsize = 15)\r\n",
        "plt.yticks(fontsize = 15)\r\n",
        "plt.xlabel(\"Grade\", fontsize = 20)\r\n",
        "plt.ylabel(\"Profit Percentage\", fontsize = 20)\r\n",
        "\r\n",
        "plt.show()"
      ],
      "execution_count": null,
      "outputs": []
    },
    {
      "cell_type": "code",
      "metadata": {
        "id": "odeg8LOsAFPs"
      },
      "source": [
        "# Look at profit over the years\r\n",
        "\r\n",
        "accepted[\"profit\"] = 1 + ((accepted.total_pymnt - accepted.loan_amnt) / accepted.loan_amnt)"
      ],
      "execution_count": null,
      "outputs": []
    },
    {
      "cell_type": "code",
      "metadata": {
        "id": "kJhfBvqGzn5n"
      },
      "source": [
        "# %%time\r\n",
        "# accepted.to_csv(\"/content/gdrive/MyDrive/NYC DSA Capstone Project/Data/accepted_2007_to_2018q4.csv/accepted.csv\")"
      ],
      "execution_count": null,
      "outputs": []
    },
    {
      "cell_type": "code",
      "metadata": {
        "id": "JtnYPgScykSm"
      },
      "source": [
        "plt.figure(figsize = (30,10))\r\n",
        "\r\n",
        "sns.boxplot(accepted.issue_year,\r\n",
        "             accepted.profit)\r\n",
        "\r\n",
        "plt.title(\"Profit Ratio Over the Years\", fontsize = 30)\r\n",
        "plt.xticks(fontsize = 15)\r\n",
        "plt.yticks(fontsize = 15)\r\n",
        "plt.xlabel(\"Year\", fontsize = 20)\r\n",
        "plt.ylabel(\"Profit\", fontsize = 20)\r\n",
        "\r\n",
        "plt.show()"
      ],
      "execution_count": null,
      "outputs": []
    },
    {
      "cell_type": "code",
      "metadata": {
        "id": "hJI9kz29_ckG"
      },
      "source": [
        "plt.figure(figsize = (30,10))\r\n",
        "\r\n",
        "sns.lineplot(accepted.loan_duration/30,\r\n",
        "                accepted.profit)\r\n",
        "\r\n",
        "plt.title(\"Profit Ratio by Loan Duration\", fontsize = 30)\r\n",
        "plt.xticks(fontsize = 15)\r\n",
        "plt.yticks(fontsize = 15)\r\n",
        "plt.xlabel(\"Duration\", fontsize = 20)\r\n",
        "plt.ylabel(\"Profit\", fontsize = 20)\r\n",
        "\r\n",
        "plt.show()"
      ],
      "execution_count": null,
      "outputs": []
    },
    {
      "cell_type": "code",
      "metadata": {
        "id": "UEwiLjFPRXhW"
      },
      "source": [
        "plt.figure(figsize = (30,10))\r\n",
        "\r\n",
        "sns.boxenplot(accepted.grade,\r\n",
        "             accepted.profit,\r\n",
        "             order = sorted(accepted.grade.unique()))\r\n",
        "\r\n",
        "plt.title(\"Profit Ratio by Grade\", fontsize = 30)\r\n",
        "plt.xticks(fontsize = 15)\r\n",
        "plt.yticks(fontsize = 15)\r\n",
        "plt.xlabel(\"Grade\", fontsize = 20)\r\n",
        "plt.ylabel(\"Profit\", fontsize = 20)\r\n",
        "\r\n",
        "plt.show()"
      ],
      "execution_count": null,
      "outputs": []
    },
    {
      "cell_type": "markdown",
      "metadata": {
        "id": "1WgBcU9_3SQB"
      },
      "source": [
        "Imputation for model"
      ]
    },
    {
      "cell_type": "code",
      "metadata": {
        "id": "BrG9MgeM3YfO"
      },
      "source": [
        "potential_features = accepted[[\"addr_state\", \"annual_inc_joint\", \"application_type\", \"dti\", \"earliest_cr_line\", \"emp_length\", \"fico_range_high\", \"fico_range_low\", \"funded_amnt\", \r\n",
        "                               \"home_ownership\", \"inq_fi\", \"inq_last_12m\", \"installment\", \"int_rate\", \"loan_amnt\", \"open_acc\", \"pub_rec\", \"pub_rec_bankruptcies\", \"title\", \"zip_code\", \r\n",
        "                               \"total_acc\", \"revol_bal\", \"revol_util\", \"delinq_amnt\", \"delinq_2yrs\", \"mths_since_last_delinq\", \"mths_since_last_major_derog\"]]"
      ],
      "execution_count": null,
      "outputs": []
    },
    {
      "cell_type": "code",
      "metadata": {
        "id": "rK9sNtdj8KTw"
      },
      "source": [
        "potential_features"
      ],
      "execution_count": null,
      "outputs": []
    },
    {
      "cell_type": "code",
      "metadata": {
        "id": "9Mu5v7oS8SX_"
      },
      "source": [
        "potential_features.isnull().sum(axis = 0)"
      ],
      "execution_count": null,
      "outputs": []
    },
    {
      "cell_type": "code",
      "metadata": {
        "id": "Fm8InecuCiF7"
      },
      "source": [
        "accepted[[\"dti\", \"dti_joint\"]]"
      ],
      "execution_count": null,
      "outputs": []
    },
    {
      "cell_type": "code",
      "metadata": {
        "id": "rE7Mbv50Dp2o"
      },
      "source": [
        "median_dti_by_subgrade = pd.DataFrame(accepted.groupby(\"sub_grade\")[\"dti\"].median()).reset_index()\r\n",
        "median_dti_by_subgrade = median_dti_by_subgrade.rename(columns = {\"dti\":\"median_dti\"})\r\n",
        "median_dti_by_subgrade"
      ],
      "execution_count": null,
      "outputs": []
    },
    {
      "cell_type": "code",
      "metadata": {
        "id": "SbkIvG7nE_in"
      },
      "source": [
        "lst = [1, 2, math.nan, 3]\r\n",
        "lst"
      ],
      "execution_count": null,
      "outputs": []
    },
    {
      "cell_type": "code",
      "metadata": {
        "id": "Z7250_9ZFPj9"
      },
      "source": [
        "for i in range(len(lst)):\r\n",
        "    if math.isnan(lst[i]):\r\n",
        "        lst[i] = \"missing\""
      ],
      "execution_count": null,
      "outputs": []
    },
    {
      "cell_type": "code",
      "metadata": {
        "id": "WofiW86TFxVG"
      },
      "source": [
        "lst"
      ],
      "execution_count": null,
      "outputs": []
    },
    {
      "cell_type": "code",
      "metadata": {
        "id": "GQ2T5BsrHTT2"
      },
      "source": [
        "%%time\r\n",
        "accepted = pd.merge(accepted, median_dti_by_subgrade, how = \"left\", on = \"sub_grade\", suffixes = (\"\", \"Delete\"))"
      ],
      "execution_count": null,
      "outputs": []
    },
    {
      "cell_type": "code",
      "metadata": {
        "id": "cG1VVrZ-KqSK"
      },
      "source": [
        "accepted.columns.to_list()"
      ],
      "execution_count": null,
      "outputs": []
    },
    {
      "cell_type": "code",
      "metadata": {
        "id": "R6QUW2GCpcsY"
      },
      "source": [
        "accepted"
      ],
      "execution_count": null,
      "outputs": []
    },
    {
      "cell_type": "code",
      "metadata": {
        "id": "YqCX0aotF9a1"
      },
      "source": [
        "def impute_dti(x):\r\n",
        "    try:\r\n",
        "        if math.isnan(x.dti):\r\n",
        "            return median_dti_by_subgrade.loc[median_dti_by_subgrade.sub_grade == x.sub_grade, \"median_dti\"].values[0]\r\n",
        "        else:\r\n",
        "            return x.dti\r\n",
        "    except:\r\n",
        "        print(x.loc[\"index\"])"
      ],
      "execution_count": null,
      "outputs": []
    },
    {
      "cell_type": "code",
      "metadata": {
        "id": "Lhj-8YKX1U9l"
      },
      "source": [
        "accepted.reset_index().iloc[1,:].loc[\"index\"]"
      ],
      "execution_count": null,
      "outputs": []
    },
    {
      "cell_type": "code",
      "metadata": {
        "id": "x9oADAZurXgR"
      },
      "source": [
        "median_dti_by_subgrade.loc[median_dti_by_subgrade.sub_grade == \"A5\", \"median_dti\"].values"
      ],
      "execution_count": null,
      "outputs": []
    },
    {
      "cell_type": "code",
      "metadata": {
        "id": "-GXGzUTtJ_wA"
      },
      "source": [
        "%%time\r\n",
        "accepted[\"dti\"] = accepted.reset_index().apply(impute_dti, axis = 1)\r\n",
        "accepted[\"dti\"]"
      ],
      "execution_count": null,
      "outputs": []
    },
    {
      "cell_type": "code",
      "metadata": {
        "id": "zLw9B_pyLcMm"
      },
      "source": [
        "accepted.dti.isnull().sum()"
      ],
      "execution_count": null,
      "outputs": []
    },
    {
      "cell_type": "code",
      "metadata": {
        "id": "Q9xXD1NpLfkH"
      },
      "source": [
        "pd.options.display.max_rows = 27\r\n",
        "potential_features = accepted[[\"addr_state\", \"annual_inc_joint\", \"application_type\", \"dti\", \"earliest_cr_line\", \"emp_length\", \"fico_range_high\", \"fico_range_low\", \"funded_amnt\", \r\n",
        "                               \"home_ownership\", \"inq_fi\", \"inq_last_12m\", \"installment\", \"int_rate\", \"loan_amnt\", \"open_acc\", \"pub_rec\", \"pub_rec_bankruptcies\", \"title\", \"zip_code\", \r\n",
        "                               \"total_acc\", \"revol_bal\", \"revol_util\", \"delinq_amnt\", \"delinq_2yrs\", \"mths_since_last_delinq\", \"mths_since_last_major_derog\"]]\r\n",
        "\r\n",
        "potential_features.isnull().sum()"
      ],
      "execution_count": null,
      "outputs": []
    },
    {
      "cell_type": "code",
      "metadata": {
        "id": "GIRWcGGEPPj7"
      },
      "source": [
        "accepted[[\"dti\", \"dti_joint\"]]"
      ],
      "execution_count": null,
      "outputs": []
    },
    {
      "cell_type": "code",
      "metadata": {
        "id": "JQY_4kFJyFer"
      },
      "source": [
        "np.mean(accepted[\"dti_joint\"] == accepted[[\"dti\", \"dti_joint\"]].apply(max, axis = 1))"
      ],
      "execution_count": null,
      "outputs": []
    },
    {
      "cell_type": "code",
      "metadata": {
        "id": "7JFg56nrWRv1"
      },
      "source": [
        "# def impute_missing_dti_joint(x):\r\n",
        "#     if math.isnan(x):\r\n",
        "#         return 0\r\n",
        "#     else:\r\n",
        "#         return x"
      ],
      "execution_count": null,
      "outputs": []
    },
    {
      "cell_type": "code",
      "metadata": {
        "id": "UAMkolp1Wb-B"
      },
      "source": [
        "# accepted[\"dti_joint\"] = accepted.dti_joint.apply(impute_missing_dti_joint)\r\n",
        "# accepted[\"dti_joint\"]"
      ],
      "execution_count": null,
      "outputs": []
    },
    {
      "cell_type": "code",
      "metadata": {
        "id": "foFp6iilOa7c"
      },
      "source": [
        "# accepted[[\"dti\", \"dti_joint\"]].head(18202).max(axis = 1)"
      ],
      "execution_count": null,
      "outputs": []
    },
    {
      "cell_type": "code",
      "metadata": {
        "id": "VNeAOeMlecUo"
      },
      "source": [
        "pd.options.display.max_rows = 10\r\n",
        "accepted.iloc[18202]"
      ],
      "execution_count": null,
      "outputs": []
    },
    {
      "cell_type": "code",
      "metadata": {
        "id": "x-PPNDhx8VCw"
      },
      "source": [
        "accepted.dti[2121176]"
      ],
      "execution_count": null,
      "outputs": []
    },
    {
      "cell_type": "code",
      "metadata": {
        "id": "Qq86c7gbzgfP"
      },
      "source": [
        "# accepted[\"dti\"][18202] = 20.23"
      ],
      "execution_count": null,
      "outputs": []
    },
    {
      "cell_type": "code",
      "metadata": {
        "id": "WrBLYjD4L-dY"
      },
      "source": [
        "accepted.earliest_cr_line"
      ],
      "execution_count": null,
      "outputs": []
    },
    {
      "cell_type": "code",
      "metadata": {
        "id": "eg_u0RudOLQL"
      },
      "source": [
        "potential_features = accepted[[\"addr_state\", \"annual_inc_joint\", \"application_type\", \"dti\", \"earliest_cr_line\", \"emp_length\", \"fico_range_high\", \"fico_range_low\", \"funded_amnt\", \r\n",
        "                               \"home_ownership\", \"inq_fi\", \"inq_last_12m\", \"installment\", \"int_rate\", \"loan_amnt\", \"open_acc\", \"pub_rec\", \"pub_rec_bankruptcies\", \"title\", \"zip_code\", \r\n",
        "                               \"total_acc\", \"revol_bal\", \"revol_util\", \"delinq_amnt\", \"delinq_2yrs\", \"mths_since_last_delinq\", \"mths_since_last_major_derog\"]]\r\n",
        "\r\n",
        "potential_features.isnull().sum()"
      ],
      "execution_count": null,
      "outputs": []
    },
    {
      "cell_type": "code",
      "metadata": {
        "id": "XhbSyuFNE1ZM"
      },
      "source": [
        "def impute_inq(x):\r\n",
        "    if math.isnan(x):\r\n",
        "        return 0\r\n",
        "    else:\r\n",
        "        return x"
      ],
      "execution_count": null,
      "outputs": []
    },
    {
      "cell_type": "code",
      "metadata": {
        "id": "MUUyIOVTF7MT"
      },
      "source": [
        "accepted[\"inq_fi\"] = accepted[\"inq_fi\"].apply(impute_inq)\r\n",
        "accepted[\"inq_fi\"]"
      ],
      "execution_count": null,
      "outputs": []
    },
    {
      "cell_type": "code",
      "metadata": {
        "id": "GxOVZMJ9GUUn"
      },
      "source": [
        "accepted[\"inq_last_12m\"] = accepted[\"inq_last_12m\"].apply(impute_inq)\r\n",
        "accepted[\"inq_last_12m\"]"
      ],
      "execution_count": null,
      "outputs": []
    },
    {
      "cell_type": "code",
      "metadata": {
        "id": "sUa58PSKGvV-"
      },
      "source": [
        "accepted[\"mths_since_last_delinq\"] = accepted[\"mths_since_last_delinq\"].apply(impute_inq)\r\n",
        "accepted[\"mths_since_last_delinq\"]"
      ],
      "execution_count": null,
      "outputs": []
    },
    {
      "cell_type": "code",
      "metadata": {
        "id": "vNmfMc7rGvn3"
      },
      "source": [
        "accepted[\"mths_since_last_major_derog\"] = accepted[\"mths_since_last_major_derog\"].apply(impute_inq)\r\n",
        "accepted[\"mths_since_last_major_derog\"]"
      ],
      "execution_count": null,
      "outputs": []
    },
    {
      "cell_type": "code",
      "metadata": {
        "id": "D4JK1T1JHZgL"
      },
      "source": [
        "accepted[\"delinq_amnt\"] = accepted[\"delinq_amnt\"].apply(impute_inq)\r\n",
        "accepted[\"delinq_amnt\"]"
      ],
      "execution_count": null,
      "outputs": []
    },
    {
      "cell_type": "code",
      "metadata": {
        "id": "crh-s7cjHkyX"
      },
      "source": [
        "accepted[\"delinq_2yrs\"] = accepted[\"delinq_2yrs\"].apply(impute_inq)\r\n",
        "accepted[\"delinq_2yrs\"]"
      ],
      "execution_count": null,
      "outputs": []
    },
    {
      "cell_type": "code",
      "metadata": {
        "id": "KtCzqzhHIECH"
      },
      "source": [
        "accepted[\"emp_length\"]"
      ],
      "execution_count": null,
      "outputs": []
    },
    {
      "cell_type": "code",
      "metadata": {
        "id": "SG1A0MaeIzOf"
      },
      "source": [
        "%%time\r\n",
        "accepted[\"emp_length\"] = accepted[\"emp_length\"].apply(lambda string: re.sub(pattern = \"([\\d]{0,2})([^\\d])\", repl = r\"\\1\", string = string) if isinstance(string, str) else 0)\r\n",
        "accepted[\"emp_length\"]"
      ],
      "execution_count": null,
      "outputs": []
    },
    {
      "cell_type": "code",
      "metadata": {
        "id": "SIl7S9PFKO3V"
      },
      "source": [
        "accepted[\"revol_util\"] = accepted[\"revol_util\"].apply(impute_inq)\r\n",
        "accepted[\"revol_util\"]"
      ],
      "execution_count": null,
      "outputs": []
    },
    {
      "cell_type": "code",
      "metadata": {
        "id": "_6oJ2WcZLR4D"
      },
      "source": [
        "accepted[\"pub_rec_bankruptcies\"] = accepted[\"pub_rec_bankruptcies\"].apply(impute_inq)\r\n",
        "accepted[\"pub_rec_bankruptcies\"]"
      ],
      "execution_count": null,
      "outputs": []
    },
    {
      "cell_type": "code",
      "metadata": {
        "id": "8UW3LHg5MA4D"
      },
      "source": [
        "accepted[\"open_acc\"] = accepted[\"open_acc\"].apply(impute_inq)\r\n",
        "accepted[\"open_acc\"]"
      ],
      "execution_count": null,
      "outputs": []
    },
    {
      "cell_type": "code",
      "metadata": {
        "id": "KuWGem8PMHXk"
      },
      "source": [
        "accepted[\"pub_rec\"] = accepted[\"pub_rec\"].apply(impute_inq)\r\n",
        "accepted[\"pub_rec\"]"
      ],
      "execution_count": null,
      "outputs": []
    },
    {
      "cell_type": "code",
      "metadata": {
        "id": "hhTU2w_IMWI4"
      },
      "source": [
        "accepted[\"total_acc\"] = accepted[\"total_acc\"].apply(impute_inq)\r\n",
        "accepted[\"total_acc\"]"
      ],
      "execution_count": null,
      "outputs": []
    },
    {
      "cell_type": "code",
      "metadata": {
        "id": "nCbePKhHMg7N"
      },
      "source": [
        "accepted[\"annual_inc_joint\"] = accepted[\"annual_inc_joint\"].apply(impute_inq)\r\n",
        "accepted[\"annual_inc_joint\"]"
      ],
      "execution_count": null,
      "outputs": []
    },
    {
      "cell_type": "code",
      "metadata": {
        "id": "4WTDVwazMz6Q"
      },
      "source": [
        "accepted[\"earliest_cr_line\"]"
      ],
      "execution_count": null,
      "outputs": []
    },
    {
      "cell_type": "code",
      "metadata": {
        "id": "gvX-KJq1OG46"
      },
      "source": [
        "accepted[\"earliest_cr_line\"] = accepted[\"earliest_cr_line\"].apply(lambda date: re.sub(pattern = \"-\", repl = \"\", string = date) if isinstance(date, str) else date)"
      ],
      "execution_count": null,
      "outputs": []
    },
    {
      "cell_type": "code",
      "metadata": {
        "id": "dPwS4brSOUco"
      },
      "source": [
        "accepted[\"earliest_cr_line\"] = pd.to_datetime(accepted[\"earliest_cr_line\"], format = \"%b%Y\", yearfirst = True)\r\n",
        "accepted[\"earliest_cr_line\"]"
      ],
      "execution_count": null,
      "outputs": []
    },
    {
      "cell_type": "code",
      "metadata": {
        "id": "wEZDhzaJO4oW"
      },
      "source": [
        ""
      ],
      "execution_count": null,
      "outputs": []
    },
    {
      "cell_type": "code",
      "metadata": {
        "id": "1M5WtCD5Opzy"
      },
      "source": [
        "accepted[\"days_from_1st_cr_line\"] = (accepted[\"issue_d\"] - accepted[\"earliest_cr_line\"]).dt.days\r\n",
        "accepted[\"days_from_1st_cr_line\"]"
      ],
      "execution_count": null,
      "outputs": []
    },
    {
      "cell_type": "code",
      "metadata": {
        "id": "wB0SSBhaQEUK"
      },
      "source": [
        "accepted[\"days_from_1st_cr_line\"] = accepted[\"days_from_1st_cr_line\"].apply(impute_inq)\r\n",
        "accepted[\"days_from_1st_cr_line\"]"
      ],
      "execution_count": null,
      "outputs": []
    },
    {
      "cell_type": "code",
      "metadata": {
        "id": "TsNnLWADGiAX"
      },
      "source": [
        "potential_features = accepted[[\"addr_state\", \"annual_inc_joint\", \"application_type\", \"dti\", \"days_from_1st_cr_line\", \"emp_length\", \"fico_range_high\", \"fico_range_low\", \"funded_amnt\", \r\n",
        "                               \"home_ownership\", \"inq_fi\", \"inq_last_12m\", \"installment\", \"int_rate\", \"loan_amnt\", \"open_acc\", \"pub_rec\", \"pub_rec_bankruptcies\", \"purpose\", \r\n",
        "                               \"total_acc\", \"revol_bal\", \"revol_util\", \"delinq_amnt\", \"delinq_2yrs\", \"mths_since_last_delinq\", \"mths_since_last_major_derog\"]]\r\n",
        "\r\n",
        "potential_features.isnull().sum()"
      ],
      "execution_count": null,
      "outputs": []
    },
    {
      "cell_type": "code",
      "metadata": {
        "id": "FMTgR9MfR5dl"
      },
      "source": [
        "potential_features.info()"
      ],
      "execution_count": null,
      "outputs": []
    },
    {
      "cell_type": "markdown",
      "metadata": {
        "id": "b4ilnbUvSgLA"
      },
      "source": [
        "Turn string into numerical or dummify \r\n",
        "\r\n",
        "dummify addr_state, purpose"
      ]
    },
    {
      "cell_type": "code",
      "metadata": {
        "id": "VzOe80nlShlr"
      },
      "source": [
        "accepted.application_type.unique()"
      ],
      "execution_count": null,
      "outputs": []
    },
    {
      "cell_type": "code",
      "metadata": {
        "id": "TmY5LeJlS9Tz"
      },
      "source": [
        "accepted[\"indiv_app\"] = (accepted[\"application_type\"] == 'Individual').apply(int)\r\n",
        "accepted[\"indiv_app\"]"
      ],
      "execution_count": null,
      "outputs": []
    },
    {
      "cell_type": "code",
      "metadata": {
        "id": "OqbPiPtUTuiS"
      },
      "source": [
        "potential_features = accepted[[\"addr_state\", \"annual_inc_joint\", \"indiv_app\", \"dti\", \"days_from_1st_cr_line\", \"emp_length\", \"fico_range_high\", \"fico_range_low\", \"funded_amnt\", \r\n",
        "                               \"home_ownership\", \"inq_fi\", \"inq_last_12m\", \"installment\", \"int_rate\", \"loan_amnt\", \"open_acc\", \"pub_rec\", \"pub_rec_bankruptcies\", \"purpose\", \r\n",
        "                               \"total_acc\", \"revol_bal\", \"revol_util\", \"delinq_amnt\", \"delinq_2yrs\", \"mths_since_last_delinq\", \"mths_since_last_major_derog\"]]\r\n",
        "\r\n",
        "potential_features.isnull().sum()"
      ],
      "execution_count": null,
      "outputs": []
    },
    {
      "cell_type": "code",
      "metadata": {
        "id": "M8e9M6LBT_dR"
      },
      "source": [
        "potential_features.info()"
      ],
      "execution_count": null,
      "outputs": []
    },
    {
      "cell_type": "code",
      "metadata": {
        "id": "1N4TChMsUEBa"
      },
      "source": [
        "accepted[\"home_ownership\"].unique()"
      ],
      "execution_count": null,
      "outputs": []
    },
    {
      "cell_type": "code",
      "metadata": {
        "id": "zX97WtGPVpl5"
      },
      "source": [
        "def home(x):\r\n",
        "    if x in ['MORTGAGE', 'OWN']:\r\n",
        "        return 1\r\n",
        "    else:\r\n",
        "        return 0"
      ],
      "execution_count": null,
      "outputs": []
    },
    {
      "cell_type": "code",
      "metadata": {
        "id": "uLMuD2zFVHAm"
      },
      "source": [
        "np.mean(accepted[\"home_ownership\"].apply(home))"
      ],
      "execution_count": null,
      "outputs": []
    },
    {
      "cell_type": "code",
      "metadata": {
        "id": "ms6a7WcKWP47"
      },
      "source": [
        "accepted[\"home_ownership\"] = accepted[\"home_ownership\"].apply(home)\r\n",
        "accepted[\"home_ownership\"]"
      ],
      "execution_count": null,
      "outputs": []
    },
    {
      "cell_type": "code",
      "metadata": {
        "id": "Ymt83zz2WVrL"
      },
      "source": [
        "potential_features = accepted[[\"addr_state\", \"annual_inc_joint\", \"indiv_app\", \"dti\", \"days_from_1st_cr_line\", \"emp_length\", \"fico_range_high\", \"fico_range_low\", \"funded_amnt\", \r\n",
        "                               \"home_ownership\", \"inq_fi\", \"inq_last_12m\", \"installment\", \"int_rate\", \"loan_amnt\", \"open_acc\", \"pub_rec\", \"pub_rec_bankruptcies\", \"purpose\", \r\n",
        "                               \"total_acc\", \"revol_bal\", \"revol_util\", \"delinq_amnt\", \"delinq_2yrs\", \"mths_since_last_delinq\", \"mths_since_last_major_derog\"]]\r\n",
        "\r\n",
        "potential_features.isnull().sum()"
      ],
      "execution_count": null,
      "outputs": []
    },
    {
      "cell_type": "code",
      "metadata": {
        "id": "OGSHaZjHWm2W"
      },
      "source": [
        "potential_features.info()"
      ],
      "execution_count": null,
      "outputs": []
    },
    {
      "cell_type": "code",
      "metadata": {
        "id": "6y4MPKhVWrsF"
      },
      "source": [
        "accepted[\"emp_length\"] = accepted[\"emp_length\"].apply(int)\r\n",
        "accepted[\"emp_length\"]"
      ],
      "execution_count": null,
      "outputs": []
    },
    {
      "cell_type": "code",
      "metadata": {
        "id": "7ZVch3Z1XZhI"
      },
      "source": [
        "potential_features = accepted[[\"addr_state\", \"annual_inc_joint\", \"indiv_app\", \"dti_joint\", \"days_from_1st_cr_line\", \"emp_length\", \"fico_range_high\", \"fico_range_low\", \"funded_amnt\", \r\n",
        "                               \"home_ownership\", \"inq_fi\", \"inq_last_12m\", \"installment\", \"int_rate\", \"loan_amnt\", \"open_acc\", \"pub_rec\", \"pub_rec_bankruptcies\", \"purpose\", \r\n",
        "                               \"total_acc\", \"revol_bal\", \"revol_util\", \"delinq_amnt\", \"delinq_2yrs\", \"mths_since_last_delinq\", \"mths_since_last_major_derog\"]]\r\n",
        "\r\n",
        "potential_features.isnull().sum()"
      ],
      "execution_count": null,
      "outputs": []
    },
    {
      "cell_type": "code",
      "metadata": {
        "id": "71yoP9K-Xenn"
      },
      "source": [
        "potential_features.info()"
      ],
      "execution_count": null,
      "outputs": []
    },
    {
      "cell_type": "code",
      "metadata": {
        "id": "qb03D7CJYw-L"
      },
      "source": [
        "len(accepted[\"addr_state\"].unique())"
      ],
      "execution_count": null,
      "outputs": []
    },
    {
      "cell_type": "code",
      "metadata": {
        "id": "P60Kx76zY6ho"
      },
      "source": [
        "accepted[\"addr_state\"].unique()"
      ],
      "execution_count": null,
      "outputs": []
    },
    {
      "cell_type": "code",
      "metadata": {
        "id": "iYHl1JUsZF_8"
      },
      "source": [
        "pd.options.display.max_rows = 51\r\n",
        "med_inc_by_state = pd.DataFrame(accepted.groupby([\"addr_state\"])[\"annual_inc_joint\"].median()).sort_values(by = \"annual_inc_joint\", ascending = False).reset_index()\r\n",
        "med_inc_by_state = med_inc_by_state.rename(columns = {\"addr_state\":\"state\", \"annual_inc_joint\":\"income\"})\r\n",
        "med_inc_by_state"
      ],
      "execution_count": null,
      "outputs": []
    },
    {
      "cell_type": "code",
      "metadata": {
        "id": "rrhcdwv6btdI"
      },
      "source": [
        "# try:\r\n",
        "#     if math.isnan(x.dti):\r\n",
        "#         return median_dti_by_subgrade.loc[median_dti_by_subgrade.sub_grade == x.sub_grade, \"median_dti\"].values[0]\r\n",
        "#     else:\r\n",
        "#         return x.dti\r\n",
        "# except:\r\n",
        "#     print(x.loc[\"index\"])"
      ],
      "execution_count": null,
      "outputs": []
    },
    {
      "cell_type": "code",
      "metadata": {
        "id": "zifGYh99lo_0"
      },
      "source": [
        "# accepted.reset_index().apply(impute_dti, axis = 1)"
      ],
      "execution_count": null,
      "outputs": []
    },
    {
      "cell_type": "code",
      "metadata": {
        "id": "VF8Wjaj6lnLF"
      },
      "source": [
        "med_inc_by_state.loc[(5e4 < med_inc_by_state[\"income\"]) & (med_inc_by_state[\"income\"] < 6e4)][\"state\"].to_list()"
      ],
      "execution_count": null,
      "outputs": []
    },
    {
      "cell_type": "code",
      "metadata": {
        "id": "BaBxOyj4og5h"
      },
      "source": [
        "group4 = med_inc_by_state.loc[(med_inc_by_state[\"income\"] > 8e4)][\"state\"].to_list()\r\n",
        "print(group4)\r\n",
        "\r\n",
        "group3 = med_inc_by_state.loc[(7e4 < med_inc_by_state[\"income\"]) & (med_inc_by_state[\"income\"] < 8e4)][\"state\"].to_list()\r\n",
        "print(group3)\r\n",
        "\r\n",
        "group2 = med_inc_by_state.loc[(6e4 < med_inc_by_state[\"income\"]) & (med_inc_by_state[\"income\"] < 7e4)][\"state\"].to_list()\r\n",
        "print(group2)\r\n",
        "\r\n",
        "group1 = med_inc_by_state.loc[(5e4 < med_inc_by_state[\"income\"]) & (med_inc_by_state[\"income\"] < 6e4)][\"state\"].to_list()\r\n",
        "print(group1)\r\n",
        "\r\n",
        "group0 = med_inc_by_state.loc[(med_inc_by_state[\"income\"] < 5e4)][\"state\"].to_list()\r\n",
        "print(group0)"
      ],
      "execution_count": null,
      "outputs": []
    },
    {
      "cell_type": "code",
      "metadata": {
        "id": "orvmdz6qnLwm"
      },
      "source": [
        "def state(x):\r\n",
        "    if x in group4:\r\n",
        "        return 4\r\n",
        "    elif x in group3:\r\n",
        "        return 3\r\n",
        "    elif x in group2:\r\n",
        "        return 2\r\n",
        "    elif x in group1:\r\n",
        "        return 1\r\n",
        "    else:\r\n",
        "        return 0"
      ],
      "execution_count": null,
      "outputs": []
    },
    {
      "cell_type": "code",
      "metadata": {
        "id": "-qrxj_9lswlE"
      },
      "source": [
        "# %%time\r\n",
        "# accepted.to_csv(\"/content/gdrive/MyDrive/NYC DSA Capstone Project/Data/accepted_2007_to_2018q4.csv/accepted.csv\")"
      ],
      "execution_count": null,
      "outputs": []
    },
    {
      "cell_type": "code",
      "metadata": {
        "id": "I7cA_6Gspa-6"
      },
      "source": [
        "%%time\r\n",
        "accepted[\"state_income\"] = accepted[\"addr_state\"].apply(state)\r\n",
        "accepted[\"state_income\"]"
      ],
      "execution_count": null,
      "outputs": []
    },
    {
      "cell_type": "code",
      "metadata": {
        "id": "tLzW6jFk9Lyv"
      },
      "source": [
        "potential_features = accepted[[\"state_income\", \"annual_inc_joint\", \"indiv_app\", \"dti_joint\", \"days_from_1st_cr_line\", \"emp_length\", \"fico_range_high\", \"fico_range_low\", \"funded_amnt\", \r\n",
        "                               \"home_ownership\", \"inq_fi\", \"inq_last_12m\", \"installment\", \"int_rate\", \"loan_amnt\", \"open_acc\", \"pub_rec\", \"pub_rec_bankruptcies\", \"purpose\", \r\n",
        "                               \"total_acc\", \"revol_bal\", \"revol_util\", \"delinq_amnt\", \"delinq_2yrs\", \"mths_since_last_delinq\", \"mths_since_last_major_derog\"]]\r\n",
        "\r\n",
        "potential_features.isnull().sum()"
      ],
      "execution_count": null,
      "outputs": []
    },
    {
      "cell_type": "code",
      "metadata": {
        "id": "H31H3MHo9RCp"
      },
      "source": [
        "potential_features.info()"
      ],
      "execution_count": null,
      "outputs": []
    },
    {
      "cell_type": "code",
      "metadata": {
        "id": "RYyJdyrH9n8I"
      },
      "source": [
        "accepted.purpose.unique()"
      ],
      "execution_count": null,
      "outputs": []
    },
    {
      "cell_type": "code",
      "metadata": {
        "id": "IbMNC3i_Dc5K"
      },
      "source": [
        "def purpose(x):\r\n",
        "    if x == 'debt_consolidation':\r\n",
        "        return 1\r\n",
        "    else:\r\n",
        "        return 0"
      ],
      "execution_count": null,
      "outputs": []
    },
    {
      "cell_type": "code",
      "metadata": {
        "id": "gLQUJOa-D8mF"
      },
      "source": [
        "accepted[\"for_debt_consol\"] = accepted.purpose.apply(purpose)\r\n",
        "accepted[\"for_debt_consol\"]"
      ],
      "execution_count": null,
      "outputs": []
    },
    {
      "cell_type": "code",
      "metadata": {
        "id": "5KER1cgrEdsn",
        "colab": {
          "base_uri": "https://localhost:8080/"
        },
        "outputId": "690be8a7-be06-4132-c364-62f66bdeec7b"
      },
      "source": [
        "potential_features = accepted[[\"loan_status_trim\", \"state_income\", \"annual_inc_joint\", \"indiv_app\", \"dti_joint\", \"days_from_1st_cr_line\", \"emp_length\", \"fico_range_high\", \"fico_range_low\", \"funded_amnt\", \r\n",
        "                               \"home_ownership\", \"inq_fi\", \"inq_last_12m\", \"installment\", \"int_rate\", \"loan_amnt\", \"open_acc\", \"pub_rec\", \"pub_rec_bankruptcies\", \"for_debt_consol\", \r\n",
        "                               \"total_acc\", \"revol_bal\", \"revol_util\", \"delinq_amnt\", \"delinq_2yrs\", \"mths_since_last_delinq\", \"mths_since_last_major_derog\", \"grade\"]]\r\n",
        "\r\n",
        "potential_features.isnull().sum()"
      ],
      "execution_count": null,
      "outputs": [
        {
          "output_type": "execute_result",
          "data": {
            "text/plain": [
              "loan_status_trim               0\n",
              "state_income                   0\n",
              "annual_inc_joint               0\n",
              "indiv_app                      0\n",
              "dti_joint                      0\n",
              "days_from_1st_cr_line          0\n",
              "emp_length                     0\n",
              "fico_range_high                0\n",
              "fico_range_low                 0\n",
              "funded_amnt                    0\n",
              "home_ownership                 0\n",
              "inq_fi                         0\n",
              "inq_last_12m                   0\n",
              "installment                    0\n",
              "int_rate                       0\n",
              "loan_amnt                      0\n",
              "open_acc                       0\n",
              "pub_rec                        0\n",
              "pub_rec_bankruptcies           0\n",
              "for_debt_consol                0\n",
              "total_acc                      0\n",
              "revol_bal                      0\n",
              "revol_util                     0\n",
              "delinq_amnt                    0\n",
              "delinq_2yrs                    0\n",
              "mths_since_last_delinq         0\n",
              "mths_since_last_major_derog    0\n",
              "grade                          0\n",
              "dtype: int64"
            ]
          },
          "metadata": {
            "tags": []
          },
          "execution_count": 12
        }
      ]
    },
    {
      "cell_type": "code",
      "metadata": {
        "colab": {
          "base_uri": "https://localhost:8080/"
        },
        "id": "JaCMjdyTRLL0",
        "outputId": "5ca3cf61-4d21-4632-f508-100d2d0f8339"
      },
      "source": [
        "%%time\r\n",
        "num_grade = {\"G\":0, \"F\":1, \"E\":2, \"D\":3, \"C\":4, \"B\":5, \"A\":6}\r\n",
        "accepted.replace({\"grade\":num_grade}, inplace = True)"
      ],
      "execution_count": null,
      "outputs": [
        {
          "output_type": "stream",
          "text": [
            "CPU times: user 1.47 s, sys: 16.4 ms, total: 1.48 s\n",
            "Wall time: 1.48 s\n"
          ],
          "name": "stdout"
        }
      ]
    },
    {
      "cell_type": "code",
      "metadata": {
        "colab": {
          "base_uri": "https://localhost:8080/"
        },
        "id": "E5F0ydD4SpCi",
        "outputId": "b4e42a66-f1a8-4e0f-9f0c-f3d659288d3b"
      },
      "source": [
        "accepted.grade"
      ],
      "execution_count": null,
      "outputs": [
        {
          "output_type": "execute_result",
          "data": {
            "text/plain": [
              "0          4\n",
              "1          4\n",
              "2          5\n",
              "3          4\n",
              "4          1\n",
              "          ..\n",
              "2260663    4\n",
              "2260664    5\n",
              "2260665    5\n",
              "2260666    4\n",
              "2260667    4\n",
              "Name: grade, Length: 2260668, dtype: int64"
            ]
          },
          "metadata": {
            "tags": []
          },
          "execution_count": 20
        }
      ]
    },
    {
      "cell_type": "code",
      "metadata": {
        "colab": {
          "base_uri": "https://localhost:8080/"
        },
        "id": "aXE0SS5XS2T8",
        "outputId": "8b815b39-5cf7-4e1f-d588-f1eb72c782c3"
      },
      "source": [
        "features = accepted[[\"loan_status_trim\", \"state_income\", \"annual_inc_joint\", \"indiv_app\", \"dti_joint\", \"days_from_1st_cr_line\", \"emp_length\", \"fico_range_high\", \"fico_range_low\", \"funded_amnt\", \r\n",
        "                               \"home_ownership\", \"inq_fi\", \"inq_last_12m\", \"installment\", \"int_rate\", \"loan_amnt\", \"open_acc\", \"pub_rec\", \"pub_rec_bankruptcies\", \"for_debt_consol\", \r\n",
        "                               \"total_acc\", \"revol_bal\", \"revol_util\", \"delinq_amnt\", \"delinq_2yrs\", \"mths_since_last_delinq\", \"mths_since_last_major_derog\", \"grade\"]]\r\n",
        "\r\n",
        "features.isnull().sum()"
      ],
      "execution_count": null,
      "outputs": [
        {
          "output_type": "execute_result",
          "data": {
            "text/plain": [
              "loan_status_trim               0\n",
              "state_income                   0\n",
              "annual_inc_joint               0\n",
              "indiv_app                      0\n",
              "dti_joint                      0\n",
              "days_from_1st_cr_line          0\n",
              "emp_length                     0\n",
              "fico_range_high                0\n",
              "fico_range_low                 0\n",
              "funded_amnt                    0\n",
              "home_ownership                 0\n",
              "inq_fi                         0\n",
              "inq_last_12m                   0\n",
              "installment                    0\n",
              "int_rate                       0\n",
              "loan_amnt                      0\n",
              "open_acc                       0\n",
              "pub_rec                        0\n",
              "pub_rec_bankruptcies           0\n",
              "for_debt_consol                0\n",
              "total_acc                      0\n",
              "revol_bal                      0\n",
              "revol_util                     0\n",
              "delinq_amnt                    0\n",
              "delinq_2yrs                    0\n",
              "mths_since_last_delinq         0\n",
              "mths_since_last_major_derog    0\n",
              "grade                          0\n",
              "dtype: int64"
            ]
          },
          "metadata": {
            "tags": []
          },
          "execution_count": 21
        }
      ]
    },
    {
      "cell_type": "code",
      "metadata": {
        "id": "Jw5RRETnFhFG"
      },
      "source": [
        "potential_features.info()"
      ],
      "execution_count": null,
      "outputs": []
    },
    {
      "cell_type": "code",
      "metadata": {
        "id": "4V_virNuFpdX"
      },
      "source": [
        "#features = potential_features\r\n",
        "features.drop(\"Unnamed: 0\", axis = 1, inplace = True)"
      ],
      "execution_count": null,
      "outputs": []
    },
    {
      "cell_type": "code",
      "metadata": {
        "colab": {
          "base_uri": "https://localhost:8080/",
          "height": 437
        },
        "id": "RyyXzeWpP_IW",
        "outputId": "0913d0a5-8621-44c0-96c9-b4ed8cebf4a4"
      },
      "source": [
        "features"
      ],
      "execution_count": null,
      "outputs": [
        {
          "output_type": "execute_result",
          "data": {
            "text/html": [
              "<div>\n",
              "<style scoped>\n",
              "    .dataframe tbody tr th:only-of-type {\n",
              "        vertical-align: middle;\n",
              "    }\n",
              "\n",
              "    .dataframe tbody tr th {\n",
              "        vertical-align: top;\n",
              "    }\n",
              "\n",
              "    .dataframe thead th {\n",
              "        text-align: right;\n",
              "    }\n",
              "</style>\n",
              "<table border=\"1\" class=\"dataframe\">\n",
              "  <thead>\n",
              "    <tr style=\"text-align: right;\">\n",
              "      <th></th>\n",
              "      <th>loan_status_trim</th>\n",
              "      <th>state_income</th>\n",
              "      <th>annual_inc_joint</th>\n",
              "      <th>indiv_app</th>\n",
              "      <th>dti_joint</th>\n",
              "      <th>days_from_1st_cr_line</th>\n",
              "      <th>emp_length</th>\n",
              "      <th>fico_range_high</th>\n",
              "      <th>fico_range_low</th>\n",
              "      <th>funded_amnt</th>\n",
              "      <th>home_ownership</th>\n",
              "      <th>inq_fi</th>\n",
              "      <th>inq_last_12m</th>\n",
              "      <th>installment</th>\n",
              "      <th>int_rate</th>\n",
              "      <th>loan_amnt</th>\n",
              "      <th>open_acc</th>\n",
              "      <th>pub_rec</th>\n",
              "      <th>pub_rec_bankruptcies</th>\n",
              "      <th>for_debt_consol</th>\n",
              "      <th>total_acc</th>\n",
              "      <th>revol_bal</th>\n",
              "      <th>revol_util</th>\n",
              "      <th>delinq_amnt</th>\n",
              "      <th>delinq_2yrs</th>\n",
              "      <th>mths_since_last_delinq</th>\n",
              "      <th>mths_since_last_major_derog</th>\n",
              "      <th>grade</th>\n",
              "    </tr>\n",
              "  </thead>\n",
              "  <tbody>\n",
              "    <tr>\n",
              "      <th>0</th>\n",
              "      <td>Fully Paid</td>\n",
              "      <td>2</td>\n",
              "      <td>55000.0</td>\n",
              "      <td>1</td>\n",
              "      <td>5.91</td>\n",
              "      <td>4505.0</td>\n",
              "      <td>10</td>\n",
              "      <td>679.0</td>\n",
              "      <td>675.0</td>\n",
              "      <td>3600.0</td>\n",
              "      <td>1</td>\n",
              "      <td>3.0</td>\n",
              "      <td>4.0</td>\n",
              "      <td>123.03</td>\n",
              "      <td>13.99</td>\n",
              "      <td>3600.0</td>\n",
              "      <td>7.0</td>\n",
              "      <td>0.0</td>\n",
              "      <td>0.0</td>\n",
              "      <td>1</td>\n",
              "      <td>13.0</td>\n",
              "      <td>2765.0</td>\n",
              "      <td>29.7</td>\n",
              "      <td>0.0</td>\n",
              "      <td>0.0</td>\n",
              "      <td>30.0</td>\n",
              "      <td>30.0</td>\n",
              "      <td>4</td>\n",
              "    </tr>\n",
              "    <tr>\n",
              "      <th>1</th>\n",
              "      <td>Fully Paid</td>\n",
              "      <td>1</td>\n",
              "      <td>65000.0</td>\n",
              "      <td>1</td>\n",
              "      <td>16.06</td>\n",
              "      <td>5844.0</td>\n",
              "      <td>10</td>\n",
              "      <td>719.0</td>\n",
              "      <td>715.0</td>\n",
              "      <td>24700.0</td>\n",
              "      <td>1</td>\n",
              "      <td>0.0</td>\n",
              "      <td>6.0</td>\n",
              "      <td>820.28</td>\n",
              "      <td>11.99</td>\n",
              "      <td>24700.0</td>\n",
              "      <td>22.0</td>\n",
              "      <td>0.0</td>\n",
              "      <td>0.0</td>\n",
              "      <td>0</td>\n",
              "      <td>38.0</td>\n",
              "      <td>21470.0</td>\n",
              "      <td>19.2</td>\n",
              "      <td>0.0</td>\n",
              "      <td>1.0</td>\n",
              "      <td>6.0</td>\n",
              "      <td>0.0</td>\n",
              "      <td>4</td>\n",
              "    </tr>\n",
              "    <tr>\n",
              "      <th>2</th>\n",
              "      <td>Fully Paid</td>\n",
              "      <td>0</td>\n",
              "      <td>71000.0</td>\n",
              "      <td>0</td>\n",
              "      <td>13.85</td>\n",
              "      <td>5600.0</td>\n",
              "      <td>10</td>\n",
              "      <td>699.0</td>\n",
              "      <td>695.0</td>\n",
              "      <td>20000.0</td>\n",
              "      <td>1</td>\n",
              "      <td>2.0</td>\n",
              "      <td>1.0</td>\n",
              "      <td>432.66</td>\n",
              "      <td>10.78</td>\n",
              "      <td>20000.0</td>\n",
              "      <td>6.0</td>\n",
              "      <td>0.0</td>\n",
              "      <td>0.0</td>\n",
              "      <td>0</td>\n",
              "      <td>18.0</td>\n",
              "      <td>7869.0</td>\n",
              "      <td>56.2</td>\n",
              "      <td>0.0</td>\n",
              "      <td>0.0</td>\n",
              "      <td>0.0</td>\n",
              "      <td>0.0</td>\n",
              "      <td>5</td>\n",
              "    </tr>\n",
              "    <tr>\n",
              "      <th>3</th>\n",
              "      <td>Current</td>\n",
              "      <td>3</td>\n",
              "      <td>110000.0</td>\n",
              "      <td>1</td>\n",
              "      <td>17.06</td>\n",
              "      <td>2647.0</td>\n",
              "      <td>10</td>\n",
              "      <td>789.0</td>\n",
              "      <td>785.0</td>\n",
              "      <td>35000.0</td>\n",
              "      <td>1</td>\n",
              "      <td>0.0</td>\n",
              "      <td>0.0</td>\n",
              "      <td>829.90</td>\n",
              "      <td>14.85</td>\n",
              "      <td>35000.0</td>\n",
              "      <td>13.0</td>\n",
              "      <td>0.0</td>\n",
              "      <td>0.0</td>\n",
              "      <td>1</td>\n",
              "      <td>17.0</td>\n",
              "      <td>7802.0</td>\n",
              "      <td>11.6</td>\n",
              "      <td>0.0</td>\n",
              "      <td>0.0</td>\n",
              "      <td>0.0</td>\n",
              "      <td>0.0</td>\n",
              "      <td>4</td>\n",
              "    </tr>\n",
              "    <tr>\n",
              "      <th>4</th>\n",
              "      <td>Fully Paid</td>\n",
              "      <td>2</td>\n",
              "      <td>104433.0</td>\n",
              "      <td>1</td>\n",
              "      <td>25.37</td>\n",
              "      <td>6392.0</td>\n",
              "      <td>3</td>\n",
              "      <td>699.0</td>\n",
              "      <td>695.0</td>\n",
              "      <td>10400.0</td>\n",
              "      <td>1</td>\n",
              "      <td>2.0</td>\n",
              "      <td>3.0</td>\n",
              "      <td>289.91</td>\n",
              "      <td>22.45</td>\n",
              "      <td>10400.0</td>\n",
              "      <td>12.0</td>\n",
              "      <td>0.0</td>\n",
              "      <td>0.0</td>\n",
              "      <td>0</td>\n",
              "      <td>35.0</td>\n",
              "      <td>21929.0</td>\n",
              "      <td>64.5</td>\n",
              "      <td>0.0</td>\n",
              "      <td>1.0</td>\n",
              "      <td>12.0</td>\n",
              "      <td>0.0</td>\n",
              "      <td>1</td>\n",
              "    </tr>\n",
              "    <tr>\n",
              "      <th>...</th>\n",
              "      <td>...</td>\n",
              "      <td>...</td>\n",
              "      <td>...</td>\n",
              "      <td>...</td>\n",
              "      <td>...</td>\n",
              "      <td>...</td>\n",
              "      <td>...</td>\n",
              "      <td>...</td>\n",
              "      <td>...</td>\n",
              "      <td>...</td>\n",
              "      <td>...</td>\n",
              "      <td>...</td>\n",
              "      <td>...</td>\n",
              "      <td>...</td>\n",
              "      <td>...</td>\n",
              "      <td>...</td>\n",
              "      <td>...</td>\n",
              "      <td>...</td>\n",
              "      <td>...</td>\n",
              "      <td>...</td>\n",
              "      <td>...</td>\n",
              "      <td>...</td>\n",
              "      <td>...</td>\n",
              "      <td>...</td>\n",
              "      <td>...</td>\n",
              "      <td>...</td>\n",
              "      <td>...</td>\n",
              "      <td>...</td>\n",
              "    </tr>\n",
              "    <tr>\n",
              "      <th>2260663</th>\n",
              "      <td>Current</td>\n",
              "      <td>2</td>\n",
              "      <td>95000.0</td>\n",
              "      <td>1</td>\n",
              "      <td>19.61</td>\n",
              "      <td>6149.0</td>\n",
              "      <td>7</td>\n",
              "      <td>669.0</td>\n",
              "      <td>665.0</td>\n",
              "      <td>24000.0</td>\n",
              "      <td>1</td>\n",
              "      <td>1.0</td>\n",
              "      <td>1.0</td>\n",
              "      <td>543.50</td>\n",
              "      <td>12.79</td>\n",
              "      <td>24000.0</td>\n",
              "      <td>5.0</td>\n",
              "      <td>0.0</td>\n",
              "      <td>0.0</td>\n",
              "      <td>0</td>\n",
              "      <td>54.0</td>\n",
              "      <td>49431.0</td>\n",
              "      <td>84.4</td>\n",
              "      <td>0.0</td>\n",
              "      <td>0.0</td>\n",
              "      <td>0.0</td>\n",
              "      <td>0.0</td>\n",
              "      <td>4</td>\n",
              "    </tr>\n",
              "    <tr>\n",
              "      <th>2260664</th>\n",
              "      <td>Current</td>\n",
              "      <td>2</td>\n",
              "      <td>108000.0</td>\n",
              "      <td>1</td>\n",
              "      <td>34.94</td>\n",
              "      <td>9374.0</td>\n",
              "      <td>10</td>\n",
              "      <td>699.0</td>\n",
              "      <td>695.0</td>\n",
              "      <td>24000.0</td>\n",
              "      <td>1</td>\n",
              "      <td>1.0</td>\n",
              "      <td>4.0</td>\n",
              "      <td>515.74</td>\n",
              "      <td>10.49</td>\n",
              "      <td>24000.0</td>\n",
              "      <td>24.0</td>\n",
              "      <td>1.0</td>\n",
              "      <td>0.0</td>\n",
              "      <td>1</td>\n",
              "      <td>58.0</td>\n",
              "      <td>21665.0</td>\n",
              "      <td>39.0</td>\n",
              "      <td>0.0</td>\n",
              "      <td>0.0</td>\n",
              "      <td>60.0</td>\n",
              "      <td>60.0</td>\n",
              "      <td>5</td>\n",
              "    </tr>\n",
              "    <tr>\n",
              "      <th>2260665</th>\n",
              "      <td>Current</td>\n",
              "      <td>3</td>\n",
              "      <td>227000.0</td>\n",
              "      <td>1</td>\n",
              "      <td>12.75</td>\n",
              "      <td>7913.0</td>\n",
              "      <td>9</td>\n",
              "      <td>709.0</td>\n",
              "      <td>705.0</td>\n",
              "      <td>40000.0</td>\n",
              "      <td>1</td>\n",
              "      <td>3.0</td>\n",
              "      <td>2.0</td>\n",
              "      <td>859.56</td>\n",
              "      <td>10.49</td>\n",
              "      <td>40000.0</td>\n",
              "      <td>5.0</td>\n",
              "      <td>0.0</td>\n",
              "      <td>0.0</td>\n",
              "      <td>1</td>\n",
              "      <td>37.0</td>\n",
              "      <td>8633.0</td>\n",
              "      <td>64.9</td>\n",
              "      <td>0.0</td>\n",
              "      <td>7.0</td>\n",
              "      <td>9.0</td>\n",
              "      <td>10.0</td>\n",
              "      <td>5</td>\n",
              "    </tr>\n",
              "    <tr>\n",
              "      <th>2260666</th>\n",
              "      <td>Charged Off</td>\n",
              "      <td>2</td>\n",
              "      <td>110000.0</td>\n",
              "      <td>1</td>\n",
              "      <td>18.30</td>\n",
              "      <td>6302.0</td>\n",
              "      <td>6</td>\n",
              "      <td>664.0</td>\n",
              "      <td>660.0</td>\n",
              "      <td>24000.0</td>\n",
              "      <td>0</td>\n",
              "      <td>0.0</td>\n",
              "      <td>1.0</td>\n",
              "      <td>564.56</td>\n",
              "      <td>14.49</td>\n",
              "      <td>24000.0</td>\n",
              "      <td>10.0</td>\n",
              "      <td>1.0</td>\n",
              "      <td>1.0</td>\n",
              "      <td>1</td>\n",
              "      <td>31.0</td>\n",
              "      <td>17641.0</td>\n",
              "      <td>68.1</td>\n",
              "      <td>0.0</td>\n",
              "      <td>0.0</td>\n",
              "      <td>67.0</td>\n",
              "      <td>67.0</td>\n",
              "      <td>4</td>\n",
              "    </tr>\n",
              "    <tr>\n",
              "      <th>2260667</th>\n",
              "      <td>Current</td>\n",
              "      <td>3</td>\n",
              "      <td>95000.0</td>\n",
              "      <td>1</td>\n",
              "      <td>23.36</td>\n",
              "      <td>7427.0</td>\n",
              "      <td>10</td>\n",
              "      <td>664.0</td>\n",
              "      <td>660.0</td>\n",
              "      <td>14000.0</td>\n",
              "      <td>1</td>\n",
              "      <td>3.0</td>\n",
              "      <td>2.0</td>\n",
              "      <td>329.33</td>\n",
              "      <td>14.49</td>\n",
              "      <td>14000.0</td>\n",
              "      <td>8.0</td>\n",
              "      <td>0.0</td>\n",
              "      <td>0.0</td>\n",
              "      <td>1</td>\n",
              "      <td>22.0</td>\n",
              "      <td>7662.0</td>\n",
              "      <td>54.0</td>\n",
              "      <td>0.0</td>\n",
              "      <td>0.0</td>\n",
              "      <td>37.0</td>\n",
              "      <td>37.0</td>\n",
              "      <td>4</td>\n",
              "    </tr>\n",
              "  </tbody>\n",
              "</table>\n",
              "<p>2260668 rows × 28 columns</p>\n",
              "</div>"
            ],
            "text/plain": [
              "        loan_status_trim  state_income  ...  mths_since_last_major_derog  grade\n",
              "0             Fully Paid             2  ...                         30.0      4\n",
              "1             Fully Paid             1  ...                          0.0      4\n",
              "2             Fully Paid             0  ...                          0.0      5\n",
              "3                Current             3  ...                          0.0      4\n",
              "4             Fully Paid             2  ...                          0.0      1\n",
              "...                  ...           ...  ...                          ...    ...\n",
              "2260663          Current             2  ...                          0.0      4\n",
              "2260664          Current             2  ...                         60.0      5\n",
              "2260665          Current             3  ...                         10.0      5\n",
              "2260666      Charged Off             2  ...                         67.0      4\n",
              "2260667          Current             3  ...                         37.0      4\n",
              "\n",
              "[2260668 rows x 28 columns]"
            ]
          },
          "metadata": {
            "tags": []
          },
          "execution_count": 22
        }
      ]
    },
    {
      "cell_type": "code",
      "metadata": {
        "id": "jc78RvFZFzvC"
      },
      "source": [
        "# %%time\r\n",
        "# accepted.to_csv(\"/content/gdrive/MyDrive/NYC DSA Capstone Project/Data/accepted_2007_to_2018q4.csv/accepted.csv\")"
      ],
      "execution_count": null,
      "outputs": []
    },
    {
      "cell_type": "code",
      "metadata": {
        "id": "081KlZ0LHoCJ",
        "colab": {
          "base_uri": "https://localhost:8080/"
        },
        "outputId": "f0b83994-3132-441d-ce22-e321b202094d"
      },
      "source": [
        "# %%time\r\n",
        "# features.to_csv(\"/content/gdrive/MyDrive/NYC DSA Capstone Project/Data/features.csv\")"
      ],
      "execution_count": null,
      "outputs": [
        {
          "output_type": "stream",
          "text": [
            "CPU times: user 27.1 s, sys: 364 ms, total: 27.5 s\n",
            "Wall time: 28.3 s\n"
          ],
          "name": "stdout"
        }
      ]
    },
    {
      "cell_type": "code",
      "metadata": {
        "id": "QMqZPuITIYaG",
        "colab": {
          "base_uri": "https://localhost:8080/"
        },
        "outputId": "f08c7532-7d33-4a00-d7e6-124597e4852c"
      },
      "source": [
        "features.loan_status_trim.unique()"
      ],
      "execution_count": null,
      "outputs": [
        {
          "output_type": "execute_result",
          "data": {
            "text/plain": [
              "array([0, 1])"
            ]
          },
          "metadata": {
            "tags": []
          },
          "execution_count": 30
        }
      ]
    },
    {
      "cell_type": "code",
      "metadata": {
        "id": "BZzucE7_TOqN",
        "colab": {
          "base_uri": "https://localhost:8080/",
          "height": 111
        },
        "outputId": "d49879d3-f18e-445c-fc53-5222157aeb0e"
      },
      "source": [
        "status = pd.DataFrame(features.groupby(\"loan_status_trim\")[\"pub_rec\"].count()).sort_values(by = \"pub_rec\", ascending = False).reset_index()\r\n",
        "status = status.rename(columns = {\"pub_rec\":\"count\"})\r\n",
        "status[\"count\"] = status[\"count\"] / sum(status[\"count\"])\r\n",
        "status"
      ],
      "execution_count": null,
      "outputs": [
        {
          "output_type": "execute_result",
          "data": {
            "text/html": [
              "<div>\n",
              "<style scoped>\n",
              "    .dataframe tbody tr th:only-of-type {\n",
              "        vertical-align: middle;\n",
              "    }\n",
              "\n",
              "    .dataframe tbody tr th {\n",
              "        vertical-align: top;\n",
              "    }\n",
              "\n",
              "    .dataframe thead th {\n",
              "        text-align: right;\n",
              "    }\n",
              "</style>\n",
              "<table border=\"1\" class=\"dataframe\">\n",
              "  <thead>\n",
              "    <tr style=\"text-align: right;\">\n",
              "      <th></th>\n",
              "      <th>loan_status_trim</th>\n",
              "      <th>count</th>\n",
              "    </tr>\n",
              "  </thead>\n",
              "  <tbody>\n",
              "    <tr>\n",
              "      <th>0</th>\n",
              "      <td>0</td>\n",
              "      <td>0.800193</td>\n",
              "    </tr>\n",
              "    <tr>\n",
              "      <th>1</th>\n",
              "      <td>1</td>\n",
              "      <td>0.199807</td>\n",
              "    </tr>\n",
              "  </tbody>\n",
              "</table>\n",
              "</div>"
            ],
            "text/plain": [
              "   loan_status_trim     count\n",
              "0                 0  0.800193\n",
              "1                 1  0.199807"
            ]
          },
          "metadata": {
            "tags": []
          },
          "execution_count": 24
        }
      ]
    },
    {
      "cell_type": "code",
      "metadata": {
        "colab": {
          "base_uri": "https://localhost:8080/",
          "height": 437
        },
        "id": "_7fvWuKt_WkC",
        "outputId": "b5c6ce9b-504a-475e-c621-b8ca3c3bc96e"
      },
      "source": [
        "#features = features.loc[(features[\"loan_status_trim\"] == \"Fully Paid\") | (features[\"loan_status_trim\"] == \"Charged Off\") | (features[\"loan_status_trim\"] == \"Default\")]\r\n",
        "features"
      ],
      "execution_count": null,
      "outputs": [
        {
          "output_type": "execute_result",
          "data": {
            "text/html": [
              "<div>\n",
              "<style scoped>\n",
              "    .dataframe tbody tr th:only-of-type {\n",
              "        vertical-align: middle;\n",
              "    }\n",
              "\n",
              "    .dataframe tbody tr th {\n",
              "        vertical-align: top;\n",
              "    }\n",
              "\n",
              "    .dataframe thead th {\n",
              "        text-align: right;\n",
              "    }\n",
              "</style>\n",
              "<table border=\"1\" class=\"dataframe\">\n",
              "  <thead>\n",
              "    <tr style=\"text-align: right;\">\n",
              "      <th></th>\n",
              "      <th>loan_status_trim</th>\n",
              "      <th>state_income</th>\n",
              "      <th>annual_inc_joint</th>\n",
              "      <th>indiv_app</th>\n",
              "      <th>dti_joint</th>\n",
              "      <th>days_from_1st_cr_line</th>\n",
              "      <th>emp_length</th>\n",
              "      <th>fico_range_high</th>\n",
              "      <th>fico_range_low</th>\n",
              "      <th>funded_amnt</th>\n",
              "      <th>home_ownership</th>\n",
              "      <th>inq_fi</th>\n",
              "      <th>inq_last_12m</th>\n",
              "      <th>installment</th>\n",
              "      <th>int_rate</th>\n",
              "      <th>loan_amnt</th>\n",
              "      <th>open_acc</th>\n",
              "      <th>pub_rec</th>\n",
              "      <th>pub_rec_bankruptcies</th>\n",
              "      <th>for_debt_consol</th>\n",
              "      <th>total_acc</th>\n",
              "      <th>revol_bal</th>\n",
              "      <th>revol_util</th>\n",
              "      <th>delinq_amnt</th>\n",
              "      <th>delinq_2yrs</th>\n",
              "      <th>mths_since_last_delinq</th>\n",
              "      <th>mths_since_last_major_derog</th>\n",
              "      <th>grade</th>\n",
              "    </tr>\n",
              "  </thead>\n",
              "  <tbody>\n",
              "    <tr>\n",
              "      <th>0</th>\n",
              "      <td>0</td>\n",
              "      <td>2</td>\n",
              "      <td>55000.0</td>\n",
              "      <td>1</td>\n",
              "      <td>5.91</td>\n",
              "      <td>4505.0</td>\n",
              "      <td>10</td>\n",
              "      <td>679.0</td>\n",
              "      <td>675.0</td>\n",
              "      <td>3600.0</td>\n",
              "      <td>1</td>\n",
              "      <td>3.0</td>\n",
              "      <td>4.0</td>\n",
              "      <td>123.03</td>\n",
              "      <td>13.99</td>\n",
              "      <td>3600.0</td>\n",
              "      <td>7.0</td>\n",
              "      <td>0.0</td>\n",
              "      <td>0.0</td>\n",
              "      <td>1</td>\n",
              "      <td>13.0</td>\n",
              "      <td>2765.0</td>\n",
              "      <td>29.7</td>\n",
              "      <td>0.0</td>\n",
              "      <td>0.0</td>\n",
              "      <td>30.0</td>\n",
              "      <td>30.0</td>\n",
              "      <td>4</td>\n",
              "    </tr>\n",
              "    <tr>\n",
              "      <th>1</th>\n",
              "      <td>0</td>\n",
              "      <td>1</td>\n",
              "      <td>65000.0</td>\n",
              "      <td>1</td>\n",
              "      <td>16.06</td>\n",
              "      <td>5844.0</td>\n",
              "      <td>10</td>\n",
              "      <td>719.0</td>\n",
              "      <td>715.0</td>\n",
              "      <td>24700.0</td>\n",
              "      <td>1</td>\n",
              "      <td>0.0</td>\n",
              "      <td>6.0</td>\n",
              "      <td>820.28</td>\n",
              "      <td>11.99</td>\n",
              "      <td>24700.0</td>\n",
              "      <td>22.0</td>\n",
              "      <td>0.0</td>\n",
              "      <td>0.0</td>\n",
              "      <td>0</td>\n",
              "      <td>38.0</td>\n",
              "      <td>21470.0</td>\n",
              "      <td>19.2</td>\n",
              "      <td>0.0</td>\n",
              "      <td>1.0</td>\n",
              "      <td>6.0</td>\n",
              "      <td>0.0</td>\n",
              "      <td>4</td>\n",
              "    </tr>\n",
              "    <tr>\n",
              "      <th>2</th>\n",
              "      <td>0</td>\n",
              "      <td>0</td>\n",
              "      <td>71000.0</td>\n",
              "      <td>0</td>\n",
              "      <td>13.85</td>\n",
              "      <td>5600.0</td>\n",
              "      <td>10</td>\n",
              "      <td>699.0</td>\n",
              "      <td>695.0</td>\n",
              "      <td>20000.0</td>\n",
              "      <td>1</td>\n",
              "      <td>2.0</td>\n",
              "      <td>1.0</td>\n",
              "      <td>432.66</td>\n",
              "      <td>10.78</td>\n",
              "      <td>20000.0</td>\n",
              "      <td>6.0</td>\n",
              "      <td>0.0</td>\n",
              "      <td>0.0</td>\n",
              "      <td>0</td>\n",
              "      <td>18.0</td>\n",
              "      <td>7869.0</td>\n",
              "      <td>56.2</td>\n",
              "      <td>0.0</td>\n",
              "      <td>0.0</td>\n",
              "      <td>0.0</td>\n",
              "      <td>0.0</td>\n",
              "      <td>5</td>\n",
              "    </tr>\n",
              "    <tr>\n",
              "      <th>4</th>\n",
              "      <td>0</td>\n",
              "      <td>2</td>\n",
              "      <td>104433.0</td>\n",
              "      <td>1</td>\n",
              "      <td>25.37</td>\n",
              "      <td>6392.0</td>\n",
              "      <td>3</td>\n",
              "      <td>699.0</td>\n",
              "      <td>695.0</td>\n",
              "      <td>10400.0</td>\n",
              "      <td>1</td>\n",
              "      <td>2.0</td>\n",
              "      <td>3.0</td>\n",
              "      <td>289.91</td>\n",
              "      <td>22.45</td>\n",
              "      <td>10400.0</td>\n",
              "      <td>12.0</td>\n",
              "      <td>0.0</td>\n",
              "      <td>0.0</td>\n",
              "      <td>0</td>\n",
              "      <td>35.0</td>\n",
              "      <td>21929.0</td>\n",
              "      <td>64.5</td>\n",
              "      <td>0.0</td>\n",
              "      <td>1.0</td>\n",
              "      <td>12.0</td>\n",
              "      <td>0.0</td>\n",
              "      <td>1</td>\n",
              "    </tr>\n",
              "    <tr>\n",
              "      <th>5</th>\n",
              "      <td>0</td>\n",
              "      <td>2</td>\n",
              "      <td>34000.0</td>\n",
              "      <td>1</td>\n",
              "      <td>10.20</td>\n",
              "      <td>10288.0</td>\n",
              "      <td>4</td>\n",
              "      <td>694.0</td>\n",
              "      <td>690.0</td>\n",
              "      <td>11950.0</td>\n",
              "      <td>0</td>\n",
              "      <td>0.0</td>\n",
              "      <td>0.0</td>\n",
              "      <td>405.18</td>\n",
              "      <td>13.44</td>\n",
              "      <td>11950.0</td>\n",
              "      <td>5.0</td>\n",
              "      <td>0.0</td>\n",
              "      <td>0.0</td>\n",
              "      <td>1</td>\n",
              "      <td>6.0</td>\n",
              "      <td>8822.0</td>\n",
              "      <td>68.4</td>\n",
              "      <td>0.0</td>\n",
              "      <td>0.0</td>\n",
              "      <td>0.0</td>\n",
              "      <td>0.0</td>\n",
              "      <td>4</td>\n",
              "    </tr>\n",
              "    <tr>\n",
              "      <th>...</th>\n",
              "      <td>...</td>\n",
              "      <td>...</td>\n",
              "      <td>...</td>\n",
              "      <td>...</td>\n",
              "      <td>...</td>\n",
              "      <td>...</td>\n",
              "      <td>...</td>\n",
              "      <td>...</td>\n",
              "      <td>...</td>\n",
              "      <td>...</td>\n",
              "      <td>...</td>\n",
              "      <td>...</td>\n",
              "      <td>...</td>\n",
              "      <td>...</td>\n",
              "      <td>...</td>\n",
              "      <td>...</td>\n",
              "      <td>...</td>\n",
              "      <td>...</td>\n",
              "      <td>...</td>\n",
              "      <td>...</td>\n",
              "      <td>...</td>\n",
              "      <td>...</td>\n",
              "      <td>...</td>\n",
              "      <td>...</td>\n",
              "      <td>...</td>\n",
              "      <td>...</td>\n",
              "      <td>...</td>\n",
              "      <td>...</td>\n",
              "    </tr>\n",
              "    <tr>\n",
              "      <th>2260657</th>\n",
              "      <td>0</td>\n",
              "      <td>3</td>\n",
              "      <td>130000.0</td>\n",
              "      <td>1</td>\n",
              "      <td>20.59</td>\n",
              "      <td>4475.0</td>\n",
              "      <td>5</td>\n",
              "      <td>739.0</td>\n",
              "      <td>735.0</td>\n",
              "      <td>18000.0</td>\n",
              "      <td>1</td>\n",
              "      <td>1.0</td>\n",
              "      <td>1.0</td>\n",
              "      <td>377.95</td>\n",
              "      <td>9.49</td>\n",
              "      <td>18000.0</td>\n",
              "      <td>17.0</td>\n",
              "      <td>0.0</td>\n",
              "      <td>0.0</td>\n",
              "      <td>0</td>\n",
              "      <td>39.0</td>\n",
              "      <td>23833.0</td>\n",
              "      <td>34.0</td>\n",
              "      <td>0.0</td>\n",
              "      <td>0.0</td>\n",
              "      <td>0.0</td>\n",
              "      <td>0.0</td>\n",
              "      <td>5</td>\n",
              "    </tr>\n",
              "    <tr>\n",
              "      <th>2260659</th>\n",
              "      <td>0</td>\n",
              "      <td>3</td>\n",
              "      <td>180792.0</td>\n",
              "      <td>1</td>\n",
              "      <td>22.03</td>\n",
              "      <td>5328.0</td>\n",
              "      <td>9</td>\n",
              "      <td>709.0</td>\n",
              "      <td>705.0</td>\n",
              "      <td>29400.0</td>\n",
              "      <td>1</td>\n",
              "      <td>3.0</td>\n",
              "      <td>2.0</td>\n",
              "      <td>683.94</td>\n",
              "      <td>13.99</td>\n",
              "      <td>29400.0</td>\n",
              "      <td>16.0</td>\n",
              "      <td>0.0</td>\n",
              "      <td>0.0</td>\n",
              "      <td>1</td>\n",
              "      <td>32.0</td>\n",
              "      <td>77480.0</td>\n",
              "      <td>85.2</td>\n",
              "      <td>0.0</td>\n",
              "      <td>0.0</td>\n",
              "      <td>0.0</td>\n",
              "      <td>0.0</td>\n",
              "      <td>4</td>\n",
              "    </tr>\n",
              "    <tr>\n",
              "      <th>2260660</th>\n",
              "      <td>1</td>\n",
              "      <td>2</td>\n",
              "      <td>157000.0</td>\n",
              "      <td>1</td>\n",
              "      <td>10.34</td>\n",
              "      <td>1949.0</td>\n",
              "      <td>3</td>\n",
              "      <td>739.0</td>\n",
              "      <td>735.0</td>\n",
              "      <td>32000.0</td>\n",
              "      <td>1</td>\n",
              "      <td>2.0</td>\n",
              "      <td>0.0</td>\n",
              "      <td>752.74</td>\n",
              "      <td>14.49</td>\n",
              "      <td>32000.0</td>\n",
              "      <td>14.0</td>\n",
              "      <td>0.0</td>\n",
              "      <td>0.0</td>\n",
              "      <td>0</td>\n",
              "      <td>18.0</td>\n",
              "      <td>111598.0</td>\n",
              "      <td>27.4</td>\n",
              "      <td>0.0</td>\n",
              "      <td>0.0</td>\n",
              "      <td>0.0</td>\n",
              "      <td>0.0</td>\n",
              "      <td>4</td>\n",
              "    </tr>\n",
              "    <tr>\n",
              "      <th>2260661</th>\n",
              "      <td>0</td>\n",
              "      <td>2</td>\n",
              "      <td>150000.0</td>\n",
              "      <td>1</td>\n",
              "      <td>12.25</td>\n",
              "      <td>7001.0</td>\n",
              "      <td>10</td>\n",
              "      <td>669.0</td>\n",
              "      <td>665.0</td>\n",
              "      <td>16000.0</td>\n",
              "      <td>0</td>\n",
              "      <td>1.0</td>\n",
              "      <td>1.0</td>\n",
              "      <td>362.34</td>\n",
              "      <td>12.79</td>\n",
              "      <td>16000.0</td>\n",
              "      <td>12.0</td>\n",
              "      <td>4.0</td>\n",
              "      <td>3.0</td>\n",
              "      <td>0</td>\n",
              "      <td>28.0</td>\n",
              "      <td>7700.0</td>\n",
              "      <td>55.0</td>\n",
              "      <td>0.0</td>\n",
              "      <td>0.0</td>\n",
              "      <td>68.0</td>\n",
              "      <td>68.0</td>\n",
              "      <td>4</td>\n",
              "    </tr>\n",
              "    <tr>\n",
              "      <th>2260666</th>\n",
              "      <td>1</td>\n",
              "      <td>2</td>\n",
              "      <td>110000.0</td>\n",
              "      <td>1</td>\n",
              "      <td>18.30</td>\n",
              "      <td>6302.0</td>\n",
              "      <td>6</td>\n",
              "      <td>664.0</td>\n",
              "      <td>660.0</td>\n",
              "      <td>24000.0</td>\n",
              "      <td>0</td>\n",
              "      <td>0.0</td>\n",
              "      <td>1.0</td>\n",
              "      <td>564.56</td>\n",
              "      <td>14.49</td>\n",
              "      <td>24000.0</td>\n",
              "      <td>10.0</td>\n",
              "      <td>1.0</td>\n",
              "      <td>1.0</td>\n",
              "      <td>1</td>\n",
              "      <td>31.0</td>\n",
              "      <td>17641.0</td>\n",
              "      <td>68.1</td>\n",
              "      <td>0.0</td>\n",
              "      <td>0.0</td>\n",
              "      <td>67.0</td>\n",
              "      <td>67.0</td>\n",
              "      <td>4</td>\n",
              "    </tr>\n",
              "  </tbody>\n",
              "</table>\n",
              "<p>1348099 rows × 28 columns</p>\n",
              "</div>"
            ],
            "text/plain": [
              "         loan_status_trim  state_income  ...  mths_since_last_major_derog  grade\n",
              "0                       0             2  ...                         30.0      4\n",
              "1                       0             1  ...                          0.0      4\n",
              "2                       0             0  ...                          0.0      5\n",
              "4                       0             2  ...                          0.0      1\n",
              "5                       0             2  ...                          0.0      4\n",
              "...                   ...           ...  ...                          ...    ...\n",
              "2260657                 0             3  ...                          0.0      5\n",
              "2260659                 0             3  ...                          0.0      4\n",
              "2260660                 1             2  ...                          0.0      4\n",
              "2260661                 0             2  ...                         68.0      4\n",
              "2260666                 1             2  ...                         67.0      4\n",
              "\n",
              "[1348099 rows x 28 columns]"
            ]
          },
          "metadata": {
            "tags": []
          },
          "execution_count": 32
        }
      ]
    },
    {
      "cell_type": "code",
      "metadata": {
        "colab": {
          "base_uri": "https://localhost:8080/"
        },
        "id": "w3MchvejAZ0q",
        "outputId": "f4ba4fa6-6454-4cc3-e868-526b4d449aa3"
      },
      "source": [
        "features.isnull().sum()"
      ],
      "execution_count": null,
      "outputs": [
        {
          "output_type": "execute_result",
          "data": {
            "text/plain": [
              "loan_status_trim               0\n",
              "state_income                   0\n",
              "annual_inc_joint               0\n",
              "indiv_app                      0\n",
              "dti_joint                      0\n",
              "days_from_1st_cr_line          0\n",
              "emp_length                     0\n",
              "fico_range_high                0\n",
              "fico_range_low                 0\n",
              "funded_amnt                    0\n",
              "home_ownership                 0\n",
              "inq_fi                         0\n",
              "inq_last_12m                   0\n",
              "installment                    0\n",
              "int_rate                       0\n",
              "loan_amnt                      0\n",
              "open_acc                       0\n",
              "pub_rec                        0\n",
              "pub_rec_bankruptcies           0\n",
              "for_debt_consol                0\n",
              "total_acc                      0\n",
              "revol_bal                      0\n",
              "revol_util                     0\n",
              "delinq_amnt                    0\n",
              "delinq_2yrs                    0\n",
              "mths_since_last_delinq         0\n",
              "mths_since_last_major_derog    0\n",
              "dtype: int64"
            ]
          },
          "metadata": {
            "tags": []
          },
          "execution_count": 17
        }
      ]
    },
    {
      "cell_type": "code",
      "metadata": {
        "id": "Bl9P7oy7-f1K"
      },
      "source": [
        "default = [\"Charged Off\", \"Default\"]"
      ],
      "execution_count": null,
      "outputs": []
    },
    {
      "cell_type": "code",
      "metadata": {
        "id": "r22RFyMKUu-T"
      },
      "source": [
        "def status(x):\r\n",
        "    if x in default:\r\n",
        "        return 1\r\n",
        "    else:\r\n",
        "        return 0    "
      ],
      "execution_count": null,
      "outputs": []
    },
    {
      "cell_type": "code",
      "metadata": {
        "colab": {
          "base_uri": "https://localhost:8080/"
        },
        "id": "rqDbDrdAAvUM",
        "outputId": "2d58c7f3-b848-4303-98b5-cf76d5819b93"
      },
      "source": [
        "features[\"loan_status_trim\"] = features[\"loan_status_trim\"].apply(status)\r\n",
        "features[\"loan_status_trim\"]"
      ],
      "execution_count": null,
      "outputs": [
        {
          "output_type": "stream",
          "text": [
            "/usr/local/lib/python3.6/dist-packages/ipykernel_launcher.py:1: SettingWithCopyWarning: \n",
            "A value is trying to be set on a copy of a slice from a DataFrame.\n",
            "Try using .loc[row_indexer,col_indexer] = value instead\n",
            "\n",
            "See the caveats in the documentation: https://pandas.pydata.org/pandas-docs/stable/user_guide/indexing.html#returning-a-view-versus-a-copy\n",
            "  \"\"\"Entry point for launching an IPython kernel.\n"
          ],
          "name": "stderr"
        },
        {
          "output_type": "execute_result",
          "data": {
            "text/plain": [
              "0          0\n",
              "1          0\n",
              "2          0\n",
              "4          0\n",
              "5          0\n",
              "          ..\n",
              "2260657    0\n",
              "2260659    0\n",
              "2260660    1\n",
              "2260661    0\n",
              "2260666    1\n",
              "Name: loan_status_trim, Length: 1348099, dtype: int64"
            ]
          },
          "metadata": {
            "tags": []
          },
          "execution_count": 26
        }
      ]
    },
    {
      "cell_type": "code",
      "metadata": {
        "colab": {
          "base_uri": "https://localhost:8080/",
          "height": 111
        },
        "id": "rgFI0_PIA87L",
        "outputId": "aa729de2-96b2-453a-8ac1-8d6636df2642"
      },
      "source": [
        "status = pd.DataFrame(features.groupby(\"loan_status_trim\")[\"pub_rec\"].count()).sort_values(by = \"pub_rec\", ascending = False).reset_index()\r\n",
        "status = status.rename(columns = {\"pub_rec\":\"count\"})\r\n",
        "status[\"count\"] = status[\"count\"] / sum(status[\"count\"])\r\n",
        "status"
      ],
      "execution_count": null,
      "outputs": [
        {
          "output_type": "execute_result",
          "data": {
            "text/html": [
              "<div>\n",
              "<style scoped>\n",
              "    .dataframe tbody tr th:only-of-type {\n",
              "        vertical-align: middle;\n",
              "    }\n",
              "\n",
              "    .dataframe tbody tr th {\n",
              "        vertical-align: top;\n",
              "    }\n",
              "\n",
              "    .dataframe thead th {\n",
              "        text-align: right;\n",
              "    }\n",
              "</style>\n",
              "<table border=\"1\" class=\"dataframe\">\n",
              "  <thead>\n",
              "    <tr style=\"text-align: right;\">\n",
              "      <th></th>\n",
              "      <th>loan_status_trim</th>\n",
              "      <th>count</th>\n",
              "    </tr>\n",
              "  </thead>\n",
              "  <tbody>\n",
              "    <tr>\n",
              "      <th>0</th>\n",
              "      <td>0</td>\n",
              "      <td>0.800193</td>\n",
              "    </tr>\n",
              "    <tr>\n",
              "      <th>1</th>\n",
              "      <td>1</td>\n",
              "      <td>0.199807</td>\n",
              "    </tr>\n",
              "  </tbody>\n",
              "</table>\n",
              "</div>"
            ],
            "text/plain": [
              "   loan_status_trim     count\n",
              "0                 0  0.800193\n",
              "1                 1  0.199807"
            ]
          },
          "metadata": {
            "tags": []
          },
          "execution_count": 27
        }
      ]
    },
    {
      "cell_type": "code",
      "metadata": {
        "colab": {
          "base_uri": "https://localhost:8080/"
        },
        "id": "-zbVx1O7TJ7_",
        "outputId": "e86d7aac-6eae-4a17-fbf3-dd0253843fac"
      },
      "source": [
        "features.info()"
      ],
      "execution_count": null,
      "outputs": [
        {
          "output_type": "stream",
          "text": [
            "<class 'pandas.core.frame.DataFrame'>\n",
            "Int64Index: 1348099 entries, 0 to 2260666\n",
            "Data columns (total 28 columns):\n",
            " #   Column                       Non-Null Count    Dtype  \n",
            "---  ------                       --------------    -----  \n",
            " 0   loan_status_trim             1348099 non-null  int64  \n",
            " 1   state_income                 1348099 non-null  int64  \n",
            " 2   annual_inc_joint             1348099 non-null  float64\n",
            " 3   indiv_app                    1348099 non-null  int64  \n",
            " 4   dti_joint                    1348099 non-null  float64\n",
            " 5   days_from_1st_cr_line        1348099 non-null  float64\n",
            " 6   emp_length                   1348099 non-null  int64  \n",
            " 7   fico_range_high              1348099 non-null  float64\n",
            " 8   fico_range_low               1348099 non-null  float64\n",
            " 9   funded_amnt                  1348099 non-null  float64\n",
            " 10  home_ownership               1348099 non-null  int64  \n",
            " 11  inq_fi                       1348099 non-null  float64\n",
            " 12  inq_last_12m                 1348099 non-null  float64\n",
            " 13  installment                  1348099 non-null  float64\n",
            " 14  int_rate                     1348099 non-null  float64\n",
            " 15  loan_amnt                    1348099 non-null  float64\n",
            " 16  open_acc                     1348099 non-null  float64\n",
            " 17  pub_rec                      1348099 non-null  float64\n",
            " 18  pub_rec_bankruptcies         1348099 non-null  float64\n",
            " 19  for_debt_consol              1348099 non-null  int64  \n",
            " 20  total_acc                    1348099 non-null  float64\n",
            " 21  revol_bal                    1348099 non-null  float64\n",
            " 22  revol_util                   1348099 non-null  float64\n",
            " 23  delinq_amnt                  1348099 non-null  float64\n",
            " 24  delinq_2yrs                  1348099 non-null  float64\n",
            " 25  mths_since_last_delinq       1348099 non-null  float64\n",
            " 26  mths_since_last_major_derog  1348099 non-null  float64\n",
            " 27  grade                        1348099 non-null  int64  \n",
            "dtypes: float64(21), int64(7)\n",
            "memory usage: 298.3 MB\n"
          ],
          "name": "stdout"
        }
      ]
    },
    {
      "cell_type": "code",
      "metadata": {
        "colab": {
          "base_uri": "https://localhost:8080/"
        },
        "id": "r4w8-_-ATfbq",
        "outputId": "fdb6486c-4071-48a8-85cb-8bef5b362dba"
      },
      "source": [
        "features.isnull().sum()"
      ],
      "execution_count": null,
      "outputs": [
        {
          "output_type": "execute_result",
          "data": {
            "text/plain": [
              "loan_status_trim               0\n",
              "state_income                   0\n",
              "annual_inc_joint               0\n",
              "indiv_app                      0\n",
              "dti_joint                      0\n",
              "days_from_1st_cr_line          0\n",
              "emp_length                     0\n",
              "fico_range_high                0\n",
              "fico_range_low                 0\n",
              "funded_amnt                    0\n",
              "home_ownership                 0\n",
              "inq_fi                         0\n",
              "inq_last_12m                   0\n",
              "installment                    0\n",
              "int_rate                       0\n",
              "loan_amnt                      0\n",
              "open_acc                       0\n",
              "pub_rec                        0\n",
              "pub_rec_bankruptcies           0\n",
              "for_debt_consol                0\n",
              "total_acc                      0\n",
              "revol_bal                      0\n",
              "revol_util                     0\n",
              "delinq_amnt                    0\n",
              "delinq_2yrs                    0\n",
              "mths_since_last_delinq         0\n",
              "mths_since_last_major_derog    0\n",
              "grade                          0\n",
              "dtype: int64"
            ]
          },
          "metadata": {
            "tags": []
          },
          "execution_count": 29
        }
      ]
    },
    {
      "cell_type": "code",
      "metadata": {
        "colab": {
          "base_uri": "https://localhost:8080/",
          "height": 444
        },
        "id": "by56cS_3WIN-",
        "outputId": "5433c0f7-e503-424d-d99e-6fce693723d7"
      },
      "source": [
        "featuresCD = features.loc[(features.grade == 3) | (features.grade == 4)]\r\n",
        "featuresCD"
      ],
      "execution_count": null,
      "outputs": [
        {
          "output_type": "execute_result",
          "data": {
            "text/html": [
              "<div>\n",
              "<style scoped>\n",
              "    .dataframe tbody tr th:only-of-type {\n",
              "        vertical-align: middle;\n",
              "    }\n",
              "\n",
              "    .dataframe tbody tr th {\n",
              "        vertical-align: top;\n",
              "    }\n",
              "\n",
              "    .dataframe thead th {\n",
              "        text-align: right;\n",
              "    }\n",
              "</style>\n",
              "<table border=\"1\" class=\"dataframe\">\n",
              "  <thead>\n",
              "    <tr style=\"text-align: right;\">\n",
              "      <th></th>\n",
              "      <th>Unnamed: 0</th>\n",
              "      <th>loan_status_trim</th>\n",
              "      <th>state_income</th>\n",
              "      <th>annual_inc_joint</th>\n",
              "      <th>indiv_app</th>\n",
              "      <th>dti_joint</th>\n",
              "      <th>days_from_1st_cr_line</th>\n",
              "      <th>emp_length</th>\n",
              "      <th>fico_range_high</th>\n",
              "      <th>fico_range_low</th>\n",
              "      <th>funded_amnt</th>\n",
              "      <th>home_ownership</th>\n",
              "      <th>inq_fi</th>\n",
              "      <th>inq_last_12m</th>\n",
              "      <th>installment</th>\n",
              "      <th>int_rate</th>\n",
              "      <th>loan_amnt</th>\n",
              "      <th>open_acc</th>\n",
              "      <th>pub_rec</th>\n",
              "      <th>pub_rec_bankruptcies</th>\n",
              "      <th>for_debt_consol</th>\n",
              "      <th>total_acc</th>\n",
              "      <th>revol_bal</th>\n",
              "      <th>revol_util</th>\n",
              "      <th>delinq_amnt</th>\n",
              "      <th>delinq_2yrs</th>\n",
              "      <th>mths_since_last_delinq</th>\n",
              "      <th>mths_since_last_major_derog</th>\n",
              "      <th>grade</th>\n",
              "    </tr>\n",
              "  </thead>\n",
              "  <tbody>\n",
              "    <tr>\n",
              "      <th>0</th>\n",
              "      <td>0</td>\n",
              "      <td>0</td>\n",
              "      <td>2</td>\n",
              "      <td>55000.0</td>\n",
              "      <td>1</td>\n",
              "      <td>5.91</td>\n",
              "      <td>4505.0</td>\n",
              "      <td>10</td>\n",
              "      <td>679.0</td>\n",
              "      <td>675.0</td>\n",
              "      <td>3600.0</td>\n",
              "      <td>1</td>\n",
              "      <td>3.0</td>\n",
              "      <td>4.0</td>\n",
              "      <td>123.03</td>\n",
              "      <td>13.99</td>\n",
              "      <td>3600.0</td>\n",
              "      <td>7.0</td>\n",
              "      <td>0.0</td>\n",
              "      <td>0.0</td>\n",
              "      <td>1</td>\n",
              "      <td>13.0</td>\n",
              "      <td>2765.0</td>\n",
              "      <td>29.7</td>\n",
              "      <td>0.0</td>\n",
              "      <td>0.0</td>\n",
              "      <td>30.0</td>\n",
              "      <td>30.0</td>\n",
              "      <td>4</td>\n",
              "    </tr>\n",
              "    <tr>\n",
              "      <th>1</th>\n",
              "      <td>1</td>\n",
              "      <td>0</td>\n",
              "      <td>1</td>\n",
              "      <td>65000.0</td>\n",
              "      <td>1</td>\n",
              "      <td>16.06</td>\n",
              "      <td>5844.0</td>\n",
              "      <td>10</td>\n",
              "      <td>719.0</td>\n",
              "      <td>715.0</td>\n",
              "      <td>24700.0</td>\n",
              "      <td>1</td>\n",
              "      <td>0.0</td>\n",
              "      <td>6.0</td>\n",
              "      <td>820.28</td>\n",
              "      <td>11.99</td>\n",
              "      <td>24700.0</td>\n",
              "      <td>22.0</td>\n",
              "      <td>0.0</td>\n",
              "      <td>0.0</td>\n",
              "      <td>0</td>\n",
              "      <td>38.0</td>\n",
              "      <td>21470.0</td>\n",
              "      <td>19.2</td>\n",
              "      <td>0.0</td>\n",
              "      <td>1.0</td>\n",
              "      <td>6.0</td>\n",
              "      <td>0.0</td>\n",
              "      <td>4</td>\n",
              "    </tr>\n",
              "    <tr>\n",
              "      <th>4</th>\n",
              "      <td>5</td>\n",
              "      <td>0</td>\n",
              "      <td>2</td>\n",
              "      <td>34000.0</td>\n",
              "      <td>1</td>\n",
              "      <td>10.20</td>\n",
              "      <td>10288.0</td>\n",
              "      <td>4</td>\n",
              "      <td>694.0</td>\n",
              "      <td>690.0</td>\n",
              "      <td>11950.0</td>\n",
              "      <td>0</td>\n",
              "      <td>0.0</td>\n",
              "      <td>0.0</td>\n",
              "      <td>405.18</td>\n",
              "      <td>13.44</td>\n",
              "      <td>11950.0</td>\n",
              "      <td>5.0</td>\n",
              "      <td>0.0</td>\n",
              "      <td>0.0</td>\n",
              "      <td>1</td>\n",
              "      <td>6.0</td>\n",
              "      <td>8822.0</td>\n",
              "      <td>68.4</td>\n",
              "      <td>0.0</td>\n",
              "      <td>0.0</td>\n",
              "      <td>0.0</td>\n",
              "      <td>0.0</td>\n",
              "      <td>4</td>\n",
              "    </tr>\n",
              "    <tr>\n",
              "      <th>9</th>\n",
              "      <td>12</td>\n",
              "      <td>0</td>\n",
              "      <td>2</td>\n",
              "      <td>64000.0</td>\n",
              "      <td>1</td>\n",
              "      <td>34.95</td>\n",
              "      <td>7122.0</td>\n",
              "      <td>3</td>\n",
              "      <td>704.0</td>\n",
              "      <td>700.0</td>\n",
              "      <td>1400.0</td>\n",
              "      <td>1</td>\n",
              "      <td>0.0</td>\n",
              "      <td>0.0</td>\n",
              "      <td>47.10</td>\n",
              "      <td>12.88</td>\n",
              "      <td>1400.0</td>\n",
              "      <td>17.0</td>\n",
              "      <td>0.0</td>\n",
              "      <td>0.0</td>\n",
              "      <td>0</td>\n",
              "      <td>24.0</td>\n",
              "      <td>37828.0</td>\n",
              "      <td>67.2</td>\n",
              "      <td>0.0</td>\n",
              "      <td>0.0</td>\n",
              "      <td>0.0</td>\n",
              "      <td>0.0</td>\n",
              "      <td>4</td>\n",
              "    </tr>\n",
              "    <tr>\n",
              "      <th>14</th>\n",
              "      <td>17</td>\n",
              "      <td>0</td>\n",
              "      <td>2</td>\n",
              "      <td>112000.0</td>\n",
              "      <td>1</td>\n",
              "      <td>8.68</td>\n",
              "      <td>8065.0</td>\n",
              "      <td>10</td>\n",
              "      <td>804.0</td>\n",
              "      <td>800.0</td>\n",
              "      <td>18000.0</td>\n",
              "      <td>1</td>\n",
              "      <td>0.0</td>\n",
              "      <td>1.0</td>\n",
              "      <td>400.31</td>\n",
              "      <td>11.99</td>\n",
              "      <td>18000.0</td>\n",
              "      <td>17.0</td>\n",
              "      <td>0.0</td>\n",
              "      <td>0.0</td>\n",
              "      <td>1</td>\n",
              "      <td>27.0</td>\n",
              "      <td>10711.0</td>\n",
              "      <td>15.5</td>\n",
              "      <td>0.0</td>\n",
              "      <td>0.0</td>\n",
              "      <td>0.0</td>\n",
              "      <td>0.0</td>\n",
              "      <td>4</td>\n",
              "    </tr>\n",
              "    <tr>\n",
              "      <th>...</th>\n",
              "      <td>...</td>\n",
              "      <td>...</td>\n",
              "      <td>...</td>\n",
              "      <td>...</td>\n",
              "      <td>...</td>\n",
              "      <td>...</td>\n",
              "      <td>...</td>\n",
              "      <td>...</td>\n",
              "      <td>...</td>\n",
              "      <td>...</td>\n",
              "      <td>...</td>\n",
              "      <td>...</td>\n",
              "      <td>...</td>\n",
              "      <td>...</td>\n",
              "      <td>...</td>\n",
              "      <td>...</td>\n",
              "      <td>...</td>\n",
              "      <td>...</td>\n",
              "      <td>...</td>\n",
              "      <td>...</td>\n",
              "      <td>...</td>\n",
              "      <td>...</td>\n",
              "      <td>...</td>\n",
              "      <td>...</td>\n",
              "      <td>...</td>\n",
              "      <td>...</td>\n",
              "      <td>...</td>\n",
              "      <td>...</td>\n",
              "      <td>...</td>\n",
              "    </tr>\n",
              "    <tr>\n",
              "      <th>1348093</th>\n",
              "      <td>2260655</td>\n",
              "      <td>0</td>\n",
              "      <td>2</td>\n",
              "      <td>119000.0</td>\n",
              "      <td>1</td>\n",
              "      <td>32.73</td>\n",
              "      <td>8827.0</td>\n",
              "      <td>10</td>\n",
              "      <td>689.0</td>\n",
              "      <td>685.0</td>\n",
              "      <td>23800.0</td>\n",
              "      <td>1</td>\n",
              "      <td>4.0</td>\n",
              "      <td>10.0</td>\n",
              "      <td>559.85</td>\n",
              "      <td>14.49</td>\n",
              "      <td>23800.0</td>\n",
              "      <td>13.0</td>\n",
              "      <td>0.0</td>\n",
              "      <td>0.0</td>\n",
              "      <td>1</td>\n",
              "      <td>29.0</td>\n",
              "      <td>107747.0</td>\n",
              "      <td>89.5</td>\n",
              "      <td>0.0</td>\n",
              "      <td>0.0</td>\n",
              "      <td>0.0</td>\n",
              "      <td>0.0</td>\n",
              "      <td>4</td>\n",
              "    </tr>\n",
              "    <tr>\n",
              "      <th>1348095</th>\n",
              "      <td>2260659</td>\n",
              "      <td>0</td>\n",
              "      <td>3</td>\n",
              "      <td>180792.0</td>\n",
              "      <td>1</td>\n",
              "      <td>22.03</td>\n",
              "      <td>5328.0</td>\n",
              "      <td>9</td>\n",
              "      <td>709.0</td>\n",
              "      <td>705.0</td>\n",
              "      <td>29400.0</td>\n",
              "      <td>1</td>\n",
              "      <td>3.0</td>\n",
              "      <td>2.0</td>\n",
              "      <td>683.94</td>\n",
              "      <td>13.99</td>\n",
              "      <td>29400.0</td>\n",
              "      <td>16.0</td>\n",
              "      <td>0.0</td>\n",
              "      <td>0.0</td>\n",
              "      <td>1</td>\n",
              "      <td>32.0</td>\n",
              "      <td>77480.0</td>\n",
              "      <td>85.2</td>\n",
              "      <td>0.0</td>\n",
              "      <td>0.0</td>\n",
              "      <td>0.0</td>\n",
              "      <td>0.0</td>\n",
              "      <td>4</td>\n",
              "    </tr>\n",
              "    <tr>\n",
              "      <th>1348096</th>\n",
              "      <td>2260660</td>\n",
              "      <td>1</td>\n",
              "      <td>2</td>\n",
              "      <td>157000.0</td>\n",
              "      <td>1</td>\n",
              "      <td>10.34</td>\n",
              "      <td>1949.0</td>\n",
              "      <td>3</td>\n",
              "      <td>739.0</td>\n",
              "      <td>735.0</td>\n",
              "      <td>32000.0</td>\n",
              "      <td>1</td>\n",
              "      <td>2.0</td>\n",
              "      <td>0.0</td>\n",
              "      <td>752.74</td>\n",
              "      <td>14.49</td>\n",
              "      <td>32000.0</td>\n",
              "      <td>14.0</td>\n",
              "      <td>0.0</td>\n",
              "      <td>0.0</td>\n",
              "      <td>0</td>\n",
              "      <td>18.0</td>\n",
              "      <td>111598.0</td>\n",
              "      <td>27.4</td>\n",
              "      <td>0.0</td>\n",
              "      <td>0.0</td>\n",
              "      <td>0.0</td>\n",
              "      <td>0.0</td>\n",
              "      <td>4</td>\n",
              "    </tr>\n",
              "    <tr>\n",
              "      <th>1348097</th>\n",
              "      <td>2260661</td>\n",
              "      <td>0</td>\n",
              "      <td>2</td>\n",
              "      <td>150000.0</td>\n",
              "      <td>1</td>\n",
              "      <td>12.25</td>\n",
              "      <td>7001.0</td>\n",
              "      <td>10</td>\n",
              "      <td>669.0</td>\n",
              "      <td>665.0</td>\n",
              "      <td>16000.0</td>\n",
              "      <td>0</td>\n",
              "      <td>1.0</td>\n",
              "      <td>1.0</td>\n",
              "      <td>362.34</td>\n",
              "      <td>12.79</td>\n",
              "      <td>16000.0</td>\n",
              "      <td>12.0</td>\n",
              "      <td>4.0</td>\n",
              "      <td>3.0</td>\n",
              "      <td>0</td>\n",
              "      <td>28.0</td>\n",
              "      <td>7700.0</td>\n",
              "      <td>55.0</td>\n",
              "      <td>0.0</td>\n",
              "      <td>0.0</td>\n",
              "      <td>68.0</td>\n",
              "      <td>68.0</td>\n",
              "      <td>4</td>\n",
              "    </tr>\n",
              "    <tr>\n",
              "      <th>1348098</th>\n",
              "      <td>2260666</td>\n",
              "      <td>1</td>\n",
              "      <td>2</td>\n",
              "      <td>110000.0</td>\n",
              "      <td>1</td>\n",
              "      <td>18.30</td>\n",
              "      <td>6302.0</td>\n",
              "      <td>6</td>\n",
              "      <td>664.0</td>\n",
              "      <td>660.0</td>\n",
              "      <td>24000.0</td>\n",
              "      <td>0</td>\n",
              "      <td>0.0</td>\n",
              "      <td>1.0</td>\n",
              "      <td>564.56</td>\n",
              "      <td>14.49</td>\n",
              "      <td>24000.0</td>\n",
              "      <td>10.0</td>\n",
              "      <td>1.0</td>\n",
              "      <td>1.0</td>\n",
              "      <td>1</td>\n",
              "      <td>31.0</td>\n",
              "      <td>17641.0</td>\n",
              "      <td>68.1</td>\n",
              "      <td>0.0</td>\n",
              "      <td>0.0</td>\n",
              "      <td>67.0</td>\n",
              "      <td>67.0</td>\n",
              "      <td>4</td>\n",
              "    </tr>\n",
              "  </tbody>\n",
              "</table>\n",
              "<p>583980 rows × 29 columns</p>\n",
              "</div>"
            ],
            "text/plain": [
              "         Unnamed: 0  loan_status_trim  ...  mths_since_last_major_derog  grade\n",
              "0                 0                 0  ...                         30.0      4\n",
              "1                 1                 0  ...                          0.0      4\n",
              "4                 5                 0  ...                          0.0      4\n",
              "9                12                 0  ...                          0.0      4\n",
              "14               17                 0  ...                          0.0      4\n",
              "...             ...               ...  ...                          ...    ...\n",
              "1348093     2260655                 0  ...                          0.0      4\n",
              "1348095     2260659                 0  ...                          0.0      4\n",
              "1348096     2260660                 1  ...                          0.0      4\n",
              "1348097     2260661                 0  ...                         68.0      4\n",
              "1348098     2260666                 1  ...                         67.0      4\n",
              "\n",
              "[583980 rows x 29 columns]"
            ]
          },
          "metadata": {
            "tags": []
          },
          "execution_count": 5
        }
      ]
    },
    {
      "cell_type": "code",
      "metadata": {
        "colab": {
          "base_uri": "https://localhost:8080/",
          "height": 111
        },
        "id": "fC6N_pjpW8Nn",
        "outputId": "a4dd478a-5a50-488d-e807-89166f40817e"
      },
      "source": [
        "status = pd.DataFrame(featuresCD.groupby(\"loan_status_trim\")[\"pub_rec\"].count()).sort_values(by = \"pub_rec\", ascending = False).reset_index()\r\n",
        "status = status.rename(columns = {\"pub_rec\":\"count\"})\r\n",
        "#status[\"count\"] = status[\"count\"] / sum(status[\"count\"])\r\n",
        "status"
      ],
      "execution_count": null,
      "outputs": [
        {
          "output_type": "execute_result",
          "data": {
            "text/html": [
              "<div>\n",
              "<style scoped>\n",
              "    .dataframe tbody tr th:only-of-type {\n",
              "        vertical-align: middle;\n",
              "    }\n",
              "\n",
              "    .dataframe tbody tr th {\n",
              "        vertical-align: top;\n",
              "    }\n",
              "\n",
              "    .dataframe thead th {\n",
              "        text-align: right;\n",
              "    }\n",
              "</style>\n",
              "<table border=\"1\" class=\"dataframe\">\n",
              "  <thead>\n",
              "    <tr style=\"text-align: right;\">\n",
              "      <th></th>\n",
              "      <th>loan_status_trim</th>\n",
              "      <th>count</th>\n",
              "    </tr>\n",
              "  </thead>\n",
              "  <tbody>\n",
              "    <tr>\n",
              "      <th>0</th>\n",
              "      <td>0</td>\n",
              "      <td>436911</td>\n",
              "    </tr>\n",
              "    <tr>\n",
              "      <th>1</th>\n",
              "      <td>1</td>\n",
              "      <td>147069</td>\n",
              "    </tr>\n",
              "  </tbody>\n",
              "</table>\n",
              "</div>"
            ],
            "text/plain": [
              "   loan_status_trim   count\n",
              "0                 0  436911\n",
              "1                 1  147069"
            ]
          },
          "metadata": {
            "tags": []
          },
          "execution_count": 11
        }
      ]
    },
    {
      "cell_type": "code",
      "metadata": {
        "colab": {
          "base_uri": "https://localhost:8080/"
        },
        "id": "QhFap1j45JLk",
        "outputId": "2bc6e6fa-4f42-4f03-ae94-77f18fd18701"
      },
      "source": [
        "len(featuresCD[featuresCD.loan_status_trim == 0])"
      ],
      "execution_count": null,
      "outputs": [
        {
          "output_type": "execute_result",
          "data": {
            "text/plain": [
              "436911"
            ]
          },
          "metadata": {
            "tags": []
          },
          "execution_count": 72
        }
      ]
    },
    {
      "cell_type": "code",
      "metadata": {
        "id": "ALudd-M3XH4P",
        "colab": {
          "base_uri": "https://localhost:8080/"
        },
        "outputId": "46db4d0c-7ce1-42e2-870c-12f15fad716e"
      },
      "source": [
        "featuresCD.drop(\"Unnamed: 0\", axis = 1, inplace = True)"
      ],
      "execution_count": null,
      "outputs": [
        {
          "output_type": "stream",
          "text": [
            "/usr/local/lib/python3.6/dist-packages/pandas/core/frame.py:4174: SettingWithCopyWarning: \n",
            "A value is trying to be set on a copy of a slice from a DataFrame\n",
            "\n",
            "See the caveats in the documentation: https://pandas.pydata.org/pandas-docs/stable/user_guide/indexing.html#returning-a-view-versus-a-copy\n",
            "  errors=errors,\n"
          ],
          "name": "stderr"
        }
      ]
    },
    {
      "cell_type": "code",
      "metadata": {
        "colab": {
          "base_uri": "https://localhost:8080/",
          "height": 427
        },
        "id": "k2KHDg1RYsML",
        "outputId": "4c6f375b-4278-485c-b7d8-5327af7dad95"
      },
      "source": [
        "featuresCD"
      ],
      "execution_count": null,
      "outputs": [
        {
          "output_type": "execute_result",
          "data": {
            "text/html": [
              "<div>\n",
              "<style scoped>\n",
              "    .dataframe tbody tr th:only-of-type {\n",
              "        vertical-align: middle;\n",
              "    }\n",
              "\n",
              "    .dataframe tbody tr th {\n",
              "        vertical-align: top;\n",
              "    }\n",
              "\n",
              "    .dataframe thead th {\n",
              "        text-align: right;\n",
              "    }\n",
              "</style>\n",
              "<table border=\"1\" class=\"dataframe\">\n",
              "  <thead>\n",
              "    <tr style=\"text-align: right;\">\n",
              "      <th></th>\n",
              "      <th>loan_status_trim</th>\n",
              "      <th>state_income</th>\n",
              "      <th>annual_inc_joint</th>\n",
              "      <th>indiv_app</th>\n",
              "      <th>dti_joint</th>\n",
              "      <th>days_from_1st_cr_line</th>\n",
              "      <th>emp_length</th>\n",
              "      <th>fico_range_high</th>\n",
              "      <th>fico_range_low</th>\n",
              "      <th>funded_amnt</th>\n",
              "      <th>home_ownership</th>\n",
              "      <th>inq_fi</th>\n",
              "      <th>inq_last_12m</th>\n",
              "      <th>installment</th>\n",
              "      <th>int_rate</th>\n",
              "      <th>loan_amnt</th>\n",
              "      <th>open_acc</th>\n",
              "      <th>pub_rec</th>\n",
              "      <th>pub_rec_bankruptcies</th>\n",
              "      <th>for_debt_consol</th>\n",
              "      <th>total_acc</th>\n",
              "      <th>revol_bal</th>\n",
              "      <th>revol_util</th>\n",
              "      <th>delinq_amnt</th>\n",
              "      <th>delinq_2yrs</th>\n",
              "      <th>mths_since_last_delinq</th>\n",
              "      <th>mths_since_last_major_derog</th>\n",
              "      <th>grade</th>\n",
              "    </tr>\n",
              "  </thead>\n",
              "  <tbody>\n",
              "    <tr>\n",
              "      <th>0</th>\n",
              "      <td>0</td>\n",
              "      <td>2</td>\n",
              "      <td>55000.0</td>\n",
              "      <td>1</td>\n",
              "      <td>5.91</td>\n",
              "      <td>4505.0</td>\n",
              "      <td>10</td>\n",
              "      <td>679.0</td>\n",
              "      <td>675.0</td>\n",
              "      <td>3600.0</td>\n",
              "      <td>1</td>\n",
              "      <td>3.0</td>\n",
              "      <td>4.0</td>\n",
              "      <td>123.03</td>\n",
              "      <td>13.99</td>\n",
              "      <td>3600.0</td>\n",
              "      <td>7.0</td>\n",
              "      <td>0.0</td>\n",
              "      <td>0.0</td>\n",
              "      <td>1</td>\n",
              "      <td>13.0</td>\n",
              "      <td>2765.0</td>\n",
              "      <td>29.7</td>\n",
              "      <td>0.0</td>\n",
              "      <td>0.0</td>\n",
              "      <td>30.0</td>\n",
              "      <td>30.0</td>\n",
              "      <td>4</td>\n",
              "    </tr>\n",
              "    <tr>\n",
              "      <th>1</th>\n",
              "      <td>0</td>\n",
              "      <td>1</td>\n",
              "      <td>65000.0</td>\n",
              "      <td>1</td>\n",
              "      <td>16.06</td>\n",
              "      <td>5844.0</td>\n",
              "      <td>10</td>\n",
              "      <td>719.0</td>\n",
              "      <td>715.0</td>\n",
              "      <td>24700.0</td>\n",
              "      <td>1</td>\n",
              "      <td>0.0</td>\n",
              "      <td>6.0</td>\n",
              "      <td>820.28</td>\n",
              "      <td>11.99</td>\n",
              "      <td>24700.0</td>\n",
              "      <td>22.0</td>\n",
              "      <td>0.0</td>\n",
              "      <td>0.0</td>\n",
              "      <td>0</td>\n",
              "      <td>38.0</td>\n",
              "      <td>21470.0</td>\n",
              "      <td>19.2</td>\n",
              "      <td>0.0</td>\n",
              "      <td>1.0</td>\n",
              "      <td>6.0</td>\n",
              "      <td>0.0</td>\n",
              "      <td>4</td>\n",
              "    </tr>\n",
              "    <tr>\n",
              "      <th>4</th>\n",
              "      <td>0</td>\n",
              "      <td>2</td>\n",
              "      <td>34000.0</td>\n",
              "      <td>1</td>\n",
              "      <td>10.20</td>\n",
              "      <td>10288.0</td>\n",
              "      <td>4</td>\n",
              "      <td>694.0</td>\n",
              "      <td>690.0</td>\n",
              "      <td>11950.0</td>\n",
              "      <td>0</td>\n",
              "      <td>0.0</td>\n",
              "      <td>0.0</td>\n",
              "      <td>405.18</td>\n",
              "      <td>13.44</td>\n",
              "      <td>11950.0</td>\n",
              "      <td>5.0</td>\n",
              "      <td>0.0</td>\n",
              "      <td>0.0</td>\n",
              "      <td>1</td>\n",
              "      <td>6.0</td>\n",
              "      <td>8822.0</td>\n",
              "      <td>68.4</td>\n",
              "      <td>0.0</td>\n",
              "      <td>0.0</td>\n",
              "      <td>0.0</td>\n",
              "      <td>0.0</td>\n",
              "      <td>4</td>\n",
              "    </tr>\n",
              "    <tr>\n",
              "      <th>9</th>\n",
              "      <td>0</td>\n",
              "      <td>2</td>\n",
              "      <td>64000.0</td>\n",
              "      <td>1</td>\n",
              "      <td>34.95</td>\n",
              "      <td>7122.0</td>\n",
              "      <td>3</td>\n",
              "      <td>704.0</td>\n",
              "      <td>700.0</td>\n",
              "      <td>1400.0</td>\n",
              "      <td>1</td>\n",
              "      <td>0.0</td>\n",
              "      <td>0.0</td>\n",
              "      <td>47.10</td>\n",
              "      <td>12.88</td>\n",
              "      <td>1400.0</td>\n",
              "      <td>17.0</td>\n",
              "      <td>0.0</td>\n",
              "      <td>0.0</td>\n",
              "      <td>0</td>\n",
              "      <td>24.0</td>\n",
              "      <td>37828.0</td>\n",
              "      <td>67.2</td>\n",
              "      <td>0.0</td>\n",
              "      <td>0.0</td>\n",
              "      <td>0.0</td>\n",
              "      <td>0.0</td>\n",
              "      <td>4</td>\n",
              "    </tr>\n",
              "    <tr>\n",
              "      <th>14</th>\n",
              "      <td>0</td>\n",
              "      <td>2</td>\n",
              "      <td>112000.0</td>\n",
              "      <td>1</td>\n",
              "      <td>8.68</td>\n",
              "      <td>8065.0</td>\n",
              "      <td>10</td>\n",
              "      <td>804.0</td>\n",
              "      <td>800.0</td>\n",
              "      <td>18000.0</td>\n",
              "      <td>1</td>\n",
              "      <td>0.0</td>\n",
              "      <td>1.0</td>\n",
              "      <td>400.31</td>\n",
              "      <td>11.99</td>\n",
              "      <td>18000.0</td>\n",
              "      <td>17.0</td>\n",
              "      <td>0.0</td>\n",
              "      <td>0.0</td>\n",
              "      <td>1</td>\n",
              "      <td>27.0</td>\n",
              "      <td>10711.0</td>\n",
              "      <td>15.5</td>\n",
              "      <td>0.0</td>\n",
              "      <td>0.0</td>\n",
              "      <td>0.0</td>\n",
              "      <td>0.0</td>\n",
              "      <td>4</td>\n",
              "    </tr>\n",
              "    <tr>\n",
              "      <th>...</th>\n",
              "      <td>...</td>\n",
              "      <td>...</td>\n",
              "      <td>...</td>\n",
              "      <td>...</td>\n",
              "      <td>...</td>\n",
              "      <td>...</td>\n",
              "      <td>...</td>\n",
              "      <td>...</td>\n",
              "      <td>...</td>\n",
              "      <td>...</td>\n",
              "      <td>...</td>\n",
              "      <td>...</td>\n",
              "      <td>...</td>\n",
              "      <td>...</td>\n",
              "      <td>...</td>\n",
              "      <td>...</td>\n",
              "      <td>...</td>\n",
              "      <td>...</td>\n",
              "      <td>...</td>\n",
              "      <td>...</td>\n",
              "      <td>...</td>\n",
              "      <td>...</td>\n",
              "      <td>...</td>\n",
              "      <td>...</td>\n",
              "      <td>...</td>\n",
              "      <td>...</td>\n",
              "      <td>...</td>\n",
              "      <td>...</td>\n",
              "    </tr>\n",
              "    <tr>\n",
              "      <th>1348093</th>\n",
              "      <td>0</td>\n",
              "      <td>2</td>\n",
              "      <td>119000.0</td>\n",
              "      <td>1</td>\n",
              "      <td>32.73</td>\n",
              "      <td>8827.0</td>\n",
              "      <td>10</td>\n",
              "      <td>689.0</td>\n",
              "      <td>685.0</td>\n",
              "      <td>23800.0</td>\n",
              "      <td>1</td>\n",
              "      <td>4.0</td>\n",
              "      <td>10.0</td>\n",
              "      <td>559.85</td>\n",
              "      <td>14.49</td>\n",
              "      <td>23800.0</td>\n",
              "      <td>13.0</td>\n",
              "      <td>0.0</td>\n",
              "      <td>0.0</td>\n",
              "      <td>1</td>\n",
              "      <td>29.0</td>\n",
              "      <td>107747.0</td>\n",
              "      <td>89.5</td>\n",
              "      <td>0.0</td>\n",
              "      <td>0.0</td>\n",
              "      <td>0.0</td>\n",
              "      <td>0.0</td>\n",
              "      <td>4</td>\n",
              "    </tr>\n",
              "    <tr>\n",
              "      <th>1348095</th>\n",
              "      <td>0</td>\n",
              "      <td>3</td>\n",
              "      <td>180792.0</td>\n",
              "      <td>1</td>\n",
              "      <td>22.03</td>\n",
              "      <td>5328.0</td>\n",
              "      <td>9</td>\n",
              "      <td>709.0</td>\n",
              "      <td>705.0</td>\n",
              "      <td>29400.0</td>\n",
              "      <td>1</td>\n",
              "      <td>3.0</td>\n",
              "      <td>2.0</td>\n",
              "      <td>683.94</td>\n",
              "      <td>13.99</td>\n",
              "      <td>29400.0</td>\n",
              "      <td>16.0</td>\n",
              "      <td>0.0</td>\n",
              "      <td>0.0</td>\n",
              "      <td>1</td>\n",
              "      <td>32.0</td>\n",
              "      <td>77480.0</td>\n",
              "      <td>85.2</td>\n",
              "      <td>0.0</td>\n",
              "      <td>0.0</td>\n",
              "      <td>0.0</td>\n",
              "      <td>0.0</td>\n",
              "      <td>4</td>\n",
              "    </tr>\n",
              "    <tr>\n",
              "      <th>1348096</th>\n",
              "      <td>1</td>\n",
              "      <td>2</td>\n",
              "      <td>157000.0</td>\n",
              "      <td>1</td>\n",
              "      <td>10.34</td>\n",
              "      <td>1949.0</td>\n",
              "      <td>3</td>\n",
              "      <td>739.0</td>\n",
              "      <td>735.0</td>\n",
              "      <td>32000.0</td>\n",
              "      <td>1</td>\n",
              "      <td>2.0</td>\n",
              "      <td>0.0</td>\n",
              "      <td>752.74</td>\n",
              "      <td>14.49</td>\n",
              "      <td>32000.0</td>\n",
              "      <td>14.0</td>\n",
              "      <td>0.0</td>\n",
              "      <td>0.0</td>\n",
              "      <td>0</td>\n",
              "      <td>18.0</td>\n",
              "      <td>111598.0</td>\n",
              "      <td>27.4</td>\n",
              "      <td>0.0</td>\n",
              "      <td>0.0</td>\n",
              "      <td>0.0</td>\n",
              "      <td>0.0</td>\n",
              "      <td>4</td>\n",
              "    </tr>\n",
              "    <tr>\n",
              "      <th>1348097</th>\n",
              "      <td>0</td>\n",
              "      <td>2</td>\n",
              "      <td>150000.0</td>\n",
              "      <td>1</td>\n",
              "      <td>12.25</td>\n",
              "      <td>7001.0</td>\n",
              "      <td>10</td>\n",
              "      <td>669.0</td>\n",
              "      <td>665.0</td>\n",
              "      <td>16000.0</td>\n",
              "      <td>0</td>\n",
              "      <td>1.0</td>\n",
              "      <td>1.0</td>\n",
              "      <td>362.34</td>\n",
              "      <td>12.79</td>\n",
              "      <td>16000.0</td>\n",
              "      <td>12.0</td>\n",
              "      <td>4.0</td>\n",
              "      <td>3.0</td>\n",
              "      <td>0</td>\n",
              "      <td>28.0</td>\n",
              "      <td>7700.0</td>\n",
              "      <td>55.0</td>\n",
              "      <td>0.0</td>\n",
              "      <td>0.0</td>\n",
              "      <td>68.0</td>\n",
              "      <td>68.0</td>\n",
              "      <td>4</td>\n",
              "    </tr>\n",
              "    <tr>\n",
              "      <th>1348098</th>\n",
              "      <td>1</td>\n",
              "      <td>2</td>\n",
              "      <td>110000.0</td>\n",
              "      <td>1</td>\n",
              "      <td>18.30</td>\n",
              "      <td>6302.0</td>\n",
              "      <td>6</td>\n",
              "      <td>664.0</td>\n",
              "      <td>660.0</td>\n",
              "      <td>24000.0</td>\n",
              "      <td>0</td>\n",
              "      <td>0.0</td>\n",
              "      <td>1.0</td>\n",
              "      <td>564.56</td>\n",
              "      <td>14.49</td>\n",
              "      <td>24000.0</td>\n",
              "      <td>10.0</td>\n",
              "      <td>1.0</td>\n",
              "      <td>1.0</td>\n",
              "      <td>1</td>\n",
              "      <td>31.0</td>\n",
              "      <td>17641.0</td>\n",
              "      <td>68.1</td>\n",
              "      <td>0.0</td>\n",
              "      <td>0.0</td>\n",
              "      <td>67.0</td>\n",
              "      <td>67.0</td>\n",
              "      <td>4</td>\n",
              "    </tr>\n",
              "  </tbody>\n",
              "</table>\n",
              "<p>583980 rows × 28 columns</p>\n",
              "</div>"
            ],
            "text/plain": [
              "         loan_status_trim  state_income  ...  mths_since_last_major_derog  grade\n",
              "0                       0             2  ...                         30.0      4\n",
              "1                       0             1  ...                          0.0      4\n",
              "4                       0             2  ...                          0.0      4\n",
              "9                       0             2  ...                          0.0      4\n",
              "14                      0             2  ...                          0.0      4\n",
              "...                   ...           ...  ...                          ...    ...\n",
              "1348093                 0             2  ...                          0.0      4\n",
              "1348095                 0             3  ...                          0.0      4\n",
              "1348096                 1             2  ...                          0.0      4\n",
              "1348097                 0             2  ...                         68.0      4\n",
              "1348098                 1             2  ...                         67.0      4\n",
              "\n",
              "[583980 rows x 28 columns]"
            ]
          },
          "metadata": {
            "tags": []
          },
          "execution_count": 9
        }
      ]
    },
    {
      "cell_type": "code",
      "metadata": {
        "colab": {
          "base_uri": "https://localhost:8080/"
        },
        "id": "ajOOpC2hV3Np",
        "outputId": "c42f3f83-ebe2-4c34-f1fe-dd4b942b6911"
      },
      "source": [
        "%%time\r\n",
        "featuresCD.to_csv(\"/content/gdrive/MyDrive/NYC DSA Capstone Project/Data/featuresCD.csv\")"
      ],
      "execution_count": null,
      "outputs": [
        {
          "output_type": "stream",
          "text": [
            "CPU times: user 11.1 s, sys: 102 ms, total: 11.2 s\n",
            "Wall time: 11.5 s\n"
          ],
          "name": "stdout"
        }
      ]
    },
    {
      "cell_type": "code",
      "metadata": {
        "colab": {
          "base_uri": "https://localhost:8080/"
        },
        "id": "Xmd_fGfvFWbc",
        "outputId": "c2430b61-68e2-43d7-8d42-be07c653f500"
      },
      "source": [
        "# %%time\r\n",
        "# features.to_csv(\"/content/gdrive/MyDrive/NYC DSA Capstone Project/Data/features.csv\")"
      ],
      "execution_count": null,
      "outputs": [
        {
          "output_type": "stream",
          "text": [
            "CPU times: user 41.5 s, sys: 398 ms, total: 41.9 s\n",
            "Wall time: 42.9 s\n"
          ],
          "name": "stdout"
        }
      ]
    },
    {
      "cell_type": "code",
      "metadata": {
        "id": "JzQNGEowB6Tn"
      },
      "source": [
        "import sklearn.model_selection as ms\r\n",
        "from sklearn.model_selection import train_test_split"
      ],
      "execution_count": null,
      "outputs": []
    },
    {
      "cell_type": "code",
      "metadata": {
        "id": "3G3c4zuaDe7c"
      },
      "source": [
        "data = featuresCD.iloc[:, 1:27]\r\n",
        "target = featuresCD.iloc[:, 0]"
      ],
      "execution_count": null,
      "outputs": []
    },
    {
      "cell_type": "code",
      "metadata": {
        "colab": {
          "base_uri": "https://localhost:8080/",
          "height": 440
        },
        "id": "qyoxj3UhbrVS",
        "outputId": "3846706a-c3e0-4354-864b-6367f0d74b61"
      },
      "source": [
        "data"
      ],
      "execution_count": null,
      "outputs": [
        {
          "output_type": "execute_result",
          "data": {
            "text/html": [
              "<div>\n",
              "<style scoped>\n",
              "    .dataframe tbody tr th:only-of-type {\n",
              "        vertical-align: middle;\n",
              "    }\n",
              "\n",
              "    .dataframe tbody tr th {\n",
              "        vertical-align: top;\n",
              "    }\n",
              "\n",
              "    .dataframe thead th {\n",
              "        text-align: right;\n",
              "    }\n",
              "</style>\n",
              "<table border=\"1\" class=\"dataframe\">\n",
              "  <thead>\n",
              "    <tr style=\"text-align: right;\">\n",
              "      <th></th>\n",
              "      <th>state_income</th>\n",
              "      <th>annual_inc_joint</th>\n",
              "      <th>indiv_app</th>\n",
              "      <th>dti_joint</th>\n",
              "      <th>days_from_1st_cr_line</th>\n",
              "      <th>emp_length</th>\n",
              "      <th>fico_range_high</th>\n",
              "      <th>fico_range_low</th>\n",
              "      <th>funded_amnt</th>\n",
              "      <th>home_ownership</th>\n",
              "      <th>inq_fi</th>\n",
              "      <th>inq_last_12m</th>\n",
              "      <th>installment</th>\n",
              "      <th>int_rate</th>\n",
              "      <th>loan_amnt</th>\n",
              "      <th>open_acc</th>\n",
              "      <th>pub_rec</th>\n",
              "      <th>pub_rec_bankruptcies</th>\n",
              "      <th>for_debt_consol</th>\n",
              "      <th>total_acc</th>\n",
              "      <th>revol_bal</th>\n",
              "      <th>revol_util</th>\n",
              "      <th>delinq_amnt</th>\n",
              "      <th>delinq_2yrs</th>\n",
              "      <th>mths_since_last_delinq</th>\n",
              "      <th>mths_since_last_major_derog</th>\n",
              "    </tr>\n",
              "  </thead>\n",
              "  <tbody>\n",
              "    <tr>\n",
              "      <th>0</th>\n",
              "      <td>2</td>\n",
              "      <td>55000.0</td>\n",
              "      <td>1</td>\n",
              "      <td>5.91</td>\n",
              "      <td>4505.0</td>\n",
              "      <td>10</td>\n",
              "      <td>679.0</td>\n",
              "      <td>675.0</td>\n",
              "      <td>3600.0</td>\n",
              "      <td>1</td>\n",
              "      <td>3.0</td>\n",
              "      <td>4.0</td>\n",
              "      <td>123.03</td>\n",
              "      <td>13.99</td>\n",
              "      <td>3600.0</td>\n",
              "      <td>7.0</td>\n",
              "      <td>0.0</td>\n",
              "      <td>0.0</td>\n",
              "      <td>1</td>\n",
              "      <td>13.0</td>\n",
              "      <td>2765.0</td>\n",
              "      <td>29.7</td>\n",
              "      <td>0.0</td>\n",
              "      <td>0.0</td>\n",
              "      <td>30.0</td>\n",
              "      <td>30.0</td>\n",
              "    </tr>\n",
              "    <tr>\n",
              "      <th>1</th>\n",
              "      <td>1</td>\n",
              "      <td>65000.0</td>\n",
              "      <td>1</td>\n",
              "      <td>16.06</td>\n",
              "      <td>5844.0</td>\n",
              "      <td>10</td>\n",
              "      <td>719.0</td>\n",
              "      <td>715.0</td>\n",
              "      <td>24700.0</td>\n",
              "      <td>1</td>\n",
              "      <td>0.0</td>\n",
              "      <td>6.0</td>\n",
              "      <td>820.28</td>\n",
              "      <td>11.99</td>\n",
              "      <td>24700.0</td>\n",
              "      <td>22.0</td>\n",
              "      <td>0.0</td>\n",
              "      <td>0.0</td>\n",
              "      <td>0</td>\n",
              "      <td>38.0</td>\n",
              "      <td>21470.0</td>\n",
              "      <td>19.2</td>\n",
              "      <td>0.0</td>\n",
              "      <td>1.0</td>\n",
              "      <td>6.0</td>\n",
              "      <td>0.0</td>\n",
              "    </tr>\n",
              "    <tr>\n",
              "      <th>4</th>\n",
              "      <td>2</td>\n",
              "      <td>34000.0</td>\n",
              "      <td>1</td>\n",
              "      <td>10.20</td>\n",
              "      <td>10288.0</td>\n",
              "      <td>4</td>\n",
              "      <td>694.0</td>\n",
              "      <td>690.0</td>\n",
              "      <td>11950.0</td>\n",
              "      <td>0</td>\n",
              "      <td>0.0</td>\n",
              "      <td>0.0</td>\n",
              "      <td>405.18</td>\n",
              "      <td>13.44</td>\n",
              "      <td>11950.0</td>\n",
              "      <td>5.0</td>\n",
              "      <td>0.0</td>\n",
              "      <td>0.0</td>\n",
              "      <td>1</td>\n",
              "      <td>6.0</td>\n",
              "      <td>8822.0</td>\n",
              "      <td>68.4</td>\n",
              "      <td>0.0</td>\n",
              "      <td>0.0</td>\n",
              "      <td>0.0</td>\n",
              "      <td>0.0</td>\n",
              "    </tr>\n",
              "    <tr>\n",
              "      <th>9</th>\n",
              "      <td>2</td>\n",
              "      <td>64000.0</td>\n",
              "      <td>1</td>\n",
              "      <td>34.95</td>\n",
              "      <td>7122.0</td>\n",
              "      <td>3</td>\n",
              "      <td>704.0</td>\n",
              "      <td>700.0</td>\n",
              "      <td>1400.0</td>\n",
              "      <td>1</td>\n",
              "      <td>0.0</td>\n",
              "      <td>0.0</td>\n",
              "      <td>47.10</td>\n",
              "      <td>12.88</td>\n",
              "      <td>1400.0</td>\n",
              "      <td>17.0</td>\n",
              "      <td>0.0</td>\n",
              "      <td>0.0</td>\n",
              "      <td>0</td>\n",
              "      <td>24.0</td>\n",
              "      <td>37828.0</td>\n",
              "      <td>67.2</td>\n",
              "      <td>0.0</td>\n",
              "      <td>0.0</td>\n",
              "      <td>0.0</td>\n",
              "      <td>0.0</td>\n",
              "    </tr>\n",
              "    <tr>\n",
              "      <th>14</th>\n",
              "      <td>2</td>\n",
              "      <td>112000.0</td>\n",
              "      <td>1</td>\n",
              "      <td>8.68</td>\n",
              "      <td>8065.0</td>\n",
              "      <td>10</td>\n",
              "      <td>804.0</td>\n",
              "      <td>800.0</td>\n",
              "      <td>18000.0</td>\n",
              "      <td>1</td>\n",
              "      <td>0.0</td>\n",
              "      <td>1.0</td>\n",
              "      <td>400.31</td>\n",
              "      <td>11.99</td>\n",
              "      <td>18000.0</td>\n",
              "      <td>17.0</td>\n",
              "      <td>0.0</td>\n",
              "      <td>0.0</td>\n",
              "      <td>1</td>\n",
              "      <td>27.0</td>\n",
              "      <td>10711.0</td>\n",
              "      <td>15.5</td>\n",
              "      <td>0.0</td>\n",
              "      <td>0.0</td>\n",
              "      <td>0.0</td>\n",
              "      <td>0.0</td>\n",
              "    </tr>\n",
              "    <tr>\n",
              "      <th>...</th>\n",
              "      <td>...</td>\n",
              "      <td>...</td>\n",
              "      <td>...</td>\n",
              "      <td>...</td>\n",
              "      <td>...</td>\n",
              "      <td>...</td>\n",
              "      <td>...</td>\n",
              "      <td>...</td>\n",
              "      <td>...</td>\n",
              "      <td>...</td>\n",
              "      <td>...</td>\n",
              "      <td>...</td>\n",
              "      <td>...</td>\n",
              "      <td>...</td>\n",
              "      <td>...</td>\n",
              "      <td>...</td>\n",
              "      <td>...</td>\n",
              "      <td>...</td>\n",
              "      <td>...</td>\n",
              "      <td>...</td>\n",
              "      <td>...</td>\n",
              "      <td>...</td>\n",
              "      <td>...</td>\n",
              "      <td>...</td>\n",
              "      <td>...</td>\n",
              "      <td>...</td>\n",
              "    </tr>\n",
              "    <tr>\n",
              "      <th>1348093</th>\n",
              "      <td>2</td>\n",
              "      <td>119000.0</td>\n",
              "      <td>1</td>\n",
              "      <td>32.73</td>\n",
              "      <td>8827.0</td>\n",
              "      <td>10</td>\n",
              "      <td>689.0</td>\n",
              "      <td>685.0</td>\n",
              "      <td>23800.0</td>\n",
              "      <td>1</td>\n",
              "      <td>4.0</td>\n",
              "      <td>10.0</td>\n",
              "      <td>559.85</td>\n",
              "      <td>14.49</td>\n",
              "      <td>23800.0</td>\n",
              "      <td>13.0</td>\n",
              "      <td>0.0</td>\n",
              "      <td>0.0</td>\n",
              "      <td>1</td>\n",
              "      <td>29.0</td>\n",
              "      <td>107747.0</td>\n",
              "      <td>89.5</td>\n",
              "      <td>0.0</td>\n",
              "      <td>0.0</td>\n",
              "      <td>0.0</td>\n",
              "      <td>0.0</td>\n",
              "    </tr>\n",
              "    <tr>\n",
              "      <th>1348095</th>\n",
              "      <td>3</td>\n",
              "      <td>180792.0</td>\n",
              "      <td>1</td>\n",
              "      <td>22.03</td>\n",
              "      <td>5328.0</td>\n",
              "      <td>9</td>\n",
              "      <td>709.0</td>\n",
              "      <td>705.0</td>\n",
              "      <td>29400.0</td>\n",
              "      <td>1</td>\n",
              "      <td>3.0</td>\n",
              "      <td>2.0</td>\n",
              "      <td>683.94</td>\n",
              "      <td>13.99</td>\n",
              "      <td>29400.0</td>\n",
              "      <td>16.0</td>\n",
              "      <td>0.0</td>\n",
              "      <td>0.0</td>\n",
              "      <td>1</td>\n",
              "      <td>32.0</td>\n",
              "      <td>77480.0</td>\n",
              "      <td>85.2</td>\n",
              "      <td>0.0</td>\n",
              "      <td>0.0</td>\n",
              "      <td>0.0</td>\n",
              "      <td>0.0</td>\n",
              "    </tr>\n",
              "    <tr>\n",
              "      <th>1348096</th>\n",
              "      <td>2</td>\n",
              "      <td>157000.0</td>\n",
              "      <td>1</td>\n",
              "      <td>10.34</td>\n",
              "      <td>1949.0</td>\n",
              "      <td>3</td>\n",
              "      <td>739.0</td>\n",
              "      <td>735.0</td>\n",
              "      <td>32000.0</td>\n",
              "      <td>1</td>\n",
              "      <td>2.0</td>\n",
              "      <td>0.0</td>\n",
              "      <td>752.74</td>\n",
              "      <td>14.49</td>\n",
              "      <td>32000.0</td>\n",
              "      <td>14.0</td>\n",
              "      <td>0.0</td>\n",
              "      <td>0.0</td>\n",
              "      <td>0</td>\n",
              "      <td>18.0</td>\n",
              "      <td>111598.0</td>\n",
              "      <td>27.4</td>\n",
              "      <td>0.0</td>\n",
              "      <td>0.0</td>\n",
              "      <td>0.0</td>\n",
              "      <td>0.0</td>\n",
              "    </tr>\n",
              "    <tr>\n",
              "      <th>1348097</th>\n",
              "      <td>2</td>\n",
              "      <td>150000.0</td>\n",
              "      <td>1</td>\n",
              "      <td>12.25</td>\n",
              "      <td>7001.0</td>\n",
              "      <td>10</td>\n",
              "      <td>669.0</td>\n",
              "      <td>665.0</td>\n",
              "      <td>16000.0</td>\n",
              "      <td>0</td>\n",
              "      <td>1.0</td>\n",
              "      <td>1.0</td>\n",
              "      <td>362.34</td>\n",
              "      <td>12.79</td>\n",
              "      <td>16000.0</td>\n",
              "      <td>12.0</td>\n",
              "      <td>4.0</td>\n",
              "      <td>3.0</td>\n",
              "      <td>0</td>\n",
              "      <td>28.0</td>\n",
              "      <td>7700.0</td>\n",
              "      <td>55.0</td>\n",
              "      <td>0.0</td>\n",
              "      <td>0.0</td>\n",
              "      <td>68.0</td>\n",
              "      <td>68.0</td>\n",
              "    </tr>\n",
              "    <tr>\n",
              "      <th>1348098</th>\n",
              "      <td>2</td>\n",
              "      <td>110000.0</td>\n",
              "      <td>1</td>\n",
              "      <td>18.30</td>\n",
              "      <td>6302.0</td>\n",
              "      <td>6</td>\n",
              "      <td>664.0</td>\n",
              "      <td>660.0</td>\n",
              "      <td>24000.0</td>\n",
              "      <td>0</td>\n",
              "      <td>0.0</td>\n",
              "      <td>1.0</td>\n",
              "      <td>564.56</td>\n",
              "      <td>14.49</td>\n",
              "      <td>24000.0</td>\n",
              "      <td>10.0</td>\n",
              "      <td>1.0</td>\n",
              "      <td>1.0</td>\n",
              "      <td>1</td>\n",
              "      <td>31.0</td>\n",
              "      <td>17641.0</td>\n",
              "      <td>68.1</td>\n",
              "      <td>0.0</td>\n",
              "      <td>0.0</td>\n",
              "      <td>67.0</td>\n",
              "      <td>67.0</td>\n",
              "    </tr>\n",
              "  </tbody>\n",
              "</table>\n",
              "<p>583980 rows × 26 columns</p>\n",
              "</div>"
            ],
            "text/plain": [
              "         state_income  ...  mths_since_last_major_derog\n",
              "0                   2  ...                         30.0\n",
              "1                   1  ...                          0.0\n",
              "4                   2  ...                          0.0\n",
              "9                   2  ...                          0.0\n",
              "14                  2  ...                          0.0\n",
              "...               ...  ...                          ...\n",
              "1348093             2  ...                          0.0\n",
              "1348095             3  ...                          0.0\n",
              "1348096             2  ...                          0.0\n",
              "1348097             2  ...                         68.0\n",
              "1348098             2  ...                         67.0\n",
              "\n",
              "[583980 rows x 26 columns]"
            ]
          },
          "metadata": {
            "tags": []
          },
          "execution_count": 8
        }
      ]
    },
    {
      "cell_type": "code",
      "metadata": {
        "colab": {
          "base_uri": "https://localhost:8080/",
          "height": 169
        },
        "id": "F6IfJcMaMqnj",
        "outputId": "ccf6b6ff-fa9a-46c6-f2d2-0554e4b537d7"
      },
      "source": [
        "target"
      ],
      "execution_count": null,
      "outputs": [
        {
          "output_type": "error",
          "ename": "NameError",
          "evalue": "ignored",
          "traceback": [
            "\u001b[0;31m---------------------------------------------------------------------------\u001b[0m",
            "\u001b[0;31mNameError\u001b[0m                                 Traceback (most recent call last)",
            "\u001b[0;32m<ipython-input-8-d5a93703cc22>\u001b[0m in \u001b[0;36m<module>\u001b[0;34m()\u001b[0m\n\u001b[0;32m----> 1\u001b[0;31m \u001b[0mtarget\u001b[0m\u001b[0;34m\u001b[0m\u001b[0;34m\u001b[0m\u001b[0m\n\u001b[0m",
            "\u001b[0;31mNameError\u001b[0m: name 'target' is not defined"
          ]
        }
      ]
    },
    {
      "cell_type": "code",
      "metadata": {
        "id": "bJHhi05cEBO4"
      },
      "source": [
        "X_train, X_test, y_train, y_test = train_test_split(data, target, test_size=0.2, random_state=0)"
      ],
      "execution_count": null,
      "outputs": []
    },
    {
      "cell_type": "code",
      "metadata": {
        "id": "WtC_IQVIEMi2"
      },
      "source": [
        "def get_score(X_train, y_train, X_test, y_test, model, show = True):\r\n",
        "    model.fit(X_train, y_train)\r\n",
        "    train_score = model.score(X_train, y_train)\r\n",
        "    test_score  = model.score(X_test, y_test)\r\n",
        "    if show:\r\n",
        "        print(\"The training score is: %.5f\" %train_score)\r\n",
        "        print(\"The test     score is: %.5f\" %test_score)\r\n",
        "    return [train_score, test_score]"
      ],
      "execution_count": null,
      "outputs": []
    },
    {
      "cell_type": "code",
      "metadata": {
        "colab": {
          "base_uri": "https://localhost:8080/"
        },
        "id": "Rnh6sJVzESDo",
        "outputId": "2135e0cb-4cb7-41f5-ded3-3d0b87862fb7"
      },
      "source": [
        "%%time\r\n",
        "from sklearn import tree\r\n",
        "tree_model = tree.DecisionTreeClassifier()\r\n",
        "tree_model.fit(X_train, y_train)\r\n",
        "print(\"Training score: \" + str(tree_model.score(X_train, y_train)))\r\n",
        "print(\"Test score: \" + str(tree_model.score(X_test, y_test)))"
      ],
      "execution_count": null,
      "outputs": [
        {
          "output_type": "stream",
          "text": [
            "Training score: 1.0\n",
            "Test score: 0.6317596493030583\n",
            "CPU times: user 13.6 s, sys: 26 ms, total: 13.6 s\n",
            "Wall time: 13.6 s\n"
          ],
          "name": "stdout"
        }
      ]
    },
    {
      "cell_type": "code",
      "metadata": {
        "colab": {
          "base_uri": "https://localhost:8080/"
        },
        "id": "fWP4BWEFGX3V",
        "outputId": "7cf59a3b-bbaf-45dc-ce4c-7032f45f8c3f"
      },
      "source": [
        "%%time\r\n",
        "from sklearn import tree\r\n",
        "tree_model = tree.DecisionTreeClassifier()\r\n",
        "get_score(X_train, y_train, X_test, y_test, tree_model)"
      ],
      "execution_count": null,
      "outputs": [
        {
          "output_type": "stream",
          "text": [
            "The training score is: 1.00000\n",
            "The test     score is: 0.63060\n",
            "CPU times: user 13.5 s, sys: 24 ms, total: 13.5 s\n",
            "Wall time: 13.5 s\n"
          ],
          "name": "stdout"
        }
      ]
    },
    {
      "cell_type": "code",
      "metadata": {
        "id": "BEy67K-tGu3h"
      },
      "source": [
        "grid_para_forest = {\r\n",
        "    'criterion':    ['entropy'],\r\n",
        "    'max_depth':    [30],\r\n",
        "    'n_estimators': [100]\r\n",
        "}"
      ],
      "execution_count": null,
      "outputs": []
    },
    {
      "cell_type": "code",
      "metadata": {
        "colab": {
          "base_uri": "https://localhost:8080/"
        },
        "id": "KT_Ijg7XHRCD",
        "outputId": "926e3c16-c37d-45a7-b567-2a33bfbec084"
      },
      "source": [
        "%%time\r\n",
        "from sklearn import ensemble\r\n",
        "\r\n",
        "class_weight = dict({0:1, 1:(len(featuresCD[featuresCD.loan_status_trim == 0]) / len(featuresCD[featuresCD.loan_status_trim == 1]))})\r\n",
        "\r\n",
        "randomForest = ensemble.RandomForestClassifier(class_weight = class_weight, \r\n",
        "                                               criterion = \"entropy\", \r\n",
        "                                               n_estimators = 10,\r\n",
        "                                               max_depth = 10,\r\n",
        "                                               n_jobs = -1) \r\n",
        "                                            \r\n",
        "\r\n",
        "# fit RF model on training set\r\n",
        "randomForest.set_params(random_state = 0)\r\n",
        "\r\n",
        "randomForest.fit(X_train, y_train) \r\n",
        "\r\n",
        "print(\"The training score is: %.5f\" % (randomForest.score(X_train, y_train)))\r\n",
        "print(\"The test     score is: %.5f\" % (randomForest.score(X_test, y_test)))"
      ],
      "execution_count": null,
      "outputs": [
        {
          "output_type": "stream",
          "text": [
            "CPU times: user 89.8 ms, sys: 98.9 ms, total: 189 ms\n",
            "Wall time: 186 ms\n"
          ],
          "name": "stdout"
        }
      ]
    },
    {
      "cell_type": "code",
      "metadata": {
        "id": "ninQ0DDjajKP",
        "colab": {
          "base_uri": "https://localhost:8080/"
        },
        "outputId": "06583797-adab-40ba-a795-8cf19499af19"
      },
      "source": [
        "randomForest = ensemble.RandomForestClassifier(class_weight = class_weight, random_state = 0) \r\n",
        "                                            \r\n",
        "\r\n",
        "#fit RF model on training set\r\n",
        "randomForest.set_params(random_state = 0)\r\n",
        "\r\n",
        "randomForest.fit(X_train, y_train) \r\n",
        "\r\n",
        "print(\"The training score is: %.5f\" % (randomForest.score(X_train, y_train)))\r\n",
        "print(\"The test     score is: %.5f\" % (randomForest.score(X_test, y_test)))"
      ],
      "execution_count": null,
      "outputs": [
        {
          "output_type": "stream",
          "text": [
            "The training score is: 0.99999\n",
            "The test     score is: 0.74838\n"
          ],
          "name": "stdout"
        }
      ]
    },
    {
      "cell_type": "code",
      "metadata": {
        "colab": {
          "base_uri": "https://localhost:8080/"
        },
        "id": "dYVuD2WoHL9L",
        "outputId": "2e3cd38f-e950-4275-97ec-4f05c5567ff7"
      },
      "source": [
        "%%time\r\n",
        "grid_search_forest = ms.GridSearchCV(randomForest, grid_para_forest, scoring = 'accuracy', cv = 2, n_jobs = -1)\r\n",
        "grid_search_forest.fit(X_train, y_train)"
      ],
      "execution_count": null,
      "outputs": [
        {
          "output_type": "stream",
          "text": [
            "CPU times: user 4min 7s, sys: 2.01 s, total: 4min 9s\n",
            "Wall time: 6min 20s\n"
          ],
          "name": "stdout"
        }
      ]
    },
    {
      "cell_type": "code",
      "metadata": {
        "colab": {
          "base_uri": "https://localhost:8080/"
        },
        "id": "qiNIOZiZU-cN",
        "outputId": "5b995cad-e534-4a64-9e7b-199136244756"
      },
      "source": [
        "grid_search_forest.best_params_"
      ],
      "execution_count": null,
      "outputs": [
        {
          "output_type": "execute_result",
          "data": {
            "text/plain": [
              "{'criterion': 'entropy', 'max_depth': 30, 'n_estimators': 100}"
            ]
          },
          "metadata": {
            "tags": []
          },
          "execution_count": 111
        }
      ]
    },
    {
      "cell_type": "code",
      "metadata": {
        "colab": {
          "base_uri": "https://localhost:8080/"
        },
        "id": "G5OFA5rwVA7u",
        "outputId": "c2462c4f-2920-4d0a-cf87-bfabdc2de629"
      },
      "source": [
        "grid_search_forest.best_score_"
      ],
      "execution_count": null,
      "outputs": [
        {
          "output_type": "execute_result",
          "data": {
            "text/plain": [
              "0.7479643994657351"
            ]
          },
          "metadata": {
            "tags": []
          },
          "execution_count": 112
        }
      ]
    },
    {
      "cell_type": "code",
      "metadata": {
        "colab": {
          "base_uri": "https://localhost:8080/"
        },
        "id": "ccXEzLLe-7Oj",
        "outputId": "05226d5d-e802-45b4-d8f7-bae76dc40edb"
      },
      "source": [
        "confusion_matrix(y_true = y_test, y_pred = grid_search_forest.best_estimator_.predict(X_test))"
      ],
      "execution_count": null,
      "outputs": [
        {
          "output_type": "execute_result",
          "data": {
            "text/plain": [
              "array([[86108,  1292],\n",
              "       [28190,  1206]])"
            ]
          },
          "metadata": {
            "tags": []
          },
          "execution_count": 113
        }
      ]
    },
    {
      "cell_type": "code",
      "metadata": {
        "colab": {
          "base_uri": "https://localhost:8080/"
        },
        "id": "Rz5EVKcZVEN2",
        "outputId": "adfa621f-19b5-4260-e867-46832265b2c7"
      },
      "source": [
        "print(\"The training score is: %.5f\" % (grid_search_forest.best_estimator_.score(X_train, y_train)))\r\n",
        "print(\"The test     score is: %.5f\" % (grid_search_forest.best_estimator_.score(X_test, y_test)))"
      ],
      "execution_count": null,
      "outputs": [
        {
          "output_type": "stream",
          "text": [
            "The training score is: 0.99985\n",
            "The test     score is: 0.74758\n"
          ],
          "name": "stdout"
        }
      ]
    },
    {
      "cell_type": "code",
      "metadata": {
        "colab": {
          "base_uri": "https://localhost:8080/"
        },
        "id": "5NTu7AhEVH2T",
        "outputId": "430978a8-b1ca-499d-9b02-a925465769be"
      },
      "source": [
        "feature_importance = list(zip(data.columns, randomForest.feature_importances_))\r\n",
        "dtype = [('feature', 'S10'), ('importance', 'float')]\r\n",
        "feature_importance = np.array(feature_importance, dtype=dtype)\r\n",
        "feature_sort = np.sort(feature_importance, order='importance')[::-1]\r\n",
        "[i for (i, j) in feature_sort[0:5]]"
      ],
      "execution_count": null,
      "outputs": [
        {
          "output_type": "execute_result",
          "data": {
            "text/plain": [
              "[b'dti_joint', b'revol_bal', b'days_from_', b'revol_util', b'installmen']"
            ]
          },
          "metadata": {
            "tags": []
          },
          "execution_count": 115
        }
      ]
    },
    {
      "cell_type": "code",
      "metadata": {
        "id": "JExNxALlVLh9",
        "colab": {
          "base_uri": "https://localhost:8080/",
          "height": 569
        },
        "outputId": "1832f639-2f60-4d9e-926d-755e713d159a"
      },
      "source": [
        "plt.figure(figsize = (20,10))\r\n",
        "featureNames, featureScores = zip(*list(feature_sort))\r\n",
        "plt.barh(range(len(featureScores)), featureScores, tick_label=featureNames)\r\n",
        "plt.title('feature importance')"
      ],
      "execution_count": null,
      "outputs": [
        {
          "output_type": "execute_result",
          "data": {
            "text/plain": [
              "Text(0.5, 1.0, 'feature importance')"
            ]
          },
          "metadata": {
            "tags": []
          },
          "execution_count": 116
        },
        {
          "output_type": "display_data",
          "data": {
            "image/png": "[encoded data removed]",
            "text/plain": [
              "<Figure size 1440x720 with 1 Axes>"
            ]
          },
          "metadata": {
            "tags": [],
            "needs_background": "light"
          }
        }
      ]
    },
    {
      "cell_type": "markdown",
      "metadata": {
        "id": "SX_KOyVdT4v4"
      },
      "source": [
        "XGBoost time"
      ]
    },
    {
      "cell_type": "code",
      "metadata": {
        "id": "GPFKD-TOT3Yv"
      },
      "source": [
        "from sklearn.ensemble import GradientBoostingClassifier"
      ],
      "execution_count": null,
      "outputs": []
    },
    {
      "cell_type": "code",
      "metadata": {
        "id": "5Rj9lV7aVnoM"
      },
      "source": [
        "gbm = GradientBoostingClassifier(random_state = 0)"
      ],
      "execution_count": null,
      "outputs": []
    },
    {
      "cell_type": "code",
      "metadata": {
        "id": "PS69D2rlWkX_"
      },
      "source": [
        "param_grid = {\r\n",
        "    \"learning_rate\" : [0.001, 0.1, 1],\r\n",
        "    \"max_depth\"     : [3, 5, 10],\r\n",
        "    \"subsample\"     : [0.1, 0.9, 1],\r\n",
        "    \"n_estimators\"  : [100]\r\n",
        "}"
      ],
      "execution_count": null,
      "outputs": []
    },
    {
      "cell_type": "code",
      "metadata": {
        "id": "ObB-Am0IPxU4"
      },
      "source": [
        "sample(data)"
      ],
      "execution_count": null,
      "outputs": []
    },
    {
      "cell_type": "code",
      "metadata": {
        "colab": {
          "base_uri": "https://localhost:8080/"
        },
        "id": "_oAW2lEBdkE6",
        "outputId": "06462b16-8b30-4727-e78a-41c498dfb429"
      },
      "source": [
        "%%time\r\n",
        "grid_search_gbm = ms.GridSearchCV(gbm, param_grid, scoring = 'accuracy', cv = 2, n_jobs = -1)\r\n",
        "grid_search_gbm.fit(, )"
      ],
      "execution_count": null,
      "outputs": [
        {
          "output_type": "stream",
          "text": [
            "CPU times: user 4min 56s, sys: 866 ms, total: 4min 57s\n",
            "Wall time: 49min 21s\n"
          ],
          "name": "stdout"
        }
      ]
    },
    {
      "cell_type": "code",
      "metadata": {
        "colab": {
          "base_uri": "https://localhost:8080/"
        },
        "id": "tSWKoRL8fKrc",
        "outputId": "da1763ae-a9be-4ee1-8735-ff2a2e9f9fbe"
      },
      "source": [
        "grid_search_gbm.best_params_"
      ],
      "execution_count": null,
      "outputs": [
        {
          "output_type": "execute_result",
          "data": {
            "text/plain": [
              "{'learning_rate': 0.1, 'max_depth': 5, 'n_estimators': 100, 'subsample': 0.9}"
            ]
          },
          "metadata": {
            "tags": []
          },
          "execution_count": 130
        }
      ]
    },
    {
      "cell_type": "code",
      "metadata": {
        "colab": {
          "base_uri": "https://localhost:8080/"
        },
        "id": "qlgCI5ySfe2-",
        "outputId": "f6966c50-59de-480e-f329-01075e460c7f"
      },
      "source": [
        "grid_search_gbm.best_score_"
      ],
      "execution_count": null,
      "outputs": [
        {
          "output_type": "execute_result",
          "data": {
            "text/plain": [
              "0.7496403986437892"
            ]
          },
          "metadata": {
            "tags": []
          },
          "execution_count": 131
        }
      ]
    },
    {
      "cell_type": "code",
      "metadata": {
        "colab": {
          "base_uri": "https://localhost:8080/"
        },
        "id": "Z2DqksBsfnYJ",
        "outputId": "7ca343af-38a7-4a61-94fb-3d02c0369640"
      },
      "source": [
        "confusion_matrix(y_true = y_test, y_pred = grid_search_gbm.best_estimator_.predict(X_test))"
      ],
      "execution_count": null,
      "outputs": [
        {
          "output_type": "execute_result",
          "data": {
            "text/plain": [
              "array([[86882,   518],\n",
              "       [28772,   624]])"
            ]
          },
          "metadata": {
            "tags": []
          },
          "execution_count": 132
        }
      ]
    },
    {
      "cell_type": "code",
      "metadata": {
        "colab": {
          "base_uri": "https://localhost:8080/"
        },
        "id": "-FH3s3iGfvis",
        "outputId": "99da2e97-588e-46a7-e857-bf0e1832885c"
      },
      "source": [
        "print(\"The training score is: %.5f\" % (grid_search_gbm.best_estimator_.score(X_train, y_train)))\r\n",
        "print(\"The test     score is: %.5f\" % (grid_search_gbm.best_estimator_.score(X_test, y_test)))"
      ],
      "execution_count": null,
      "outputs": [
        {
          "output_type": "stream",
          "text": [
            "The training score is: 0.75075\n",
            "The test     score is: 0.74922\n"
          ],
          "name": "stdout"
        }
      ]
    },
    {
      "cell_type": "markdown",
      "metadata": {
        "id": "B-AxLH_-O3jX"
      },
      "source": [
        "Second Try at Gradient Boosting"
      ]
    },
    {
      "cell_type": "code",
      "metadata": {
        "id": "rTF_RUZjO159"
      },
      "source": [
        "param_grid = {\r\n",
        "    \"learning_rate\" : [0.01, 0.1],\r\n",
        "    \"max_depth\"     : [5],\r\n",
        "    \"subsample\"     : [0.9],\r\n",
        "    \"n_estimators\"  : [100, 200, 300]\r\n",
        "}"
      ],
      "execution_count": null,
      "outputs": []
    },
    {
      "cell_type": "code",
      "metadata": {
        "id": "l-3zElPPPO4M"
      },
      "source": [
        "%%time\r\n",
        "grid_search_gbm = ms.GridSearchCV(gbm, param_grid, scoring = 'accuracy', cv = 3, n_jobs = -1)\r\n",
        "grid_search_gbm.fit(, )"
      ],
      "execution_count": null,
      "outputs": []
    },
    {
      "cell_type": "code",
      "metadata": {
        "id": "xa51kHCPPUhB"
      },
      "source": [
        "grid_search_gbm.best_params_"
      ],
      "execution_count": null,
      "outputs": []
    },
    {
      "cell_type": "code",
      "metadata": {
        "id": "dFl765NCPbZc"
      },
      "source": [
        "grid_search_gbm.best_score_"
      ],
      "execution_count": null,
      "outputs": []
    },
    {
      "cell_type": "code",
      "metadata": {
        "id": "mHREEXwxPcUn"
      },
      "source": [
        ""
      ],
      "execution_count": null,
      "outputs": []
    },
    {
      "cell_type": "markdown",
      "metadata": {
        "id": "GM3q7Vp5CEAr"
      },
      "source": [
        "Support Vector Machines"
      ]
    },
    {
      "cell_type": "code",
      "metadata": {
        "id": "5Ccg0YXPCK3X"
      },
      "source": [
        "from sklearn.svm import SVC"
      ],
      "execution_count": null,
      "outputs": []
    },
    {
      "cell_type": "code",
      "metadata": {
        "id": "ot3OXkRiDizg"
      },
      "source": [
        "%%time \r\n",
        "svm = SVC(class_weight = class_weight, random_state = 0, )\r\n",
        "svm.fit(X_train, y_train)\r\n",
        "print(svm.score(X_train, y_train))\r\n",
        "print(svm.score(X_test, y_test))\r\n",
        "confusion_matrix(y_true = y_test, y_pred = grid_search_gbm.best_estimator_.predict(X_test))"
      ],
      "execution_count": null,
      "outputs": []
    },
    {
      "cell_type": "code",
      "metadata": {
        "id": "sHl_hd7TV2JT"
      },
      "source": [
        ""
      ],
      "execution_count": null,
      "outputs": []
    }
  ]
}