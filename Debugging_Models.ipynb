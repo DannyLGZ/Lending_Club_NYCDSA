{
  "nbformat": 4,
  "nbformat_minor": 0,
  "metadata": {
    "colab": {
      "name": "Debugging Models.ipynb",
      "provenance": [],
      "collapsed_sections": [],
      "mount_file_id": "1xP3myHlyERpdUHwM86f5WVMA8JFdAlCO",
      "authorship_tag": "ABX9TyMG+oN/duVZ6VgiPW25bWOy"
    },
    "kernelspec": {
      "name": "python3",
      "display_name": "Python 3"
    }
  },
  "cells": [
    {
      "cell_type": "code",
      "metadata": {
        "id": "j8_bIMLt_cC3"
      },
      "source": [
        "import pandas as pd\r\n",
        "from sklearn.model_selection import train_test_split\r\n",
        "from sklearn import tree\r\n",
        "from sklearn.metrics import confusion_matrix, SCORERS, classification_report\r\n",
        "import numpy as np"
      ],
      "execution_count": null,
      "outputs": []
    },
    {
      "cell_type": "code",
      "metadata": {
        "colab": {
          "base_uri": "https://localhost:8080/",
          "height": 427
        },
        "id": "ZU0X5_PG_qt0",
        "outputId": "78a9b392-b4ca-419e-928d-a2b0728a8806"
      },
      "source": [
        "featuresCD = pd.read_csv(\"/content/drive/MyDrive/NYC DSA Capstone Project/Data/featuresCD.csv\", low_memory = False)\r\n",
        "featuresCD.drop([\"Unnamed: 0\"], axis = 1, inplace = True)\r\n",
        "featuresCD"
      ],
      "execution_count": null,
      "outputs": [
        {
          "output_type": "execute_result",
          "data": {
            "text/html": [
              "<div>\n",
              "<style scoped>\n",
              "    .dataframe tbody tr th:only-of-type {\n",
              "        vertical-align: middle;\n",
              "    }\n",
              "\n",
              "    .dataframe tbody tr th {\n",
              "        vertical-align: top;\n",
              "    }\n",
              "\n",
              "    .dataframe thead th {\n",
              "        text-align: right;\n",
              "    }\n",
              "</style>\n",
              "<table border=\"1\" class=\"dataframe\">\n",
              "  <thead>\n",
              "    <tr style=\"text-align: right;\">\n",
              "      <th></th>\n",
              "      <th>loan_status_trim</th>\n",
              "      <th>state_income</th>\n",
              "      <th>annual_inc_joint</th>\n",
              "      <th>indiv_app</th>\n",
              "      <th>dti_joint</th>\n",
              "      <th>days_from_1st_cr_line</th>\n",
              "      <th>emp_length</th>\n",
              "      <th>fico_range_high</th>\n",
              "      <th>fico_range_low</th>\n",
              "      <th>funded_amnt</th>\n",
              "      <th>home_ownership</th>\n",
              "      <th>inq_fi</th>\n",
              "      <th>inq_last_12m</th>\n",
              "      <th>installment</th>\n",
              "      <th>int_rate</th>\n",
              "      <th>loan_amnt</th>\n",
              "      <th>open_acc</th>\n",
              "      <th>pub_rec</th>\n",
              "      <th>pub_rec_bankruptcies</th>\n",
              "      <th>for_debt_consol</th>\n",
              "      <th>total_acc</th>\n",
              "      <th>revol_bal</th>\n",
              "      <th>revol_util</th>\n",
              "      <th>delinq_amnt</th>\n",
              "      <th>delinq_2yrs</th>\n",
              "      <th>mths_since_last_delinq</th>\n",
              "      <th>mths_since_last_major_derog</th>\n",
              "      <th>grade</th>\n",
              "    </tr>\n",
              "  </thead>\n",
              "  <tbody>\n",
              "    <tr>\n",
              "      <th>0</th>\n",
              "      <td>0</td>\n",
              "      <td>2</td>\n",
              "      <td>55000.0</td>\n",
              "      <td>1</td>\n",
              "      <td>5.91</td>\n",
              "      <td>4505.0</td>\n",
              "      <td>10</td>\n",
              "      <td>679.0</td>\n",
              "      <td>675.0</td>\n",
              "      <td>3600.0</td>\n",
              "      <td>1</td>\n",
              "      <td>3.0</td>\n",
              "      <td>4.0</td>\n",
              "      <td>123.03</td>\n",
              "      <td>13.99</td>\n",
              "      <td>3600.0</td>\n",
              "      <td>7.0</td>\n",
              "      <td>0.0</td>\n",
              "      <td>0.0</td>\n",
              "      <td>1</td>\n",
              "      <td>13.0</td>\n",
              "      <td>2765.0</td>\n",
              "      <td>29.7</td>\n",
              "      <td>0.0</td>\n",
              "      <td>0.0</td>\n",
              "      <td>30.0</td>\n",
              "      <td>30.0</td>\n",
              "      <td>4</td>\n",
              "    </tr>\n",
              "    <tr>\n",
              "      <th>1</th>\n",
              "      <td>0</td>\n",
              "      <td>1</td>\n",
              "      <td>65000.0</td>\n",
              "      <td>1</td>\n",
              "      <td>16.06</td>\n",
              "      <td>5844.0</td>\n",
              "      <td>10</td>\n",
              "      <td>719.0</td>\n",
              "      <td>715.0</td>\n",
              "      <td>24700.0</td>\n",
              "      <td>1</td>\n",
              "      <td>0.0</td>\n",
              "      <td>6.0</td>\n",
              "      <td>820.28</td>\n",
              "      <td>11.99</td>\n",
              "      <td>24700.0</td>\n",
              "      <td>22.0</td>\n",
              "      <td>0.0</td>\n",
              "      <td>0.0</td>\n",
              "      <td>0</td>\n",
              "      <td>38.0</td>\n",
              "      <td>21470.0</td>\n",
              "      <td>19.2</td>\n",
              "      <td>0.0</td>\n",
              "      <td>1.0</td>\n",
              "      <td>6.0</td>\n",
              "      <td>0.0</td>\n",
              "      <td>4</td>\n",
              "    </tr>\n",
              "    <tr>\n",
              "      <th>2</th>\n",
              "      <td>0</td>\n",
              "      <td>2</td>\n",
              "      <td>34000.0</td>\n",
              "      <td>1</td>\n",
              "      <td>10.20</td>\n",
              "      <td>10288.0</td>\n",
              "      <td>4</td>\n",
              "      <td>694.0</td>\n",
              "      <td>690.0</td>\n",
              "      <td>11950.0</td>\n",
              "      <td>0</td>\n",
              "      <td>0.0</td>\n",
              "      <td>0.0</td>\n",
              "      <td>405.18</td>\n",
              "      <td>13.44</td>\n",
              "      <td>11950.0</td>\n",
              "      <td>5.0</td>\n",
              "      <td>0.0</td>\n",
              "      <td>0.0</td>\n",
              "      <td>1</td>\n",
              "      <td>6.0</td>\n",
              "      <td>8822.0</td>\n",
              "      <td>68.4</td>\n",
              "      <td>0.0</td>\n",
              "      <td>0.0</td>\n",
              "      <td>0.0</td>\n",
              "      <td>0.0</td>\n",
              "      <td>4</td>\n",
              "    </tr>\n",
              "    <tr>\n",
              "      <th>3</th>\n",
              "      <td>0</td>\n",
              "      <td>2</td>\n",
              "      <td>64000.0</td>\n",
              "      <td>1</td>\n",
              "      <td>34.95</td>\n",
              "      <td>7122.0</td>\n",
              "      <td>3</td>\n",
              "      <td>704.0</td>\n",
              "      <td>700.0</td>\n",
              "      <td>1400.0</td>\n",
              "      <td>1</td>\n",
              "      <td>0.0</td>\n",
              "      <td>0.0</td>\n",
              "      <td>47.10</td>\n",
              "      <td>12.88</td>\n",
              "      <td>1400.0</td>\n",
              "      <td>17.0</td>\n",
              "      <td>0.0</td>\n",
              "      <td>0.0</td>\n",
              "      <td>0</td>\n",
              "      <td>24.0</td>\n",
              "      <td>37828.0</td>\n",
              "      <td>67.2</td>\n",
              "      <td>0.0</td>\n",
              "      <td>0.0</td>\n",
              "      <td>0.0</td>\n",
              "      <td>0.0</td>\n",
              "      <td>4</td>\n",
              "    </tr>\n",
              "    <tr>\n",
              "      <th>4</th>\n",
              "      <td>0</td>\n",
              "      <td>2</td>\n",
              "      <td>112000.0</td>\n",
              "      <td>1</td>\n",
              "      <td>8.68</td>\n",
              "      <td>8065.0</td>\n",
              "      <td>10</td>\n",
              "      <td>804.0</td>\n",
              "      <td>800.0</td>\n",
              "      <td>18000.0</td>\n",
              "      <td>1</td>\n",
              "      <td>0.0</td>\n",
              "      <td>1.0</td>\n",
              "      <td>400.31</td>\n",
              "      <td>11.99</td>\n",
              "      <td>18000.0</td>\n",
              "      <td>17.0</td>\n",
              "      <td>0.0</td>\n",
              "      <td>0.0</td>\n",
              "      <td>1</td>\n",
              "      <td>27.0</td>\n",
              "      <td>10711.0</td>\n",
              "      <td>15.5</td>\n",
              "      <td>0.0</td>\n",
              "      <td>0.0</td>\n",
              "      <td>0.0</td>\n",
              "      <td>0.0</td>\n",
              "      <td>4</td>\n",
              "    </tr>\n",
              "    <tr>\n",
              "      <th>...</th>\n",
              "      <td>...</td>\n",
              "      <td>...</td>\n",
              "      <td>...</td>\n",
              "      <td>...</td>\n",
              "      <td>...</td>\n",
              "      <td>...</td>\n",
              "      <td>...</td>\n",
              "      <td>...</td>\n",
              "      <td>...</td>\n",
              "      <td>...</td>\n",
              "      <td>...</td>\n",
              "      <td>...</td>\n",
              "      <td>...</td>\n",
              "      <td>...</td>\n",
              "      <td>...</td>\n",
              "      <td>...</td>\n",
              "      <td>...</td>\n",
              "      <td>...</td>\n",
              "      <td>...</td>\n",
              "      <td>...</td>\n",
              "      <td>...</td>\n",
              "      <td>...</td>\n",
              "      <td>...</td>\n",
              "      <td>...</td>\n",
              "      <td>...</td>\n",
              "      <td>...</td>\n",
              "      <td>...</td>\n",
              "      <td>...</td>\n",
              "    </tr>\n",
              "    <tr>\n",
              "      <th>583975</th>\n",
              "      <td>0</td>\n",
              "      <td>2</td>\n",
              "      <td>119000.0</td>\n",
              "      <td>1</td>\n",
              "      <td>32.73</td>\n",
              "      <td>8827.0</td>\n",
              "      <td>10</td>\n",
              "      <td>689.0</td>\n",
              "      <td>685.0</td>\n",
              "      <td>23800.0</td>\n",
              "      <td>1</td>\n",
              "      <td>4.0</td>\n",
              "      <td>10.0</td>\n",
              "      <td>559.85</td>\n",
              "      <td>14.49</td>\n",
              "      <td>23800.0</td>\n",
              "      <td>13.0</td>\n",
              "      <td>0.0</td>\n",
              "      <td>0.0</td>\n",
              "      <td>1</td>\n",
              "      <td>29.0</td>\n",
              "      <td>107747.0</td>\n",
              "      <td>89.5</td>\n",
              "      <td>0.0</td>\n",
              "      <td>0.0</td>\n",
              "      <td>0.0</td>\n",
              "      <td>0.0</td>\n",
              "      <td>4</td>\n",
              "    </tr>\n",
              "    <tr>\n",
              "      <th>583976</th>\n",
              "      <td>0</td>\n",
              "      <td>3</td>\n",
              "      <td>180792.0</td>\n",
              "      <td>1</td>\n",
              "      <td>22.03</td>\n",
              "      <td>5328.0</td>\n",
              "      <td>9</td>\n",
              "      <td>709.0</td>\n",
              "      <td>705.0</td>\n",
              "      <td>29400.0</td>\n",
              "      <td>1</td>\n",
              "      <td>3.0</td>\n",
              "      <td>2.0</td>\n",
              "      <td>683.94</td>\n",
              "      <td>13.99</td>\n",
              "      <td>29400.0</td>\n",
              "      <td>16.0</td>\n",
              "      <td>0.0</td>\n",
              "      <td>0.0</td>\n",
              "      <td>1</td>\n",
              "      <td>32.0</td>\n",
              "      <td>77480.0</td>\n",
              "      <td>85.2</td>\n",
              "      <td>0.0</td>\n",
              "      <td>0.0</td>\n",
              "      <td>0.0</td>\n",
              "      <td>0.0</td>\n",
              "      <td>4</td>\n",
              "    </tr>\n",
              "    <tr>\n",
              "      <th>583977</th>\n",
              "      <td>1</td>\n",
              "      <td>2</td>\n",
              "      <td>157000.0</td>\n",
              "      <td>1</td>\n",
              "      <td>10.34</td>\n",
              "      <td>1949.0</td>\n",
              "      <td>3</td>\n",
              "      <td>739.0</td>\n",
              "      <td>735.0</td>\n",
              "      <td>32000.0</td>\n",
              "      <td>1</td>\n",
              "      <td>2.0</td>\n",
              "      <td>0.0</td>\n",
              "      <td>752.74</td>\n",
              "      <td>14.49</td>\n",
              "      <td>32000.0</td>\n",
              "      <td>14.0</td>\n",
              "      <td>0.0</td>\n",
              "      <td>0.0</td>\n",
              "      <td>0</td>\n",
              "      <td>18.0</td>\n",
              "      <td>111598.0</td>\n",
              "      <td>27.4</td>\n",
              "      <td>0.0</td>\n",
              "      <td>0.0</td>\n",
              "      <td>0.0</td>\n",
              "      <td>0.0</td>\n",
              "      <td>4</td>\n",
              "    </tr>\n",
              "    <tr>\n",
              "      <th>583978</th>\n",
              "      <td>0</td>\n",
              "      <td>2</td>\n",
              "      <td>150000.0</td>\n",
              "      <td>1</td>\n",
              "      <td>12.25</td>\n",
              "      <td>7001.0</td>\n",
              "      <td>10</td>\n",
              "      <td>669.0</td>\n",
              "      <td>665.0</td>\n",
              "      <td>16000.0</td>\n",
              "      <td>0</td>\n",
              "      <td>1.0</td>\n",
              "      <td>1.0</td>\n",
              "      <td>362.34</td>\n",
              "      <td>12.79</td>\n",
              "      <td>16000.0</td>\n",
              "      <td>12.0</td>\n",
              "      <td>4.0</td>\n",
              "      <td>3.0</td>\n",
              "      <td>0</td>\n",
              "      <td>28.0</td>\n",
              "      <td>7700.0</td>\n",
              "      <td>55.0</td>\n",
              "      <td>0.0</td>\n",
              "      <td>0.0</td>\n",
              "      <td>68.0</td>\n",
              "      <td>68.0</td>\n",
              "      <td>4</td>\n",
              "    </tr>\n",
              "    <tr>\n",
              "      <th>583979</th>\n",
              "      <td>1</td>\n",
              "      <td>2</td>\n",
              "      <td>110000.0</td>\n",
              "      <td>1</td>\n",
              "      <td>18.30</td>\n",
              "      <td>6302.0</td>\n",
              "      <td>6</td>\n",
              "      <td>664.0</td>\n",
              "      <td>660.0</td>\n",
              "      <td>24000.0</td>\n",
              "      <td>0</td>\n",
              "      <td>0.0</td>\n",
              "      <td>1.0</td>\n",
              "      <td>564.56</td>\n",
              "      <td>14.49</td>\n",
              "      <td>24000.0</td>\n",
              "      <td>10.0</td>\n",
              "      <td>1.0</td>\n",
              "      <td>1.0</td>\n",
              "      <td>1</td>\n",
              "      <td>31.0</td>\n",
              "      <td>17641.0</td>\n",
              "      <td>68.1</td>\n",
              "      <td>0.0</td>\n",
              "      <td>0.0</td>\n",
              "      <td>67.0</td>\n",
              "      <td>67.0</td>\n",
              "      <td>4</td>\n",
              "    </tr>\n",
              "  </tbody>\n",
              "</table>\n",
              "<p>583980 rows × 28 columns</p>\n",
              "</div>"
            ],
            "text/plain": [
              "        loan_status_trim  state_income  ...  mths_since_last_major_derog  grade\n",
              "0                      0             2  ...                         30.0      4\n",
              "1                      0             1  ...                          0.0      4\n",
              "2                      0             2  ...                          0.0      4\n",
              "3                      0             2  ...                          0.0      4\n",
              "4                      0             2  ...                          0.0      4\n",
              "...                  ...           ...  ...                          ...    ...\n",
              "583975                 0             2  ...                          0.0      4\n",
              "583976                 0             3  ...                          0.0      4\n",
              "583977                 1             2  ...                          0.0      4\n",
              "583978                 0             2  ...                         68.0      4\n",
              "583979                 1             2  ...                         67.0      4\n",
              "\n",
              "[583980 rows x 28 columns]"
            ]
          },
          "metadata": {
            "tags": []
          },
          "execution_count": 2
        }
      ]
    },
    {
      "cell_type": "code",
      "metadata": {
        "colab": {
          "base_uri": "https://localhost:8080/"
        },
        "id": "PbmBqZDGJakc",
        "outputId": "36737bbc-8325-4575-9210-63ea2c74b11f"
      },
      "source": [
        "featuresCD.columns"
      ],
      "execution_count": null,
      "outputs": [
        {
          "output_type": "execute_result",
          "data": {
            "text/plain": [
              "Index(['loan_status_trim', 'state_income', 'annual_inc_joint', 'indiv_app',\n",
              "       'dti_joint', 'days_from_1st_cr_line', 'emp_length', 'fico_range_high',\n",
              "       'fico_range_low', 'funded_amnt', 'home_ownership', 'inq_fi',\n",
              "       'inq_last_12m', 'installment', 'int_rate', 'loan_amnt', 'open_acc',\n",
              "       'pub_rec', 'pub_rec_bankruptcies', 'for_debt_consol', 'total_acc',\n",
              "       'revol_bal', 'revol_util', 'delinq_amnt', 'delinq_2yrs',\n",
              "       'mths_since_last_delinq', 'mths_since_last_major_derog', 'grade'],\n",
              "      dtype='object')"
            ]
          },
          "metadata": {
            "tags": []
          },
          "execution_count": 73
        }
      ]
    },
    {
      "cell_type": "code",
      "metadata": {
        "id": "oQFXtNaP_x8z"
      },
      "source": [
        "data = featuresCD.iloc[:, 1:]\r\n",
        "target = featuresCD.iloc[:, 0]"
      ],
      "execution_count": null,
      "outputs": []
    },
    {
      "cell_type": "code",
      "metadata": {
        "colab": {
          "base_uri": "https://localhost:8080/",
          "height": 407
        },
        "id": "TLIp2No7_3RH",
        "outputId": "185d9dc6-8de3-4b6d-e191-c090ddfc64be"
      },
      "source": [
        "data"
      ],
      "execution_count": null,
      "outputs": [
        {
          "output_type": "execute_result",
          "data": {
            "text/html": [
              "<div>\n",
              "<style scoped>\n",
              "    .dataframe tbody tr th:only-of-type {\n",
              "        vertical-align: middle;\n",
              "    }\n",
              "\n",
              "    .dataframe tbody tr th {\n",
              "        vertical-align: top;\n",
              "    }\n",
              "\n",
              "    .dataframe thead th {\n",
              "        text-align: right;\n",
              "    }\n",
              "</style>\n",
              "<table border=\"1\" class=\"dataframe\">\n",
              "  <thead>\n",
              "    <tr style=\"text-align: right;\">\n",
              "      <th></th>\n",
              "      <th>annual_inc_joint</th>\n",
              "      <th>indiv_app</th>\n",
              "      <th>dti_joint</th>\n",
              "      <th>days_from_1st_cr_line</th>\n",
              "      <th>emp_length</th>\n",
              "      <th>fico_range_high</th>\n",
              "      <th>fico_range_low</th>\n",
              "    </tr>\n",
              "  </thead>\n",
              "  <tbody>\n",
              "    <tr>\n",
              "      <th>0</th>\n",
              "      <td>55000.0</td>\n",
              "      <td>1</td>\n",
              "      <td>5.91</td>\n",
              "      <td>4505.0</td>\n",
              "      <td>10</td>\n",
              "      <td>679.0</td>\n",
              "      <td>675.0</td>\n",
              "    </tr>\n",
              "    <tr>\n",
              "      <th>1</th>\n",
              "      <td>65000.0</td>\n",
              "      <td>1</td>\n",
              "      <td>16.06</td>\n",
              "      <td>5844.0</td>\n",
              "      <td>10</td>\n",
              "      <td>719.0</td>\n",
              "      <td>715.0</td>\n",
              "    </tr>\n",
              "    <tr>\n",
              "      <th>2</th>\n",
              "      <td>34000.0</td>\n",
              "      <td>1</td>\n",
              "      <td>10.20</td>\n",
              "      <td>10288.0</td>\n",
              "      <td>4</td>\n",
              "      <td>694.0</td>\n",
              "      <td>690.0</td>\n",
              "    </tr>\n",
              "    <tr>\n",
              "      <th>3</th>\n",
              "      <td>64000.0</td>\n",
              "      <td>1</td>\n",
              "      <td>34.95</td>\n",
              "      <td>7122.0</td>\n",
              "      <td>3</td>\n",
              "      <td>704.0</td>\n",
              "      <td>700.0</td>\n",
              "    </tr>\n",
              "    <tr>\n",
              "      <th>4</th>\n",
              "      <td>112000.0</td>\n",
              "      <td>1</td>\n",
              "      <td>8.68</td>\n",
              "      <td>8065.0</td>\n",
              "      <td>10</td>\n",
              "      <td>804.0</td>\n",
              "      <td>800.0</td>\n",
              "    </tr>\n",
              "    <tr>\n",
              "      <th>...</th>\n",
              "      <td>...</td>\n",
              "      <td>...</td>\n",
              "      <td>...</td>\n",
              "      <td>...</td>\n",
              "      <td>...</td>\n",
              "      <td>...</td>\n",
              "      <td>...</td>\n",
              "    </tr>\n",
              "    <tr>\n",
              "      <th>583975</th>\n",
              "      <td>119000.0</td>\n",
              "      <td>1</td>\n",
              "      <td>32.73</td>\n",
              "      <td>8827.0</td>\n",
              "      <td>10</td>\n",
              "      <td>689.0</td>\n",
              "      <td>685.0</td>\n",
              "    </tr>\n",
              "    <tr>\n",
              "      <th>583976</th>\n",
              "      <td>180792.0</td>\n",
              "      <td>1</td>\n",
              "      <td>22.03</td>\n",
              "      <td>5328.0</td>\n",
              "      <td>9</td>\n",
              "      <td>709.0</td>\n",
              "      <td>705.0</td>\n",
              "    </tr>\n",
              "    <tr>\n",
              "      <th>583977</th>\n",
              "      <td>157000.0</td>\n",
              "      <td>1</td>\n",
              "      <td>10.34</td>\n",
              "      <td>1949.0</td>\n",
              "      <td>3</td>\n",
              "      <td>739.0</td>\n",
              "      <td>735.0</td>\n",
              "    </tr>\n",
              "    <tr>\n",
              "      <th>583978</th>\n",
              "      <td>150000.0</td>\n",
              "      <td>1</td>\n",
              "      <td>12.25</td>\n",
              "      <td>7001.0</td>\n",
              "      <td>10</td>\n",
              "      <td>669.0</td>\n",
              "      <td>665.0</td>\n",
              "    </tr>\n",
              "    <tr>\n",
              "      <th>583979</th>\n",
              "      <td>110000.0</td>\n",
              "      <td>1</td>\n",
              "      <td>18.30</td>\n",
              "      <td>6302.0</td>\n",
              "      <td>6</td>\n",
              "      <td>664.0</td>\n",
              "      <td>660.0</td>\n",
              "    </tr>\n",
              "  </tbody>\n",
              "</table>\n",
              "<p>583980 rows × 7 columns</p>\n",
              "</div>"
            ],
            "text/plain": [
              "        annual_inc_joint  indiv_app  ...  fico_range_high  fico_range_low\n",
              "0                55000.0          1  ...            679.0           675.0\n",
              "1                65000.0          1  ...            719.0           715.0\n",
              "2                34000.0          1  ...            694.0           690.0\n",
              "3                64000.0          1  ...            704.0           700.0\n",
              "4               112000.0          1  ...            804.0           800.0\n",
              "...                  ...        ...  ...              ...             ...\n",
              "583975          119000.0          1  ...            689.0           685.0\n",
              "583976          180792.0          1  ...            709.0           705.0\n",
              "583977          157000.0          1  ...            739.0           735.0\n",
              "583978          150000.0          1  ...            669.0           665.0\n",
              "583979          110000.0          1  ...            664.0           660.0\n",
              "\n",
              "[583980 rows x 7 columns]"
            ]
          },
          "metadata": {
            "tags": []
          },
          "execution_count": 75
        }
      ]
    },
    {
      "cell_type": "code",
      "metadata": {
        "colab": {
          "base_uri": "https://localhost:8080/"
        },
        "id": "owjQIWnO_4o0",
        "outputId": "0a2e1072-6937-4930-ce6d-3756004a9ac3"
      },
      "source": [
        "target"
      ],
      "execution_count": null,
      "outputs": [
        {
          "output_type": "execute_result",
          "data": {
            "text/plain": [
              "0         0\n",
              "1         0\n",
              "2         0\n",
              "3         0\n",
              "4         0\n",
              "         ..\n",
              "583975    0\n",
              "583976    0\n",
              "583977    1\n",
              "583978    0\n",
              "583979    1\n",
              "Name: loan_status_trim, Length: 583980, dtype: int64"
            ]
          },
          "metadata": {
            "tags": []
          },
          "execution_count": 76
        }
      ]
    },
    {
      "cell_type": "code",
      "metadata": {
        "id": "N_z1CpIt_77F"
      },
      "source": [
        "X_train, X_test, y_train, y_test = train_test_split(data, target, test_size = 0.3, stratify = target, shuffle = True)"
      ],
      "execution_count": null,
      "outputs": []
    },
    {
      "cell_type": "code",
      "metadata": {
        "colab": {
          "base_uri": "https://localhost:8080/"
        },
        "id": "0_wl8DFWADtG",
        "outputId": "0decc5a4-d48b-421a-a745-ddf984dbdc54"
      },
      "source": [
        "%%time\r\n",
        "\r\n",
        "print(\"-\"*60)\r\n",
        "tree_model = tree.DecisionTreeClassifier(criterion = \"entropy\",\r\n",
        "                                         class_weight = {0:2e-8, 1:1},\r\n",
        "                                         #min_sample \r\n",
        "                                         random_state = 0)\r\n",
        "\r\n",
        "tree_model.fit(X_train, y_train)\r\n",
        "\r\n",
        "print(f\"Training score: {tree_model.score(X_train, y_train)}\")\r\n",
        "print(f\"Test score:     {tree_model.score(X_test, y_test)}\")\r\n",
        "\r\n",
        "print(\"-\"*60)\r\n",
        "\r\n",
        "print(f\"Training Confusion Matrix\")\r\n",
        "print(confusion_matrix(y_true = y_train,\r\n",
        "                       y_pred = tree_model.predict(X_train)))\r\n",
        "\r\n",
        "print(\"-\"*60)\r\n",
        "\r\n",
        "print(f\"Testing Confusion Matrix\")\r\n",
        "print(confusion_matrix(y_true = y_test,\r\n",
        "                       y_pred = tree_model.predict(X_test)))\r\n",
        "\r\n",
        "print(\"-\"*60)"
      ],
      "execution_count": null,
      "outputs": [
        {
          "output_type": "stream",
          "text": [
            "------------------------------------------------------------\n",
            "Training score: 0.9865088334727706\n",
            "Test score:     0.648115803052616\n",
            "------------------------------------------------------------\n",
            "Training Confusion Matrix\n",
            "[[300323   5515]\n",
            " [     0 102948]]\n",
            "------------------------------------------------------------\n",
            "Testing Confusion Matrix\n",
            "[[101958  29115]\n",
            " [ 32533  11588]]\n",
            "------------------------------------------------------------\n",
            "CPU times: user 42.1 s, sys: 69.7 ms, total: 42.2 s\n",
            "Wall time: 42.3 s\n"
          ],
          "name": "stdout"
        }
      ]
    },
    {
      "cell_type": "code",
      "metadata": {
        "colab": {
          "base_uri": "https://localhost:8080/",
          "height": 828
        },
        "id": "0U2yA2FcAwcP",
        "outputId": "674ee7a8-b934-43f3-cdb7-aef06b0058ab"
      },
      "source": [
        "pd.DataFrame(list(zip(featuresCD.columns, tree_model.feature_importances_)), columns = [\"feature\", \"importance\"]).sort_values(by = \"importance\", ascending = False)"
      ],
      "execution_count": null,
      "outputs": [
        {
          "output_type": "execute_result",
          "data": {
            "text/html": [
              "<div>\n",
              "<style scoped>\n",
              "    .dataframe tbody tr th:only-of-type {\n",
              "        vertical-align: middle;\n",
              "    }\n",
              "\n",
              "    .dataframe tbody tr th {\n",
              "        vertical-align: top;\n",
              "    }\n",
              "\n",
              "    .dataframe thead th {\n",
              "        text-align: right;\n",
              "    }\n",
              "</style>\n",
              "<table border=\"1\" class=\"dataframe\">\n",
              "  <thead>\n",
              "    <tr style=\"text-align: right;\">\n",
              "      <th></th>\n",
              "      <th>feature</th>\n",
              "      <th>importance</th>\n",
              "    </tr>\n",
              "  </thead>\n",
              "  <tbody>\n",
              "    <tr>\n",
              "      <th>13</th>\n",
              "      <td>installment</td>\n",
              "      <td>1.0</td>\n",
              "    </tr>\n",
              "    <tr>\n",
              "      <th>1</th>\n",
              "      <td>state_income</td>\n",
              "      <td>0.0</td>\n",
              "    </tr>\n",
              "    <tr>\n",
              "      <th>24</th>\n",
              "      <td>delinq_2yrs</td>\n",
              "      <td>0.0</td>\n",
              "    </tr>\n",
              "    <tr>\n",
              "      <th>23</th>\n",
              "      <td>delinq_amnt</td>\n",
              "      <td>0.0</td>\n",
              "    </tr>\n",
              "    <tr>\n",
              "      <th>22</th>\n",
              "      <td>revol_util</td>\n",
              "      <td>0.0</td>\n",
              "    </tr>\n",
              "    <tr>\n",
              "      <th>21</th>\n",
              "      <td>revol_bal</td>\n",
              "      <td>0.0</td>\n",
              "    </tr>\n",
              "    <tr>\n",
              "      <th>20</th>\n",
              "      <td>total_acc</td>\n",
              "      <td>0.0</td>\n",
              "    </tr>\n",
              "    <tr>\n",
              "      <th>19</th>\n",
              "      <td>for_debt_consol</td>\n",
              "      <td>0.0</td>\n",
              "    </tr>\n",
              "    <tr>\n",
              "      <th>18</th>\n",
              "      <td>pub_rec_bankruptcies</td>\n",
              "      <td>0.0</td>\n",
              "    </tr>\n",
              "    <tr>\n",
              "      <th>17</th>\n",
              "      <td>pub_rec</td>\n",
              "      <td>0.0</td>\n",
              "    </tr>\n",
              "    <tr>\n",
              "      <th>16</th>\n",
              "      <td>open_acc</td>\n",
              "      <td>0.0</td>\n",
              "    </tr>\n",
              "    <tr>\n",
              "      <th>15</th>\n",
              "      <td>loan_amnt</td>\n",
              "      <td>0.0</td>\n",
              "    </tr>\n",
              "    <tr>\n",
              "      <th>14</th>\n",
              "      <td>int_rate</td>\n",
              "      <td>0.0</td>\n",
              "    </tr>\n",
              "    <tr>\n",
              "      <th>0</th>\n",
              "      <td>loan_status_trim</td>\n",
              "      <td>0.0</td>\n",
              "    </tr>\n",
              "    <tr>\n",
              "      <th>12</th>\n",
              "      <td>inq_last_12m</td>\n",
              "      <td>0.0</td>\n",
              "    </tr>\n",
              "    <tr>\n",
              "      <th>11</th>\n",
              "      <td>inq_fi</td>\n",
              "      <td>0.0</td>\n",
              "    </tr>\n",
              "    <tr>\n",
              "      <th>10</th>\n",
              "      <td>home_ownership</td>\n",
              "      <td>0.0</td>\n",
              "    </tr>\n",
              "    <tr>\n",
              "      <th>9</th>\n",
              "      <td>funded_amnt</td>\n",
              "      <td>0.0</td>\n",
              "    </tr>\n",
              "    <tr>\n",
              "      <th>8</th>\n",
              "      <td>fico_range_low</td>\n",
              "      <td>0.0</td>\n",
              "    </tr>\n",
              "    <tr>\n",
              "      <th>7</th>\n",
              "      <td>fico_range_high</td>\n",
              "      <td>0.0</td>\n",
              "    </tr>\n",
              "    <tr>\n",
              "      <th>6</th>\n",
              "      <td>emp_length</td>\n",
              "      <td>0.0</td>\n",
              "    </tr>\n",
              "    <tr>\n",
              "      <th>5</th>\n",
              "      <td>days_from_1st_cr_line</td>\n",
              "      <td>0.0</td>\n",
              "    </tr>\n",
              "    <tr>\n",
              "      <th>4</th>\n",
              "      <td>dti_joint</td>\n",
              "      <td>0.0</td>\n",
              "    </tr>\n",
              "    <tr>\n",
              "      <th>3</th>\n",
              "      <td>indiv_app</td>\n",
              "      <td>0.0</td>\n",
              "    </tr>\n",
              "    <tr>\n",
              "      <th>2</th>\n",
              "      <td>annual_inc_joint</td>\n",
              "      <td>0.0</td>\n",
              "    </tr>\n",
              "    <tr>\n",
              "      <th>25</th>\n",
              "      <td>mths_since_last_delinq</td>\n",
              "      <td>0.0</td>\n",
              "    </tr>\n",
              "  </tbody>\n",
              "</table>\n",
              "</div>"
            ],
            "text/plain": [
              "                   feature  importance\n",
              "13             installment         1.0\n",
              "1             state_income         0.0\n",
              "24             delinq_2yrs         0.0\n",
              "23             delinq_amnt         0.0\n",
              "22              revol_util         0.0\n",
              "21               revol_bal         0.0\n",
              "20               total_acc         0.0\n",
              "19         for_debt_consol         0.0\n",
              "18    pub_rec_bankruptcies         0.0\n",
              "17                 pub_rec         0.0\n",
              "16                open_acc         0.0\n",
              "15               loan_amnt         0.0\n",
              "14                int_rate         0.0\n",
              "0         loan_status_trim         0.0\n",
              "12            inq_last_12m         0.0\n",
              "11                  inq_fi         0.0\n",
              "10          home_ownership         0.0\n",
              "9              funded_amnt         0.0\n",
              "8           fico_range_low         0.0\n",
              "7          fico_range_high         0.0\n",
              "6               emp_length         0.0\n",
              "5    days_from_1st_cr_line         0.0\n",
              "4                dti_joint         0.0\n",
              "3                indiv_app         0.0\n",
              "2         annual_inc_joint         0.0\n",
              "25  mths_since_last_delinq         0.0"
            ]
          },
          "metadata": {
            "tags": []
          },
          "execution_count": 25
        }
      ]
    },
    {
      "cell_type": "markdown",
      "metadata": {
        "id": "BQ2MbdGiRNCn"
      },
      "source": [
        "Look at Gradient Boosting again"
      ]
    },
    {
      "cell_type": "code",
      "metadata": {
        "id": "iO1qu1I4RKUf"
      },
      "source": [
        "X_train, X_test, y_train, y_test = train_test_split(data, target, train_size = 0.01, test_size = 0.01, stratify = target, shuffle = True)"
      ],
      "execution_count": null,
      "outputs": []
    },
    {
      "cell_type": "code",
      "metadata": {
        "id": "Cbscwaa0Rk-0"
      },
      "source": [
        "from sklearn.ensemble import GradientBoostingClassifier\r\n",
        "import sklearn.model_selection as ms"
      ],
      "execution_count": null,
      "outputs": []
    },
    {
      "cell_type": "code",
      "metadata": {
        "id": "fvf3sguHRmbj"
      },
      "source": [
        "param_grid = {\r\n",
        "    \"learning_rate\" : [0.01],\r\n",
        "    \"max_depth\"     : [5, 10, 15],\r\n",
        "    \"subsample\"     : [0.9],\r\n",
        "    \"n_estimators\"  : [300,]\r\n",
        "}"
      ],
      "execution_count": null,
      "outputs": []
    },
    {
      "cell_type": "code",
      "metadata": {
        "colab": {
          "base_uri": "https://localhost:8080/"
        },
        "id": "OdZcDK0CRwAC",
        "outputId": "f0b00b90-d7bf-42e9-aebf-9f578a7a09d5"
      },
      "source": [
        "%%time\r\n",
        "gbm = GradientBoostingClassifier()\r\n",
        "grid_search_gbm = ms.GridSearchCV(gbm, param_grid, scoring = 'recall', cv = 3, n_jobs = -1)\r\n",
        "grid_search_gbm.fit(X_train, y_train)"
      ],
      "execution_count": null,
      "outputs": [
        {
          "output_type": "stream",
          "text": [
            "CPU times: user 713 ms, sys: 0 ns, total: 713 ms\n",
            "Wall time: 4.91 s\n"
          ],
          "name": "stdout"
        }
      ]
    },
    {
      "cell_type": "code",
      "metadata": {
        "colab": {
          "base_uri": "https://localhost:8080/"
        },
        "id": "s2IMEM84R1Vn",
        "outputId": "fee7ef3c-c851-4543-88f1-89de4c989509"
      },
      "source": [
        "grid_search_gbm.best_params_"
      ],
      "execution_count": null,
      "outputs": [
        {
          "output_type": "execute_result",
          "data": {
            "text/plain": [
              "{'learning_rate': 0.01, 'max_depth': 5, 'n_estimators': 300, 'subsample': 0.9}"
            ]
          },
          "metadata": {
            "tags": []
          },
          "execution_count": 36
        }
      ]
    },
    {
      "cell_type": "code",
      "metadata": {
        "colab": {
          "base_uri": "https://localhost:8080/"
        },
        "id": "w_qbG7ytR3NJ",
        "outputId": "674dc881-7d56-46d2-c9a3-2108d6d8416f"
      },
      "source": [
        "grid_search_gbm.best_score_"
      ],
      "execution_count": null,
      "outputs": [
        {
          "output_type": "execute_result",
          "data": {
            "text/plain": [
              "0.0"
            ]
          },
          "metadata": {
            "tags": []
          },
          "execution_count": 37
        }
      ]
    },
    {
      "cell_type": "code",
      "metadata": {
        "colab": {
          "base_uri": "https://localhost:8080/"
        },
        "id": "ZfPtbKZkW5B9",
        "outputId": "b2fabe79-81c2-4b60-b100-7d45a57af0d5"
      },
      "source": [
        "print(\"-\"*60)\r\n",
        "\r\n",
        "print(f\"Training Confusion Matrix\")\r\n",
        "print(confusion_matrix(y_true = y_train,\r\n",
        "                       y_pred = grid_search_gbm.best_estimator_.predict(X_train)))\r\n",
        "\r\n",
        "print(\"-\"*60)\r\n",
        "\r\n",
        "print(f\"Testing Confusion Matrix\")\r\n",
        "print(confusion_matrix(y_true = y_test,\r\n",
        "                       y_pred = grid_search_gbm.best_estimator_.predict(X_test)))\r\n",
        "\r\n",
        "print(\"-\"*60)"
      ],
      "execution_count": null,
      "outputs": [
        {
          "output_type": "stream",
          "text": [
            "------------------------------------------------------------\n",
            "Training Confusion Matrix\n",
            "[[43683     8]\n",
            " [14608    99]]\n",
            "------------------------------------------------------------\n",
            "Testing Confusion Matrix\n",
            "[[43656    35]\n",
            " [14657    50]]\n",
            "------------------------------------------------------------\n"
          ],
          "name": "stdout"
        }
      ]
    },
    {
      "cell_type": "code",
      "metadata": {
        "colab": {
          "base_uri": "https://localhost:8080/"
        },
        "id": "utXfV6KaZHcv",
        "outputId": "58e0ac25-f973-4976-c346-3a1ab97d1e1c"
      },
      "source": [
        "grid_search_gbm.cv_results_"
      ],
      "execution_count": null,
      "outputs": [
        {
          "output_type": "execute_result",
          "data": {
            "text/plain": [
              "{'mean_fit_time': array([0.86347795, 0.89097754, 0.80033247]),\n",
              " 'mean_score_time': array([0.02680675, 0.02546533, 0.02266534]),\n",
              " 'mean_test_score': array([0., 0., 0.]),\n",
              " 'param_learning_rate': masked_array(data=[0.01, 0.01, 0.01],\n",
              "              mask=[False, False, False],\n",
              "        fill_value='?',\n",
              "             dtype=object),\n",
              " 'param_max_depth': masked_array(data=[5, 10, 15],\n",
              "              mask=[False, False, False],\n",
              "        fill_value='?',\n",
              "             dtype=object),\n",
              " 'param_n_estimators': masked_array(data=[300, 300, 300],\n",
              "              mask=[False, False, False],\n",
              "        fill_value='?',\n",
              "             dtype=object),\n",
              " 'param_subsample': masked_array(data=[0.9, 0.9, 0.9],\n",
              "              mask=[False, False, False],\n",
              "        fill_value='?',\n",
              "             dtype=object),\n",
              " 'params': [{'learning_rate': 0.01,\n",
              "   'max_depth': 5,\n",
              "   'n_estimators': 300,\n",
              "   'subsample': 0.9},\n",
              "  {'learning_rate': 0.01,\n",
              "   'max_depth': 10,\n",
              "   'n_estimators': 300,\n",
              "   'subsample': 0.9},\n",
              "  {'learning_rate': 0.01,\n",
              "   'max_depth': 15,\n",
              "   'n_estimators': 300,\n",
              "   'subsample': 0.9}],\n",
              " 'rank_test_score': array([1, 1, 1], dtype=int32),\n",
              " 'split0_test_score': array([0., 0., 0.]),\n",
              " 'split1_test_score': array([0., 0., 0.]),\n",
              " 'split2_test_score': array([0., 0., 0.]),\n",
              " 'std_fit_time': array([0.01946341, 0.02503751, 0.15928042]),\n",
              " 'std_score_time': array([0.00512659, 0.00085811, 0.00289874]),\n",
              " 'std_test_score': array([0., 0., 0.])}"
            ]
          },
          "metadata": {
            "tags": []
          },
          "execution_count": 38
        }
      ]
    },
    {
      "cell_type": "code",
      "metadata": {
        "id": "jSSkosmaaX99"
      },
      "source": [
        "# Can't use class_weight for Gradient Boosting\r\n",
        "\r\n",
        "class_weight = {0:1, \r\n",
        "                1: len(featuresCD[featuresCD[\"loan_status_trim\"] == 0]) / len(featuresCD[featuresCD[\"loan_status_trim\"] == 1])\r\n",
        "                }"
      ],
      "execution_count": null,
      "outputs": []
    },
    {
      "cell_type": "code",
      "metadata": {
        "id": "R6ubbCecaeuV"
      },
      "source": [
        "from sklearn.svm import SVC"
      ],
      "execution_count": null,
      "outputs": []
    },
    {
      "cell_type": "code",
      "metadata": {
        "id": "Yf8-G7JIdnBL",
        "colab": {
          "base_uri": "https://localhost:8080/"
        },
        "outputId": "5a74cc12-e92a-4b9a-aa5a-7b9445eae380"
      },
      "source": [
        "%%time \r\n",
        "\r\n",
        "X_train, X_test, y_train, y_test = train_test_split(data, target, train_size = 0.01, test_size = 0.01, stratify = target, shuffle = True)\r\n",
        "\r\n",
        "svm = SVC()\r\n",
        "\r\n",
        "weights = np.linspace(2e-16, 3, 11)\r\n",
        "\r\n",
        "param_grid_svm = {\r\n",
        "    \"kernel\": [\"sigmoid\"],\r\n",
        "    \"class_weight\" : [{0:x, 1:3-x} for x in weights]\r\n",
        "    }\r\n",
        "\r\n",
        "grid_search_svm = ms.GridSearchCV(svm, \r\n",
        "                                  param_grid_svm, \r\n",
        "                                  scoring = \"f1_macro\", \r\n",
        "                                  cv = 2, \r\n",
        "                                  n_jobs = -1)\r\n",
        "\r\n",
        "grid_search_svm.fit(X_train, y_train)\r\n",
        "print(grid_search_svm.best_estimator_.score(X_train, y_train))\r\n",
        "print(grid_search_svm.best_estimator_.score(X_test, y_test))\r\n",
        "print(confusion_matrix(y_true = y_train, y_pred = grid_search_svm.best_estimator_.predict(X_train)))\r\n",
        "print(confusion_matrix(y_true = y_test, y_pred = grid_search_svm.best_estimator_.predict(X_test)))\r\n",
        "print(classification_report(y_test, y_pred = grid_search_svm.best_estimator_.predict(X_test)))\r\n",
        "print(grid_search_svm.best_params_)"
      ],
      "execution_count": null,
      "outputs": [
        {
          "output_type": "stream",
          "text": [
            "0.5992464463092996\n",
            "0.5934931506849315\n",
            "[[2988 1381]\n",
            " [ 959  511]]\n",
            "[[2974 1395]\n",
            " [ 979  492]]\n",
            "              precision    recall  f1-score   support\n",
            "\n",
            "           0       0.75      0.68      0.71      4369\n",
            "           1       0.26      0.33      0.29      1471\n",
            "\n",
            "    accuracy                           0.59      5840\n",
            "   macro avg       0.51      0.51      0.50      5840\n",
            "weighted avg       0.63      0.59      0.61      5840\n",
            "\n",
            "{'class_weight': {0: 1.2000000000000002, 1: 1.7999999999999998}, 'kernel': 'sigmoid'}\n",
            "CPU times: user 7.04 s, sys: 26.1 ms, total: 7.07 s\n",
            "Wall time: 17.2 s\n"
          ],
          "name": "stdout"
        }
      ]
    },
    {
      "cell_type": "code",
      "metadata": {
        "colab": {
          "base_uri": "https://localhost:8080/"
        },
        "id": "6tJ1q6Dc0XY2",
        "outputId": "a7b01486-4eea-4ecd-fa93-1a44830cb089"
      },
      "source": [
        "%%time \r\n",
        "\r\n",
        "X_train, X_test, y_train, y_test = train_test_split(data, target, train_size = 0.01, test_size = 0.01, stratify = target, shuffle = True)\r\n",
        "\r\n",
        "svm = SVC(class_weight = {0:1.2, 1:1.8}, kernel = \"sigmoid\", C = 33)\r\n",
        "\r\n",
        "param_grid_svm = {\r\n",
        "    \"C\":[33]\r\n",
        "    }\r\n",
        "\r\n",
        "grid_search_svm = ms.GridSearchCV(svm, \r\n",
        "                                  param_grid_svm, \r\n",
        "                                  scoring = \"f1_macro\", \r\n",
        "                                  cv = 2, \r\n",
        "                                  n_jobs = -1)\r\n",
        "\r\n",
        "grid_search_svm.fit(X_train, y_train)\r\n",
        "print(grid_search_svm.best_estimator_.score(X_train, y_train))\r\n",
        "print(grid_search_svm.best_estimator_.score(X_test, y_test))\r\n",
        "print(confusion_matrix(y_true = y_train, y_pred = grid_search_svm.best_estimator_.predict(X_train)))\r\n",
        "print(confusion_matrix(y_true = y_test, y_pred = grid_search_svm.best_estimator_.predict(X_test)))\r\n",
        "print(classification_report(y_test, y_pred = grid_search_svm.best_estimator_.predict(X_test)))\r\n",
        "print(grid_search_svm.best_params_)\r\n",
        "print(grid_search_svm.cv_results_)"
      ],
      "execution_count": null,
      "outputs": [
        {
          "output_type": "stream",
          "text": [
            "0.5867443055317692\n",
            "0.5885273972602739\n",
            "[[2917 1452]\n",
            " [ 961  509]]\n",
            "[[2936 1433]\n",
            " [ 970  501]]\n",
            "              precision    recall  f1-score   support\n",
            "\n",
            "           0       0.75      0.67      0.71      4369\n",
            "           1       0.26      0.34      0.29      1471\n",
            "\n",
            "    accuracy                           0.59      5840\n",
            "   macro avg       0.51      0.51      0.50      5840\n",
            "weighted avg       0.63      0.59      0.60      5840\n",
            "\n",
            "{'C': 33}\n",
            "{'mean_fit_time': array([0.48763037]), 'std_fit_time': array([0.00810599]), 'mean_score_time': array([0.3273046]), 'std_score_time': array([0.00724983]), 'param_C': masked_array(data=[33],\n",
            "             mask=[False],\n",
            "       fill_value='?',\n",
            "            dtype=object), 'params': [{'C': 33}], 'split0_test_score': array([0.51575292]), 'split1_test_score': array([0.49640837]), 'mean_test_score': array([0.50608064]), 'std_test_score': array([0.00967227]), 'rank_test_score': array([1], dtype=int32)}\n",
            "CPU times: user 5.92 s, sys: 12 ms, total: 5.94 s\n",
            "Wall time: 6.77 s\n"
          ],
          "name": "stdout"
        }
      ]
    },
    {
      "cell_type": "code",
      "metadata": {
        "id": "HPxm3F8uVubV"
      },
      "source": [
        "import imblearn\r\n",
        "from imblearn.over_sampling import SVMSMOTE\r\n",
        "from imblearn.pipeline import make_pipeline"
      ],
      "execution_count": null,
      "outputs": []
    },
    {
      "cell_type": "code",
      "metadata": {
        "colab": {
          "base_uri": "https://localhost:8080/"
        },
        "id": "dmLf4iXI5Ecl",
        "outputId": "2a0d9fd3-3a71-40cb-adcf-36f3b2c8f181"
      },
      "source": [
        "%%time \r\n",
        "\r\n",
        "X_train, X_test, y_train, y_test = train_test_split(data, target, train_size = 0.01, test_size = 0.01, stratify = target, shuffle = True)\r\n",
        "\r\n",
        "svm = SVC(#class_weight = {0:1.2, 1:1.8},\r\n",
        "          kernel = \"sigmoid\", \r\n",
        "          C = 33)\r\n",
        "          #tol = 2e-16, \r\n",
        "          #shrinking = False\r\n",
        "          #break_ties = True)\r\n",
        "\r\n",
        "pipe = make_pipeline(\r\n",
        "    SVMSMOTE(svm_estimator = svm,\r\n",
        "             sampling_strategy = {0:4369, 1:4369},\r\n",
        "             n_jobs = -1,\r\n",
        "             m_neighbors = 1,\r\n",
        "             k_neighbors = 2),\r\n",
        "    svm\r\n",
        ")\r\n",
        "\r\n",
        "param_grid_svm = {\r\n",
        "    \r\n",
        "    }\r\n",
        "\r\n",
        "pipe_grid_search_svm = ms.GridSearchCV(pipe, \r\n",
        "                                  param_grid_svm, \r\n",
        "                                  scoring = \"f1_macro\", \r\n",
        "                                  cv = 2, \r\n",
        "                                  n_jobs = -1)\r\n",
        "\r\n",
        "pipe_grid_search_svm.fit(X_train, y_train)\r\n",
        "print(pipe_grid_search_svm.best_estimator_.score(X_train, y_train))\r\n",
        "print(pipe_grid_search_svm.best_estimator_.score(X_test, y_test))\r\n",
        "print(confusion_matrix(y_true = y_train, y_pred = pipe_grid_search_svm.best_estimator_.predict(X_train)))\r\n",
        "print(confusion_matrix(y_true = y_test, y_pred = pipe_grid_search_svm.best_estimator_.predict(X_test)))\r\n",
        "print(classification_report(y_test, y_pred = pipe_grid_search_svm.best_estimator_.predict(X_test)))\r\n",
        "#print(pipe_grid_search_svm.best_params_)\r\n",
        "print(pipe_grid_search_svm.cv_results_)"
      ],
      "execution_count": null,
      "outputs": [
        {
          "output_type": "stream",
          "text": [
            "/usr/local/lib/python3.6/dist-packages/sklearn/utils/deprecation.py:87: FutureWarning: Function safe_indexing is deprecated; safe_indexing is deprecated in version 0.22 and will be removed in version 0.24.\n",
            "  warnings.warn(msg, category=FutureWarning)\n",
            "/usr/local/lib/python3.6/dist-packages/sklearn/utils/deprecation.py:87: FutureWarning: Function safe_indexing is deprecated; safe_indexing is deprecated in version 0.22 and will be removed in version 0.24.\n",
            "  warnings.warn(msg, category=FutureWarning)\n",
            "/usr/local/lib/python3.6/dist-packages/sklearn/utils/deprecation.py:87: FutureWarning: Function safe_indexing is deprecated; safe_indexing is deprecated in version 0.22 and will be removed in version 0.24.\n",
            "  warnings.warn(msg, category=FutureWarning)\n",
            "/usr/local/lib/python3.6/dist-packages/sklearn/utils/deprecation.py:87: FutureWarning: Function safe_indexing is deprecated; safe_indexing is deprecated in version 0.22 and will be removed in version 0.24.\n",
            "  warnings.warn(msg, category=FutureWarning)\n",
            "/usr/local/lib/python3.6/dist-packages/sklearn/utils/deprecation.py:87: FutureWarning: Function safe_indexing is deprecated; safe_indexing is deprecated in version 0.22 and will be removed in version 0.24.\n",
            "  warnings.warn(msg, category=FutureWarning)\n",
            "/usr/local/lib/python3.6/dist-packages/sklearn/utils/deprecation.py:87: FutureWarning: Function safe_indexing is deprecated; safe_indexing is deprecated in version 0.22 and will be removed in version 0.24.\n",
            "  warnings.warn(msg, category=FutureWarning)\n"
          ],
          "name": "stderr"
        },
        {
          "output_type": "stream",
          "text": [
            "0.5077924302106525\n",
            "0.5061643835616438\n",
            "[[2134 2235]\n",
            " [ 639  831]]\n",
            "[[2126 2243]\n",
            " [ 641  830]]\n",
            "              precision    recall  f1-score   support\n",
            "\n",
            "           0       0.77      0.49      0.60      4369\n",
            "           1       0.27      0.56      0.37      1471\n",
            "\n",
            "    accuracy                           0.51      5840\n",
            "   macro avg       0.52      0.53      0.48      5840\n",
            "weighted avg       0.64      0.51      0.54      5840\n",
            "\n",
            "{'mean_fit_time': array([9.03240633]), 'std_fit_time': array([0.39526963]), 'mean_score_time': array([1.66108167]), 'std_score_time': array([0.05238354]), 'params': [{}], 'split0_test_score': array([0.48706566]), 'split1_test_score': array([0.50899916]), 'mean_test_score': array([0.49803241]), 'std_test_score': array([0.01096675]), 'rank_test_score': array([1], dtype=int32)}\n",
            "CPU times: user 13.8 s, sys: 44 ms, total: 13.8 s\n",
            "Wall time: 25.3 s\n"
          ],
          "name": "stdout"
        }
      ]
    },
    {
      "cell_type": "code",
      "metadata": {
        "colab": {
          "base_uri": "https://localhost:8080/"
        },
        "id": "mEwCtk3PelTo",
        "outputId": "fb0951af-0700-4e06-8873-bcd912e90742"
      },
      "source": [
        "print(\"Imbalanced-Learn\", imblearn.__version__)"
      ],
      "execution_count": null,
      "outputs": [
        {
          "output_type": "stream",
          "text": [
            "Imbalanced-Learn 0.4.3\n"
          ],
          "name": "stdout"
        }
      ]
    },
    {
      "cell_type": "code",
      "metadata": {
        "colab": {
          "base_uri": "https://localhost:8080/"
        },
        "id": "2rJa3JJ2FLkD",
        "outputId": "29806706-cbca-412e-9f48-f0f3b805e689"
      },
      "source": [
        "sorted(SCORERS.keys())"
      ],
      "execution_count": null,
      "outputs": [
        {
          "output_type": "execute_result",
          "data": {
            "text/plain": [
              "['accuracy',\n",
              " 'adjusted_mutual_info_score',\n",
              " 'adjusted_rand_score',\n",
              " 'average_precision',\n",
              " 'balanced_accuracy',\n",
              " 'completeness_score',\n",
              " 'explained_variance',\n",
              " 'f1',\n",
              " 'f1_macro',\n",
              " 'f1_micro',\n",
              " 'f1_samples',\n",
              " 'f1_weighted',\n",
              " 'fowlkes_mallows_score',\n",
              " 'homogeneity_score',\n",
              " 'jaccard',\n",
              " 'jaccard_macro',\n",
              " 'jaccard_micro',\n",
              " 'jaccard_samples',\n",
              " 'jaccard_weighted',\n",
              " 'max_error',\n",
              " 'mutual_info_score',\n",
              " 'neg_brier_score',\n",
              " 'neg_log_loss',\n",
              " 'neg_mean_absolute_error',\n",
              " 'neg_mean_gamma_deviance',\n",
              " 'neg_mean_poisson_deviance',\n",
              " 'neg_mean_squared_error',\n",
              " 'neg_mean_squared_log_error',\n",
              " 'neg_median_absolute_error',\n",
              " 'neg_root_mean_squared_error',\n",
              " 'normalized_mutual_info_score',\n",
              " 'precision',\n",
              " 'precision_macro',\n",
              " 'precision_micro',\n",
              " 'precision_samples',\n",
              " 'precision_weighted',\n",
              " 'r2',\n",
              " 'recall',\n",
              " 'recall_macro',\n",
              " 'recall_micro',\n",
              " 'recall_samples',\n",
              " 'recall_weighted',\n",
              " 'roc_auc',\n",
              " 'roc_auc_ovo',\n",
              " 'roc_auc_ovo_weighted',\n",
              " 'roc_auc_ovr',\n",
              " 'roc_auc_ovr_weighted',\n",
              " 'v_measure_score']"
            ]
          },
          "metadata": {
            "tags": []
          },
          "execution_count": 65
        }
      ]
    },
    {
      "cell_type": "markdown",
      "metadata": {
        "id": "NCl8x_cpzlC7"
      },
      "source": [
        ""
      ]
    },
    {
      "cell_type": "code",
      "metadata": {
        "colab": {
          "base_uri": "https://localhost:8080/"
        },
        "id": "d5LTfGmKqpEk",
        "outputId": "fa72353b-dbc3-41a6-d215-b54444cd8ca1"
      },
      "source": [
        "grid_search_svm.get_params().keys()"
      ],
      "execution_count": null,
      "outputs": [
        {
          "output_type": "execute_result",
          "data": {
            "text/plain": [
              "dict_keys(['cv', 'error_score', 'estimator__C', 'estimator__break_ties', 'estimator__cache_size', 'estimator__class_weight', 'estimator__coef0', 'estimator__decision_function_shape', 'estimator__degree', 'estimator__gamma', 'estimator__kernel', 'estimator__max_iter', 'estimator__probability', 'estimator__random_state', 'estimator__shrinking', 'estimator__tol', 'estimator__verbose', 'estimator', 'iid', 'n_jobs', 'param_grid', 'pre_dispatch', 'refit', 'return_train_score', 'scoring', 'verbose'])"
            ]
          },
          "metadata": {
            "tags": []
          },
          "execution_count": 102
        }
      ]
    },
    {
      "cell_type": "code",
      "metadata": {
        "colab": {
          "base_uri": "https://localhost:8080/"
        },
        "id": "9O5u8s6aBs4l",
        "outputId": "8ff6e48e-653c-4d59-b4f6-33b027ae6249"
      },
      "source": [
        "dir(grid_search_svm)"
      ],
      "execution_count": null,
      "outputs": [
        {
          "output_type": "execute_result",
          "data": {
            "text/plain": [
              "['__abstractmethods__',\n",
              " '__class__',\n",
              " '__delattr__',\n",
              " '__dict__',\n",
              " '__dir__',\n",
              " '__doc__',\n",
              " '__eq__',\n",
              " '__format__',\n",
              " '__ge__',\n",
              " '__getattribute__',\n",
              " '__getstate__',\n",
              " '__gt__',\n",
              " '__hash__',\n",
              " '__init__',\n",
              " '__init_subclass__',\n",
              " '__le__',\n",
              " '__lt__',\n",
              " '__module__',\n",
              " '__ne__',\n",
              " '__new__',\n",
              " '__reduce__',\n",
              " '__reduce_ex__',\n",
              " '__repr__',\n",
              " '__setattr__',\n",
              " '__setstate__',\n",
              " '__sizeof__',\n",
              " '__str__',\n",
              " '__subclasshook__',\n",
              " '__weakref__',\n",
              " '_abc_cache',\n",
              " '_abc_negative_cache',\n",
              " '_abc_negative_cache_version',\n",
              " '_abc_registry',\n",
              " '_check_is_fitted',\n",
              " '_estimator_type',\n",
              " '_format_results',\n",
              " '_get_param_names',\n",
              " '_get_tags',\n",
              " '_more_tags',\n",
              " '_pairwise',\n",
              " '_required_parameters',\n",
              " '_run_search',\n",
              " 'best_estimator_',\n",
              " 'best_index_',\n",
              " 'best_params_',\n",
              " 'best_score_',\n",
              " 'classes_',\n",
              " 'cv',\n",
              " 'cv_results_',\n",
              " 'decision_function',\n",
              " 'error_score',\n",
              " 'estimator',\n",
              " 'fit',\n",
              " 'get_params',\n",
              " 'iid',\n",
              " 'inverse_transform',\n",
              " 'multimetric_',\n",
              " 'n_jobs',\n",
              " 'n_splits_',\n",
              " 'param_grid',\n",
              " 'pre_dispatch',\n",
              " 'predict',\n",
              " 'predict_log_proba',\n",
              " 'predict_proba',\n",
              " 'refit',\n",
              " 'refit_time_',\n",
              " 'return_train_score',\n",
              " 'score',\n",
              " 'scorer_',\n",
              " 'scoring',\n",
              " 'set_params',\n",
              " 'transform',\n",
              " 'verbose']"
            ]
          },
          "metadata": {
            "tags": []
          },
          "execution_count": 39
        }
      ]
    },
    {
      "cell_type": "code",
      "metadata": {
        "colab": {
          "base_uri": "https://localhost:8080/"
        },
        "id": "_67z485sB8R9",
        "outputId": "c573caab-c948-4184-e332-ce2d20f58449"
      },
      "source": [
        "grid_search_svm.cv_results_"
      ],
      "execution_count": null,
      "outputs": [
        {
          "output_type": "execute_result",
          "data": {
            "text/plain": [
              "{'mean_fit_time': array([0.30307233]),\n",
              " 'mean_score_time': array([0.20949078]),\n",
              " 'mean_test_score': array([0.12224449]),\n",
              " 'param_kernel': masked_array(data=['sigmoid'],\n",
              "              mask=[False],\n",
              "        fill_value='?',\n",
              "             dtype=object),\n",
              " 'params': [{'kernel': 'sigmoid'}],\n",
              " 'rank_test_score': array([1], dtype=int32),\n",
              " 'split0_test_score': array([0.24448898]),\n",
              " 'split1_test_score': array([0.]),\n",
              " 'std_fit_time': array([0.04064405]),\n",
              " 'std_score_time': array([0.00484037]),\n",
              " 'std_test_score': array([0.12224449])}"
            ]
          },
          "metadata": {
            "tags": []
          },
          "execution_count": 40
        }
      ]
    }
  ]
}